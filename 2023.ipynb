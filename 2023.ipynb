{
 "cells": [
  {
   "cell_type": "markdown",
   "metadata": {},
   "source": [
    "# Advent of Code 2023"
   ]
  },
  {
   "cell_type": "code",
   "execution_count": null,
   "metadata": {
    "scrolled": true
   },
   "outputs": [],
   "source": [
    "! pip install -U advent-of-code-data networkx numpy"
   ]
  },
  {
   "cell_type": "code",
   "execution_count": null,
   "metadata": {},
   "outputs": [],
   "source": [
    "import os\n",
    "\n",
    "os.environ['AOC_SESSION'] = open('session.txt').read().strip()\n",
    "\n",
    "from aocd.models import Puzzle"
   ]
  },
  {
   "cell_type": "markdown",
   "metadata": {},
   "source": [
    "## Day X"
   ]
  },
  {
   "cell_type": "code",
   "execution_count": null,
   "metadata": {},
   "outputs": [],
   "source": [
    "# puzzle = Puzzle(year=2023, day=1)\n",
    "# puzzle.input_data"
   ]
  },
  {
   "cell_type": "markdown",
   "metadata": {},
   "source": [
    "## Part 1"
   ]
  },
  {
   "cell_type": "code",
   "execution_count": null,
   "metadata": {},
   "outputs": [],
   "source": [
    "# data = puzzle.input_data.split(\"\\n\")\n",
    "# data = puzzle.examples[0].input_data.split(\"\\n\")\n",
    "# data"
   ]
  },
  {
   "cell_type": "code",
   "execution_count": null,
   "metadata": {},
   "outputs": [],
   "source": [
    "# puzzle.answer_a = res"
   ]
  },
  {
   "cell_type": "markdown",
   "metadata": {},
   "source": [
    "## Part 2"
   ]
  },
  {
   "cell_type": "code",
   "execution_count": null,
   "metadata": {},
   "outputs": [],
   "source": [
    "pass"
   ]
  },
  {
   "cell_type": "code",
   "execution_count": null,
   "metadata": {},
   "outputs": [],
   "source": [
    "#puzzle.answer_b = res"
   ]
  },
  {
   "cell_type": "markdown",
   "metadata": {},
   "source": [
    "## Day 11"
   ]
  },
  {
   "cell_type": "code",
   "execution_count": null,
   "metadata": {},
   "outputs": [],
   "source": [
    "puzzle = Puzzle(year=2023, day=11)\n",
    "puzzle.input_data"
   ]
  },
  {
   "cell_type": "markdown",
   "metadata": {},
   "source": [
    "## Part 1"
   ]
  },
  {
   "cell_type": "code",
   "execution_count": null,
   "metadata": {},
   "outputs": [],
   "source": [
    "data = puzzle.input_data.split(\"\\n\")\n",
    "#data = puzzle.examples[0].input_data.split(\"\\n\")\n",
    "data"
   ]
  },
  {
   "cell_type": "code",
   "execution_count": null,
   "metadata": {},
   "outputs": [],
   "source": [
    "m = []\n",
    "\n",
    "# Expand row\n",
    "for line in data:\n",
    "    m.append(line)\n",
    "    if \"#\" not in line:\n",
    "        m.append(line)\n",
    "\n",
    "m = [[c for c in line] for line in m]\n",
    "m"
   ]
  },
  {
   "cell_type": "code",
   "execution_count": null,
   "metadata": {},
   "outputs": [],
   "source": [
    "# Expand column\n",
    "added_columns = 0\n",
    "\n",
    "for column in range(len(m[0])):\n",
    "\n",
    "    star_in_column = any([1 if m[row][column+added_columns] == \"#\" else 0 for row in range(len(m))])\n",
    "\n",
    "    if not star_in_column:\n",
    "        added_columns += 1\n",
    "\n",
    "        for line in m:\n",
    "            line.insert(column + added_columns, \".\")\n",
    "\n",
    "m"
   ]
  },
  {
   "cell_type": "code",
   "execution_count": null,
   "metadata": {},
   "outputs": [],
   "source": [
    "stars = []\n",
    "\n",
    "for row in range(len(m)):\n",
    "    for c in range(len(m[row])):\n",
    "        if m[row][c] == \"#\":\n",
    "            stars.append((row, c))\n",
    "\n",
    "stars"
   ]
  },
  {
   "cell_type": "code",
   "execution_count": null,
   "metadata": {},
   "outputs": [],
   "source": [
    "def get_distance(star1, star2):\n",
    "    x1, y1 = star1\n",
    "    x2, y2 = star2\n",
    "    return abs(y2 - y1) + abs(x2 - x1)\n",
    "\n",
    "get_distance(stars[0], stars[6])"
   ]
  },
  {
   "cell_type": "code",
   "execution_count": null,
   "metadata": {},
   "outputs": [],
   "source": [
    "from itertools import combinations\n",
    "\n",
    "res = sum([get_distance(s1, s2) for s1, s2 in combinations(stars, 2)])\n",
    "res"
   ]
  },
  {
   "cell_type": "code",
   "execution_count": null,
   "metadata": {},
   "outputs": [],
   "source": [
    "puzzle.answer_a = res"
   ]
  },
  {
   "cell_type": "markdown",
   "metadata": {},
   "source": [
    "## Part 2"
   ]
  },
  {
   "cell_type": "code",
   "execution_count": null,
   "metadata": {},
   "outputs": [],
   "source": [
    "m = []\n",
    "\n",
    "column_range = []\n",
    "row_range = []\n",
    "\n",
    "# Expand row\n",
    "for r, line in enumerate(data):\n",
    "    m.append(line)\n",
    "    if \"#\" not in line:\n",
    "        row_range.append(r)\n",
    "\n",
    "m = [[c for c in line] for line in m]\n",
    "m"
   ]
  },
  {
   "cell_type": "code",
   "execution_count": null,
   "metadata": {},
   "outputs": [],
   "source": [
    "row_range"
   ]
  },
  {
   "cell_type": "code",
   "execution_count": null,
   "metadata": {},
   "outputs": [],
   "source": [
    "column_range = []\n",
    "\n",
    "for column in range(len(m[0])):\n",
    "\n",
    "    star_in_column = any([1 if m[row][column] == \"#\" else 0 for row in range(len(m))])\n",
    "\n",
    "    if not star_in_column:\n",
    "        column_range.append(column)\n",
    "\n",
    "column_range"
   ]
  },
  {
   "cell_type": "code",
   "execution_count": null,
   "metadata": {},
   "outputs": [],
   "source": [
    "stars = []\n",
    "\n",
    "for row in range(len(m)):\n",
    "    for c in range(len(m[row])):\n",
    "        if m[row][c] == \"#\":\n",
    "            stars.append((row, c))\n",
    "\n",
    "stars"
   ]
  },
  {
   "cell_type": "code",
   "execution_count": null,
   "metadata": {},
   "outputs": [],
   "source": [
    "def get_distance(star1, star2):\n",
    "    r1, c1 = star1\n",
    "    r2, c2 = star2\n",
    "\n",
    "    distance = abs(c2 - c1) + abs(r2 - r1)\n",
    "\n",
    "    for r in row_range:\n",
    "        if r in list(range(*(sorted([r1, r2])))):\n",
    "            distance += 1000000-1\n",
    "\n",
    "    for c in column_range:\n",
    "        if c in list(range(*(sorted([c1, c2])))):\n",
    "            distance += 1000000-1\n",
    "\n",
    "    return distance\n",
    "\n",
    "get_distance(stars[0], stars[6])"
   ]
  },
  {
   "cell_type": "code",
   "execution_count": null,
   "metadata": {},
   "outputs": [],
   "source": [
    "from itertools import combinations\n",
    "\n",
    "\n",
    "res = sum([get_distance(s1, s2) for s1, s2 in combinations(stars, 2)])\n",
    "res"
   ]
  },
  {
   "cell_type": "code",
   "execution_count": null,
   "metadata": {},
   "outputs": [],
   "source": [
    "puzzle.answer_b = res"
   ]
  },
  {
   "cell_type": "markdown",
   "metadata": {},
   "source": [
    "## Day 10"
   ]
  },
  {
   "cell_type": "code",
   "execution_count": null,
   "metadata": {},
   "outputs": [],
   "source": [
    "puzzle = Puzzle(year=2023, day=10)\n",
    "puzzle.input_data"
   ]
  },
  {
   "cell_type": "markdown",
   "metadata": {},
   "source": [
    "## Part 1"
   ]
  },
  {
   "cell_type": "code",
   "execution_count": null,
   "metadata": {},
   "outputs": [],
   "source": [
    "data = puzzle.input_data.split(\"\\n\")\n",
    "# data = puzzle.examples[0].input_data.split(\"\\n\")\n",
    "data"
   ]
  },
  {
   "cell_type": "code",
   "execution_count": null,
   "metadata": {},
   "outputs": [],
   "source": [
    "# Example data part 1\n",
    "# data = [\n",
    "#     \"..F7.\",\n",
    "#     \".FJ|.\",\n",
    "#     \"SJ.L7\",\n",
    "#     \"|F--J\",\n",
    "#     \"LJ...\"\n",
    "# ]\n",
    "# data"
   ]
  },
  {
   "cell_type": "code",
   "execution_count": null,
   "metadata": {},
   "outputs": [],
   "source": [
    "# Example data part 2\n",
    "# data = [\n",
    "#     \"FF7FSF7F7F7F7F7F---7\",\n",
    "#     \"L|LJ||||||||||||F--J\",\n",
    "#     \"FL-7LJLJ||||||LJL-77\",\n",
    "#     \"F--JF--7||LJLJ7F7FJ-\",\n",
    "#     \"L---JF-JLJ.||-FJLJJ7\",\n",
    "#     \"|F|F-JF---7F7-L7L|7|\",\n",
    "#     \"|FFJF7L7F-JF7|JL---7\",\n",
    "#     \"7-L-JL7||F7|L7F-7F7|\",\n",
    "#     \"L.L7LFJ|||||FJL7||LJ\",\n",
    "#     \"L7JLJL-JLJLJL--JLJ.L\",\n",
    "# ]\n",
    "# data"
   ]
  },
  {
   "cell_type": "code",
   "execution_count": null,
   "metadata": {},
   "outputs": [],
   "source": [
    "grid = [[c for c in line] for line in data]\n",
    "grid"
   ]
  },
  {
   "cell_type": "code",
   "execution_count": null,
   "metadata": {},
   "outputs": [],
   "source": [
    "HEIGHT = len(grid)\n",
    "WIDTH = len(grid[0])\n",
    "\n",
    "# Find start node\n",
    "start = None\n",
    "\n",
    "for r in range(HEIGHT):\n",
    "    for c in range(WIDTH):\n",
    "        if grid[r][c] == \"S\":\n",
    "            start = (r, c)\n",
    "            break\n",
    "    if start:\n",
    "        break\n",
    "\n",
    "grid[r][c] = \"F\"  # Manually checked in the input\n",
    "# grid[r][c] = \"7\"  # Manually checked in the data example part 2\n",
    "start"
   ]
  },
  {
   "cell_type": "code",
   "execution_count": null,
   "metadata": {},
   "outputs": [],
   "source": [
    "DIRECTIONS = {\n",
    "    \"|\": [(-1, 0), (1, 0)],\n",
    "    \"-\": [(0, -1), (0, 1)],\n",
    "    \"L\": [(-1, 0), (0, 1)],\n",
    "    \"J\": [(0, -1), (-1, 0)],\n",
    "    \"7\": [(0, -1), (1, 0)],\n",
    "    \"F\": [(1, 0), (0, 1)],\n",
    "    \".\": [],\n",
    "}\n",
    "\n",
    "\n",
    "# How do you BFS it's been so long send help\n",
    "queue = [(start, 0)]\n",
    "visited_nodes = {f\"{start[0]}_{start[1]}\": 0}\n",
    "\n",
    "while len(queue) > 0:\n",
    "    node, distance = queue.pop(0)\n",
    "    r, c = node\n",
    "\n",
    "    dirs = DIRECTIONS[grid[r][c]]\n",
    "    \n",
    "    for d_r, d_c in dirs:\n",
    "        new_node = r + d_r, c + d_c\n",
    "        new_r, new_c = new_node\n",
    "\n",
    "        if f\"{new_r}_{new_c}\" not in visited_nodes and new_r >= 0 and new_r < HEIGHT and new_c >= 0 and new_c < WIDTH:\n",
    "            queue.append((new_node, distance + 1))\n",
    "            visited_nodes[f\"{new_r}_{new_c}\"] = distance + 1\n",
    "\n",
    "res = max(visited_nodes.values())\n",
    "res"
   ]
  },
  {
   "cell_type": "code",
   "execution_count": null,
   "metadata": {},
   "outputs": [],
   "source": [
    "puzzle.answer_a = res"
   ]
  },
  {
   "cell_type": "markdown",
   "metadata": {},
   "source": [
    "## Part 2"
   ]
  },
  {
   "cell_type": "code",
   "execution_count": null,
   "metadata": {},
   "outputs": [],
   "source": [
    "count = 0\n",
    "\n",
    "for r in range(HEIGHT):\n",
    "    vertical_bars = 0\n",
    "\n",
    "    for c in range(WIDTH):\n",
    "\n",
    "        if f\"{r}_{c}\" in visited_nodes and grid[r][c] in \"|JL\":\n",
    "            vertical_bars += 1\n",
    "            continue\n",
    "        elif f\"{r}_{c}\" not in visited_nodes:\n",
    "            if vertical_bars % 2:\n",
    "                count += 1\n",
    "\n",
    "res = count\n",
    "res"
   ]
  },
  {
   "cell_type": "code",
   "execution_count": null,
   "metadata": {},
   "outputs": [],
   "source": [
    "puzzle.answer_b = res"
   ]
  },
  {
   "cell_type": "markdown",
   "metadata": {},
   "source": [
    "## Day 9"
   ]
  },
  {
   "cell_type": "code",
   "execution_count": null,
   "metadata": {},
   "outputs": [],
   "source": [
    "puzzle = Puzzle(year=2023, day=9)\n",
    "puzzle.input_data"
   ]
  },
  {
   "cell_type": "markdown",
   "metadata": {},
   "source": [
    "## Part 1"
   ]
  },
  {
   "cell_type": "code",
   "execution_count": null,
   "metadata": {},
   "outputs": [],
   "source": [
    "data = puzzle.input_data.split(\"\\n\")\n",
    "# data = puzzle.examples[0].input_data.split(\"\\n\")\n",
    "data"
   ]
  },
  {
   "cell_type": "code",
   "execution_count": null,
   "metadata": {},
   "outputs": [],
   "source": [
    "data = [[int(x) for x in line.split()] for line in data]\n",
    "data"
   ]
  },
  {
   "cell_type": "code",
   "execution_count": null,
   "metadata": {},
   "outputs": [],
   "source": [
    "def build_diffs(seq, diff):\n",
    "    diff.append([b - a for a, b in zip(seq, seq[1:])])\n",
    "    \n",
    "    if any(diff[-1]):\n",
    "        return build_diffs(diff[-1], diff)\n",
    "    else:\n",
    "        return diff\n",
    "\n",
    "\n",
    "diff = [data[1]]\n",
    "build_diffs(data[1], diff)"
   ]
  },
  {
   "cell_type": "code",
   "execution_count": null,
   "metadata": {},
   "outputs": [],
   "source": [
    "diffs = []\n",
    "for hist in data:\n",
    "    diff = [hist]\n",
    "    diffs.append(build_diffs(hist, diff))\n",
    "\n",
    "diffs"
   ]
  },
  {
   "cell_type": "code",
   "execution_count": null,
   "metadata": {},
   "outputs": [],
   "source": [
    "def extrapolate(diffs):\n",
    "    next_value = 0\n",
    "    for diff in reversed(diffs):\n",
    "        next_value += diff[-1]\n",
    "    \n",
    "    return next_value\n",
    "\n",
    "extrapolate(diffs[0])"
   ]
  },
  {
   "cell_type": "code",
   "execution_count": null,
   "metadata": {},
   "outputs": [],
   "source": [
    "res = sum([extrapolate(diff) for diff in diffs])\n",
    "res"
   ]
  },
  {
   "cell_type": "code",
   "execution_count": null,
   "metadata": {},
   "outputs": [],
   "source": [
    "puzzle.answer_a = res"
   ]
  },
  {
   "cell_type": "markdown",
   "metadata": {},
   "source": [
    "## Part 2"
   ]
  },
  {
   "cell_type": "code",
   "execution_count": null,
   "metadata": {},
   "outputs": [],
   "source": [
    "def extrapolate_backward(diffs):\n",
    "    prev_value = 0\n",
    "    for diff in reversed(diffs):\n",
    "        prev_value = diff[0] - prev_value\n",
    "    \n",
    "    return prev_value\n",
    "\n",
    "extrapolate_backward(diffs[0])"
   ]
  },
  {
   "cell_type": "code",
   "execution_count": null,
   "metadata": {},
   "outputs": [],
   "source": [
    "res = sum([extrapolate_backward(diff) for diff in diffs])\n",
    "res"
   ]
  },
  {
   "cell_type": "code",
   "execution_count": null,
   "metadata": {},
   "outputs": [],
   "source": [
    "puzzle.answer_b = res"
   ]
  },
  {
   "cell_type": "markdown",
   "metadata": {},
   "source": [
    "## Day 8"
   ]
  },
  {
   "cell_type": "code",
   "execution_count": null,
   "metadata": {},
   "outputs": [],
   "source": [
    "puzzle = Puzzle(year=2023, day=8)\n",
    "puzzle.input_data"
   ]
  },
  {
   "cell_type": "markdown",
   "metadata": {},
   "source": [
    "## Part 1"
   ]
  },
  {
   "cell_type": "code",
   "execution_count": null,
   "metadata": {},
   "outputs": [],
   "source": [
    "data = puzzle.input_data.split(\"\\n\\n\")\n",
    "# data = puzzle.examples[0].input_data.split(\"\\n\\n\")\n",
    "data"
   ]
  },
  {
   "cell_type": "code",
   "execution_count": null,
   "metadata": {},
   "outputs": [],
   "source": [
    "instructions, nodes = data\n",
    "\n",
    "node_map = dict()\n",
    "\n",
    "# Excessive string splitting gang rise up\n",
    "for node in nodes.split(\"\\n\"):\n",
    "    src, left_right = node.split(\"=\")\n",
    "    node_map[src.strip()] = (left_right.split(\", \")[0].strip()[1:], left_right.split(\", \")[1].strip()[:-1])\n",
    "\n",
    "node_map"
   ]
  },
  {
   "cell_type": "code",
   "execution_count": null,
   "metadata": {},
   "outputs": [],
   "source": [
    "from itertools import cycle\n",
    "\n",
    "\n",
    "instr_map = {\"L\": 0, \"R\": 1}\n",
    "\n",
    "cur_node = \"AAA\"\n",
    "distance = 0\n",
    "\n",
    "for r in cycle(instructions):\n",
    "    distance += 1\n",
    "    cur_node = node_map[cur_node][instr_map[r]]\n",
    "    if cur_node == \"ZZZ\":\n",
    "        break\n",
    "\n",
    "res = distance\n",
    "res"
   ]
  },
  {
   "cell_type": "code",
   "execution_count": null,
   "metadata": {},
   "outputs": [],
   "source": [
    "puzzle.answer_a = res"
   ]
  },
  {
   "cell_type": "markdown",
   "metadata": {},
   "source": [
    "## Part 2"
   ]
  },
  {
   "cell_type": "code",
   "execution_count": null,
   "metadata": {},
   "outputs": [],
   "source": [
    "from itertools import cycle\n",
    "\n",
    "\n",
    "instr_map = {\"L\": 0, \"R\": 1}\n",
    "\n",
    "def get_distance_to_end_node(node):\n",
    "\n",
    "    cur_node = node\n",
    "    distance = 0\n",
    "\n",
    "    for i in cycle(instructions):\n",
    "        distance += 1\n",
    "        cur_node = node_map[cur_node][instr_map[i]]\n",
    "        if cur_node.endswith(\"Z\"):\n",
    "            break\n",
    "    \n",
    "    return distance"
   ]
  },
  {
   "cell_type": "code",
   "execution_count": null,
   "metadata": {},
   "outputs": [],
   "source": [
    "starting_nodes = list(filter(lambda node: node.endswith(\"A\"), node_map.keys()))\n",
    "\n",
    "starting_nodes_length = [get_distance_to_end_node(node) for node in starting_nodes]\n",
    "starting_nodes_length"
   ]
  },
  {
   "cell_type": "code",
   "execution_count": null,
   "metadata": {},
   "outputs": [],
   "source": [
    "import math\n",
    "\n",
    "res = math.lcm(*starting_nodes_length)\n",
    "res"
   ]
  },
  {
   "cell_type": "code",
   "execution_count": null,
   "metadata": {},
   "outputs": [],
   "source": [
    "puzzle.answer_b = res"
   ]
  },
  {
   "cell_type": "markdown",
   "metadata": {},
   "source": [
    "## Day 7"
   ]
  },
  {
   "cell_type": "code",
   "execution_count": null,
   "metadata": {},
   "outputs": [],
   "source": [
    "puzzle = Puzzle(year=2023, day=7)\n",
    "puzzle.input_data"
   ]
  },
  {
   "cell_type": "markdown",
   "metadata": {},
   "source": [
    "## Part 1"
   ]
  },
  {
   "cell_type": "code",
   "execution_count": null,
   "metadata": {},
   "outputs": [],
   "source": [
    "data = puzzle.input_data.split(\"\\n\")\n",
    "# data = puzzle.examples[0].input_data.split(\"\\n\")\n",
    "data"
   ]
  },
  {
   "cell_type": "code",
   "execution_count": null,
   "metadata": {},
   "outputs": [],
   "source": [
    "hands = [(line.split()[0], int(line.split()[1])) for line in data]\n",
    "hands"
   ]
  },
  {
   "cell_type": "code",
   "execution_count": null,
   "metadata": {},
   "outputs": [],
   "source": [
    "from collections import Counter\n",
    "from functools import cmp_to_key\n",
    "\n",
    "\n",
    "value_table = {\n",
    "    \"A\": 14,\n",
    "    \"K\": 13,\n",
    "    \"Q\": 12,\n",
    "    \"J\": 11,\n",
    "    \"T\": 10,\n",
    "    \"9\": 9,\n",
    "    \"8\": 8,\n",
    "    \"7\": 7,\n",
    "    \"6\": 6,\n",
    "    \"5\": 5,\n",
    "    \"4\": 4,\n",
    "    \"3\": 3,\n",
    "    \"2\": 2,\n",
    "}\n",
    "\n",
    "\n",
    "def hand_type_value(hand):\n",
    "    c = Counter(hand)\n",
    "    count = sorted(list(c.values()), reverse=True)\n",
    "\n",
    "    if count == [5]:\n",
    "        return 10\n",
    "    elif count == [4, 1]:\n",
    "        return 9\n",
    "    elif count == [3, 2]:\n",
    "        return 8\n",
    "    elif count == [3, 1, 1]:\n",
    "        return 7\n",
    "    elif count == [2, 2, 1]:\n",
    "        return 6\n",
    "    elif count == [2, 1, 1, 1]:\n",
    "        return 5\n",
    "    elif count == [1, 1, 1, 1, 1]:\n",
    "        return 4\n",
    "    else:\n",
    "        raise Exception()\n",
    "\n",
    "\n",
    "def compare(hand1, hand2):\n",
    "    hand1, _ = hand1\n",
    "    hand2, _ = hand2\n",
    "\n",
    "    if hand_type_value(hand1) < hand_type_value(hand2):\n",
    "        return -1\n",
    "    elif hand_type_value(hand1) > hand_type_value(hand2):\n",
    "        return 1\n",
    "    else:  # Second type of sort\n",
    "        for c1, c2 in zip(hand1, hand2):\n",
    "            if c1 != c2:\n",
    "                return value_table[c1] - value_table[c2]\n",
    "\n",
    "\n",
    "hands_sorted = sorted(hands, key=cmp_to_key(compare))\n",
    "hands_sorted"
   ]
  },
  {
   "cell_type": "code",
   "execution_count": null,
   "metadata": {},
   "outputs": [],
   "source": [
    "res = sum([(i+1)*bid for i, (hand, bid) in enumerate(hands_sorted)])\n",
    "res"
   ]
  },
  {
   "cell_type": "code",
   "execution_count": null,
   "metadata": {},
   "outputs": [],
   "source": [
    "puzzle.answer_a = res"
   ]
  },
  {
   "cell_type": "markdown",
   "metadata": {},
   "source": [
    "## Part 2"
   ]
  },
  {
   "cell_type": "code",
   "execution_count": null,
   "metadata": {},
   "outputs": [],
   "source": [
    "from collections import Counter\n",
    "from functools import cmp_to_key\n",
    "\n",
    "\n",
    "value_table = {\n",
    "    \"A\": 13,\n",
    "    \"K\": 12,\n",
    "    \"Q\": 11,\n",
    "    \"T\": 10,\n",
    "    \"9\": 9,\n",
    "    \"8\": 8,\n",
    "    \"7\": 7,\n",
    "    \"6\": 6,\n",
    "    \"5\": 5,\n",
    "    \"4\": 4,\n",
    "    \"3\": 3,\n",
    "    \"2\": 2,\n",
    "    \"J\": 1,\n",
    "}\n",
    "\n",
    "\n",
    "def hand_type_value(hand):\n",
    "    c = Counter(hand)\n",
    "    jokers = c.pop(\"J\", 0)\n",
    "\n",
    "    if jokers == 5:\n",
    "        count = [0]\n",
    "    else:\n",
    "        count = sorted(list(c.values()), reverse=True)\n",
    "\n",
    "    count[0] += jokers\n",
    "\n",
    "    if count == [5]:\n",
    "        return 10\n",
    "    elif count == [4, 1]:\n",
    "        return 9\n",
    "    elif count == [3, 2]:\n",
    "        return 8\n",
    "    elif count == [3, 1, 1]:\n",
    "        return 7\n",
    "    elif count == [2, 2, 1]:\n",
    "        return 6\n",
    "    elif count == [2, 1, 1, 1]:\n",
    "        return 5\n",
    "    elif count == [1, 1, 1, 1, 1]:\n",
    "        return 4\n",
    "    else:\n",
    "        raise Exception()\n",
    "\n",
    "\n",
    "def compare(hand1, hand2):\n",
    "    hand1, _ = hand1\n",
    "    hand2, _ = hand2\n",
    "\n",
    "    if hand_type_value(hand1) < hand_type_value(hand2):\n",
    "        return -1\n",
    "    elif hand_type_value(hand1) > hand_type_value(hand2):\n",
    "        return 1\n",
    "    else:  # Second type of sort\n",
    "        for c1, c2 in zip(hand1, hand2):\n",
    "            if c1 != c2:\n",
    "                return value_table[c1] - value_table[c2]\n",
    "\n",
    "\n",
    "hands_sorted = sorted(hands, key=cmp_to_key(compare))\n",
    "hands_sorted"
   ]
  },
  {
   "cell_type": "code",
   "execution_count": null,
   "metadata": {},
   "outputs": [],
   "source": [
    "res = sum([(i+1)*bid for i, (hand, bid) in enumerate(hands_sorted)])\n",
    "res"
   ]
  },
  {
   "cell_type": "code",
   "execution_count": null,
   "metadata": {},
   "outputs": [],
   "source": [
    "puzzle.answer_b = res"
   ]
  },
  {
   "cell_type": "markdown",
   "metadata": {},
   "source": [
    "## Day 6"
   ]
  },
  {
   "cell_type": "code",
   "execution_count": null,
   "metadata": {},
   "outputs": [],
   "source": [
    "puzzle = Puzzle(year=2023, day=6)\n",
    "puzzle.input_data"
   ]
  },
  {
   "cell_type": "markdown",
   "metadata": {},
   "source": [
    "## Part 1"
   ]
  },
  {
   "cell_type": "code",
   "execution_count": null,
   "metadata": {},
   "outputs": [],
   "source": [
    "data = puzzle.input_data.split(\"\\n\")\n",
    "#data = puzzle.examples[0].input_data.split(\"\\n\")\n",
    "data"
   ]
  },
  {
   "cell_type": "code",
   "execution_count": null,
   "metadata": {},
   "outputs": [],
   "source": [
    "races = list(zip(list(map(int, data[0].split(\":\")[1].split())), list(map(int, data[1].split(\":\")[1].split()))))  # Hello future me, yes this is disgusting\n",
    "races"
   ]
  },
  {
   "cell_type": "code",
   "execution_count": null,
   "metadata": {},
   "outputs": [],
   "source": [
    "# Hello bruteforce my old friend\n",
    "def get_all_race_distances(time):\n",
    "    distances = []\n",
    "\n",
    "    for i in range(0, time):\n",
    "        distances.append((i, i * (time - i)))\n",
    "\n",
    "    return distances\n"
   ]
  },
  {
   "cell_type": "code",
   "execution_count": null,
   "metadata": {},
   "outputs": [],
   "source": [
    "winning_options = []\n",
    "for time, distance in races:\n",
    "    winning_options.append(list(filter(lambda x: x[1] > distance, get_all_race_distances(time))))\n",
    "\n",
    "winning_options"
   ]
  },
  {
   "cell_type": "code",
   "execution_count": null,
   "metadata": {},
   "outputs": [],
   "source": [
    "from functools import reduce  # See, I used reduce, I'm basically a data scientist\n",
    "\n",
    "\n",
    "res = reduce(lambda x, y: x*y, [len(o) for o in winning_options])\n",
    "res"
   ]
  },
  {
   "cell_type": "code",
   "execution_count": null,
   "metadata": {},
   "outputs": [],
   "source": [
    "puzzle.answer_a = res"
   ]
  },
  {
   "cell_type": "markdown",
   "metadata": {},
   "source": [
    "## Part 2"
   ]
  },
  {
   "cell_type": "code",
   "execution_count": null,
   "metadata": {},
   "outputs": [],
   "source": [
    "races = [(int(\"\".join(data[0].split(\":\")[1].split())), int(\"\".join(data[1].split(\":\")[1].split())))]  # I'm really sorry\n",
    "races"
   ]
  },
  {
   "cell_type": "code",
   "execution_count": null,
   "metadata": {},
   "outputs": [],
   "source": [
    "winning_options = []\n",
    "for time, distance in races:\n",
    "    winning_options.append(list(filter(lambda x: x[1] > distance, get_all_race_distances(time))))\n",
    "\n",
    "winning_options"
   ]
  },
  {
   "cell_type": "code",
   "execution_count": null,
   "metadata": {},
   "outputs": [],
   "source": [
    "from functools import reduce\n",
    "\n",
    "\n",
    "res = reduce(lambda x, y: x*y, [len(o) for o in winning_options])\n",
    "res"
   ]
  },
  {
   "cell_type": "code",
   "execution_count": null,
   "metadata": {},
   "outputs": [],
   "source": [
    "puzzle.answer_b = res"
   ]
  },
  {
   "cell_type": "markdown",
   "metadata": {},
   "source": [
    "## Day 5"
   ]
  },
  {
   "cell_type": "code",
   "execution_count": null,
   "metadata": {},
   "outputs": [],
   "source": [
    "puzzle = Puzzle(year=2023, day=5)\n",
    "data = puzzle.examples[0].input_data\n",
    "data"
   ]
  },
  {
   "cell_type": "markdown",
   "metadata": {},
   "source": [
    "## Part 1"
   ]
  },
  {
   "cell_type": "code",
   "execution_count": null,
   "metadata": {},
   "outputs": [],
   "source": [
    "data = puzzle.examples[0].input_data.split(\"\\n\\n\")\n",
    "#data = puzzle.input_data.split(\"\\n\\n\")\n",
    "data"
   ]
  },
  {
   "cell_type": "code",
   "execution_count": null,
   "metadata": {},
   "outputs": [],
   "source": [
    "seeds = [int(seed_num) for seed_num in data[0].split(\":\")[1].split()]\n",
    "seeds"
   ]
  },
  {
   "cell_type": "code",
   "execution_count": null,
   "metadata": {},
   "outputs": [],
   "source": [
    "from collections import defaultdict\n",
    "\n",
    "\n",
    "maps = defaultdict(list)\n",
    "\n",
    "\n",
    "for line in data[1:]:\n",
    "    infos = line.split(\"\\n\")\n",
    "\n",
    "    map_name = infos[0].split()[0]\n",
    "\n",
    "    for info in infos[1:]:\n",
    "        d_start, s_start, length = info.split()\n",
    "\n",
    "        maps[map_name].append((int(d_start), int(s_start), int(length)))\n",
    "\n",
    "maps"
   ]
  },
  {
   "cell_type": "code",
   "execution_count": null,
   "metadata": {},
   "outputs": [],
   "source": [
    "def seed_to_location(seed):\n",
    "    seed_path = ['seed-to-soil', 'soil-to-fertilizer', 'fertilizer-to-water', 'water-to-light', 'light-to-temperature', 'temperature-to-humidity', 'humidity-to-location']\n",
    "\n",
    "    for p in seed_path:\n",
    "        for d_start, s_start, length in maps[p]:\n",
    "            if s_start <= seed < s_start + length:\n",
    "                seed += (d_start - s_start)\n",
    "                break\n",
    "\n",
    "    return seed\n",
    "\n",
    "res = min([seed_to_location(seed) for seed in seeds])\n",
    "res"
   ]
  },
  {
   "cell_type": "code",
   "execution_count": null,
   "metadata": {},
   "outputs": [],
   "source": [
    "puzzle.answer_a = res"
   ]
  },
  {
   "cell_type": "markdown",
   "metadata": {},
   "source": [
    "## Part 2"
   ]
  },
  {
   "cell_type": "code",
   "execution_count": null,
   "metadata": {},
   "outputs": [],
   "source": [
    "# Why be smart when you can multiprocess your bruteforcing\n",
    "\n",
    "\n",
    "import os\n",
    "from collections import defaultdict\n",
    "from multiprocessing import Queue, Process\n",
    "import threading\n",
    "\n",
    "\n",
    "from aocd.models import Puzzle\n",
    "\n",
    "\n",
    "os.environ['AOC_SESSION'] = open('session.txt').read().strip()\n",
    "\n",
    "\n",
    "puzzle = Puzzle(year=2023, day=5)\n",
    "\n",
    "#data = puzzle.examples[0].input_data.split(\"\\n\\n\")\n",
    "data = puzzle.input_data.split(\"\\n\\n\")\n",
    "\n",
    "\n",
    "# ====== Parsing data =======\n",
    "\n",
    "seeds = data[0].split(\":\")[1].split()\n",
    "seeds = [int(s) for s in seeds]\n",
    "seeds = list(zip(seeds[::2], seeds[1::2]))\n",
    "# print(seeds)\n",
    "\n",
    "maps = defaultdict(list)\n",
    "\n",
    "for line in data[1:]:\n",
    "    infos = line.split(\"\\n\")\n",
    "\n",
    "    map_name = infos[0].split()[0]\n",
    "\n",
    "    for info in infos[1:]:\n",
    "        d_start, s_start, length = info.split()\n",
    "\n",
    "        maps[map_name].append((int(d_start), int(s_start), int(length)))\n",
    "\n",
    "\n",
    "# ====== Multiprocess: fun times ahead ======\n",
    "\n",
    "def seed_to_location(seed):\n",
    "    # Same as in part 1\n",
    "    seed_path = [\"seed-to-soil\", \"soil-to-fertilizer\", \"fertilizer-to-water\", \"water-to-light\", \"light-to-temperature\", \"temperature-to-humidity\", \"humidity-to-location\"]\n",
    "\n",
    "    for p in seed_path:\n",
    "        for d_start, s_start, length in maps[p]:\n",
    "            if s_start <= seed < s_start + length:\n",
    "                seed += (d_start - s_start)\n",
    "                break\n",
    "\n",
    "    return seed\n",
    "\n",
    "\n",
    "def seed_range_process(qin, qout):\n",
    "    print(f\"process {os.getpid()} started\")\n",
    "\n",
    "    local_min = None\n",
    "\n",
    "    seed_range = qin.get()\n",
    "\n",
    "    while seed_range is not None:\n",
    "        print(seed_range)\n",
    "        start, length = seed_range\n",
    "\n",
    "        for seed in range(start, start+length):\n",
    "            seed_location = seed_to_location(seed)\n",
    "            \n",
    "            if local_min is None or seed_location < local_min: # Avoid overwhelming the out queue\n",
    "                local_min = seed_location\n",
    "                print(f\"process {os.getpid()} found new local_min: {local_min}\")\n",
    "                qout.put(seed_location)\n",
    "                # print(f\"seed {seed_location} put in queue\")\n",
    "\n",
    "        seed_range = qin.get()\n",
    "\n",
    "    print(f\"process {os.getpid()} finishing\")\n",
    "\n",
    "\n",
    "def location_aggregator_thread(qin):\n",
    "    print(f\"thread {os.getpid()} started\")\n",
    "    locations = []\n",
    "\n",
    "    location = qin.get()\n",
    "\n",
    "    while location:\n",
    "        # print(f\"aggregated {location}\")\n",
    "        locations.append(location)\n",
    "\n",
    "        if len(locations) >= 10000:\n",
    "            locations = [min(locations)]  # Keep size under control\n",
    "            print(f\"shrinked locations aggregator, new min is {min(locations)}\")\n",
    "\n",
    "        location = qin.get()\n",
    "    \n",
    "    print(min(locations))\n",
    "\n",
    "    puzzle.answer_b = min(locations)\n",
    "\n",
    "\n",
    "# ====== Multiprocess orchestration ======\n",
    "\n",
    "NB_PROCESS = 7  # Technically I have 8 threads but I still need to be able to work lol\n",
    "\n",
    "main_to_process = Queue()\n",
    "process_to_result = Queue()\n",
    "\n",
    "processes = []\n",
    "for _ in range(NB_PROCESS):\n",
    "    process = Process(target=seed_range_process, args=(main_to_process, process_to_result))\n",
    "    process.start()\n",
    "    processes.append(process)\n",
    "\n",
    "consumer = threading.Thread(\n",
    "    target=location_aggregator_thread,\n",
    "    args=(\n",
    "        process_to_result,\n",
    "    ),\n",
    ")\n",
    "consumer.start()\n",
    "\n",
    "for seed_range in seeds:\n",
    "    main_to_process.put(seed_range)\n",
    "\n",
    "for _ in range(NB_PROCESS):\n",
    "    main_to_process.put(None)  # Signal end to all processes\n",
    "\n",
    "for process in processes:\n",
    "    process.join()\n",
    "\n",
    "process_to_result.put(None)  # Signal end to consumer thread\n",
    "\n",
    "consumer.join()"
   ]
  },
  {
   "cell_type": "markdown",
   "metadata": {},
   "source": [
    "## Day 4"
   ]
  },
  {
   "cell_type": "code",
   "execution_count": null,
   "metadata": {},
   "outputs": [],
   "source": [
    "puzzle = Puzzle(year=2023, day=4)\n",
    "puzzle.examples"
   ]
  },
  {
   "cell_type": "markdown",
   "metadata": {},
   "source": [
    "## Part 1"
   ]
  },
  {
   "cell_type": "code",
   "execution_count": null,
   "metadata": {},
   "outputs": [],
   "source": [
    "data = puzzle.input_data.split(\"\\n\")\n",
    "data"
   ]
  },
  {
   "cell_type": "code",
   "execution_count": null,
   "metadata": {},
   "outputs": [],
   "source": [
    "games = []\n",
    "\n",
    "for line in data:\n",
    "\n",
    "    game_id, card_input = line.split(\":\")\n",
    "\n",
    "    _, pk = game_id.split()\n",
    "    win_nums, nums = card_input.split(\"|\")\n",
    "\n",
    "    win_nums = set([*win_nums.split()])\n",
    "    nums = set([*nums.split()])\n",
    "\n",
    "    common_nums = win_nums & nums\n",
    "\n",
    "    games.append({\"id\": pk, \"win_nums\": win_nums, \"nums\": nums, \"common_nums\": common_nums, \"score\": 2**(len(common_nums)-1) if common_nums else 0})\n",
    "\n",
    "games"
   ]
  },
  {
   "cell_type": "code",
   "execution_count": null,
   "metadata": {},
   "outputs": [],
   "source": [
    "res = sum([g[\"score\"] for g in games])\n",
    "res"
   ]
  },
  {
   "cell_type": "code",
   "execution_count": null,
   "metadata": {},
   "outputs": [],
   "source": [
    "puzzle.answer_a = res"
   ]
  },
  {
   "cell_type": "markdown",
   "metadata": {},
   "source": [
    "## Part 2"
   ]
  },
  {
   "cell_type": "code",
   "execution_count": null,
   "metadata": {},
   "outputs": [],
   "source": [
    "from collections import defaultdict\n",
    "\n",
    "cards = defaultdict(lambda: 1)\n",
    "\n",
    "for line in data:\n",
    "\n",
    "    game_id, card_input = line.split(\":\")\n",
    "\n",
    "    _, pk = game_id.split()\n",
    "    pk = int(pk)\n",
    "\n",
    "    win_nums, nums = card_input.split(\"|\")\n",
    "\n",
    "    win_nums = set([*win_nums.split()])\n",
    "    nums = set([*nums.split()])\n",
    "\n",
    "    common_nums = win_nums & nums\n",
    "\n",
    "    for _ in range(cards[pk]):\n",
    "        for r in range(len(common_nums)):\n",
    "            cards[pk+r+1] += 1\n",
    "\n",
    "cards"
   ]
  },
  {
   "cell_type": "code",
   "execution_count": null,
   "metadata": {},
   "outputs": [],
   "source": [
    "res = sum(cards.values())\n",
    "res"
   ]
  },
  {
   "cell_type": "code",
   "execution_count": null,
   "metadata": {},
   "outputs": [],
   "source": [
    "puzzle.answer_b = res"
   ]
  },
  {
   "cell_type": "markdown",
   "metadata": {},
   "source": [
    "## Day 3"
   ]
  },
  {
   "cell_type": "code",
   "execution_count": null,
   "metadata": {},
   "outputs": [],
   "source": [
    "puzzle = Puzzle(year=2023, day=3)\n",
    "puzzle.input_data"
   ]
  },
  {
   "cell_type": "markdown",
   "metadata": {},
   "source": [
    "## Part 1"
   ]
  },
  {
   "cell_type": "code",
   "execution_count": null,
   "metadata": {},
   "outputs": [],
   "source": [
    "data = puzzle.input_data.split(\"\\n\")\n",
    "data"
   ]
  },
  {
   "cell_type": "code",
   "execution_count": null,
   "metadata": {},
   "outputs": [],
   "source": [
    "import re\n",
    "\n",
    "nums = [(i, *match.span(), int(match[0])) for i, line in enumerate(data) for match in re.finditer(r'\\d+', line)]\n",
    "\n",
    "nums"
   ]
  },
  {
   "cell_type": "code",
   "execution_count": null,
   "metadata": {},
   "outputs": [],
   "source": [
    "NOT_SYMBOLS = \".0123456789\"\n",
    "SCHEMATICS = [[char for char in line] for line in data]\n",
    "Y_MAX = len(SCHEMATICS)\n",
    "X_MAX = len(SCHEMATICS[0])\n",
    "\n",
    "def get_symbol(row, start, end):\n",
    "    # Check \"around\" in the schematics to find the symbol if it exists\n",
    "    # (Global assumpton -> one symbol per number)\n",
    "\n",
    "    for y in range(row-1, row+2):\n",
    "        for x in range(start-1, end+1):\n",
    "\n",
    "            if y >= 0 and y < Y_MAX and x >= 0 and x < X_MAX:\n",
    "                char = SCHEMATICS[y][x]\n",
    "\n",
    "                if char not in NOT_SYMBOLS:\n",
    "                    return char, y, x\n",
    "\n",
    "    return None, None, None\n",
    "\n",
    "total = 0\n",
    "\n",
    "for r, start, end, num in nums:\n",
    "    char, _, _ = get_symbol(r, start, end)\n",
    "    if char:\n",
    "        total += num\n",
    "\n",
    "res = total\n",
    "res\n"
   ]
  },
  {
   "cell_type": "code",
   "execution_count": null,
   "metadata": {},
   "outputs": [],
   "source": [
    "puzzle.answer_a = res"
   ]
  },
  {
   "cell_type": "markdown",
   "metadata": {},
   "source": [
    "## Part 2"
   ]
  },
  {
   "cell_type": "code",
   "execution_count": null,
   "metadata": {},
   "outputs": [],
   "source": [
    "from collections import defaultdict\n",
    "\n",
    "symbols = defaultdict(list)\n",
    "\n",
    "for r, start, end, num in nums:\n",
    "    symbol, y, x = get_symbol(r, start, end)\n",
    "\n",
    "    if symbol == \"*\":\n",
    "        symbols[f\"{x}_{y}\"].append(num)\n",
    "\n",
    "symbols"
   ]
  },
  {
   "cell_type": "code",
   "execution_count": null,
   "metadata": {},
   "outputs": [],
   "source": [
    "total = 0\n",
    "\n",
    "for _, v in symbols.items():\n",
    "    if len(v) == 2:\n",
    "        total += v[0] * v[1]\n",
    "\n",
    "res = total\n",
    "res"
   ]
  },
  {
   "cell_type": "code",
   "execution_count": null,
   "metadata": {},
   "outputs": [],
   "source": [
    "puzzle.answer_b = res"
   ]
  },
  {
   "cell_type": "markdown",
   "metadata": {},
   "source": [
    "## Day 2"
   ]
  },
  {
   "cell_type": "code",
   "execution_count": null,
   "metadata": {},
   "outputs": [],
   "source": [
    "puzzle = Puzzle(year=2023, day=2)\n",
    "puzzle.input_data"
   ]
  },
  {
   "cell_type": "markdown",
   "metadata": {},
   "source": [
    "## Part 1"
   ]
  },
  {
   "cell_type": "code",
   "execution_count": null,
   "metadata": {},
   "outputs": [],
   "source": [
    "data = puzzle.input_data.split(\"\\n\")\n",
    "data"
   ]
  },
  {
   "cell_type": "code",
   "execution_count": null,
   "metadata": {},
   "outputs": [],
   "source": [
    "games = []\n",
    "\n",
    "for line in data:\n",
    "\n",
    "    game_id, card_input = line.split(\":\")\n",
    "    _, pk = game_id.split()\n",
    "    looks = card_input.split(\";\")\n",
    "\n",
    "    looks_list = []\n",
    "\n",
    "    for look in looks:\n",
    "        look_dict = dict()\n",
    "        for v in look.split(\",\"):\n",
    "            num, color = v.split()\n",
    "            look_dict.update({color: int(num)})\n",
    "\n",
    "        looks_list.append(look_dict)\n",
    "\n",
    "    games.append({\"id\": pk, \"sets\": looks_list})\n",
    "\n",
    "games\n"
   ]
  },
  {
   "cell_type": "code",
   "execution_count": null,
   "metadata": {},
   "outputs": [],
   "source": [
    "MAX_BALLS_lol = {'blue': 14, 'red': 12, 'green': 13}\n",
    "\n",
    "def is_possible(game):\n",
    "    for s in game[\"sets\"]:\n",
    "        for color, num in s.items():\n",
    "            if num > MAX_BALLS_lol[color]:\n",
    "                return 0\n",
    "\n",
    "    return int(game[\"id\"])\n",
    "\n",
    "res = sum(map(is_possible, games))\n",
    "\n",
    "res"
   ]
  },
  {
   "cell_type": "code",
   "execution_count": null,
   "metadata": {},
   "outputs": [],
   "source": [
    "puzzle.answer_a = res"
   ]
  },
  {
   "cell_type": "markdown",
   "metadata": {},
   "source": [
    "## Part 2"
   ]
  },
  {
   "cell_type": "code",
   "execution_count": null,
   "metadata": {},
   "outputs": [],
   "source": [
    "from collections import Counter\n",
    "from functools import reduce\n",
    "\n",
    "def power(game):\n",
    "    c = Counter()\n",
    "    for s in game[\"sets\"]:\n",
    "        c |= Counter(s)\n",
    "\n",
    "    return reduce(lambda x, y: x*y, c.values())\n",
    "\n",
    "res = sum(map(power, games))\n",
    "res"
   ]
  },
  {
   "cell_type": "code",
   "execution_count": null,
   "metadata": {},
   "outputs": [],
   "source": [
    "puzzle.answer_b = res"
   ]
  },
  {
   "cell_type": "markdown",
   "metadata": {},
   "source": [
    "## Day 1"
   ]
  },
  {
   "cell_type": "code",
   "execution_count": null,
   "metadata": {},
   "outputs": [],
   "source": [
    "puzzle = Puzzle(year=2023, day=1)\n",
    "puzzle.input_data"
   ]
  },
  {
   "cell_type": "markdown",
   "metadata": {},
   "source": [
    "## Part 1"
   ]
  },
  {
   "cell_type": "code",
   "execution_count": null,
   "metadata": {},
   "outputs": [],
   "source": [
    "data = puzzle.input_data.split(\"\\n\")\n",
    "data"
   ]
  },
  {
   "cell_type": "code",
   "execution_count": null,
   "metadata": {},
   "outputs": [],
   "source": [
    "num_values = [\"\".join(filter(lambda x: x.isdigit(), line)) for line in data]\n",
    "cal_values = [\"\".join([v[0], v[-1]]) for v in num_values]\n",
    "res = sum(int(v) for v in cal_values)\n",
    "res"
   ]
  },
  {
   "cell_type": "code",
   "execution_count": null,
   "metadata": {},
   "outputs": [],
   "source": [
    "puzzle.answer_a = res"
   ]
  },
  {
   "cell_type": "markdown",
   "metadata": {},
   "source": [
    "## Part 2"
   ]
  },
  {
   "cell_type": "code",
   "execution_count": null,
   "metadata": {},
   "outputs": [],
   "source": [
    "data = puzzle.input_data.split(\"\\n\")\n",
    "data"
   ]
  },
  {
   "cell_type": "code",
   "execution_count": null,
   "metadata": {},
   "outputs": [],
   "source": [
    "info = {\n",
    "    # Fuck being elegant let's be pragmatic\n",
    "    # \"{digit_str}\": \"{first_letter}{digit_int}{last_letter}\"\n",
    "    \"one\": \"o1e\",\n",
    "    \"two\": \"t2o\",\n",
    "    \"three\": \"t3e\",\n",
    "    \"four\": \"f4r\",\n",
    "    \"five\": \"f5e\",\n",
    "    \"six\": \"s6x\",\n",
    "    \"seven\": \"s7n\",\n",
    "    \"eight\": \"e8t\",\n",
    "    \"nine\": \"n9e\",\n",
    "}\n",
    "\n",
    "mapped_values = []\n",
    "\n",
    "for line in data:\n",
    "    for k, v in info.items():\n",
    "        line = line.replace(k, v)\n",
    "    mapped_values.append(line)\n",
    "\n",
    "mapped_values"
   ]
  },
  {
   "cell_type": "code",
   "execution_count": null,
   "metadata": {},
   "outputs": [],
   "source": [
    "# Same as part 1\n",
    "num_values = [\"\".join(filter(lambda x: x.isdigit(), line)) for line in mapped_values]\n",
    "cal_values = [\"\".join([v[0], v[-1]]) for v in num_values]\n",
    "res = sum(int(v) for v in cal_values)\n",
    "res"
   ]
  },
  {
   "cell_type": "code",
   "execution_count": null,
   "metadata": {},
   "outputs": [],
   "source": [
    "puzzle.answer_b = res"
   ]
  }
 ],
 "metadata": {
  "kernelspec": {
   "display_name": "env",
   "language": "python",
   "name": "python3"
  },
  "language_info": {
   "codemirror_mode": {
    "name": "ipython",
    "version": 3
   },
   "file_extension": ".py",
   "mimetype": "text/x-python",
   "name": "python",
   "nbconvert_exporter": "python",
   "pygments_lexer": "ipython3",
   "version": "3.9.5"
  },
  "vscode": {
   "interpreter": {
    "hash": "74a0dffb66970284b566019f07a86ea3c4c4900070849e8a5662507f4f110893"
   }
  }
 },
 "nbformat": 4,
 "nbformat_minor": 2
}
