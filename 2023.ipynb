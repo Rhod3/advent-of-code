{
 "cells": [
  {
   "cell_type": "markdown",
   "metadata": {},
   "source": [
    "# Advent of Code 2023"
   ]
  },
  {
   "cell_type": "code",
   "execution_count": null,
   "metadata": {
    "scrolled": true
   },
   "outputs": [],
   "source": [
    "! pip install -U advent-of-code-data networkx numpy"
   ]
  },
  {
   "cell_type": "code",
   "execution_count": null,
   "metadata": {},
   "outputs": [],
   "source": [
    "import os\n",
    "\n",
    "os.environ['AOC_SESSION'] = open('session.txt').read().strip()\n",
    "\n",
    "from aocd.models import Puzzle"
   ]
  },
  {
   "cell_type": "markdown",
   "metadata": {},
   "source": [
    "## Day X"
   ]
  },
  {
   "cell_type": "code",
   "execution_count": null,
   "metadata": {},
   "outputs": [],
   "source": [
    "puzzle = Puzzle(year=2023, day=1)\n",
    "puzzle.input_data"
   ]
  },
  {
   "cell_type": "markdown",
   "metadata": {},
   "source": [
    "## Part 1"
   ]
  },
  {
   "cell_type": "code",
   "execution_count": null,
   "metadata": {},
   "outputs": [],
   "source": [
    "data = puzzle.input_data.split(\"\\n\")\n",
    "data"
   ]
  },
  {
   "cell_type": "code",
   "execution_count": null,
   "metadata": {},
   "outputs": [],
   "source": [
    "puzzle.answer_a = res"
   ]
  },
  {
   "cell_type": "markdown",
   "metadata": {},
   "source": [
    "## Part 2"
   ]
  },
  {
   "cell_type": "code",
   "execution_count": null,
   "metadata": {},
   "outputs": [],
   "source": [
    "pass"
   ]
  },
  {
   "cell_type": "code",
   "execution_count": null,
   "metadata": {},
   "outputs": [],
   "source": [
    "puzzle.answer_b = res"
   ]
  },
  {
   "cell_type": "markdown",
   "metadata": {},
   "source": [
    "## Day 4"
   ]
  },
  {
   "cell_type": "code",
   "execution_count": null,
   "metadata": {},
   "outputs": [],
   "source": [
    "puzzle = Puzzle(year=2023, day=4)\n",
    "puzzle.examples"
   ]
  },
  {
   "cell_type": "markdown",
   "metadata": {},
   "source": [
    "## Part 1"
   ]
  },
  {
   "cell_type": "code",
   "execution_count": null,
   "metadata": {},
   "outputs": [],
   "source": [
    "data = puzzle.input_data.split(\"\\n\")\n",
    "data"
   ]
  },
  {
   "cell_type": "code",
   "execution_count": null,
   "metadata": {},
   "outputs": [],
   "source": [
    "games = []\n",
    "\n",
    "for line in data:\n",
    "\n",
    "    game_id, card_input = line.split(\":\")\n",
    "\n",
    "    _, pk = game_id.split()\n",
    "    win_nums, nums = card_input.split(\"|\")\n",
    "\n",
    "    win_nums = set([*win_nums.split()])\n",
    "    nums = set([*nums.split()])\n",
    "\n",
    "    common_nums = win_nums & nums\n",
    "\n",
    "    games.append({\"id\": pk, \"win_nums\": win_nums, \"nums\": nums, \"common_nums\": common_nums, \"score\": 2**(len(common_nums)-1) if common_nums else 0})\n",
    "\n",
    "games"
   ]
  },
  {
   "cell_type": "code",
   "execution_count": null,
   "metadata": {},
   "outputs": [],
   "source": [
    "res = sum([g[\"score\"] for g in games])\n",
    "res"
   ]
  },
  {
   "cell_type": "code",
   "execution_count": null,
   "metadata": {},
   "outputs": [],
   "source": [
    "puzzle.answer_a = res"
   ]
  },
  {
   "cell_type": "markdown",
   "metadata": {},
   "source": [
    "## Part 2"
   ]
  },
  {
   "cell_type": "code",
   "execution_count": null,
   "metadata": {},
   "outputs": [],
   "source": [
    "from collections import defaultdict\n",
    "\n",
    "cards = defaultdict(lambda: 1)\n",
    "\n",
    "for line in data:\n",
    "\n",
    "    game_id, card_input = line.split(\":\")\n",
    "\n",
    "    _, pk = game_id.split()\n",
    "    pk = int(pk)\n",
    "\n",
    "    win_nums, nums = card_input.split(\"|\")\n",
    "\n",
    "    win_nums = set([*win_nums.split()])\n",
    "    nums = set([*nums.split()])\n",
    "\n",
    "    common_nums = win_nums & nums\n",
    "\n",
    "    for _ in range(cards[pk]):\n",
    "        for i in range(len(common_nums)):\n",
    "            cards[pk+i+1] += 1\n",
    "\n",
    "cards"
   ]
  },
  {
   "cell_type": "code",
   "execution_count": null,
   "metadata": {},
   "outputs": [],
   "source": [
    "res = sum(cards.values())\n",
    "res"
   ]
  },
  {
   "cell_type": "code",
   "execution_count": null,
   "metadata": {},
   "outputs": [],
   "source": [
    "puzzle.answer_b = res"
   ]
  },
  {
   "cell_type": "markdown",
   "metadata": {},
   "source": [
    "## Day 3"
   ]
  },
  {
   "cell_type": "code",
   "execution_count": null,
   "metadata": {},
   "outputs": [],
   "source": [
    "puzzle = Puzzle(year=2023, day=3)\n",
    "puzzle.input_data"
   ]
  },
  {
   "cell_type": "markdown",
   "metadata": {},
   "source": [
    "## Part 1"
   ]
  },
  {
   "cell_type": "code",
   "execution_count": null,
   "metadata": {},
   "outputs": [],
   "source": [
    "data = puzzle.input_data.split(\"\\n\")\n",
    "data"
   ]
  },
  {
   "cell_type": "code",
   "execution_count": null,
   "metadata": {},
   "outputs": [],
   "source": [
    "import re\n",
    "\n",
    "nums = [(i, *match.span(), int(match[0])) for i, line in enumerate(data) for match in re.finditer(r'\\d+', line)]\n",
    "\n",
    "nums"
   ]
  },
  {
   "cell_type": "code",
   "execution_count": null,
   "metadata": {},
   "outputs": [],
   "source": [
    "NOT_SYMBOLS = \".0123456789\"\n",
    "SCHEMATICS = [[char for char in line] for line in data]\n",
    "Y_MAX = len(SCHEMATICS)\n",
    "X_MAX = len(SCHEMATICS[0])\n",
    "\n",
    "def get_symbol(row, start, end):\n",
    "    # Check \"around\" in the schematics to find the symbol if it exists\n",
    "    # (Global assumpton -> one symbol per number)\n",
    "\n",
    "    for y in range(row-1, row+2):\n",
    "        for x in range(start-1, end+1):\n",
    "\n",
    "            if y >= 0 and y < Y_MAX and x >= 0 and x < X_MAX:\n",
    "                char = SCHEMATICS[y][x]\n",
    "\n",
    "                if char not in NOT_SYMBOLS:\n",
    "                    return char, y, x\n",
    "\n",
    "    return None, None, None\n",
    "\n",
    "total = 0\n",
    "\n",
    "for row, start, end, num in nums:\n",
    "    char, _, _ = get_symbol(row, start, end)\n",
    "    if char:\n",
    "        total += num\n",
    "\n",
    "res = total\n",
    "res\n"
   ]
  },
  {
   "cell_type": "code",
   "execution_count": null,
   "metadata": {},
   "outputs": [],
   "source": [
    "puzzle.answer_a = res"
   ]
  },
  {
   "cell_type": "markdown",
   "metadata": {},
   "source": [
    "## Part 2"
   ]
  },
  {
   "cell_type": "code",
   "execution_count": null,
   "metadata": {},
   "outputs": [],
   "source": [
    "from collections import defaultdict\n",
    "\n",
    "symbols = defaultdict(list)\n",
    "\n",
    "for row, start, end, num in nums:\n",
    "    symbol, y, x = get_symbol(row, start, end)\n",
    "\n",
    "    if symbol == \"*\":\n",
    "        symbols[f\"{x}_{y}\"].append(num)\n",
    "\n",
    "symbols"
   ]
  },
  {
   "cell_type": "code",
   "execution_count": null,
   "metadata": {},
   "outputs": [],
   "source": [
    "total = 0\n",
    "\n",
    "for _, v in symbols.items():\n",
    "    if len(v) == 2:\n",
    "        total += v[0] * v[1]\n",
    "\n",
    "res = total\n",
    "res"
   ]
  },
  {
   "cell_type": "code",
   "execution_count": null,
   "metadata": {},
   "outputs": [],
   "source": [
    "puzzle.answer_b = res"
   ]
  },
  {
   "cell_type": "markdown",
   "metadata": {},
   "source": [
    "## Day 2"
   ]
  },
  {
   "cell_type": "code",
   "execution_count": null,
   "metadata": {},
   "outputs": [],
   "source": [
    "puzzle = Puzzle(year=2023, day=2)\n",
    "puzzle.input_data"
   ]
  },
  {
   "cell_type": "markdown",
   "metadata": {},
   "source": [
    "## Part 1"
   ]
  },
  {
   "cell_type": "code",
   "execution_count": null,
   "metadata": {},
   "outputs": [],
   "source": [
    "data = puzzle.input_data.split(\"\\n\")\n",
    "data"
   ]
  },
  {
   "cell_type": "code",
   "execution_count": null,
   "metadata": {},
   "outputs": [],
   "source": [
    "games = []\n",
    "\n",
    "for line in data:\n",
    "\n",
    "    game_id, card_input = line.split(\":\")\n",
    "    _, pk = game_id.split()\n",
    "    looks = card_input.split(\";\")\n",
    "\n",
    "    looks_list = []\n",
    "\n",
    "    for look in looks:\n",
    "        look_dict = dict()\n",
    "        for v in look.split(\",\"):\n",
    "            num, color = v.split()\n",
    "            look_dict.update({color: int(num)})\n",
    "\n",
    "        looks_list.append(look_dict)\n",
    "\n",
    "    games.append({\"id\": pk, \"sets\": looks_list})\n",
    "\n",
    "games\n"
   ]
  },
  {
   "cell_type": "code",
   "execution_count": null,
   "metadata": {},
   "outputs": [],
   "source": [
    "MAX_BALLS_lol = {'blue': 14, 'red': 12, 'green': 13}\n",
    "\n",
    "def is_possible(game):\n",
    "    for s in game[\"sets\"]:\n",
    "        for color, num in s.items():\n",
    "            if num > MAX_BALLS_lol[color]:\n",
    "                return 0\n",
    "\n",
    "    return int(game[\"id\"])\n",
    "\n",
    "res = sum(map(is_possible, games))\n",
    "\n",
    "res"
   ]
  },
  {
   "cell_type": "code",
   "execution_count": null,
   "metadata": {},
   "outputs": [],
   "source": [
    "puzzle.answer_a = res"
   ]
  },
  {
   "cell_type": "markdown",
   "metadata": {},
   "source": [
    "## Part 2"
   ]
  },
  {
   "cell_type": "code",
   "execution_count": null,
   "metadata": {},
   "outputs": [],
   "source": [
    "from collections import Counter\n",
    "from functools import reduce\n",
    "\n",
    "def power(game):\n",
    "    c = Counter()\n",
    "    for s in game[\"sets\"]:\n",
    "        c |= Counter(s)\n",
    "\n",
    "    return reduce(lambda x, y: x*y, c.values())\n",
    "\n",
    "res = sum(map(power, games))\n",
    "res"
   ]
  },
  {
   "cell_type": "code",
   "execution_count": null,
   "metadata": {},
   "outputs": [],
   "source": [
    "puzzle.answer_b = res"
   ]
  },
  {
   "cell_type": "markdown",
   "metadata": {},
   "source": [
    "## Day 1"
   ]
  },
  {
   "cell_type": "code",
   "execution_count": null,
   "metadata": {},
   "outputs": [],
   "source": [
    "puzzle = Puzzle(year=2023, day=1)\n",
    "puzzle.input_data"
   ]
  },
  {
   "cell_type": "markdown",
   "metadata": {},
   "source": [
    "## Part 1"
   ]
  },
  {
   "cell_type": "code",
   "execution_count": null,
   "metadata": {},
   "outputs": [],
   "source": [
    "data = puzzle.input_data.split(\"\\n\")\n",
    "data"
   ]
  },
  {
   "cell_type": "code",
   "execution_count": null,
   "metadata": {},
   "outputs": [],
   "source": [
    "num_values = [\"\".join(filter(lambda x: x.isdigit(), line)) for line in data]\n",
    "cal_values = [\"\".join([v[0], v[-1]]) for v in num_values]\n",
    "res = sum(int(v) for v in cal_values)\n",
    "res"
   ]
  },
  {
   "cell_type": "code",
   "execution_count": null,
   "metadata": {},
   "outputs": [],
   "source": [
    "puzzle.answer_a = res"
   ]
  },
  {
   "cell_type": "markdown",
   "metadata": {},
   "source": [
    "## Part 2"
   ]
  },
  {
   "cell_type": "code",
   "execution_count": null,
   "metadata": {},
   "outputs": [],
   "source": [
    "data = puzzle.input_data.split(\"\\n\")\n",
    "data"
   ]
  },
  {
   "cell_type": "code",
   "execution_count": null,
   "metadata": {},
   "outputs": [],
   "source": [
    "mapping = {\n",
    "    # Fuck being elegant let's be pragmatic\n",
    "    # \"{digit_str}\": \"{first_letter}{digit_int}{last_letter}\"\n",
    "    \"one\": \"o1e\",\n",
    "    \"two\": \"t2o\",\n",
    "    \"three\": \"t3e\",\n",
    "    \"four\": \"f4r\",\n",
    "    \"five\": \"f5e\",\n",
    "    \"six\": \"s6x\",\n",
    "    \"seven\": \"s7n\",\n",
    "    \"eight\": \"e8t\",\n",
    "    \"nine\": \"n9e\",\n",
    "}\n",
    "\n",
    "mapped_values = []\n",
    "\n",
    "for line in data:\n",
    "    for k, v in mapping.items():\n",
    "        line = line.replace(k, v)\n",
    "    mapped_values.append(line)\n",
    "\n",
    "mapped_values"
   ]
  },
  {
   "cell_type": "code",
   "execution_count": null,
   "metadata": {},
   "outputs": [],
   "source": [
    "# Same as part 1\n",
    "num_values = [\"\".join(filter(lambda x: x.isdigit(), line)) for line in mapped_values]\n",
    "cal_values = [\"\".join([v[0], v[-1]]) for v in num_values]\n",
    "res = sum(int(v) for v in cal_values)\n",
    "res"
   ]
  },
  {
   "cell_type": "code",
   "execution_count": null,
   "metadata": {},
   "outputs": [],
   "source": [
    "puzzle.answer_b = res"
   ]
  }
 ],
 "metadata": {
  "kernelspec": {
   "display_name": "env",
   "language": "python",
   "name": "python3"
  },
  "language_info": {
   "codemirror_mode": {
    "name": "ipython",
    "version": 3
   },
   "file_extension": ".py",
   "mimetype": "text/x-python",
   "name": "python",
   "nbconvert_exporter": "python",
   "pygments_lexer": "ipython3",
   "version": "3.9.5"
  },
  "vscode": {
   "interpreter": {
    "hash": "74a0dffb66970284b566019f07a86ea3c4c4900070849e8a5662507f4f110893"
   }
  }
 },
 "nbformat": 4,
 "nbformat_minor": 2
}
