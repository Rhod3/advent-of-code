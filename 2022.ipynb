{
 "cells": [
  {
   "cell_type": "markdown",
   "metadata": {},
   "source": [
    "# Advent of Code 2022"
   ]
  },
  {
   "cell_type": "code",
   "execution_count": null,
   "metadata": {
    "scrolled": true
   },
   "outputs": [],
   "source": [
    "! pip install -U advent-of-code-data"
   ]
  },
  {
   "cell_type": "code",
   "execution_count": 1,
   "metadata": {},
   "outputs": [],
   "source": [
    "import os\n",
    "\n",
    "os.environ['AOC_SESSION'] = open('session.txt').read().strip()"
   ]
  },
  {
   "cell_type": "code",
   "execution_count": 2,
   "metadata": {},
   "outputs": [],
   "source": [
    "from aocd.models import Puzzle"
   ]
  },
  {
   "cell_type": "markdown",
   "metadata": {},
   "source": [
    "## Day X"
   ]
  },
  {
   "cell_type": "code",
   "execution_count": null,
   "metadata": {},
   "outputs": [],
   "source": [
    "puzzle = Puzzle(year=2022, day=X)\n",
    "puzzle.input_data"
   ]
  },
  {
   "cell_type": "markdown",
   "metadata": {},
   "source": [
    "## Part 1"
   ]
  },
  {
   "cell_type": "code",
   "execution_count": null,
   "metadata": {},
   "outputs": [],
   "source": [
    "pass"
   ]
  },
  {
   "cell_type": "code",
   "execution_count": null,
   "metadata": {},
   "outputs": [],
   "source": [
    "puzzle.answer_a = res"
   ]
  },
  {
   "cell_type": "markdown",
   "metadata": {},
   "source": [
    "## Part 2"
   ]
  },
  {
   "cell_type": "code",
   "execution_count": null,
   "metadata": {},
   "outputs": [],
   "source": [
    "pass"
   ]
  },
  {
   "cell_type": "code",
   "execution_count": null,
   "metadata": {},
   "outputs": [],
   "source": [
    "puzzle.answer_b = res"
   ]
  },
  {
   "cell_type": "markdown",
   "metadata": {},
   "source": [
    "## Day 1"
   ]
  },
  {
   "cell_type": "code",
   "execution_count": null,
   "metadata": {},
   "outputs": [],
   "source": [
    "puzzle = Puzzle(year=2022, day=1)\n",
    "puzzle.input_data"
   ]
  },
  {
   "cell_type": "markdown",
   "metadata": {},
   "source": [
    "## Part 1"
   ]
  },
  {
   "cell_type": "code",
   "execution_count": null,
   "metadata": {},
   "outputs": [],
   "source": [
    "data = puzzle.input_data.split(\"\\n\\n\")\n",
    "\n",
    "elfes_total = [sum(map(int, calories.split(\"\\n\"))) for calories in elfes]\n",
    "\n",
    "res = max(elfes_total)\n",
    "res"
   ]
  },
  {
   "cell_type": "code",
   "execution_count": null,
   "metadata": {},
   "outputs": [],
   "source": [
    "puzzle.answer_a = res"
   ]
  },
  {
   "cell_type": "markdown",
   "metadata": {},
   "source": [
    "## Part 2"
   ]
  },
  {
   "cell_type": "code",
   "execution_count": null,
   "metadata": {},
   "outputs": [],
   "source": [
    "res = sum(sorted(elfes_total)[-3:])\n",
    "res"
   ]
  },
  {
   "cell_type": "code",
   "execution_count": null,
   "metadata": {},
   "outputs": [],
   "source": [
    "puzzle.answer_b = res"
   ]
  },
  {
   "cell_type": "markdown",
   "metadata": {},
   "source": [
    "## Day 2"
   ]
  },
  {
   "cell_type": "code",
   "execution_count": null,
   "metadata": {},
   "outputs": [],
   "source": [
    "puzzle = Puzzle(year=2022, day=2)\n",
    "puzzle.input_data"
   ]
  },
  {
   "cell_type": "markdown",
   "metadata": {},
   "source": [
    "## Part 1"
   ]
  },
  {
   "cell_type": "code",
   "execution_count": null,
   "metadata": {},
   "outputs": [],
   "source": [
    "draw_moves = [(\"A\", \"X\"), (\"B\", \"Y\"), (\"C\", \"Z\")]\n",
    "winning_moves = [(\"A\", \"Y\"), (\"B\", \"Z\"), (\"C\", \"X\")]\n",
    "\n",
    "def round_solver(opponent_move, my_move):\n",
    "    score = 0\n",
    "    if (opponent_move, my_move) in draw_moves:\n",
    "        score = 3\n",
    "    elif (opponent_move, my_move) in winning_moves:\n",
    "        score = 6\n",
    "\n",
    "    return ord(my_move) - 87 + score\n"
   ]
  },
  {
   "cell_type": "code",
   "execution_count": null,
   "metadata": {},
   "outputs": [],
   "source": [
    "rounds = puzzle.input_data.split(\"\\n\")\n",
    "\n",
    "for r in rounds:\n",
    "    print(r, round_solver(*r.split()))\n",
    "\n",
    "res = sum([round_solver(*r.split()) for r in rounds])\n",
    "res"
   ]
  },
  {
   "cell_type": "code",
   "execution_count": null,
   "metadata": {},
   "outputs": [],
   "source": [
    "puzzle.answer_a = res"
   ]
  },
  {
   "cell_type": "markdown",
   "metadata": {},
   "source": [
    "## Part 2"
   ]
  },
  {
   "cell_type": "code",
   "execution_count": null,
   "metadata": {},
   "outputs": [],
   "source": [
    "to_do = {\n",
    "    \"X\": {\"A\": \"Z\", \"B\": \"X\", \"C\": \"Y\"},\n",
    "    \"Y\": {\"A\": \"X\", \"B\": \"Y\", \"C\": \"Z\"},\n",
    "    \"Z\": {\"A\": \"Y\", \"B\": \"Z\", \"C\": \"X\"},\n",
    "}\n",
    "\n",
    "def round_solver_b(opponent_move, result):\n",
    "    my_move = to_do[result][opponent_move]\n",
    "\n",
    "    score = 0\n",
    "    if (opponent_move, my_move) in draw_moves:\n",
    "        score = 3\n",
    "    elif (opponent_move, my_move) in winning_moves:\n",
    "        score = 6\n",
    "\n",
    "    return ord(my_move) - 87 + score\n"
   ]
  },
  {
   "cell_type": "code",
   "execution_count": null,
   "metadata": {},
   "outputs": [],
   "source": [
    "rounds = puzzle.input_data.split(\"\\n\")\n",
    "\n",
    "res = sum([round_solver_b(*r.split()) for r in rounds])\n",
    "res"
   ]
  },
  {
   "cell_type": "code",
   "execution_count": null,
   "metadata": {},
   "outputs": [],
   "source": [
    "puzzle.answer_b = res"
   ]
  },
  {
   "cell_type": "markdown",
   "metadata": {},
   "source": [
    "## Day 3"
   ]
  },
  {
   "cell_type": "code",
   "execution_count": null,
   "metadata": {},
   "outputs": [],
   "source": [
    "puzzle = Puzzle(year=2022, day=3)\n",
    "puzzle.input_data"
   ]
  },
  {
   "cell_type": "markdown",
   "metadata": {},
   "source": [
    "## Part 1"
   ]
  },
  {
   "cell_type": "code",
   "execution_count": null,
   "metadata": {},
   "outputs": [],
   "source": [
    "lowercase_diff = ord(\"a\") -1\n",
    "uppercase_diff = ord(\"A\") - 27\n",
    "\n",
    "priority_mapping = {chr(prio + lowercase_diff): prio for prio in range(1, 27)}\n",
    "priority_mapping.update({chr(prio + uppercase_diff): prio for prio in range(27, 53)})"
   ]
  },
  {
   "cell_type": "code",
   "execution_count": null,
   "metadata": {},
   "outputs": [],
   "source": [
    "sacks = puzzle.input_data.split(\"\\n\")\n",
    "\n",
    "compartimented_sacks = [(sack[:len(sack)//2], sack[len(sack)//2:]) for sack in sacks]\n",
    "\n",
    "errors = [(set(sack[0]) & set(sack[1])).pop() for sack in compartimented_sacks]\n",
    "\n",
    "res = sum([priority_mapping.get(error) for error in errors])"
   ]
  },
  {
   "cell_type": "code",
   "execution_count": null,
   "metadata": {},
   "outputs": [],
   "source": [
    "puzzle.answer_a = res"
   ]
  },
  {
   "cell_type": "markdown",
   "metadata": {},
   "source": [
    "## Part 2"
   ]
  },
  {
   "cell_type": "code",
   "execution_count": null,
   "metadata": {},
   "outputs": [],
   "source": [
    "from functools import reduce\n",
    "\n",
    "to_compare = []\n",
    "badges = []\n",
    "for i, sack in enumerate(sacks):\n",
    "    to_compare.append(sack)\n",
    "    \n",
    "    if i % 3 == 2:\n",
    "        badges.append(reduce(lambda x, y: set(x) & set(y), to_compare))\n",
    "        to_compare = []\n",
    "\n",
    "res = sum([priority_mapping.get(badge.pop()) for badge in badges])\n",
    "res"
   ]
  },
  {
   "cell_type": "code",
   "execution_count": null,
   "metadata": {},
   "outputs": [],
   "source": [
    "puzzle.answer_b = res"
   ]
  },
  {
   "cell_type": "markdown",
   "metadata": {},
   "source": [
    "## Day 4"
   ]
  },
  {
   "cell_type": "code",
   "execution_count": null,
   "metadata": {},
   "outputs": [],
   "source": [
    "puzzle = Puzzle(year=2022, day=4)\n",
    "puzzle.input_data"
   ]
  },
  {
   "cell_type": "markdown",
   "metadata": {},
   "source": [
    "## Part 1"
   ]
  },
  {
   "cell_type": "code",
   "execution_count": null,
   "metadata": {},
   "outputs": [],
   "source": [
    "# rows = puzzle.input_data.split(\"\\n\")\n",
    "\n",
    "# pairs = [(row.split(\",\")) for row in rows]\n",
    "\n",
    "# ranges = [(pair[0].split(\"-\") + pair[1].split(\"-\")) for pair in pairs]\n",
    "# ranges = [[int(num) for num in range] for range in ranges]\n",
    "# ranges"
   ]
  },
  {
   "cell_type": "code",
   "execution_count": null,
   "metadata": {},
   "outputs": [],
   "source": [
    "# res = sum(map(lambda x: (x[0] <= x[2] and x[3] <= x[1]) or (x[0] >= x[2] and x[3] >= x[1]), ranges))\n",
    "# res"
   ]
  },
  {
   "cell_type": "code",
   "execution_count": null,
   "metadata": {},
   "outputs": [],
   "source": [
    "rows = puzzle.input_data.split(\"\\n\")\n",
    "\n",
    "pairs = [(row.split(\",\")) for row in rows]\n",
    "\n",
    "ranges = [(pair[0].split(\"-\") + pair[1].split(\"-\")) for pair in pairs]\n",
    "ranges_as_sets = [[set([*range(int(row[0]), int(row[1])+1)]), set([*range(int(row[2]), int(row[3])+1)])] for row in ranges]"
   ]
  },
  {
   "cell_type": "code",
   "execution_count": null,
   "metadata": {},
   "outputs": [],
   "source": [
    "res = sum(map(lambda x: (x[0] <= x[1] or x[0] >= x[1]), ranges_as_sets))\n",
    "res"
   ]
  },
  {
   "cell_type": "code",
   "execution_count": null,
   "metadata": {},
   "outputs": [],
   "source": [
    "puzzle.answer_a = res"
   ]
  },
  {
   "cell_type": "markdown",
   "metadata": {},
   "source": [
    "## Part 2"
   ]
  },
  {
   "cell_type": "code",
   "execution_count": null,
   "metadata": {},
   "outputs": [],
   "source": [
    "res = sum(map(lambda x: not x[0].isdisjoint(x[1]), ranges_as_sets))\n",
    "res"
   ]
  },
  {
   "cell_type": "code",
   "execution_count": null,
   "metadata": {},
   "outputs": [],
   "source": [
    "puzzle.answer_b = res"
   ]
  },
  {
   "cell_type": "markdown",
   "metadata": {},
   "source": [
    "## Day 5"
   ]
  },
  {
   "cell_type": "code",
   "execution_count": null,
   "metadata": {},
   "outputs": [],
   "source": [
    "puzzle = Puzzle(year=2022, day=5)\n",
    "puzzle.input_data"
   ]
  },
  {
   "cell_type": "markdown",
   "metadata": {},
   "source": [
    "## Part 1"
   ]
  },
  {
   "cell_type": "code",
   "execution_count": null,
   "metadata": {
    "scrolled": true
   },
   "outputs": [],
   "source": [
    "stacks, moves = puzzle.input_data.split(\"\\n\\n\")\n",
    "\n",
    "stacks = stacks.split(\"\\n\")\n",
    "moves = moves.split(\"\\n\")\n",
    "\n",
    "moves"
   ]
  },
  {
   "cell_type": "code",
   "execution_count": null,
   "metadata": {},
   "outputs": [],
   "source": [
    "from collections import deque\n",
    "\n",
    "stack_sets = defaultdict(deque)\n",
    "\n",
    "for l in stacks:\n",
    "    for i in range(0, len(stacks[0]), 4):\n",
    "        crate = l[i+1:i+2]\n",
    "        if crate.isalpha():\n",
    "            stack_sets[int((i/4) + 1)].appendleft(crate)\n",
    "\n",
    "stack_sets"
   ]
  },
  {
   "cell_type": "code",
   "execution_count": null,
   "metadata": {},
   "outputs": [],
   "source": [
    "for m in moves:\n",
    "    _, num, __, stack_from, ___, stack_to = m.split()\n",
    "    \n",
    "    for i in range(int(num)):\n",
    "        stack_sets[int(stack_to)].append(stack_sets[int(stack_from)].pop())"
   ]
  },
  {
   "cell_type": "code",
   "execution_count": null,
   "metadata": {},
   "outputs": [],
   "source": [
    "stack_sets = dict(sorted(stack_sets.items()))\n",
    "stack_sets"
   ]
  },
  {
   "cell_type": "code",
   "execution_count": null,
   "metadata": {},
   "outputs": [],
   "source": [
    "res = \"\"\n",
    "\n",
    "for stack in stack_sets.values():\n",
    "    res += stack[len(stack)-1]\n",
    "\n",
    "res"
   ]
  },
  {
   "cell_type": "code",
   "execution_count": null,
   "metadata": {},
   "outputs": [],
   "source": [
    "puzzle.answer_a = res"
   ]
  },
  {
   "cell_type": "markdown",
   "metadata": {},
   "source": [
    "## Part 2"
   ]
  },
  {
   "cell_type": "code",
   "execution_count": null,
   "metadata": {},
   "outputs": [],
   "source": [
    "for m in moves:\n",
    "    _, num, __, stack_from, ___, stack_to = m.split()\n",
    "    tmp = deque()\n",
    "    for i in range(int(num)):\n",
    "        tmp.appendleft(stack_sets[int(stack_from)].pop())\n",
    "    for i in range(int(num)):\n",
    "        stack_sets[int(stack_to)].append(tmp.popleft())"
   ]
  },
  {
   "cell_type": "code",
   "execution_count": null,
   "metadata": {},
   "outputs": [],
   "source": [
    "stack_sets = dict(sorted(stack_sets.items()))\n",
    "stack_sets"
   ]
  },
  {
   "cell_type": "code",
   "execution_count": null,
   "metadata": {},
   "outputs": [],
   "source": [
    "res = \"\"\n",
    "\n",
    "for stack in stack_sets.values():\n",
    "    res += stack[len(stack)-1]\n",
    "\n",
    "res"
   ]
  },
  {
   "cell_type": "code",
   "execution_count": null,
   "metadata": {},
   "outputs": [],
   "source": [
    "puzzle.answer_b = res"
   ]
  },
  {
   "cell_type": "markdown",
   "metadata": {},
   "source": [
    "## Day 6"
   ]
  },
  {
   "cell_type": "code",
   "execution_count": null,
   "metadata": {},
   "outputs": [],
   "source": [
    "puzzle = Puzzle(year=2022, day=6)\n",
    "puzzle.input_data"
   ]
  },
  {
   "cell_type": "markdown",
   "metadata": {},
   "source": [
    "## Part 1"
   ]
  },
  {
   "cell_type": "code",
   "execution_count": null,
   "metadata": {},
   "outputs": [],
   "source": [
    "data = puzzle.input_data\n",
    "res = None\n",
    "for i in range(4, len(data)):\n",
    "    if len(set(data[i-4:i])) == 4:\n",
    "        print(set(data[i-4:i]))\n",
    "        res = i\n",
    "        break\n",
    "\n",
    "res"
   ]
  },
  {
   "cell_type": "code",
   "execution_count": null,
   "metadata": {},
   "outputs": [],
   "source": [
    "puzzle.answer_a = res"
   ]
  },
  {
   "cell_type": "markdown",
   "metadata": {},
   "source": [
    "## Part 2"
   ]
  },
  {
   "cell_type": "code",
   "execution_count": null,
   "metadata": {},
   "outputs": [],
   "source": [
    "data = puzzle.input_data\n",
    "res = None\n",
    "for i in range(14, len(data)):\n",
    "    if len(set(data[i-14:i])) == 14:\n",
    "        res = i\n",
    "        break\n",
    "\n",
    "res"
   ]
  },
  {
   "cell_type": "code",
   "execution_count": null,
   "metadata": {},
   "outputs": [],
   "source": [
    "puzzle.answer_b = res"
   ]
  },
  {
   "cell_type": "markdown",
   "metadata": {},
   "source": [
    "## Day 7"
   ]
  },
  {
   "cell_type": "code",
   "execution_count": null,
   "metadata": {},
   "outputs": [],
   "source": [
    "puzzle = Puzzle(year=2022, day=7)\n",
    "puzzle.input_data"
   ]
  },
  {
   "cell_type": "markdown",
   "metadata": {},
   "source": [
    "## Part 1"
   ]
  },
  {
   "cell_type": "code",
   "execution_count": null,
   "metadata": {},
   "outputs": [],
   "source": [
    "cmds = puzzle.input_data.split(\"\\n\")\n",
    "cmds"
   ]
  },
  {
   "cell_type": "code",
   "execution_count": null,
   "metadata": {},
   "outputs": [],
   "source": [
    "from collections import defaultdict\n",
    "\n",
    "tree = defaultdict(list)\n",
    "current_dir = []\n",
    "\n",
    "for cmd in cmds:\n",
    "    if cmd.startswith(\"$ cd\"):\n",
    "        cmd_arg = cmd[5:]\n",
    "        if cmd_arg == \"..\":\n",
    "            current_dir.pop()\n",
    "        elif cmd_arg == \"/\":\n",
    "            current_dir = [\"/\"]\n",
    "        else:\n",
    "            current_dir.append(cmd_arg)\n",
    "        #print(cmd_arg)\n",
    "        #print(current_dir)\n",
    "    elif cmd == \"$ ls\": continue\n",
    "    else:\n",
    "        a, b = cmd.split()\n",
    "        if a == \"dir\": continue\n",
    "        else:\n",
    "            a = int(a)\n",
    "            tree[tuple(current_dir)].append((a, b))\n",
    "\n",
    "tree"
   ]
  },
  {
   "cell_type": "code",
   "execution_count": null,
   "metadata": {},
   "outputs": [],
   "source": [
    "dir_sizes = defaultdict(int)\n",
    "\n",
    "for path, files in tree.items():\n",
    "    sz = sum([file[0] for file in files])\n",
    "\n",
    "    dir_acc = []\n",
    "    for d in path:\n",
    "        dir_acc.append(d)\n",
    "        dir_sizes[tuple(dir_acc)] += sz\n",
    "\n",
    "res = sum(filter(lambda x: x <= 100000, dir_sizes.values()))\n",
    "res"
   ]
  },
  {
   "cell_type": "code",
   "execution_count": null,
   "metadata": {},
   "outputs": [],
   "source": [
    "puzzle.answer_a = res"
   ]
  },
  {
   "cell_type": "markdown",
   "metadata": {},
   "source": [
    "## Part 2"
   ]
  },
  {
   "cell_type": "code",
   "execution_count": null,
   "metadata": {},
   "outputs": [],
   "source": [
    "total_size = sum([sum([file[0] for file in files]) for files in tree.values()])\n",
    "freespace_needed = total_size - 40000000\n",
    "\n",
    "res = total_size + freespace_needed\n",
    "for d in dir_sizes.values():\n",
    "    if d >= freespace_needed:\n",
    "        res = min(res, d)\n",
    "\n",
    "res"
   ]
  },
  {
   "cell_type": "code",
   "execution_count": null,
   "metadata": {},
   "outputs": [],
   "source": [
    "puzzle.answer_b = res"
   ]
  },
  {
   "cell_type": "markdown",
   "metadata": {},
   "source": [
    "## Day 8"
   ]
  },
  {
   "cell_type": "code",
   "execution_count": null,
   "metadata": {},
   "outputs": [],
   "source": [
    "puzzle = Puzzle(year=2022, day=8)\n",
    "puzzle.input_data.split(\"\\n\")"
   ]
  },
  {
   "cell_type": "markdown",
   "metadata": {},
   "source": [
    "## Part 1"
   ]
  },
  {
   "cell_type": "code",
   "execution_count": null,
   "metadata": {},
   "outputs": [],
   "source": [
    "lines = puzzle.input_data.split(\"\\n\")\n",
    "\n",
    "grid = [[int(num) for num in line] for line in lines]\n",
    "grid[6][0]\n",
    "\n",
    "nb_visible = len(grid)*2 + (len(grid[0])-2)*2\n",
    "\n",
    "for i in range(1, len(grid)):\n",
    "    for j in range(1, len(grid[i])):\n",
    "        value = grid[i][j]\n",
    "        print(value)"
   ]
  },
  {
   "cell_type": "code",
   "execution_count": null,
   "metadata": {},
   "outputs": [],
   "source": [
    "puzzle.answer_a = res"
   ]
  },
  {
   "cell_type": "markdown",
   "metadata": {},
   "source": [
    "## Part 2"
   ]
  },
  {
   "cell_type": "code",
   "execution_count": null,
   "metadata": {},
   "outputs": [],
   "source": [
    "pass"
   ]
  },
  {
   "cell_type": "code",
   "execution_count": null,
   "metadata": {},
   "outputs": [],
   "source": [
    "puzzle.answer_b = res"
   ]
  },
  {
   "cell_type": "markdown",
   "metadata": {},
   "source": [
    "## Day 10"
   ]
  },
  {
   "cell_type": "code",
   "execution_count": 5,
   "metadata": {},
   "outputs": [
    {
     "data": {
      "text/plain": [
       "['noop',\n",
       " 'noop',\n",
       " 'addx 5',\n",
       " 'addx 3',\n",
       " 'addx -2',\n",
       " 'noop',\n",
       " 'addx 5',\n",
       " 'addx 4',\n",
       " 'noop',\n",
       " 'addx 3',\n",
       " 'noop',\n",
       " 'addx 2',\n",
       " 'addx -17',\n",
       " 'addx 18',\n",
       " 'addx 3',\n",
       " 'addx 1',\n",
       " 'noop',\n",
       " 'addx 5',\n",
       " 'noop',\n",
       " 'addx 1',\n",
       " 'addx 2',\n",
       " 'addx 5',\n",
       " 'addx -40',\n",
       " 'noop',\n",
       " 'addx 5',\n",
       " 'addx 2',\n",
       " 'addx 3',\n",
       " 'noop',\n",
       " 'addx 2',\n",
       " 'addx 3',\n",
       " 'addx -2',\n",
       " 'addx 2',\n",
       " 'addx 2',\n",
       " 'noop',\n",
       " 'addx 3',\n",
       " 'addx 5',\n",
       " 'addx 2',\n",
       " 'addx 3',\n",
       " 'addx -2',\n",
       " 'addx 2',\n",
       " 'addx -24',\n",
       " 'addx 31',\n",
       " 'addx 2',\n",
       " 'addx -33',\n",
       " 'addx -6',\n",
       " 'addx 5',\n",
       " 'addx 2',\n",
       " 'addx 3',\n",
       " 'noop',\n",
       " 'addx 2',\n",
       " 'addx 3',\n",
       " 'noop',\n",
       " 'addx 2',\n",
       " 'addx -1',\n",
       " 'addx 6',\n",
       " 'noop',\n",
       " 'noop',\n",
       " 'addx 1',\n",
       " 'addx 4',\n",
       " 'noop',\n",
       " 'noop',\n",
       " 'addx -15',\n",
       " 'addx 20',\n",
       " 'noop',\n",
       " 'addx -23',\n",
       " 'addx 27',\n",
       " 'noop',\n",
       " 'addx -35',\n",
       " 'addx 1',\n",
       " 'noop',\n",
       " 'noop',\n",
       " 'addx 5',\n",
       " 'addx 11',\n",
       " 'addx -10',\n",
       " 'addx 4',\n",
       " 'addx 1',\n",
       " 'noop',\n",
       " 'addx 2',\n",
       " 'addx 2',\n",
       " 'noop',\n",
       " 'addx 3',\n",
       " 'noop',\n",
       " 'addx 3',\n",
       " 'addx 2',\n",
       " 'noop',\n",
       " 'addx 3',\n",
       " 'addx 2',\n",
       " 'addx 11',\n",
       " 'addx -4',\n",
       " 'addx 2',\n",
       " 'addx -38',\n",
       " 'addx -1',\n",
       " 'addx 2',\n",
       " 'noop',\n",
       " 'addx 3',\n",
       " 'addx 5',\n",
       " 'addx 2',\n",
       " 'addx -7',\n",
       " 'addx 8',\n",
       " 'addx 2',\n",
       " 'addx 2',\n",
       " 'noop',\n",
       " 'addx 3',\n",
       " 'addx 5',\n",
       " 'addx 2',\n",
       " 'addx -25',\n",
       " 'addx 26',\n",
       " 'addx 2',\n",
       " 'addx 8',\n",
       " 'addx -1',\n",
       " 'addx 2',\n",
       " 'addx -2',\n",
       " 'addx -37',\n",
       " 'addx 5',\n",
       " 'addx 3',\n",
       " 'addx -1',\n",
       " 'addx 5',\n",
       " 'noop',\n",
       " 'addx 22',\n",
       " 'addx -21',\n",
       " 'addx 2',\n",
       " 'addx 5',\n",
       " 'addx 2',\n",
       " 'addx 13',\n",
       " 'addx -12',\n",
       " 'addx 4',\n",
       " 'noop',\n",
       " 'noop',\n",
       " 'addx 5',\n",
       " 'addx 1',\n",
       " 'noop',\n",
       " 'noop',\n",
       " 'addx 2',\n",
       " 'noop',\n",
       " 'addx 3',\n",
       " 'noop',\n",
       " 'noop']"
      ]
     },
     "execution_count": 5,
     "metadata": {},
     "output_type": "execute_result"
    }
   ],
   "source": [
    "puzzle = Puzzle(year=2022, day=10)\n",
    "data = puzzle.input_data.split(\"\\n\")\n",
    "data"
   ]
  },
  {
   "cell_type": "markdown",
   "metadata": {},
   "source": [
    "## Part 1"
   ]
  },
  {
   "cell_type": "code",
   "execution_count": 13,
   "metadata": {},
   "outputs": [],
   "source": [
    "test_data = [\n",
    "    \"addx 15\",\n",
    "    \"addx -11\",\n",
    "    \"addx 6\",\n",
    "    \"addx -3\",\n",
    "    \"addx 5\",\n",
    "    \"addx -1\",\n",
    "    \"addx -8\",\n",
    "    \"addx 13\",\n",
    "    \"addx 4\",\n",
    "    \"noop\",\n",
    "    \"addx -1\",\n",
    "    \"addx 5\",\n",
    "    \"addx -1\",\n",
    "    \"addx 5\",\n",
    "    \"addx -1\",\n",
    "    \"addx 5\",\n",
    "    \"addx -1\",\n",
    "    \"addx 5\",\n",
    "    \"addx -1\",\n",
    "    \"addx -35\",\n",
    "    \"addx 1\",\n",
    "    \"addx 24\",\n",
    "    \"addx -19\",\n",
    "    \"addx 1\",\n",
    "    \"addx 16\",\n",
    "    \"addx -11\",\n",
    "    \"noop\",\n",
    "    \"noop\",\n",
    "    \"addx 21\",\n",
    "    \"addx -15\",\n",
    "    \"noop\",\n",
    "    \"noop\",\n",
    "    \"addx -3\",\n",
    "    \"addx 9\",\n",
    "    \"addx 1\",\n",
    "    \"addx -3\",\n",
    "    \"addx 8\",\n",
    "    \"addx 1\",\n",
    "    \"addx 5\",\n",
    "    \"noop\",\n",
    "    \"noop\",\n",
    "    \"noop\",\n",
    "    \"noop\",\n",
    "    \"noop\",\n",
    "    \"addx -36\",\n",
    "    \"noop\",\n",
    "    \"addx 1\",\n",
    "    \"addx 7\",\n",
    "    \"noop\",\n",
    "    \"noop\",\n",
    "    \"noop\",\n",
    "    \"addx 2\",\n",
    "    \"addx 6\",\n",
    "    \"noop\",\n",
    "    \"noop\",\n",
    "    \"noop\",\n",
    "    \"noop\",\n",
    "    \"noop\",\n",
    "    \"addx 1\",\n",
    "    \"noop\",\n",
    "    \"noop\",\n",
    "    \"addx 7\",\n",
    "    \"addx 1\",\n",
    "    \"noop\",\n",
    "    \"addx -13\",\n",
    "    \"addx 13\",\n",
    "    \"addx 7\",\n",
    "    \"noop\",\n",
    "    \"addx 1\",\n",
    "    \"addx -33\",\n",
    "    \"noop\",\n",
    "    \"noop\",\n",
    "    \"noop\",\n",
    "    \"addx 2\",\n",
    "    \"noop\",\n",
    "    \"noop\",\n",
    "    \"noop\",\n",
    "    \"addx 8\",\n",
    "    \"noop\",\n",
    "    \"addx -1\",\n",
    "    \"addx 2\",\n",
    "    \"addx 1\",\n",
    "    \"noop\",\n",
    "    \"addx 17\",\n",
    "    \"addx -9\",\n",
    "    \"addx 1\",\n",
    "    \"addx 1\",\n",
    "    \"addx -3\",\n",
    "    \"addx 11\",\n",
    "    \"noop\",\n",
    "    \"noop\",\n",
    "    \"addx 1\",\n",
    "    \"noop\",\n",
    "    \"addx 1\",\n",
    "    \"noop\",\n",
    "    \"noop\",\n",
    "    \"addx -13\",\n",
    "    \"addx -19\",\n",
    "    \"addx 1\",\n",
    "    \"addx 3\",\n",
    "    \"addx 26\",\n",
    "    \"addx -30\",\n",
    "    \"addx 12\",\n",
    "    \"addx -1\",\n",
    "    \"addx 3\",\n",
    "    \"addx 1\",\n",
    "    \"noop\",\n",
    "    \"noop\",\n",
    "    \"noop\",\n",
    "    \"addx -9\",\n",
    "    \"addx 18\",\n",
    "    \"addx 1\",\n",
    "    \"addx 2\",\n",
    "    \"noop\",\n",
    "    \"noop\",\n",
    "    \"addx 9\",\n",
    "    \"noop\",\n",
    "    \"noop\",\n",
    "    \"noop\",\n",
    "    \"addx -1\",\n",
    "    \"addx 2\",\n",
    "    \"addx -37\",\n",
    "    \"addx 1\",\n",
    "    \"addx 3\",\n",
    "    \"noop\",\n",
    "    \"addx 15\",\n",
    "    \"addx -21\",\n",
    "    \"addx 22\",\n",
    "    \"addx -6\",\n",
    "    \"addx 1\",\n",
    "    \"noop\",\n",
    "    \"addx 2\",\n",
    "    \"addx 1\",\n",
    "    \"noop\",\n",
    "    \"addx -10\",\n",
    "    \"noop\",\n",
    "    \"noop\",\n",
    "    \"addx 20\",\n",
    "    \"addx 1\",\n",
    "    \"addx 2\",\n",
    "    \"addx 2\",\n",
    "    \"addx -6\",\n",
    "    \"addx -11\",\n",
    "    \"noop\",\n",
    "    \"noop\",\n",
    "    \"noop\"\n",
    "]"
   ]
  },
  {
   "cell_type": "code",
   "execution_count": 18,
   "metadata": {},
   "outputs": [
    {
     "name": "stdout",
     "output_type": "stream",
     "text": [
      "noop {1: 1}\n",
      "noop {1: 1, 2: 1}\n",
      "addx 5 {1: 1, 2: 1, 3: 1, 4: 1}\n",
      "addx 3 {1: 1, 2: 1, 3: 1, 4: 1, 5: 6, 6: 6}\n",
      "addx -2 {1: 1, 2: 1, 3: 1, 4: 1, 5: 6, 6: 6, 7: 9, 8: 9}\n",
      "noop {1: 1, 2: 1, 3: 1, 4: 1, 5: 6, 6: 6, 7: 9, 8: 9, 9: 7}\n",
      "addx 5 {1: 1, 2: 1, 3: 1, 4: 1, 5: 6, 6: 6, 7: 9, 8: 9, 9: 7, 10: 7, 11: 7}\n",
      "addx 4 {1: 1, 2: 1, 3: 1, 4: 1, 5: 6, 6: 6, 7: 9, 8: 9, 9: 7, 10: 7, 11: 7, 12: 12, 13: 12}\n",
      "noop {1: 1, 2: 1, 3: 1, 4: 1, 5: 6, 6: 6, 7: 9, 8: 9, 9: 7, 10: 7, 11: 7, 12: 12, 13: 12, 14: 16}\n",
      "addx 3 {1: 1, 2: 1, 3: 1, 4: 1, 5: 6, 6: 6, 7: 9, 8: 9, 9: 7, 10: 7, 11: 7, 12: 12, 13: 12, 14: 16, 15: 16, 16: 16}\n",
      "noop {1: 1, 2: 1, 3: 1, 4: 1, 5: 6, 6: 6, 7: 9, 8: 9, 9: 7, 10: 7, 11: 7, 12: 12, 13: 12, 14: 16, 15: 16, 16: 16, 17: 19}\n",
      "addx 2 {1: 1, 2: 1, 3: 1, 4: 1, 5: 6, 6: 6, 7: 9, 8: 9, 9: 7, 10: 7, 11: 7, 12: 12, 13: 12, 14: 16, 15: 16, 16: 16, 17: 19, 18: 19, 19: 19}\n",
      "addx -17 {1: 1, 2: 1, 3: 1, 4: 1, 5: 6, 6: 6, 7: 9, 8: 9, 9: 7, 10: 7, 11: 7, 12: 12, 13: 12, 14: 16, 15: 16, 16: 16, 17: 19, 18: 19, 19: 19, 20: 21, 21: 21}\n",
      "addx 18 {1: 1, 2: 1, 3: 1, 4: 1, 5: 6, 6: 6, 7: 9, 8: 9, 9: 7, 10: 7, 11: 7, 12: 12, 13: 12, 14: 16, 15: 16, 16: 16, 17: 19, 18: 19, 19: 19, 20: 21, 21: 21, 22: 4, 23: 4}\n",
      "addx 3 {1: 1, 2: 1, 3: 1, 4: 1, 5: 6, 6: 6, 7: 9, 8: 9, 9: 7, 10: 7, 11: 7, 12: 12, 13: 12, 14: 16, 15: 16, 16: 16, 17: 19, 18: 19, 19: 19, 20: 21, 21: 21, 22: 4, 23: 4, 24: 22, 25: 22}\n",
      "addx 1 {1: 1, 2: 1, 3: 1, 4: 1, 5: 6, 6: 6, 7: 9, 8: 9, 9: 7, 10: 7, 11: 7, 12: 12, 13: 12, 14: 16, 15: 16, 16: 16, 17: 19, 18: 19, 19: 19, 20: 21, 21: 21, 22: 4, 23: 4, 24: 22, 25: 22, 26: 25, 27: 25}\n",
      "noop {1: 1, 2: 1, 3: 1, 4: 1, 5: 6, 6: 6, 7: 9, 8: 9, 9: 7, 10: 7, 11: 7, 12: 12, 13: 12, 14: 16, 15: 16, 16: 16, 17: 19, 18: 19, 19: 19, 20: 21, 21: 21, 22: 4, 23: 4, 24: 22, 25: 22, 26: 25, 27: 25, 28: 26}\n",
      "addx 5 {1: 1, 2: 1, 3: 1, 4: 1, 5: 6, 6: 6, 7: 9, 8: 9, 9: 7, 10: 7, 11: 7, 12: 12, 13: 12, 14: 16, 15: 16, 16: 16, 17: 19, 18: 19, 19: 19, 20: 21, 21: 21, 22: 4, 23: 4, 24: 22, 25: 22, 26: 25, 27: 25, 28: 26, 29: 26, 30: 26}\n",
      "noop {1: 1, 2: 1, 3: 1, 4: 1, 5: 6, 6: 6, 7: 9, 8: 9, 9: 7, 10: 7, 11: 7, 12: 12, 13: 12, 14: 16, 15: 16, 16: 16, 17: 19, 18: 19, 19: 19, 20: 21, 21: 21, 22: 4, 23: 4, 24: 22, 25: 22, 26: 25, 27: 25, 28: 26, 29: 26, 30: 26, 31: 31}\n",
      "addx 1 {1: 1, 2: 1, 3: 1, 4: 1, 5: 6, 6: 6, 7: 9, 8: 9, 9: 7, 10: 7, 11: 7, 12: 12, 13: 12, 14: 16, 15: 16, 16: 16, 17: 19, 18: 19, 19: 19, 20: 21, 21: 21, 22: 4, 23: 4, 24: 22, 25: 22, 26: 25, 27: 25, 28: 26, 29: 26, 30: 26, 31: 31, 32: 31, 33: 31}\n",
      "addx 2 {1: 1, 2: 1, 3: 1, 4: 1, 5: 6, 6: 6, 7: 9, 8: 9, 9: 7, 10: 7, 11: 7, 12: 12, 13: 12, 14: 16, 15: 16, 16: 16, 17: 19, 18: 19, 19: 19, 20: 21, 21: 21, 22: 4, 23: 4, 24: 22, 25: 22, 26: 25, 27: 25, 28: 26, 29: 26, 30: 26, 31: 31, 32: 31, 33: 31, 34: 32, 35: 32}\n",
      "addx 5 {1: 1, 2: 1, 3: 1, 4: 1, 5: 6, 6: 6, 7: 9, 8: 9, 9: 7, 10: 7, 11: 7, 12: 12, 13: 12, 14: 16, 15: 16, 16: 16, 17: 19, 18: 19, 19: 19, 20: 21, 21: 21, 22: 4, 23: 4, 24: 22, 25: 22, 26: 25, 27: 25, 28: 26, 29: 26, 30: 26, 31: 31, 32: 31, 33: 31, 34: 32, 35: 32, 36: 34, 37: 34}\n",
      "addx -40 {1: 1, 2: 1, 3: 1, 4: 1, 5: 6, 6: 6, 7: 9, 8: 9, 9: 7, 10: 7, 11: 7, 12: 12, 13: 12, 14: 16, 15: 16, 16: 16, 17: 19, 18: 19, 19: 19, 20: 21, 21: 21, 22: 4, 23: 4, 24: 22, 25: 22, 26: 25, 27: 25, 28: 26, 29: 26, 30: 26, 31: 31, 32: 31, 33: 31, 34: 32, 35: 32, 36: 34, 37: 34, 38: 39, 39: 39}\n",
      "noop {1: 1, 2: 1, 3: 1, 4: 1, 5: 6, 6: 6, 7: 9, 8: 9, 9: 7, 10: 7, 11: 7, 12: 12, 13: 12, 14: 16, 15: 16, 16: 16, 17: 19, 18: 19, 19: 19, 20: 21, 21: 21, 22: 4, 23: 4, 24: 22, 25: 22, 26: 25, 27: 25, 28: 26, 29: 26, 30: 26, 31: 31, 32: 31, 33: 31, 34: 32, 35: 32, 36: 34, 37: 34, 38: 39, 39: 39, 40: -1}\n",
      "addx 5 {1: 1, 2: 1, 3: 1, 4: 1, 5: 6, 6: 6, 7: 9, 8: 9, 9: 7, 10: 7, 11: 7, 12: 12, 13: 12, 14: 16, 15: 16, 16: 16, 17: 19, 18: 19, 19: 19, 20: 21, 21: 21, 22: 4, 23: 4, 24: 22, 25: 22, 26: 25, 27: 25, 28: 26, 29: 26, 30: 26, 31: 31, 32: 31, 33: 31, 34: 32, 35: 32, 36: 34, 37: 34, 38: 39, 39: 39, 40: -1, 41: -1, 42: -1}\n",
      "addx 2 {1: 1, 2: 1, 3: 1, 4: 1, 5: 6, 6: 6, 7: 9, 8: 9, 9: 7, 10: 7, 11: 7, 12: 12, 13: 12, 14: 16, 15: 16, 16: 16, 17: 19, 18: 19, 19: 19, 20: 21, 21: 21, 22: 4, 23: 4, 24: 22, 25: 22, 26: 25, 27: 25, 28: 26, 29: 26, 30: 26, 31: 31, 32: 31, 33: 31, 34: 32, 35: 32, 36: 34, 37: 34, 38: 39, 39: 39, 40: -1, 41: -1, 42: -1, 43: 4, 44: 4}\n",
      "addx 3 {1: 1, 2: 1, 3: 1, 4: 1, 5: 6, 6: 6, 7: 9, 8: 9, 9: 7, 10: 7, 11: 7, 12: 12, 13: 12, 14: 16, 15: 16, 16: 16, 17: 19, 18: 19, 19: 19, 20: 21, 21: 21, 22: 4, 23: 4, 24: 22, 25: 22, 26: 25, 27: 25, 28: 26, 29: 26, 30: 26, 31: 31, 32: 31, 33: 31, 34: 32, 35: 32, 36: 34, 37: 34, 38: 39, 39: 39, 40: -1, 41: -1, 42: -1, 43: 4, 44: 4, 45: 6, 46: 6}\n",
      "noop {1: 1, 2: 1, 3: 1, 4: 1, 5: 6, 6: 6, 7: 9, 8: 9, 9: 7, 10: 7, 11: 7, 12: 12, 13: 12, 14: 16, 15: 16, 16: 16, 17: 19, 18: 19, 19: 19, 20: 21, 21: 21, 22: 4, 23: 4, 24: 22, 25: 22, 26: 25, 27: 25, 28: 26, 29: 26, 30: 26, 31: 31, 32: 31, 33: 31, 34: 32, 35: 32, 36: 34, 37: 34, 38: 39, 39: 39, 40: -1, 41: -1, 42: -1, 43: 4, 44: 4, 45: 6, 46: 6, 47: 9}\n",
      "addx 2 {1: 1, 2: 1, 3: 1, 4: 1, 5: 6, 6: 6, 7: 9, 8: 9, 9: 7, 10: 7, 11: 7, 12: 12, 13: 12, 14: 16, 15: 16, 16: 16, 17: 19, 18: 19, 19: 19, 20: 21, 21: 21, 22: 4, 23: 4, 24: 22, 25: 22, 26: 25, 27: 25, 28: 26, 29: 26, 30: 26, 31: 31, 32: 31, 33: 31, 34: 32, 35: 32, 36: 34, 37: 34, 38: 39, 39: 39, 40: -1, 41: -1, 42: -1, 43: 4, 44: 4, 45: 6, 46: 6, 47: 9, 48: 9, 49: 9}\n",
      "addx 3 {1: 1, 2: 1, 3: 1, 4: 1, 5: 6, 6: 6, 7: 9, 8: 9, 9: 7, 10: 7, 11: 7, 12: 12, 13: 12, 14: 16, 15: 16, 16: 16, 17: 19, 18: 19, 19: 19, 20: 21, 21: 21, 22: 4, 23: 4, 24: 22, 25: 22, 26: 25, 27: 25, 28: 26, 29: 26, 30: 26, 31: 31, 32: 31, 33: 31, 34: 32, 35: 32, 36: 34, 37: 34, 38: 39, 39: 39, 40: -1, 41: -1, 42: -1, 43: 4, 44: 4, 45: 6, 46: 6, 47: 9, 48: 9, 49: 9, 50: 11, 51: 11}\n",
      "addx -2 {1: 1, 2: 1, 3: 1, 4: 1, 5: 6, 6: 6, 7: 9, 8: 9, 9: 7, 10: 7, 11: 7, 12: 12, 13: 12, 14: 16, 15: 16, 16: 16, 17: 19, 18: 19, 19: 19, 20: 21, 21: 21, 22: 4, 23: 4, 24: 22, 25: 22, 26: 25, 27: 25, 28: 26, 29: 26, 30: 26, 31: 31, 32: 31, 33: 31, 34: 32, 35: 32, 36: 34, 37: 34, 38: 39, 39: 39, 40: -1, 41: -1, 42: -1, 43: 4, 44: 4, 45: 6, 46: 6, 47: 9, 48: 9, 49: 9, 50: 11, 51: 11, 52: 14, 53: 14}\n",
      "addx 2 {1: 1, 2: 1, 3: 1, 4: 1, 5: 6, 6: 6, 7: 9, 8: 9, 9: 7, 10: 7, 11: 7, 12: 12, 13: 12, 14: 16, 15: 16, 16: 16, 17: 19, 18: 19, 19: 19, 20: 21, 21: 21, 22: 4, 23: 4, 24: 22, 25: 22, 26: 25, 27: 25, 28: 26, 29: 26, 30: 26, 31: 31, 32: 31, 33: 31, 34: 32, 35: 32, 36: 34, 37: 34, 38: 39, 39: 39, 40: -1, 41: -1, 42: -1, 43: 4, 44: 4, 45: 6, 46: 6, 47: 9, 48: 9, 49: 9, 50: 11, 51: 11, 52: 14, 53: 14, 54: 12, 55: 12}\n",
      "addx 2 {1: 1, 2: 1, 3: 1, 4: 1, 5: 6, 6: 6, 7: 9, 8: 9, 9: 7, 10: 7, 11: 7, 12: 12, 13: 12, 14: 16, 15: 16, 16: 16, 17: 19, 18: 19, 19: 19, 20: 21, 21: 21, 22: 4, 23: 4, 24: 22, 25: 22, 26: 25, 27: 25, 28: 26, 29: 26, 30: 26, 31: 31, 32: 31, 33: 31, 34: 32, 35: 32, 36: 34, 37: 34, 38: 39, 39: 39, 40: -1, 41: -1, 42: -1, 43: 4, 44: 4, 45: 6, 46: 6, 47: 9, 48: 9, 49: 9, 50: 11, 51: 11, 52: 14, 53: 14, 54: 12, 55: 12, 56: 14, 57: 14}\n",
      "noop {1: 1, 2: 1, 3: 1, 4: 1, 5: 6, 6: 6, 7: 9, 8: 9, 9: 7, 10: 7, 11: 7, 12: 12, 13: 12, 14: 16, 15: 16, 16: 16, 17: 19, 18: 19, 19: 19, 20: 21, 21: 21, 22: 4, 23: 4, 24: 22, 25: 22, 26: 25, 27: 25, 28: 26, 29: 26, 30: 26, 31: 31, 32: 31, 33: 31, 34: 32, 35: 32, 36: 34, 37: 34, 38: 39, 39: 39, 40: -1, 41: -1, 42: -1, 43: 4, 44: 4, 45: 6, 46: 6, 47: 9, 48: 9, 49: 9, 50: 11, 51: 11, 52: 14, 53: 14, 54: 12, 55: 12, 56: 14, 57: 14, 58: 16}\n",
      "addx 3 {1: 1, 2: 1, 3: 1, 4: 1, 5: 6, 6: 6, 7: 9, 8: 9, 9: 7, 10: 7, 11: 7, 12: 12, 13: 12, 14: 16, 15: 16, 16: 16, 17: 19, 18: 19, 19: 19, 20: 21, 21: 21, 22: 4, 23: 4, 24: 22, 25: 22, 26: 25, 27: 25, 28: 26, 29: 26, 30: 26, 31: 31, 32: 31, 33: 31, 34: 32, 35: 32, 36: 34, 37: 34, 38: 39, 39: 39, 40: -1, 41: -1, 42: -1, 43: 4, 44: 4, 45: 6, 46: 6, 47: 9, 48: 9, 49: 9, 50: 11, 51: 11, 52: 14, 53: 14, 54: 12, 55: 12, 56: 14, 57: 14, 58: 16, 59: 16, 60: 16}\n",
      "addx 5 {1: 1, 2: 1, 3: 1, 4: 1, 5: 6, 6: 6, 7: 9, 8: 9, 9: 7, 10: 7, 11: 7, 12: 12, 13: 12, 14: 16, 15: 16, 16: 16, 17: 19, 18: 19, 19: 19, 20: 21, 21: 21, 22: 4, 23: 4, 24: 22, 25: 22, 26: 25, 27: 25, 28: 26, 29: 26, 30: 26, 31: 31, 32: 31, 33: 31, 34: 32, 35: 32, 36: 34, 37: 34, 38: 39, 39: 39, 40: -1, 41: -1, 42: -1, 43: 4, 44: 4, 45: 6, 46: 6, 47: 9, 48: 9, 49: 9, 50: 11, 51: 11, 52: 14, 53: 14, 54: 12, 55: 12, 56: 14, 57: 14, 58: 16, 59: 16, 60: 16, 61: 19, 62: 19}\n",
      "addx 2 {1: 1, 2: 1, 3: 1, 4: 1, 5: 6, 6: 6, 7: 9, 8: 9, 9: 7, 10: 7, 11: 7, 12: 12, 13: 12, 14: 16, 15: 16, 16: 16, 17: 19, 18: 19, 19: 19, 20: 21, 21: 21, 22: 4, 23: 4, 24: 22, 25: 22, 26: 25, 27: 25, 28: 26, 29: 26, 30: 26, 31: 31, 32: 31, 33: 31, 34: 32, 35: 32, 36: 34, 37: 34, 38: 39, 39: 39, 40: -1, 41: -1, 42: -1, 43: 4, 44: 4, 45: 6, 46: 6, 47: 9, 48: 9, 49: 9, 50: 11, 51: 11, 52: 14, 53: 14, 54: 12, 55: 12, 56: 14, 57: 14, 58: 16, 59: 16, 60: 16, 61: 19, 62: 19, 63: 24, 64: 24}\n",
      "addx 3 {1: 1, 2: 1, 3: 1, 4: 1, 5: 6, 6: 6, 7: 9, 8: 9, 9: 7, 10: 7, 11: 7, 12: 12, 13: 12, 14: 16, 15: 16, 16: 16, 17: 19, 18: 19, 19: 19, 20: 21, 21: 21, 22: 4, 23: 4, 24: 22, 25: 22, 26: 25, 27: 25, 28: 26, 29: 26, 30: 26, 31: 31, 32: 31, 33: 31, 34: 32, 35: 32, 36: 34, 37: 34, 38: 39, 39: 39, 40: -1, 41: -1, 42: -1, 43: 4, 44: 4, 45: 6, 46: 6, 47: 9, 48: 9, 49: 9, 50: 11, 51: 11, 52: 14, 53: 14, 54: 12, 55: 12, 56: 14, 57: 14, 58: 16, 59: 16, 60: 16, 61: 19, 62: 19, 63: 24, 64: 24, 65: 26, 66: 26}\n",
      "addx -2 {1: 1, 2: 1, 3: 1, 4: 1, 5: 6, 6: 6, 7: 9, 8: 9, 9: 7, 10: 7, 11: 7, 12: 12, 13: 12, 14: 16, 15: 16, 16: 16, 17: 19, 18: 19, 19: 19, 20: 21, 21: 21, 22: 4, 23: 4, 24: 22, 25: 22, 26: 25, 27: 25, 28: 26, 29: 26, 30: 26, 31: 31, 32: 31, 33: 31, 34: 32, 35: 32, 36: 34, 37: 34, 38: 39, 39: 39, 40: -1, 41: -1, 42: -1, 43: 4, 44: 4, 45: 6, 46: 6, 47: 9, 48: 9, 49: 9, 50: 11, 51: 11, 52: 14, 53: 14, 54: 12, 55: 12, 56: 14, 57: 14, 58: 16, 59: 16, 60: 16, 61: 19, 62: 19, 63: 24, 64: 24, 65: 26, 66: 26, 67: 29, 68: 29}\n",
      "addx 2 {1: 1, 2: 1, 3: 1, 4: 1, 5: 6, 6: 6, 7: 9, 8: 9, 9: 7, 10: 7, 11: 7, 12: 12, 13: 12, 14: 16, 15: 16, 16: 16, 17: 19, 18: 19, 19: 19, 20: 21, 21: 21, 22: 4, 23: 4, 24: 22, 25: 22, 26: 25, 27: 25, 28: 26, 29: 26, 30: 26, 31: 31, 32: 31, 33: 31, 34: 32, 35: 32, 36: 34, 37: 34, 38: 39, 39: 39, 40: -1, 41: -1, 42: -1, 43: 4, 44: 4, 45: 6, 46: 6, 47: 9, 48: 9, 49: 9, 50: 11, 51: 11, 52: 14, 53: 14, 54: 12, 55: 12, 56: 14, 57: 14, 58: 16, 59: 16, 60: 16, 61: 19, 62: 19, 63: 24, 64: 24, 65: 26, 66: 26, 67: 29, 68: 29, 69: 27, 70: 27}\n",
      "addx -24 {1: 1, 2: 1, 3: 1, 4: 1, 5: 6, 6: 6, 7: 9, 8: 9, 9: 7, 10: 7, 11: 7, 12: 12, 13: 12, 14: 16, 15: 16, 16: 16, 17: 19, 18: 19, 19: 19, 20: 21, 21: 21, 22: 4, 23: 4, 24: 22, 25: 22, 26: 25, 27: 25, 28: 26, 29: 26, 30: 26, 31: 31, 32: 31, 33: 31, 34: 32, 35: 32, 36: 34, 37: 34, 38: 39, 39: 39, 40: -1, 41: -1, 42: -1, 43: 4, 44: 4, 45: 6, 46: 6, 47: 9, 48: 9, 49: 9, 50: 11, 51: 11, 52: 14, 53: 14, 54: 12, 55: 12, 56: 14, 57: 14, 58: 16, 59: 16, 60: 16, 61: 19, 62: 19, 63: 24, 64: 24, 65: 26, 66: 26, 67: 29, 68: 29, 69: 27, 70: 27, 71: 29, 72: 29}\n",
      "addx 31 {1: 1, 2: 1, 3: 1, 4: 1, 5: 6, 6: 6, 7: 9, 8: 9, 9: 7, 10: 7, 11: 7, 12: 12, 13: 12, 14: 16, 15: 16, 16: 16, 17: 19, 18: 19, 19: 19, 20: 21, 21: 21, 22: 4, 23: 4, 24: 22, 25: 22, 26: 25, 27: 25, 28: 26, 29: 26, 30: 26, 31: 31, 32: 31, 33: 31, 34: 32, 35: 32, 36: 34, 37: 34, 38: 39, 39: 39, 40: -1, 41: -1, 42: -1, 43: 4, 44: 4, 45: 6, 46: 6, 47: 9, 48: 9, 49: 9, 50: 11, 51: 11, 52: 14, 53: 14, 54: 12, 55: 12, 56: 14, 57: 14, 58: 16, 59: 16, 60: 16, 61: 19, 62: 19, 63: 24, 64: 24, 65: 26, 66: 26, 67: 29, 68: 29, 69: 27, 70: 27, 71: 29, 72: 29, 73: 5, 74: 5}\n",
      "addx 2 {1: 1, 2: 1, 3: 1, 4: 1, 5: 6, 6: 6, 7: 9, 8: 9, 9: 7, 10: 7, 11: 7, 12: 12, 13: 12, 14: 16, 15: 16, 16: 16, 17: 19, 18: 19, 19: 19, 20: 21, 21: 21, 22: 4, 23: 4, 24: 22, 25: 22, 26: 25, 27: 25, 28: 26, 29: 26, 30: 26, 31: 31, 32: 31, 33: 31, 34: 32, 35: 32, 36: 34, 37: 34, 38: 39, 39: 39, 40: -1, 41: -1, 42: -1, 43: 4, 44: 4, 45: 6, 46: 6, 47: 9, 48: 9, 49: 9, 50: 11, 51: 11, 52: 14, 53: 14, 54: 12, 55: 12, 56: 14, 57: 14, 58: 16, 59: 16, 60: 16, 61: 19, 62: 19, 63: 24, 64: 24, 65: 26, 66: 26, 67: 29, 68: 29, 69: 27, 70: 27, 71: 29, 72: 29, 73: 5, 74: 5, 75: 36, 76: 36}\n",
      "addx -33 {1: 1, 2: 1, 3: 1, 4: 1, 5: 6, 6: 6, 7: 9, 8: 9, 9: 7, 10: 7, 11: 7, 12: 12, 13: 12, 14: 16, 15: 16, 16: 16, 17: 19, 18: 19, 19: 19, 20: 21, 21: 21, 22: 4, 23: 4, 24: 22, 25: 22, 26: 25, 27: 25, 28: 26, 29: 26, 30: 26, 31: 31, 32: 31, 33: 31, 34: 32, 35: 32, 36: 34, 37: 34, 38: 39, 39: 39, 40: -1, 41: -1, 42: -1, 43: 4, 44: 4, 45: 6, 46: 6, 47: 9, 48: 9, 49: 9, 50: 11, 51: 11, 52: 14, 53: 14, 54: 12, 55: 12, 56: 14, 57: 14, 58: 16, 59: 16, 60: 16, 61: 19, 62: 19, 63: 24, 64: 24, 65: 26, 66: 26, 67: 29, 68: 29, 69: 27, 70: 27, 71: 29, 72: 29, 73: 5, 74: 5, 75: 36, 76: 36, 77: 38, 78: 38}\n",
      "addx -6 {1: 1, 2: 1, 3: 1, 4: 1, 5: 6, 6: 6, 7: 9, 8: 9, 9: 7, 10: 7, 11: 7, 12: 12, 13: 12, 14: 16, 15: 16, 16: 16, 17: 19, 18: 19, 19: 19, 20: 21, 21: 21, 22: 4, 23: 4, 24: 22, 25: 22, 26: 25, 27: 25, 28: 26, 29: 26, 30: 26, 31: 31, 32: 31, 33: 31, 34: 32, 35: 32, 36: 34, 37: 34, 38: 39, 39: 39, 40: -1, 41: -1, 42: -1, 43: 4, 44: 4, 45: 6, 46: 6, 47: 9, 48: 9, 49: 9, 50: 11, 51: 11, 52: 14, 53: 14, 54: 12, 55: 12, 56: 14, 57: 14, 58: 16, 59: 16, 60: 16, 61: 19, 62: 19, 63: 24, 64: 24, 65: 26, 66: 26, 67: 29, 68: 29, 69: 27, 70: 27, 71: 29, 72: 29, 73: 5, 74: 5, 75: 36, 76: 36, 77: 38, 78: 38, 79: 5, 80: 5}\n",
      "addx 5 {1: 1, 2: 1, 3: 1, 4: 1, 5: 6, 6: 6, 7: 9, 8: 9, 9: 7, 10: 7, 11: 7, 12: 12, 13: 12, 14: 16, 15: 16, 16: 16, 17: 19, 18: 19, 19: 19, 20: 21, 21: 21, 22: 4, 23: 4, 24: 22, 25: 22, 26: 25, 27: 25, 28: 26, 29: 26, 30: 26, 31: 31, 32: 31, 33: 31, 34: 32, 35: 32, 36: 34, 37: 34, 38: 39, 39: 39, 40: -1, 41: -1, 42: -1, 43: 4, 44: 4, 45: 6, 46: 6, 47: 9, 48: 9, 49: 9, 50: 11, 51: 11, 52: 14, 53: 14, 54: 12, 55: 12, 56: 14, 57: 14, 58: 16, 59: 16, 60: 16, 61: 19, 62: 19, 63: 24, 64: 24, 65: 26, 66: 26, 67: 29, 68: 29, 69: 27, 70: 27, 71: 29, 72: 29, 73: 5, 74: 5, 75: 36, 76: 36, 77: 38, 78: 38, 79: 5, 80: 5, 81: -1, 82: -1}\n",
      "addx 2 {1: 1, 2: 1, 3: 1, 4: 1, 5: 6, 6: 6, 7: 9, 8: 9, 9: 7, 10: 7, 11: 7, 12: 12, 13: 12, 14: 16, 15: 16, 16: 16, 17: 19, 18: 19, 19: 19, 20: 21, 21: 21, 22: 4, 23: 4, 24: 22, 25: 22, 26: 25, 27: 25, 28: 26, 29: 26, 30: 26, 31: 31, 32: 31, 33: 31, 34: 32, 35: 32, 36: 34, 37: 34, 38: 39, 39: 39, 40: -1, 41: -1, 42: -1, 43: 4, 44: 4, 45: 6, 46: 6, 47: 9, 48: 9, 49: 9, 50: 11, 51: 11, 52: 14, 53: 14, 54: 12, 55: 12, 56: 14, 57: 14, 58: 16, 59: 16, 60: 16, 61: 19, 62: 19, 63: 24, 64: 24, 65: 26, 66: 26, 67: 29, 68: 29, 69: 27, 70: 27, 71: 29, 72: 29, 73: 5, 74: 5, 75: 36, 76: 36, 77: 38, 78: 38, 79: 5, 80: 5, 81: -1, 82: -1, 83: 4, 84: 4}\n",
      "addx 3 {1: 1, 2: 1, 3: 1, 4: 1, 5: 6, 6: 6, 7: 9, 8: 9, 9: 7, 10: 7, 11: 7, 12: 12, 13: 12, 14: 16, 15: 16, 16: 16, 17: 19, 18: 19, 19: 19, 20: 21, 21: 21, 22: 4, 23: 4, 24: 22, 25: 22, 26: 25, 27: 25, 28: 26, 29: 26, 30: 26, 31: 31, 32: 31, 33: 31, 34: 32, 35: 32, 36: 34, 37: 34, 38: 39, 39: 39, 40: -1, 41: -1, 42: -1, 43: 4, 44: 4, 45: 6, 46: 6, 47: 9, 48: 9, 49: 9, 50: 11, 51: 11, 52: 14, 53: 14, 54: 12, 55: 12, 56: 14, 57: 14, 58: 16, 59: 16, 60: 16, 61: 19, 62: 19, 63: 24, 64: 24, 65: 26, 66: 26, 67: 29, 68: 29, 69: 27, 70: 27, 71: 29, 72: 29, 73: 5, 74: 5, 75: 36, 76: 36, 77: 38, 78: 38, 79: 5, 80: 5, 81: -1, 82: -1, 83: 4, 84: 4, 85: 6, 86: 6}\n",
      "noop {1: 1, 2: 1, 3: 1, 4: 1, 5: 6, 6: 6, 7: 9, 8: 9, 9: 7, 10: 7, 11: 7, 12: 12, 13: 12, 14: 16, 15: 16, 16: 16, 17: 19, 18: 19, 19: 19, 20: 21, 21: 21, 22: 4, 23: 4, 24: 22, 25: 22, 26: 25, 27: 25, 28: 26, 29: 26, 30: 26, 31: 31, 32: 31, 33: 31, 34: 32, 35: 32, 36: 34, 37: 34, 38: 39, 39: 39, 40: -1, 41: -1, 42: -1, 43: 4, 44: 4, 45: 6, 46: 6, 47: 9, 48: 9, 49: 9, 50: 11, 51: 11, 52: 14, 53: 14, 54: 12, 55: 12, 56: 14, 57: 14, 58: 16, 59: 16, 60: 16, 61: 19, 62: 19, 63: 24, 64: 24, 65: 26, 66: 26, 67: 29, 68: 29, 69: 27, 70: 27, 71: 29, 72: 29, 73: 5, 74: 5, 75: 36, 76: 36, 77: 38, 78: 38, 79: 5, 80: 5, 81: -1, 82: -1, 83: 4, 84: 4, 85: 6, 86: 6, 87: 9}\n",
      "addx 2 {1: 1, 2: 1, 3: 1, 4: 1, 5: 6, 6: 6, 7: 9, 8: 9, 9: 7, 10: 7, 11: 7, 12: 12, 13: 12, 14: 16, 15: 16, 16: 16, 17: 19, 18: 19, 19: 19, 20: 21, 21: 21, 22: 4, 23: 4, 24: 22, 25: 22, 26: 25, 27: 25, 28: 26, 29: 26, 30: 26, 31: 31, 32: 31, 33: 31, 34: 32, 35: 32, 36: 34, 37: 34, 38: 39, 39: 39, 40: -1, 41: -1, 42: -1, 43: 4, 44: 4, 45: 6, 46: 6, 47: 9, 48: 9, 49: 9, 50: 11, 51: 11, 52: 14, 53: 14, 54: 12, 55: 12, 56: 14, 57: 14, 58: 16, 59: 16, 60: 16, 61: 19, 62: 19, 63: 24, 64: 24, 65: 26, 66: 26, 67: 29, 68: 29, 69: 27, 70: 27, 71: 29, 72: 29, 73: 5, 74: 5, 75: 36, 76: 36, 77: 38, 78: 38, 79: 5, 80: 5, 81: -1, 82: -1, 83: 4, 84: 4, 85: 6, 86: 6, 87: 9, 88: 9, 89: 9}\n",
      "addx 3 {1: 1, 2: 1, 3: 1, 4: 1, 5: 6, 6: 6, 7: 9, 8: 9, 9: 7, 10: 7, 11: 7, 12: 12, 13: 12, 14: 16, 15: 16, 16: 16, 17: 19, 18: 19, 19: 19, 20: 21, 21: 21, 22: 4, 23: 4, 24: 22, 25: 22, 26: 25, 27: 25, 28: 26, 29: 26, 30: 26, 31: 31, 32: 31, 33: 31, 34: 32, 35: 32, 36: 34, 37: 34, 38: 39, 39: 39, 40: -1, 41: -1, 42: -1, 43: 4, 44: 4, 45: 6, 46: 6, 47: 9, 48: 9, 49: 9, 50: 11, 51: 11, 52: 14, 53: 14, 54: 12, 55: 12, 56: 14, 57: 14, 58: 16, 59: 16, 60: 16, 61: 19, 62: 19, 63: 24, 64: 24, 65: 26, 66: 26, 67: 29, 68: 29, 69: 27, 70: 27, 71: 29, 72: 29, 73: 5, 74: 5, 75: 36, 76: 36, 77: 38, 78: 38, 79: 5, 80: 5, 81: -1, 82: -1, 83: 4, 84: 4, 85: 6, 86: 6, 87: 9, 88: 9, 89: 9, 90: 11, 91: 11}\n",
      "noop {1: 1, 2: 1, 3: 1, 4: 1, 5: 6, 6: 6, 7: 9, 8: 9, 9: 7, 10: 7, 11: 7, 12: 12, 13: 12, 14: 16, 15: 16, 16: 16, 17: 19, 18: 19, 19: 19, 20: 21, 21: 21, 22: 4, 23: 4, 24: 22, 25: 22, 26: 25, 27: 25, 28: 26, 29: 26, 30: 26, 31: 31, 32: 31, 33: 31, 34: 32, 35: 32, 36: 34, 37: 34, 38: 39, 39: 39, 40: -1, 41: -1, 42: -1, 43: 4, 44: 4, 45: 6, 46: 6, 47: 9, 48: 9, 49: 9, 50: 11, 51: 11, 52: 14, 53: 14, 54: 12, 55: 12, 56: 14, 57: 14, 58: 16, 59: 16, 60: 16, 61: 19, 62: 19, 63: 24, 64: 24, 65: 26, 66: 26, 67: 29, 68: 29, 69: 27, 70: 27, 71: 29, 72: 29, 73: 5, 74: 5, 75: 36, 76: 36, 77: 38, 78: 38, 79: 5, 80: 5, 81: -1, 82: -1, 83: 4, 84: 4, 85: 6, 86: 6, 87: 9, 88: 9, 89: 9, 90: 11, 91: 11, 92: 14}\n",
      "addx 2 {1: 1, 2: 1, 3: 1, 4: 1, 5: 6, 6: 6, 7: 9, 8: 9, 9: 7, 10: 7, 11: 7, 12: 12, 13: 12, 14: 16, 15: 16, 16: 16, 17: 19, 18: 19, 19: 19, 20: 21, 21: 21, 22: 4, 23: 4, 24: 22, 25: 22, 26: 25, 27: 25, 28: 26, 29: 26, 30: 26, 31: 31, 32: 31, 33: 31, 34: 32, 35: 32, 36: 34, 37: 34, 38: 39, 39: 39, 40: -1, 41: -1, 42: -1, 43: 4, 44: 4, 45: 6, 46: 6, 47: 9, 48: 9, 49: 9, 50: 11, 51: 11, 52: 14, 53: 14, 54: 12, 55: 12, 56: 14, 57: 14, 58: 16, 59: 16, 60: 16, 61: 19, 62: 19, 63: 24, 64: 24, 65: 26, 66: 26, 67: 29, 68: 29, 69: 27, 70: 27, 71: 29, 72: 29, 73: 5, 74: 5, 75: 36, 76: 36, 77: 38, 78: 38, 79: 5, 80: 5, 81: -1, 82: -1, 83: 4, 84: 4, 85: 6, 86: 6, 87: 9, 88: 9, 89: 9, 90: 11, 91: 11, 92: 14, 93: 14, 94: 14}\n",
      "addx -1 {1: 1, 2: 1, 3: 1, 4: 1, 5: 6, 6: 6, 7: 9, 8: 9, 9: 7, 10: 7, 11: 7, 12: 12, 13: 12, 14: 16, 15: 16, 16: 16, 17: 19, 18: 19, 19: 19, 20: 21, 21: 21, 22: 4, 23: 4, 24: 22, 25: 22, 26: 25, 27: 25, 28: 26, 29: 26, 30: 26, 31: 31, 32: 31, 33: 31, 34: 32, 35: 32, 36: 34, 37: 34, 38: 39, 39: 39, 40: -1, 41: -1, 42: -1, 43: 4, 44: 4, 45: 6, 46: 6, 47: 9, 48: 9, 49: 9, 50: 11, 51: 11, 52: 14, 53: 14, 54: 12, 55: 12, 56: 14, 57: 14, 58: 16, 59: 16, 60: 16, 61: 19, 62: 19, 63: 24, 64: 24, 65: 26, 66: 26, 67: 29, 68: 29, 69: 27, 70: 27, 71: 29, 72: 29, 73: 5, 74: 5, 75: 36, 76: 36, 77: 38, 78: 38, 79: 5, 80: 5, 81: -1, 82: -1, 83: 4, 84: 4, 85: 6, 86: 6, 87: 9, 88: 9, 89: 9, 90: 11, 91: 11, 92: 14, 93: 14, 94: 14, 95: 16, 96: 16}\n",
      "addx 6 {1: 1, 2: 1, 3: 1, 4: 1, 5: 6, 6: 6, 7: 9, 8: 9, 9: 7, 10: 7, 11: 7, 12: 12, 13: 12, 14: 16, 15: 16, 16: 16, 17: 19, 18: 19, 19: 19, 20: 21, 21: 21, 22: 4, 23: 4, 24: 22, 25: 22, 26: 25, 27: 25, 28: 26, 29: 26, 30: 26, 31: 31, 32: 31, 33: 31, 34: 32, 35: 32, 36: 34, 37: 34, 38: 39, 39: 39, 40: -1, 41: -1, 42: -1, 43: 4, 44: 4, 45: 6, 46: 6, 47: 9, 48: 9, 49: 9, 50: 11, 51: 11, 52: 14, 53: 14, 54: 12, 55: 12, 56: 14, 57: 14, 58: 16, 59: 16, 60: 16, 61: 19, 62: 19, 63: 24, 64: 24, 65: 26, 66: 26, 67: 29, 68: 29, 69: 27, 70: 27, 71: 29, 72: 29, 73: 5, 74: 5, 75: 36, 76: 36, 77: 38, 78: 38, 79: 5, 80: 5, 81: -1, 82: -1, 83: 4, 84: 4, 85: 6, 86: 6, 87: 9, 88: 9, 89: 9, 90: 11, 91: 11, 92: 14, 93: 14, 94: 14, 95: 16, 96: 16, 97: 15, 98: 15}\n",
      "noop {1: 1, 2: 1, 3: 1, 4: 1, 5: 6, 6: 6, 7: 9, 8: 9, 9: 7, 10: 7, 11: 7, 12: 12, 13: 12, 14: 16, 15: 16, 16: 16, 17: 19, 18: 19, 19: 19, 20: 21, 21: 21, 22: 4, 23: 4, 24: 22, 25: 22, 26: 25, 27: 25, 28: 26, 29: 26, 30: 26, 31: 31, 32: 31, 33: 31, 34: 32, 35: 32, 36: 34, 37: 34, 38: 39, 39: 39, 40: -1, 41: -1, 42: -1, 43: 4, 44: 4, 45: 6, 46: 6, 47: 9, 48: 9, 49: 9, 50: 11, 51: 11, 52: 14, 53: 14, 54: 12, 55: 12, 56: 14, 57: 14, 58: 16, 59: 16, 60: 16, 61: 19, 62: 19, 63: 24, 64: 24, 65: 26, 66: 26, 67: 29, 68: 29, 69: 27, 70: 27, 71: 29, 72: 29, 73: 5, 74: 5, 75: 36, 76: 36, 77: 38, 78: 38, 79: 5, 80: 5, 81: -1, 82: -1, 83: 4, 84: 4, 85: 6, 86: 6, 87: 9, 88: 9, 89: 9, 90: 11, 91: 11, 92: 14, 93: 14, 94: 14, 95: 16, 96: 16, 97: 15, 98: 15, 99: 21}\n",
      "noop {1: 1, 2: 1, 3: 1, 4: 1, 5: 6, 6: 6, 7: 9, 8: 9, 9: 7, 10: 7, 11: 7, 12: 12, 13: 12, 14: 16, 15: 16, 16: 16, 17: 19, 18: 19, 19: 19, 20: 21, 21: 21, 22: 4, 23: 4, 24: 22, 25: 22, 26: 25, 27: 25, 28: 26, 29: 26, 30: 26, 31: 31, 32: 31, 33: 31, 34: 32, 35: 32, 36: 34, 37: 34, 38: 39, 39: 39, 40: -1, 41: -1, 42: -1, 43: 4, 44: 4, 45: 6, 46: 6, 47: 9, 48: 9, 49: 9, 50: 11, 51: 11, 52: 14, 53: 14, 54: 12, 55: 12, 56: 14, 57: 14, 58: 16, 59: 16, 60: 16, 61: 19, 62: 19, 63: 24, 64: 24, 65: 26, 66: 26, 67: 29, 68: 29, 69: 27, 70: 27, 71: 29, 72: 29, 73: 5, 74: 5, 75: 36, 76: 36, 77: 38, 78: 38, 79: 5, 80: 5, 81: -1, 82: -1, 83: 4, 84: 4, 85: 6, 86: 6, 87: 9, 88: 9, 89: 9, 90: 11, 91: 11, 92: 14, 93: 14, 94: 14, 95: 16, 96: 16, 97: 15, 98: 15, 99: 21, 100: 21}\n",
      "addx 1 {1: 1, 2: 1, 3: 1, 4: 1, 5: 6, 6: 6, 7: 9, 8: 9, 9: 7, 10: 7, 11: 7, 12: 12, 13: 12, 14: 16, 15: 16, 16: 16, 17: 19, 18: 19, 19: 19, 20: 21, 21: 21, 22: 4, 23: 4, 24: 22, 25: 22, 26: 25, 27: 25, 28: 26, 29: 26, 30: 26, 31: 31, 32: 31, 33: 31, 34: 32, 35: 32, 36: 34, 37: 34, 38: 39, 39: 39, 40: -1, 41: -1, 42: -1, 43: 4, 44: 4, 45: 6, 46: 6, 47: 9, 48: 9, 49: 9, 50: 11, 51: 11, 52: 14, 53: 14, 54: 12, 55: 12, 56: 14, 57: 14, 58: 16, 59: 16, 60: 16, 61: 19, 62: 19, 63: 24, 64: 24, 65: 26, 66: 26, 67: 29, 68: 29, 69: 27, 70: 27, 71: 29, 72: 29, 73: 5, 74: 5, 75: 36, 76: 36, 77: 38, 78: 38, 79: 5, 80: 5, 81: -1, 82: -1, 83: 4, 84: 4, 85: 6, 86: 6, 87: 9, 88: 9, 89: 9, 90: 11, 91: 11, 92: 14, 93: 14, 94: 14, 95: 16, 96: 16, 97: 15, 98: 15, 99: 21, 100: 21, 101: 21, 102: 21}\n",
      "addx 4 {1: 1, 2: 1, 3: 1, 4: 1, 5: 6, 6: 6, 7: 9, 8: 9, 9: 7, 10: 7, 11: 7, 12: 12, 13: 12, 14: 16, 15: 16, 16: 16, 17: 19, 18: 19, 19: 19, 20: 21, 21: 21, 22: 4, 23: 4, 24: 22, 25: 22, 26: 25, 27: 25, 28: 26, 29: 26, 30: 26, 31: 31, 32: 31, 33: 31, 34: 32, 35: 32, 36: 34, 37: 34, 38: 39, 39: 39, 40: -1, 41: -1, 42: -1, 43: 4, 44: 4, 45: 6, 46: 6, 47: 9, 48: 9, 49: 9, 50: 11, 51: 11, 52: 14, 53: 14, 54: 12, 55: 12, 56: 14, 57: 14, 58: 16, 59: 16, 60: 16, 61: 19, 62: 19, 63: 24, 64: 24, 65: 26, 66: 26, 67: 29, 68: 29, 69: 27, 70: 27, 71: 29, 72: 29, 73: 5, 74: 5, 75: 36, 76: 36, 77: 38, 78: 38, 79: 5, 80: 5, 81: -1, 82: -1, 83: 4, 84: 4, 85: 6, 86: 6, 87: 9, 88: 9, 89: 9, 90: 11, 91: 11, 92: 14, 93: 14, 94: 14, 95: 16, 96: 16, 97: 15, 98: 15, 99: 21, 100: 21, 101: 21, 102: 21, 103: 22, 104: 22}\n",
      "noop {1: 1, 2: 1, 3: 1, 4: 1, 5: 6, 6: 6, 7: 9, 8: 9, 9: 7, 10: 7, 11: 7, 12: 12, 13: 12, 14: 16, 15: 16, 16: 16, 17: 19, 18: 19, 19: 19, 20: 21, 21: 21, 22: 4, 23: 4, 24: 22, 25: 22, 26: 25, 27: 25, 28: 26, 29: 26, 30: 26, 31: 31, 32: 31, 33: 31, 34: 32, 35: 32, 36: 34, 37: 34, 38: 39, 39: 39, 40: -1, 41: -1, 42: -1, 43: 4, 44: 4, 45: 6, 46: 6, 47: 9, 48: 9, 49: 9, 50: 11, 51: 11, 52: 14, 53: 14, 54: 12, 55: 12, 56: 14, 57: 14, 58: 16, 59: 16, 60: 16, 61: 19, 62: 19, 63: 24, 64: 24, 65: 26, 66: 26, 67: 29, 68: 29, 69: 27, 70: 27, 71: 29, 72: 29, 73: 5, 74: 5, 75: 36, 76: 36, 77: 38, 78: 38, 79: 5, 80: 5, 81: -1, 82: -1, 83: 4, 84: 4, 85: 6, 86: 6, 87: 9, 88: 9, 89: 9, 90: 11, 91: 11, 92: 14, 93: 14, 94: 14, 95: 16, 96: 16, 97: 15, 98: 15, 99: 21, 100: 21, 101: 21, 102: 21, 103: 22, 104: 22, 105: 26}\n",
      "noop {1: 1, 2: 1, 3: 1, 4: 1, 5: 6, 6: 6, 7: 9, 8: 9, 9: 7, 10: 7, 11: 7, 12: 12, 13: 12, 14: 16, 15: 16, 16: 16, 17: 19, 18: 19, 19: 19, 20: 21, 21: 21, 22: 4, 23: 4, 24: 22, 25: 22, 26: 25, 27: 25, 28: 26, 29: 26, 30: 26, 31: 31, 32: 31, 33: 31, 34: 32, 35: 32, 36: 34, 37: 34, 38: 39, 39: 39, 40: -1, 41: -1, 42: -1, 43: 4, 44: 4, 45: 6, 46: 6, 47: 9, 48: 9, 49: 9, 50: 11, 51: 11, 52: 14, 53: 14, 54: 12, 55: 12, 56: 14, 57: 14, 58: 16, 59: 16, 60: 16, 61: 19, 62: 19, 63: 24, 64: 24, 65: 26, 66: 26, 67: 29, 68: 29, 69: 27, 70: 27, 71: 29, 72: 29, 73: 5, 74: 5, 75: 36, 76: 36, 77: 38, 78: 38, 79: 5, 80: 5, 81: -1, 82: -1, 83: 4, 84: 4, 85: 6, 86: 6, 87: 9, 88: 9, 89: 9, 90: 11, 91: 11, 92: 14, 93: 14, 94: 14, 95: 16, 96: 16, 97: 15, 98: 15, 99: 21, 100: 21, 101: 21, 102: 21, 103: 22, 104: 22, 105: 26, 106: 26}\n",
      "addx -15 {1: 1, 2: 1, 3: 1, 4: 1, 5: 6, 6: 6, 7: 9, 8: 9, 9: 7, 10: 7, 11: 7, 12: 12, 13: 12, 14: 16, 15: 16, 16: 16, 17: 19, 18: 19, 19: 19, 20: 21, 21: 21, 22: 4, 23: 4, 24: 22, 25: 22, 26: 25, 27: 25, 28: 26, 29: 26, 30: 26, 31: 31, 32: 31, 33: 31, 34: 32, 35: 32, 36: 34, 37: 34, 38: 39, 39: 39, 40: -1, 41: -1, 42: -1, 43: 4, 44: 4, 45: 6, 46: 6, 47: 9, 48: 9, 49: 9, 50: 11, 51: 11, 52: 14, 53: 14, 54: 12, 55: 12, 56: 14, 57: 14, 58: 16, 59: 16, 60: 16, 61: 19, 62: 19, 63: 24, 64: 24, 65: 26, 66: 26, 67: 29, 68: 29, 69: 27, 70: 27, 71: 29, 72: 29, 73: 5, 74: 5, 75: 36, 76: 36, 77: 38, 78: 38, 79: 5, 80: 5, 81: -1, 82: -1, 83: 4, 84: 4, 85: 6, 86: 6, 87: 9, 88: 9, 89: 9, 90: 11, 91: 11, 92: 14, 93: 14, 94: 14, 95: 16, 96: 16, 97: 15, 98: 15, 99: 21, 100: 21, 101: 21, 102: 21, 103: 22, 104: 22, 105: 26, 106: 26, 107: 26, 108: 26}\n",
      "addx 20 {1: 1, 2: 1, 3: 1, 4: 1, 5: 6, 6: 6, 7: 9, 8: 9, 9: 7, 10: 7, 11: 7, 12: 12, 13: 12, 14: 16, 15: 16, 16: 16, 17: 19, 18: 19, 19: 19, 20: 21, 21: 21, 22: 4, 23: 4, 24: 22, 25: 22, 26: 25, 27: 25, 28: 26, 29: 26, 30: 26, 31: 31, 32: 31, 33: 31, 34: 32, 35: 32, 36: 34, 37: 34, 38: 39, 39: 39, 40: -1, 41: -1, 42: -1, 43: 4, 44: 4, 45: 6, 46: 6, 47: 9, 48: 9, 49: 9, 50: 11, 51: 11, 52: 14, 53: 14, 54: 12, 55: 12, 56: 14, 57: 14, 58: 16, 59: 16, 60: 16, 61: 19, 62: 19, 63: 24, 64: 24, 65: 26, 66: 26, 67: 29, 68: 29, 69: 27, 70: 27, 71: 29, 72: 29, 73: 5, 74: 5, 75: 36, 76: 36, 77: 38, 78: 38, 79: 5, 80: 5, 81: -1, 82: -1, 83: 4, 84: 4, 85: 6, 86: 6, 87: 9, 88: 9, 89: 9, 90: 11, 91: 11, 92: 14, 93: 14, 94: 14, 95: 16, 96: 16, 97: 15, 98: 15, 99: 21, 100: 21, 101: 21, 102: 21, 103: 22, 104: 22, 105: 26, 106: 26, 107: 26, 108: 26, 109: 11, 110: 11}\n",
      "noop {1: 1, 2: 1, 3: 1, 4: 1, 5: 6, 6: 6, 7: 9, 8: 9, 9: 7, 10: 7, 11: 7, 12: 12, 13: 12, 14: 16, 15: 16, 16: 16, 17: 19, 18: 19, 19: 19, 20: 21, 21: 21, 22: 4, 23: 4, 24: 22, 25: 22, 26: 25, 27: 25, 28: 26, 29: 26, 30: 26, 31: 31, 32: 31, 33: 31, 34: 32, 35: 32, 36: 34, 37: 34, 38: 39, 39: 39, 40: -1, 41: -1, 42: -1, 43: 4, 44: 4, 45: 6, 46: 6, 47: 9, 48: 9, 49: 9, 50: 11, 51: 11, 52: 14, 53: 14, 54: 12, 55: 12, 56: 14, 57: 14, 58: 16, 59: 16, 60: 16, 61: 19, 62: 19, 63: 24, 64: 24, 65: 26, 66: 26, 67: 29, 68: 29, 69: 27, 70: 27, 71: 29, 72: 29, 73: 5, 74: 5, 75: 36, 76: 36, 77: 38, 78: 38, 79: 5, 80: 5, 81: -1, 82: -1, 83: 4, 84: 4, 85: 6, 86: 6, 87: 9, 88: 9, 89: 9, 90: 11, 91: 11, 92: 14, 93: 14, 94: 14, 95: 16, 96: 16, 97: 15, 98: 15, 99: 21, 100: 21, 101: 21, 102: 21, 103: 22, 104: 22, 105: 26, 106: 26, 107: 26, 108: 26, 109: 11, 110: 11, 111: 31}\n",
      "addx -23 {1: 1, 2: 1, 3: 1, 4: 1, 5: 6, 6: 6, 7: 9, 8: 9, 9: 7, 10: 7, 11: 7, 12: 12, 13: 12, 14: 16, 15: 16, 16: 16, 17: 19, 18: 19, 19: 19, 20: 21, 21: 21, 22: 4, 23: 4, 24: 22, 25: 22, 26: 25, 27: 25, 28: 26, 29: 26, 30: 26, 31: 31, 32: 31, 33: 31, 34: 32, 35: 32, 36: 34, 37: 34, 38: 39, 39: 39, 40: -1, 41: -1, 42: -1, 43: 4, 44: 4, 45: 6, 46: 6, 47: 9, 48: 9, 49: 9, 50: 11, 51: 11, 52: 14, 53: 14, 54: 12, 55: 12, 56: 14, 57: 14, 58: 16, 59: 16, 60: 16, 61: 19, 62: 19, 63: 24, 64: 24, 65: 26, 66: 26, 67: 29, 68: 29, 69: 27, 70: 27, 71: 29, 72: 29, 73: 5, 74: 5, 75: 36, 76: 36, 77: 38, 78: 38, 79: 5, 80: 5, 81: -1, 82: -1, 83: 4, 84: 4, 85: 6, 86: 6, 87: 9, 88: 9, 89: 9, 90: 11, 91: 11, 92: 14, 93: 14, 94: 14, 95: 16, 96: 16, 97: 15, 98: 15, 99: 21, 100: 21, 101: 21, 102: 21, 103: 22, 104: 22, 105: 26, 106: 26, 107: 26, 108: 26, 109: 11, 110: 11, 111: 31, 112: 31, 113: 31}\n",
      "addx 27 {1: 1, 2: 1, 3: 1, 4: 1, 5: 6, 6: 6, 7: 9, 8: 9, 9: 7, 10: 7, 11: 7, 12: 12, 13: 12, 14: 16, 15: 16, 16: 16, 17: 19, 18: 19, 19: 19, 20: 21, 21: 21, 22: 4, 23: 4, 24: 22, 25: 22, 26: 25, 27: 25, 28: 26, 29: 26, 30: 26, 31: 31, 32: 31, 33: 31, 34: 32, 35: 32, 36: 34, 37: 34, 38: 39, 39: 39, 40: -1, 41: -1, 42: -1, 43: 4, 44: 4, 45: 6, 46: 6, 47: 9, 48: 9, 49: 9, 50: 11, 51: 11, 52: 14, 53: 14, 54: 12, 55: 12, 56: 14, 57: 14, 58: 16, 59: 16, 60: 16, 61: 19, 62: 19, 63: 24, 64: 24, 65: 26, 66: 26, 67: 29, 68: 29, 69: 27, 70: 27, 71: 29, 72: 29, 73: 5, 74: 5, 75: 36, 76: 36, 77: 38, 78: 38, 79: 5, 80: 5, 81: -1, 82: -1, 83: 4, 84: 4, 85: 6, 86: 6, 87: 9, 88: 9, 89: 9, 90: 11, 91: 11, 92: 14, 93: 14, 94: 14, 95: 16, 96: 16, 97: 15, 98: 15, 99: 21, 100: 21, 101: 21, 102: 21, 103: 22, 104: 22, 105: 26, 106: 26, 107: 26, 108: 26, 109: 11, 110: 11, 111: 31, 112: 31, 113: 31, 114: 8, 115: 8}\n",
      "noop {1: 1, 2: 1, 3: 1, 4: 1, 5: 6, 6: 6, 7: 9, 8: 9, 9: 7, 10: 7, 11: 7, 12: 12, 13: 12, 14: 16, 15: 16, 16: 16, 17: 19, 18: 19, 19: 19, 20: 21, 21: 21, 22: 4, 23: 4, 24: 22, 25: 22, 26: 25, 27: 25, 28: 26, 29: 26, 30: 26, 31: 31, 32: 31, 33: 31, 34: 32, 35: 32, 36: 34, 37: 34, 38: 39, 39: 39, 40: -1, 41: -1, 42: -1, 43: 4, 44: 4, 45: 6, 46: 6, 47: 9, 48: 9, 49: 9, 50: 11, 51: 11, 52: 14, 53: 14, 54: 12, 55: 12, 56: 14, 57: 14, 58: 16, 59: 16, 60: 16, 61: 19, 62: 19, 63: 24, 64: 24, 65: 26, 66: 26, 67: 29, 68: 29, 69: 27, 70: 27, 71: 29, 72: 29, 73: 5, 74: 5, 75: 36, 76: 36, 77: 38, 78: 38, 79: 5, 80: 5, 81: -1, 82: -1, 83: 4, 84: 4, 85: 6, 86: 6, 87: 9, 88: 9, 89: 9, 90: 11, 91: 11, 92: 14, 93: 14, 94: 14, 95: 16, 96: 16, 97: 15, 98: 15, 99: 21, 100: 21, 101: 21, 102: 21, 103: 22, 104: 22, 105: 26, 106: 26, 107: 26, 108: 26, 109: 11, 110: 11, 111: 31, 112: 31, 113: 31, 114: 8, 115: 8, 116: 35}\n",
      "addx -35 {1: 1, 2: 1, 3: 1, 4: 1, 5: 6, 6: 6, 7: 9, 8: 9, 9: 7, 10: 7, 11: 7, 12: 12, 13: 12, 14: 16, 15: 16, 16: 16, 17: 19, 18: 19, 19: 19, 20: 21, 21: 21, 22: 4, 23: 4, 24: 22, 25: 22, 26: 25, 27: 25, 28: 26, 29: 26, 30: 26, 31: 31, 32: 31, 33: 31, 34: 32, 35: 32, 36: 34, 37: 34, 38: 39, 39: 39, 40: -1, 41: -1, 42: -1, 43: 4, 44: 4, 45: 6, 46: 6, 47: 9, 48: 9, 49: 9, 50: 11, 51: 11, 52: 14, 53: 14, 54: 12, 55: 12, 56: 14, 57: 14, 58: 16, 59: 16, 60: 16, 61: 19, 62: 19, 63: 24, 64: 24, 65: 26, 66: 26, 67: 29, 68: 29, 69: 27, 70: 27, 71: 29, 72: 29, 73: 5, 74: 5, 75: 36, 76: 36, 77: 38, 78: 38, 79: 5, 80: 5, 81: -1, 82: -1, 83: 4, 84: 4, 85: 6, 86: 6, 87: 9, 88: 9, 89: 9, 90: 11, 91: 11, 92: 14, 93: 14, 94: 14, 95: 16, 96: 16, 97: 15, 98: 15, 99: 21, 100: 21, 101: 21, 102: 21, 103: 22, 104: 22, 105: 26, 106: 26, 107: 26, 108: 26, 109: 11, 110: 11, 111: 31, 112: 31, 113: 31, 114: 8, 115: 8, 116: 35, 117: 35, 118: 35}\n",
      "addx 1 {1: 1, 2: 1, 3: 1, 4: 1, 5: 6, 6: 6, 7: 9, 8: 9, 9: 7, 10: 7, 11: 7, 12: 12, 13: 12, 14: 16, 15: 16, 16: 16, 17: 19, 18: 19, 19: 19, 20: 21, 21: 21, 22: 4, 23: 4, 24: 22, 25: 22, 26: 25, 27: 25, 28: 26, 29: 26, 30: 26, 31: 31, 32: 31, 33: 31, 34: 32, 35: 32, 36: 34, 37: 34, 38: 39, 39: 39, 40: -1, 41: -1, 42: -1, 43: 4, 44: 4, 45: 6, 46: 6, 47: 9, 48: 9, 49: 9, 50: 11, 51: 11, 52: 14, 53: 14, 54: 12, 55: 12, 56: 14, 57: 14, 58: 16, 59: 16, 60: 16, 61: 19, 62: 19, 63: 24, 64: 24, 65: 26, 66: 26, 67: 29, 68: 29, 69: 27, 70: 27, 71: 29, 72: 29, 73: 5, 74: 5, 75: 36, 76: 36, 77: 38, 78: 38, 79: 5, 80: 5, 81: -1, 82: -1, 83: 4, 84: 4, 85: 6, 86: 6, 87: 9, 88: 9, 89: 9, 90: 11, 91: 11, 92: 14, 93: 14, 94: 14, 95: 16, 96: 16, 97: 15, 98: 15, 99: 21, 100: 21, 101: 21, 102: 21, 103: 22, 104: 22, 105: 26, 106: 26, 107: 26, 108: 26, 109: 11, 110: 11, 111: 31, 112: 31, 113: 31, 114: 8, 115: 8, 116: 35, 117: 35, 118: 35, 119: 0, 120: 0}\n",
      "noop {1: 1, 2: 1, 3: 1, 4: 1, 5: 6, 6: 6, 7: 9, 8: 9, 9: 7, 10: 7, 11: 7, 12: 12, 13: 12, 14: 16, 15: 16, 16: 16, 17: 19, 18: 19, 19: 19, 20: 21, 21: 21, 22: 4, 23: 4, 24: 22, 25: 22, 26: 25, 27: 25, 28: 26, 29: 26, 30: 26, 31: 31, 32: 31, 33: 31, 34: 32, 35: 32, 36: 34, 37: 34, 38: 39, 39: 39, 40: -1, 41: -1, 42: -1, 43: 4, 44: 4, 45: 6, 46: 6, 47: 9, 48: 9, 49: 9, 50: 11, 51: 11, 52: 14, 53: 14, 54: 12, 55: 12, 56: 14, 57: 14, 58: 16, 59: 16, 60: 16, 61: 19, 62: 19, 63: 24, 64: 24, 65: 26, 66: 26, 67: 29, 68: 29, 69: 27, 70: 27, 71: 29, 72: 29, 73: 5, 74: 5, 75: 36, 76: 36, 77: 38, 78: 38, 79: 5, 80: 5, 81: -1, 82: -1, 83: 4, 84: 4, 85: 6, 86: 6, 87: 9, 88: 9, 89: 9, 90: 11, 91: 11, 92: 14, 93: 14, 94: 14, 95: 16, 96: 16, 97: 15, 98: 15, 99: 21, 100: 21, 101: 21, 102: 21, 103: 22, 104: 22, 105: 26, 106: 26, 107: 26, 108: 26, 109: 11, 110: 11, 111: 31, 112: 31, 113: 31, 114: 8, 115: 8, 116: 35, 117: 35, 118: 35, 119: 0, 120: 0, 121: 1}\n",
      "noop {1: 1, 2: 1, 3: 1, 4: 1, 5: 6, 6: 6, 7: 9, 8: 9, 9: 7, 10: 7, 11: 7, 12: 12, 13: 12, 14: 16, 15: 16, 16: 16, 17: 19, 18: 19, 19: 19, 20: 21, 21: 21, 22: 4, 23: 4, 24: 22, 25: 22, 26: 25, 27: 25, 28: 26, 29: 26, 30: 26, 31: 31, 32: 31, 33: 31, 34: 32, 35: 32, 36: 34, 37: 34, 38: 39, 39: 39, 40: -1, 41: -1, 42: -1, 43: 4, 44: 4, 45: 6, 46: 6, 47: 9, 48: 9, 49: 9, 50: 11, 51: 11, 52: 14, 53: 14, 54: 12, 55: 12, 56: 14, 57: 14, 58: 16, 59: 16, 60: 16, 61: 19, 62: 19, 63: 24, 64: 24, 65: 26, 66: 26, 67: 29, 68: 29, 69: 27, 70: 27, 71: 29, 72: 29, 73: 5, 74: 5, 75: 36, 76: 36, 77: 38, 78: 38, 79: 5, 80: 5, 81: -1, 82: -1, 83: 4, 84: 4, 85: 6, 86: 6, 87: 9, 88: 9, 89: 9, 90: 11, 91: 11, 92: 14, 93: 14, 94: 14, 95: 16, 96: 16, 97: 15, 98: 15, 99: 21, 100: 21, 101: 21, 102: 21, 103: 22, 104: 22, 105: 26, 106: 26, 107: 26, 108: 26, 109: 11, 110: 11, 111: 31, 112: 31, 113: 31, 114: 8, 115: 8, 116: 35, 117: 35, 118: 35, 119: 0, 120: 0, 121: 1, 122: 1}\n",
      "addx 5 {1: 1, 2: 1, 3: 1, 4: 1, 5: 6, 6: 6, 7: 9, 8: 9, 9: 7, 10: 7, 11: 7, 12: 12, 13: 12, 14: 16, 15: 16, 16: 16, 17: 19, 18: 19, 19: 19, 20: 21, 21: 21, 22: 4, 23: 4, 24: 22, 25: 22, 26: 25, 27: 25, 28: 26, 29: 26, 30: 26, 31: 31, 32: 31, 33: 31, 34: 32, 35: 32, 36: 34, 37: 34, 38: 39, 39: 39, 40: -1, 41: -1, 42: -1, 43: 4, 44: 4, 45: 6, 46: 6, 47: 9, 48: 9, 49: 9, 50: 11, 51: 11, 52: 14, 53: 14, 54: 12, 55: 12, 56: 14, 57: 14, 58: 16, 59: 16, 60: 16, 61: 19, 62: 19, 63: 24, 64: 24, 65: 26, 66: 26, 67: 29, 68: 29, 69: 27, 70: 27, 71: 29, 72: 29, 73: 5, 74: 5, 75: 36, 76: 36, 77: 38, 78: 38, 79: 5, 80: 5, 81: -1, 82: -1, 83: 4, 84: 4, 85: 6, 86: 6, 87: 9, 88: 9, 89: 9, 90: 11, 91: 11, 92: 14, 93: 14, 94: 14, 95: 16, 96: 16, 97: 15, 98: 15, 99: 21, 100: 21, 101: 21, 102: 21, 103: 22, 104: 22, 105: 26, 106: 26, 107: 26, 108: 26, 109: 11, 110: 11, 111: 31, 112: 31, 113: 31, 114: 8, 115: 8, 116: 35, 117: 35, 118: 35, 119: 0, 120: 0, 121: 1, 122: 1, 123: 1, 124: 1}\n",
      "addx 11 {1: 1, 2: 1, 3: 1, 4: 1, 5: 6, 6: 6, 7: 9, 8: 9, 9: 7, 10: 7, 11: 7, 12: 12, 13: 12, 14: 16, 15: 16, 16: 16, 17: 19, 18: 19, 19: 19, 20: 21, 21: 21, 22: 4, 23: 4, 24: 22, 25: 22, 26: 25, 27: 25, 28: 26, 29: 26, 30: 26, 31: 31, 32: 31, 33: 31, 34: 32, 35: 32, 36: 34, 37: 34, 38: 39, 39: 39, 40: -1, 41: -1, 42: -1, 43: 4, 44: 4, 45: 6, 46: 6, 47: 9, 48: 9, 49: 9, 50: 11, 51: 11, 52: 14, 53: 14, 54: 12, 55: 12, 56: 14, 57: 14, 58: 16, 59: 16, 60: 16, 61: 19, 62: 19, 63: 24, 64: 24, 65: 26, 66: 26, 67: 29, 68: 29, 69: 27, 70: 27, 71: 29, 72: 29, 73: 5, 74: 5, 75: 36, 76: 36, 77: 38, 78: 38, 79: 5, 80: 5, 81: -1, 82: -1, 83: 4, 84: 4, 85: 6, 86: 6, 87: 9, 88: 9, 89: 9, 90: 11, 91: 11, 92: 14, 93: 14, 94: 14, 95: 16, 96: 16, 97: 15, 98: 15, 99: 21, 100: 21, 101: 21, 102: 21, 103: 22, 104: 22, 105: 26, 106: 26, 107: 26, 108: 26, 109: 11, 110: 11, 111: 31, 112: 31, 113: 31, 114: 8, 115: 8, 116: 35, 117: 35, 118: 35, 119: 0, 120: 0, 121: 1, 122: 1, 123: 1, 124: 1, 125: 6, 126: 6}\n",
      "addx -10 {1: 1, 2: 1, 3: 1, 4: 1, 5: 6, 6: 6, 7: 9, 8: 9, 9: 7, 10: 7, 11: 7, 12: 12, 13: 12, 14: 16, 15: 16, 16: 16, 17: 19, 18: 19, 19: 19, 20: 21, 21: 21, 22: 4, 23: 4, 24: 22, 25: 22, 26: 25, 27: 25, 28: 26, 29: 26, 30: 26, 31: 31, 32: 31, 33: 31, 34: 32, 35: 32, 36: 34, 37: 34, 38: 39, 39: 39, 40: -1, 41: -1, 42: -1, 43: 4, 44: 4, 45: 6, 46: 6, 47: 9, 48: 9, 49: 9, 50: 11, 51: 11, 52: 14, 53: 14, 54: 12, 55: 12, 56: 14, 57: 14, 58: 16, 59: 16, 60: 16, 61: 19, 62: 19, 63: 24, 64: 24, 65: 26, 66: 26, 67: 29, 68: 29, 69: 27, 70: 27, 71: 29, 72: 29, 73: 5, 74: 5, 75: 36, 76: 36, 77: 38, 78: 38, 79: 5, 80: 5, 81: -1, 82: -1, 83: 4, 84: 4, 85: 6, 86: 6, 87: 9, 88: 9, 89: 9, 90: 11, 91: 11, 92: 14, 93: 14, 94: 14, 95: 16, 96: 16, 97: 15, 98: 15, 99: 21, 100: 21, 101: 21, 102: 21, 103: 22, 104: 22, 105: 26, 106: 26, 107: 26, 108: 26, 109: 11, 110: 11, 111: 31, 112: 31, 113: 31, 114: 8, 115: 8, 116: 35, 117: 35, 118: 35, 119: 0, 120: 0, 121: 1, 122: 1, 123: 1, 124: 1, 125: 6, 126: 6, 127: 17, 128: 17}\n",
      "addx 4 {1: 1, 2: 1, 3: 1, 4: 1, 5: 6, 6: 6, 7: 9, 8: 9, 9: 7, 10: 7, 11: 7, 12: 12, 13: 12, 14: 16, 15: 16, 16: 16, 17: 19, 18: 19, 19: 19, 20: 21, 21: 21, 22: 4, 23: 4, 24: 22, 25: 22, 26: 25, 27: 25, 28: 26, 29: 26, 30: 26, 31: 31, 32: 31, 33: 31, 34: 32, 35: 32, 36: 34, 37: 34, 38: 39, 39: 39, 40: -1, 41: -1, 42: -1, 43: 4, 44: 4, 45: 6, 46: 6, 47: 9, 48: 9, 49: 9, 50: 11, 51: 11, 52: 14, 53: 14, 54: 12, 55: 12, 56: 14, 57: 14, 58: 16, 59: 16, 60: 16, 61: 19, 62: 19, 63: 24, 64: 24, 65: 26, 66: 26, 67: 29, 68: 29, 69: 27, 70: 27, 71: 29, 72: 29, 73: 5, 74: 5, 75: 36, 76: 36, 77: 38, 78: 38, 79: 5, 80: 5, 81: -1, 82: -1, 83: 4, 84: 4, 85: 6, 86: 6, 87: 9, 88: 9, 89: 9, 90: 11, 91: 11, 92: 14, 93: 14, 94: 14, 95: 16, 96: 16, 97: 15, 98: 15, 99: 21, 100: 21, 101: 21, 102: 21, 103: 22, 104: 22, 105: 26, 106: 26, 107: 26, 108: 26, 109: 11, 110: 11, 111: 31, 112: 31, 113: 31, 114: 8, 115: 8, 116: 35, 117: 35, 118: 35, 119: 0, 120: 0, 121: 1, 122: 1, 123: 1, 124: 1, 125: 6, 126: 6, 127: 17, 128: 17, 129: 7, 130: 7}\n",
      "addx 1 {1: 1, 2: 1, 3: 1, 4: 1, 5: 6, 6: 6, 7: 9, 8: 9, 9: 7, 10: 7, 11: 7, 12: 12, 13: 12, 14: 16, 15: 16, 16: 16, 17: 19, 18: 19, 19: 19, 20: 21, 21: 21, 22: 4, 23: 4, 24: 22, 25: 22, 26: 25, 27: 25, 28: 26, 29: 26, 30: 26, 31: 31, 32: 31, 33: 31, 34: 32, 35: 32, 36: 34, 37: 34, 38: 39, 39: 39, 40: -1, 41: -1, 42: -1, 43: 4, 44: 4, 45: 6, 46: 6, 47: 9, 48: 9, 49: 9, 50: 11, 51: 11, 52: 14, 53: 14, 54: 12, 55: 12, 56: 14, 57: 14, 58: 16, 59: 16, 60: 16, 61: 19, 62: 19, 63: 24, 64: 24, 65: 26, 66: 26, 67: 29, 68: 29, 69: 27, 70: 27, 71: 29, 72: 29, 73: 5, 74: 5, 75: 36, 76: 36, 77: 38, 78: 38, 79: 5, 80: 5, 81: -1, 82: -1, 83: 4, 84: 4, 85: 6, 86: 6, 87: 9, 88: 9, 89: 9, 90: 11, 91: 11, 92: 14, 93: 14, 94: 14, 95: 16, 96: 16, 97: 15, 98: 15, 99: 21, 100: 21, 101: 21, 102: 21, 103: 22, 104: 22, 105: 26, 106: 26, 107: 26, 108: 26, 109: 11, 110: 11, 111: 31, 112: 31, 113: 31, 114: 8, 115: 8, 116: 35, 117: 35, 118: 35, 119: 0, 120: 0, 121: 1, 122: 1, 123: 1, 124: 1, 125: 6, 126: 6, 127: 17, 128: 17, 129: 7, 130: 7, 131: 11, 132: 11}\n",
      "noop {1: 1, 2: 1, 3: 1, 4: 1, 5: 6, 6: 6, 7: 9, 8: 9, 9: 7, 10: 7, 11: 7, 12: 12, 13: 12, 14: 16, 15: 16, 16: 16, 17: 19, 18: 19, 19: 19, 20: 21, 21: 21, 22: 4, 23: 4, 24: 22, 25: 22, 26: 25, 27: 25, 28: 26, 29: 26, 30: 26, 31: 31, 32: 31, 33: 31, 34: 32, 35: 32, 36: 34, 37: 34, 38: 39, 39: 39, 40: -1, 41: -1, 42: -1, 43: 4, 44: 4, 45: 6, 46: 6, 47: 9, 48: 9, 49: 9, 50: 11, 51: 11, 52: 14, 53: 14, 54: 12, 55: 12, 56: 14, 57: 14, 58: 16, 59: 16, 60: 16, 61: 19, 62: 19, 63: 24, 64: 24, 65: 26, 66: 26, 67: 29, 68: 29, 69: 27, 70: 27, 71: 29, 72: 29, 73: 5, 74: 5, 75: 36, 76: 36, 77: 38, 78: 38, 79: 5, 80: 5, 81: -1, 82: -1, 83: 4, 84: 4, 85: 6, 86: 6, 87: 9, 88: 9, 89: 9, 90: 11, 91: 11, 92: 14, 93: 14, 94: 14, 95: 16, 96: 16, 97: 15, 98: 15, 99: 21, 100: 21, 101: 21, 102: 21, 103: 22, 104: 22, 105: 26, 106: 26, 107: 26, 108: 26, 109: 11, 110: 11, 111: 31, 112: 31, 113: 31, 114: 8, 115: 8, 116: 35, 117: 35, 118: 35, 119: 0, 120: 0, 121: 1, 122: 1, 123: 1, 124: 1, 125: 6, 126: 6, 127: 17, 128: 17, 129: 7, 130: 7, 131: 11, 132: 11, 133: 12}\n",
      "addx 2 {1: 1, 2: 1, 3: 1, 4: 1, 5: 6, 6: 6, 7: 9, 8: 9, 9: 7, 10: 7, 11: 7, 12: 12, 13: 12, 14: 16, 15: 16, 16: 16, 17: 19, 18: 19, 19: 19, 20: 21, 21: 21, 22: 4, 23: 4, 24: 22, 25: 22, 26: 25, 27: 25, 28: 26, 29: 26, 30: 26, 31: 31, 32: 31, 33: 31, 34: 32, 35: 32, 36: 34, 37: 34, 38: 39, 39: 39, 40: -1, 41: -1, 42: -1, 43: 4, 44: 4, 45: 6, 46: 6, 47: 9, 48: 9, 49: 9, 50: 11, 51: 11, 52: 14, 53: 14, 54: 12, 55: 12, 56: 14, 57: 14, 58: 16, 59: 16, 60: 16, 61: 19, 62: 19, 63: 24, 64: 24, 65: 26, 66: 26, 67: 29, 68: 29, 69: 27, 70: 27, 71: 29, 72: 29, 73: 5, 74: 5, 75: 36, 76: 36, 77: 38, 78: 38, 79: 5, 80: 5, 81: -1, 82: -1, 83: 4, 84: 4, 85: 6, 86: 6, 87: 9, 88: 9, 89: 9, 90: 11, 91: 11, 92: 14, 93: 14, 94: 14, 95: 16, 96: 16, 97: 15, 98: 15, 99: 21, 100: 21, 101: 21, 102: 21, 103: 22, 104: 22, 105: 26, 106: 26, 107: 26, 108: 26, 109: 11, 110: 11, 111: 31, 112: 31, 113: 31, 114: 8, 115: 8, 116: 35, 117: 35, 118: 35, 119: 0, 120: 0, 121: 1, 122: 1, 123: 1, 124: 1, 125: 6, 126: 6, 127: 17, 128: 17, 129: 7, 130: 7, 131: 11, 132: 11, 133: 12, 134: 12, 135: 12}\n",
      "addx 2 {1: 1, 2: 1, 3: 1, 4: 1, 5: 6, 6: 6, 7: 9, 8: 9, 9: 7, 10: 7, 11: 7, 12: 12, 13: 12, 14: 16, 15: 16, 16: 16, 17: 19, 18: 19, 19: 19, 20: 21, 21: 21, 22: 4, 23: 4, 24: 22, 25: 22, 26: 25, 27: 25, 28: 26, 29: 26, 30: 26, 31: 31, 32: 31, 33: 31, 34: 32, 35: 32, 36: 34, 37: 34, 38: 39, 39: 39, 40: -1, 41: -1, 42: -1, 43: 4, 44: 4, 45: 6, 46: 6, 47: 9, 48: 9, 49: 9, 50: 11, 51: 11, 52: 14, 53: 14, 54: 12, 55: 12, 56: 14, 57: 14, 58: 16, 59: 16, 60: 16, 61: 19, 62: 19, 63: 24, 64: 24, 65: 26, 66: 26, 67: 29, 68: 29, 69: 27, 70: 27, 71: 29, 72: 29, 73: 5, 74: 5, 75: 36, 76: 36, 77: 38, 78: 38, 79: 5, 80: 5, 81: -1, 82: -1, 83: 4, 84: 4, 85: 6, 86: 6, 87: 9, 88: 9, 89: 9, 90: 11, 91: 11, 92: 14, 93: 14, 94: 14, 95: 16, 96: 16, 97: 15, 98: 15, 99: 21, 100: 21, 101: 21, 102: 21, 103: 22, 104: 22, 105: 26, 106: 26, 107: 26, 108: 26, 109: 11, 110: 11, 111: 31, 112: 31, 113: 31, 114: 8, 115: 8, 116: 35, 117: 35, 118: 35, 119: 0, 120: 0, 121: 1, 122: 1, 123: 1, 124: 1, 125: 6, 126: 6, 127: 17, 128: 17, 129: 7, 130: 7, 131: 11, 132: 11, 133: 12, 134: 12, 135: 12, 136: 14, 137: 14}\n",
      "noop {1: 1, 2: 1, 3: 1, 4: 1, 5: 6, 6: 6, 7: 9, 8: 9, 9: 7, 10: 7, 11: 7, 12: 12, 13: 12, 14: 16, 15: 16, 16: 16, 17: 19, 18: 19, 19: 19, 20: 21, 21: 21, 22: 4, 23: 4, 24: 22, 25: 22, 26: 25, 27: 25, 28: 26, 29: 26, 30: 26, 31: 31, 32: 31, 33: 31, 34: 32, 35: 32, 36: 34, 37: 34, 38: 39, 39: 39, 40: -1, 41: -1, 42: -1, 43: 4, 44: 4, 45: 6, 46: 6, 47: 9, 48: 9, 49: 9, 50: 11, 51: 11, 52: 14, 53: 14, 54: 12, 55: 12, 56: 14, 57: 14, 58: 16, 59: 16, 60: 16, 61: 19, 62: 19, 63: 24, 64: 24, 65: 26, 66: 26, 67: 29, 68: 29, 69: 27, 70: 27, 71: 29, 72: 29, 73: 5, 74: 5, 75: 36, 76: 36, 77: 38, 78: 38, 79: 5, 80: 5, 81: -1, 82: -1, 83: 4, 84: 4, 85: 6, 86: 6, 87: 9, 88: 9, 89: 9, 90: 11, 91: 11, 92: 14, 93: 14, 94: 14, 95: 16, 96: 16, 97: 15, 98: 15, 99: 21, 100: 21, 101: 21, 102: 21, 103: 22, 104: 22, 105: 26, 106: 26, 107: 26, 108: 26, 109: 11, 110: 11, 111: 31, 112: 31, 113: 31, 114: 8, 115: 8, 116: 35, 117: 35, 118: 35, 119: 0, 120: 0, 121: 1, 122: 1, 123: 1, 124: 1, 125: 6, 126: 6, 127: 17, 128: 17, 129: 7, 130: 7, 131: 11, 132: 11, 133: 12, 134: 12, 135: 12, 136: 14, 137: 14, 138: 16}\n",
      "addx 3 {1: 1, 2: 1, 3: 1, 4: 1, 5: 6, 6: 6, 7: 9, 8: 9, 9: 7, 10: 7, 11: 7, 12: 12, 13: 12, 14: 16, 15: 16, 16: 16, 17: 19, 18: 19, 19: 19, 20: 21, 21: 21, 22: 4, 23: 4, 24: 22, 25: 22, 26: 25, 27: 25, 28: 26, 29: 26, 30: 26, 31: 31, 32: 31, 33: 31, 34: 32, 35: 32, 36: 34, 37: 34, 38: 39, 39: 39, 40: -1, 41: -1, 42: -1, 43: 4, 44: 4, 45: 6, 46: 6, 47: 9, 48: 9, 49: 9, 50: 11, 51: 11, 52: 14, 53: 14, 54: 12, 55: 12, 56: 14, 57: 14, 58: 16, 59: 16, 60: 16, 61: 19, 62: 19, 63: 24, 64: 24, 65: 26, 66: 26, 67: 29, 68: 29, 69: 27, 70: 27, 71: 29, 72: 29, 73: 5, 74: 5, 75: 36, 76: 36, 77: 38, 78: 38, 79: 5, 80: 5, 81: -1, 82: -1, 83: 4, 84: 4, 85: 6, 86: 6, 87: 9, 88: 9, 89: 9, 90: 11, 91: 11, 92: 14, 93: 14, 94: 14, 95: 16, 96: 16, 97: 15, 98: 15, 99: 21, 100: 21, 101: 21, 102: 21, 103: 22, 104: 22, 105: 26, 106: 26, 107: 26, 108: 26, 109: 11, 110: 11, 111: 31, 112: 31, 113: 31, 114: 8, 115: 8, 116: 35, 117: 35, 118: 35, 119: 0, 120: 0, 121: 1, 122: 1, 123: 1, 124: 1, 125: 6, 126: 6, 127: 17, 128: 17, 129: 7, 130: 7, 131: 11, 132: 11, 133: 12, 134: 12, 135: 12, 136: 14, 137: 14, 138: 16, 139: 16, 140: 16}\n",
      "noop {1: 1, 2: 1, 3: 1, 4: 1, 5: 6, 6: 6, 7: 9, 8: 9, 9: 7, 10: 7, 11: 7, 12: 12, 13: 12, 14: 16, 15: 16, 16: 16, 17: 19, 18: 19, 19: 19, 20: 21, 21: 21, 22: 4, 23: 4, 24: 22, 25: 22, 26: 25, 27: 25, 28: 26, 29: 26, 30: 26, 31: 31, 32: 31, 33: 31, 34: 32, 35: 32, 36: 34, 37: 34, 38: 39, 39: 39, 40: -1, 41: -1, 42: -1, 43: 4, 44: 4, 45: 6, 46: 6, 47: 9, 48: 9, 49: 9, 50: 11, 51: 11, 52: 14, 53: 14, 54: 12, 55: 12, 56: 14, 57: 14, 58: 16, 59: 16, 60: 16, 61: 19, 62: 19, 63: 24, 64: 24, 65: 26, 66: 26, 67: 29, 68: 29, 69: 27, 70: 27, 71: 29, 72: 29, 73: 5, 74: 5, 75: 36, 76: 36, 77: 38, 78: 38, 79: 5, 80: 5, 81: -1, 82: -1, 83: 4, 84: 4, 85: 6, 86: 6, 87: 9, 88: 9, 89: 9, 90: 11, 91: 11, 92: 14, 93: 14, 94: 14, 95: 16, 96: 16, 97: 15, 98: 15, 99: 21, 100: 21, 101: 21, 102: 21, 103: 22, 104: 22, 105: 26, 106: 26, 107: 26, 108: 26, 109: 11, 110: 11, 111: 31, 112: 31, 113: 31, 114: 8, 115: 8, 116: 35, 117: 35, 118: 35, 119: 0, 120: 0, 121: 1, 122: 1, 123: 1, 124: 1, 125: 6, 126: 6, 127: 17, 128: 17, 129: 7, 130: 7, 131: 11, 132: 11, 133: 12, 134: 12, 135: 12, 136: 14, 137: 14, 138: 16, 139: 16, 140: 16, 141: 19}\n",
      "addx 3 {1: 1, 2: 1, 3: 1, 4: 1, 5: 6, 6: 6, 7: 9, 8: 9, 9: 7, 10: 7, 11: 7, 12: 12, 13: 12, 14: 16, 15: 16, 16: 16, 17: 19, 18: 19, 19: 19, 20: 21, 21: 21, 22: 4, 23: 4, 24: 22, 25: 22, 26: 25, 27: 25, 28: 26, 29: 26, 30: 26, 31: 31, 32: 31, 33: 31, 34: 32, 35: 32, 36: 34, 37: 34, 38: 39, 39: 39, 40: -1, 41: -1, 42: -1, 43: 4, 44: 4, 45: 6, 46: 6, 47: 9, 48: 9, 49: 9, 50: 11, 51: 11, 52: 14, 53: 14, 54: 12, 55: 12, 56: 14, 57: 14, 58: 16, 59: 16, 60: 16, 61: 19, 62: 19, 63: 24, 64: 24, 65: 26, 66: 26, 67: 29, 68: 29, 69: 27, 70: 27, 71: 29, 72: 29, 73: 5, 74: 5, 75: 36, 76: 36, 77: 38, 78: 38, 79: 5, 80: 5, 81: -1, 82: -1, 83: 4, 84: 4, 85: 6, 86: 6, 87: 9, 88: 9, 89: 9, 90: 11, 91: 11, 92: 14, 93: 14, 94: 14, 95: 16, 96: 16, 97: 15, 98: 15, 99: 21, 100: 21, 101: 21, 102: 21, 103: 22, 104: 22, 105: 26, 106: 26, 107: 26, 108: 26, 109: 11, 110: 11, 111: 31, 112: 31, 113: 31, 114: 8, 115: 8, 116: 35, 117: 35, 118: 35, 119: 0, 120: 0, 121: 1, 122: 1, 123: 1, 124: 1, 125: 6, 126: 6, 127: 17, 128: 17, 129: 7, 130: 7, 131: 11, 132: 11, 133: 12, 134: 12, 135: 12, 136: 14, 137: 14, 138: 16, 139: 16, 140: 16, 141: 19, 142: 19, 143: 19}\n",
      "addx 2 {1: 1, 2: 1, 3: 1, 4: 1, 5: 6, 6: 6, 7: 9, 8: 9, 9: 7, 10: 7, 11: 7, 12: 12, 13: 12, 14: 16, 15: 16, 16: 16, 17: 19, 18: 19, 19: 19, 20: 21, 21: 21, 22: 4, 23: 4, 24: 22, 25: 22, 26: 25, 27: 25, 28: 26, 29: 26, 30: 26, 31: 31, 32: 31, 33: 31, 34: 32, 35: 32, 36: 34, 37: 34, 38: 39, 39: 39, 40: -1, 41: -1, 42: -1, 43: 4, 44: 4, 45: 6, 46: 6, 47: 9, 48: 9, 49: 9, 50: 11, 51: 11, 52: 14, 53: 14, 54: 12, 55: 12, 56: 14, 57: 14, 58: 16, 59: 16, 60: 16, 61: 19, 62: 19, 63: 24, 64: 24, 65: 26, 66: 26, 67: 29, 68: 29, 69: 27, 70: 27, 71: 29, 72: 29, 73: 5, 74: 5, 75: 36, 76: 36, 77: 38, 78: 38, 79: 5, 80: 5, 81: -1, 82: -1, 83: 4, 84: 4, 85: 6, 86: 6, 87: 9, 88: 9, 89: 9, 90: 11, 91: 11, 92: 14, 93: 14, 94: 14, 95: 16, 96: 16, 97: 15, 98: 15, 99: 21, 100: 21, 101: 21, 102: 21, 103: 22, 104: 22, 105: 26, 106: 26, 107: 26, 108: 26, 109: 11, 110: 11, 111: 31, 112: 31, 113: 31, 114: 8, 115: 8, 116: 35, 117: 35, 118: 35, 119: 0, 120: 0, 121: 1, 122: 1, 123: 1, 124: 1, 125: 6, 126: 6, 127: 17, 128: 17, 129: 7, 130: 7, 131: 11, 132: 11, 133: 12, 134: 12, 135: 12, 136: 14, 137: 14, 138: 16, 139: 16, 140: 16, 141: 19, 142: 19, 143: 19, 144: 22, 145: 22}\n",
      "noop {1: 1, 2: 1, 3: 1, 4: 1, 5: 6, 6: 6, 7: 9, 8: 9, 9: 7, 10: 7, 11: 7, 12: 12, 13: 12, 14: 16, 15: 16, 16: 16, 17: 19, 18: 19, 19: 19, 20: 21, 21: 21, 22: 4, 23: 4, 24: 22, 25: 22, 26: 25, 27: 25, 28: 26, 29: 26, 30: 26, 31: 31, 32: 31, 33: 31, 34: 32, 35: 32, 36: 34, 37: 34, 38: 39, 39: 39, 40: -1, 41: -1, 42: -1, 43: 4, 44: 4, 45: 6, 46: 6, 47: 9, 48: 9, 49: 9, 50: 11, 51: 11, 52: 14, 53: 14, 54: 12, 55: 12, 56: 14, 57: 14, 58: 16, 59: 16, 60: 16, 61: 19, 62: 19, 63: 24, 64: 24, 65: 26, 66: 26, 67: 29, 68: 29, 69: 27, 70: 27, 71: 29, 72: 29, 73: 5, 74: 5, 75: 36, 76: 36, 77: 38, 78: 38, 79: 5, 80: 5, 81: -1, 82: -1, 83: 4, 84: 4, 85: 6, 86: 6, 87: 9, 88: 9, 89: 9, 90: 11, 91: 11, 92: 14, 93: 14, 94: 14, 95: 16, 96: 16, 97: 15, 98: 15, 99: 21, 100: 21, 101: 21, 102: 21, 103: 22, 104: 22, 105: 26, 106: 26, 107: 26, 108: 26, 109: 11, 110: 11, 111: 31, 112: 31, 113: 31, 114: 8, 115: 8, 116: 35, 117: 35, 118: 35, 119: 0, 120: 0, 121: 1, 122: 1, 123: 1, 124: 1, 125: 6, 126: 6, 127: 17, 128: 17, 129: 7, 130: 7, 131: 11, 132: 11, 133: 12, 134: 12, 135: 12, 136: 14, 137: 14, 138: 16, 139: 16, 140: 16, 141: 19, 142: 19, 143: 19, 144: 22, 145: 22, 146: 24}\n",
      "addx 3 {1: 1, 2: 1, 3: 1, 4: 1, 5: 6, 6: 6, 7: 9, 8: 9, 9: 7, 10: 7, 11: 7, 12: 12, 13: 12, 14: 16, 15: 16, 16: 16, 17: 19, 18: 19, 19: 19, 20: 21, 21: 21, 22: 4, 23: 4, 24: 22, 25: 22, 26: 25, 27: 25, 28: 26, 29: 26, 30: 26, 31: 31, 32: 31, 33: 31, 34: 32, 35: 32, 36: 34, 37: 34, 38: 39, 39: 39, 40: -1, 41: -1, 42: -1, 43: 4, 44: 4, 45: 6, 46: 6, 47: 9, 48: 9, 49: 9, 50: 11, 51: 11, 52: 14, 53: 14, 54: 12, 55: 12, 56: 14, 57: 14, 58: 16, 59: 16, 60: 16, 61: 19, 62: 19, 63: 24, 64: 24, 65: 26, 66: 26, 67: 29, 68: 29, 69: 27, 70: 27, 71: 29, 72: 29, 73: 5, 74: 5, 75: 36, 76: 36, 77: 38, 78: 38, 79: 5, 80: 5, 81: -1, 82: -1, 83: 4, 84: 4, 85: 6, 86: 6, 87: 9, 88: 9, 89: 9, 90: 11, 91: 11, 92: 14, 93: 14, 94: 14, 95: 16, 96: 16, 97: 15, 98: 15, 99: 21, 100: 21, 101: 21, 102: 21, 103: 22, 104: 22, 105: 26, 106: 26, 107: 26, 108: 26, 109: 11, 110: 11, 111: 31, 112: 31, 113: 31, 114: 8, 115: 8, 116: 35, 117: 35, 118: 35, 119: 0, 120: 0, 121: 1, 122: 1, 123: 1, 124: 1, 125: 6, 126: 6, 127: 17, 128: 17, 129: 7, 130: 7, 131: 11, 132: 11, 133: 12, 134: 12, 135: 12, 136: 14, 137: 14, 138: 16, 139: 16, 140: 16, 141: 19, 142: 19, 143: 19, 144: 22, 145: 22, 146: 24, 147: 24, 148: 24}\n",
      "addx 2 {1: 1, 2: 1, 3: 1, 4: 1, 5: 6, 6: 6, 7: 9, 8: 9, 9: 7, 10: 7, 11: 7, 12: 12, 13: 12, 14: 16, 15: 16, 16: 16, 17: 19, 18: 19, 19: 19, 20: 21, 21: 21, 22: 4, 23: 4, 24: 22, 25: 22, 26: 25, 27: 25, 28: 26, 29: 26, 30: 26, 31: 31, 32: 31, 33: 31, 34: 32, 35: 32, 36: 34, 37: 34, 38: 39, 39: 39, 40: -1, 41: -1, 42: -1, 43: 4, 44: 4, 45: 6, 46: 6, 47: 9, 48: 9, 49: 9, 50: 11, 51: 11, 52: 14, 53: 14, 54: 12, 55: 12, 56: 14, 57: 14, 58: 16, 59: 16, 60: 16, 61: 19, 62: 19, 63: 24, 64: 24, 65: 26, 66: 26, 67: 29, 68: 29, 69: 27, 70: 27, 71: 29, 72: 29, 73: 5, 74: 5, 75: 36, 76: 36, 77: 38, 78: 38, 79: 5, 80: 5, 81: -1, 82: -1, 83: 4, 84: 4, 85: 6, 86: 6, 87: 9, 88: 9, 89: 9, 90: 11, 91: 11, 92: 14, 93: 14, 94: 14, 95: 16, 96: 16, 97: 15, 98: 15, 99: 21, 100: 21, 101: 21, 102: 21, 103: 22, 104: 22, 105: 26, 106: 26, 107: 26, 108: 26, 109: 11, 110: 11, 111: 31, 112: 31, 113: 31, 114: 8, 115: 8, 116: 35, 117: 35, 118: 35, 119: 0, 120: 0, 121: 1, 122: 1, 123: 1, 124: 1, 125: 6, 126: 6, 127: 17, 128: 17, 129: 7, 130: 7, 131: 11, 132: 11, 133: 12, 134: 12, 135: 12, 136: 14, 137: 14, 138: 16, 139: 16, 140: 16, 141: 19, 142: 19, 143: 19, 144: 22, 145: 22, 146: 24, 147: 24, 148: 24, 149: 27, 150: 27}\n",
      "addx 11 {1: 1, 2: 1, 3: 1, 4: 1, 5: 6, 6: 6, 7: 9, 8: 9, 9: 7, 10: 7, 11: 7, 12: 12, 13: 12, 14: 16, 15: 16, 16: 16, 17: 19, 18: 19, 19: 19, 20: 21, 21: 21, 22: 4, 23: 4, 24: 22, 25: 22, 26: 25, 27: 25, 28: 26, 29: 26, 30: 26, 31: 31, 32: 31, 33: 31, 34: 32, 35: 32, 36: 34, 37: 34, 38: 39, 39: 39, 40: -1, 41: -1, 42: -1, 43: 4, 44: 4, 45: 6, 46: 6, 47: 9, 48: 9, 49: 9, 50: 11, 51: 11, 52: 14, 53: 14, 54: 12, 55: 12, 56: 14, 57: 14, 58: 16, 59: 16, 60: 16, 61: 19, 62: 19, 63: 24, 64: 24, 65: 26, 66: 26, 67: 29, 68: 29, 69: 27, 70: 27, 71: 29, 72: 29, 73: 5, 74: 5, 75: 36, 76: 36, 77: 38, 78: 38, 79: 5, 80: 5, 81: -1, 82: -1, 83: 4, 84: 4, 85: 6, 86: 6, 87: 9, 88: 9, 89: 9, 90: 11, 91: 11, 92: 14, 93: 14, 94: 14, 95: 16, 96: 16, 97: 15, 98: 15, 99: 21, 100: 21, 101: 21, 102: 21, 103: 22, 104: 22, 105: 26, 106: 26, 107: 26, 108: 26, 109: 11, 110: 11, 111: 31, 112: 31, 113: 31, 114: 8, 115: 8, 116: 35, 117: 35, 118: 35, 119: 0, 120: 0, 121: 1, 122: 1, 123: 1, 124: 1, 125: 6, 126: 6, 127: 17, 128: 17, 129: 7, 130: 7, 131: 11, 132: 11, 133: 12, 134: 12, 135: 12, 136: 14, 137: 14, 138: 16, 139: 16, 140: 16, 141: 19, 142: 19, 143: 19, 144: 22, 145: 22, 146: 24, 147: 24, 148: 24, 149: 27, 150: 27, 151: 29, 152: 29}\n",
      "addx -4 {1: 1, 2: 1, 3: 1, 4: 1, 5: 6, 6: 6, 7: 9, 8: 9, 9: 7, 10: 7, 11: 7, 12: 12, 13: 12, 14: 16, 15: 16, 16: 16, 17: 19, 18: 19, 19: 19, 20: 21, 21: 21, 22: 4, 23: 4, 24: 22, 25: 22, 26: 25, 27: 25, 28: 26, 29: 26, 30: 26, 31: 31, 32: 31, 33: 31, 34: 32, 35: 32, 36: 34, 37: 34, 38: 39, 39: 39, 40: -1, 41: -1, 42: -1, 43: 4, 44: 4, 45: 6, 46: 6, 47: 9, 48: 9, 49: 9, 50: 11, 51: 11, 52: 14, 53: 14, 54: 12, 55: 12, 56: 14, 57: 14, 58: 16, 59: 16, 60: 16, 61: 19, 62: 19, 63: 24, 64: 24, 65: 26, 66: 26, 67: 29, 68: 29, 69: 27, 70: 27, 71: 29, 72: 29, 73: 5, 74: 5, 75: 36, 76: 36, 77: 38, 78: 38, 79: 5, 80: 5, 81: -1, 82: -1, 83: 4, 84: 4, 85: 6, 86: 6, 87: 9, 88: 9, 89: 9, 90: 11, 91: 11, 92: 14, 93: 14, 94: 14, 95: 16, 96: 16, 97: 15, 98: 15, 99: 21, 100: 21, 101: 21, 102: 21, 103: 22, 104: 22, 105: 26, 106: 26, 107: 26, 108: 26, 109: 11, 110: 11, 111: 31, 112: 31, 113: 31, 114: 8, 115: 8, 116: 35, 117: 35, 118: 35, 119: 0, 120: 0, 121: 1, 122: 1, 123: 1, 124: 1, 125: 6, 126: 6, 127: 17, 128: 17, 129: 7, 130: 7, 131: 11, 132: 11, 133: 12, 134: 12, 135: 12, 136: 14, 137: 14, 138: 16, 139: 16, 140: 16, 141: 19, 142: 19, 143: 19, 144: 22, 145: 22, 146: 24, 147: 24, 148: 24, 149: 27, 150: 27, 151: 29, 152: 29, 153: 40, 154: 40}\n",
      "addx 2 {1: 1, 2: 1, 3: 1, 4: 1, 5: 6, 6: 6, 7: 9, 8: 9, 9: 7, 10: 7, 11: 7, 12: 12, 13: 12, 14: 16, 15: 16, 16: 16, 17: 19, 18: 19, 19: 19, 20: 21, 21: 21, 22: 4, 23: 4, 24: 22, 25: 22, 26: 25, 27: 25, 28: 26, 29: 26, 30: 26, 31: 31, 32: 31, 33: 31, 34: 32, 35: 32, 36: 34, 37: 34, 38: 39, 39: 39, 40: -1, 41: -1, 42: -1, 43: 4, 44: 4, 45: 6, 46: 6, 47: 9, 48: 9, 49: 9, 50: 11, 51: 11, 52: 14, 53: 14, 54: 12, 55: 12, 56: 14, 57: 14, 58: 16, 59: 16, 60: 16, 61: 19, 62: 19, 63: 24, 64: 24, 65: 26, 66: 26, 67: 29, 68: 29, 69: 27, 70: 27, 71: 29, 72: 29, 73: 5, 74: 5, 75: 36, 76: 36, 77: 38, 78: 38, 79: 5, 80: 5, 81: -1, 82: -1, 83: 4, 84: 4, 85: 6, 86: 6, 87: 9, 88: 9, 89: 9, 90: 11, 91: 11, 92: 14, 93: 14, 94: 14, 95: 16, 96: 16, 97: 15, 98: 15, 99: 21, 100: 21, 101: 21, 102: 21, 103: 22, 104: 22, 105: 26, 106: 26, 107: 26, 108: 26, 109: 11, 110: 11, 111: 31, 112: 31, 113: 31, 114: 8, 115: 8, 116: 35, 117: 35, 118: 35, 119: 0, 120: 0, 121: 1, 122: 1, 123: 1, 124: 1, 125: 6, 126: 6, 127: 17, 128: 17, 129: 7, 130: 7, 131: 11, 132: 11, 133: 12, 134: 12, 135: 12, 136: 14, 137: 14, 138: 16, 139: 16, 140: 16, 141: 19, 142: 19, 143: 19, 144: 22, 145: 22, 146: 24, 147: 24, 148: 24, 149: 27, 150: 27, 151: 29, 152: 29, 153: 40, 154: 40, 155: 36, 156: 36}\n",
      "addx -38 {1: 1, 2: 1, 3: 1, 4: 1, 5: 6, 6: 6, 7: 9, 8: 9, 9: 7, 10: 7, 11: 7, 12: 12, 13: 12, 14: 16, 15: 16, 16: 16, 17: 19, 18: 19, 19: 19, 20: 21, 21: 21, 22: 4, 23: 4, 24: 22, 25: 22, 26: 25, 27: 25, 28: 26, 29: 26, 30: 26, 31: 31, 32: 31, 33: 31, 34: 32, 35: 32, 36: 34, 37: 34, 38: 39, 39: 39, 40: -1, 41: -1, 42: -1, 43: 4, 44: 4, 45: 6, 46: 6, 47: 9, 48: 9, 49: 9, 50: 11, 51: 11, 52: 14, 53: 14, 54: 12, 55: 12, 56: 14, 57: 14, 58: 16, 59: 16, 60: 16, 61: 19, 62: 19, 63: 24, 64: 24, 65: 26, 66: 26, 67: 29, 68: 29, 69: 27, 70: 27, 71: 29, 72: 29, 73: 5, 74: 5, 75: 36, 76: 36, 77: 38, 78: 38, 79: 5, 80: 5, 81: -1, 82: -1, 83: 4, 84: 4, 85: 6, 86: 6, 87: 9, 88: 9, 89: 9, 90: 11, 91: 11, 92: 14, 93: 14, 94: 14, 95: 16, 96: 16, 97: 15, 98: 15, 99: 21, 100: 21, 101: 21, 102: 21, 103: 22, 104: 22, 105: 26, 106: 26, 107: 26, 108: 26, 109: 11, 110: 11, 111: 31, 112: 31, 113: 31, 114: 8, 115: 8, 116: 35, 117: 35, 118: 35, 119: 0, 120: 0, 121: 1, 122: 1, 123: 1, 124: 1, 125: 6, 126: 6, 127: 17, 128: 17, 129: 7, 130: 7, 131: 11, 132: 11, 133: 12, 134: 12, 135: 12, 136: 14, 137: 14, 138: 16, 139: 16, 140: 16, 141: 19, 142: 19, 143: 19, 144: 22, 145: 22, 146: 24, 147: 24, 148: 24, 149: 27, 150: 27, 151: 29, 152: 29, 153: 40, 154: 40, 155: 36, 156: 36, 157: 38, 158: 38}\n",
      "addx -1 {1: 1, 2: 1, 3: 1, 4: 1, 5: 6, 6: 6, 7: 9, 8: 9, 9: 7, 10: 7, 11: 7, 12: 12, 13: 12, 14: 16, 15: 16, 16: 16, 17: 19, 18: 19, 19: 19, 20: 21, 21: 21, 22: 4, 23: 4, 24: 22, 25: 22, 26: 25, 27: 25, 28: 26, 29: 26, 30: 26, 31: 31, 32: 31, 33: 31, 34: 32, 35: 32, 36: 34, 37: 34, 38: 39, 39: 39, 40: -1, 41: -1, 42: -1, 43: 4, 44: 4, 45: 6, 46: 6, 47: 9, 48: 9, 49: 9, 50: 11, 51: 11, 52: 14, 53: 14, 54: 12, 55: 12, 56: 14, 57: 14, 58: 16, 59: 16, 60: 16, 61: 19, 62: 19, 63: 24, 64: 24, 65: 26, 66: 26, 67: 29, 68: 29, 69: 27, 70: 27, 71: 29, 72: 29, 73: 5, 74: 5, 75: 36, 76: 36, 77: 38, 78: 38, 79: 5, 80: 5, 81: -1, 82: -1, 83: 4, 84: 4, 85: 6, 86: 6, 87: 9, 88: 9, 89: 9, 90: 11, 91: 11, 92: 14, 93: 14, 94: 14, 95: 16, 96: 16, 97: 15, 98: 15, 99: 21, 100: 21, 101: 21, 102: 21, 103: 22, 104: 22, 105: 26, 106: 26, 107: 26, 108: 26, 109: 11, 110: 11, 111: 31, 112: 31, 113: 31, 114: 8, 115: 8, 116: 35, 117: 35, 118: 35, 119: 0, 120: 0, 121: 1, 122: 1, 123: 1, 124: 1, 125: 6, 126: 6, 127: 17, 128: 17, 129: 7, 130: 7, 131: 11, 132: 11, 133: 12, 134: 12, 135: 12, 136: 14, 137: 14, 138: 16, 139: 16, 140: 16, 141: 19, 142: 19, 143: 19, 144: 22, 145: 22, 146: 24, 147: 24, 148: 24, 149: 27, 150: 27, 151: 29, 152: 29, 153: 40, 154: 40, 155: 36, 156: 36, 157: 38, 158: 38, 159: 0, 160: 0}\n",
      "addx 2 {1: 1, 2: 1, 3: 1, 4: 1, 5: 6, 6: 6, 7: 9, 8: 9, 9: 7, 10: 7, 11: 7, 12: 12, 13: 12, 14: 16, 15: 16, 16: 16, 17: 19, 18: 19, 19: 19, 20: 21, 21: 21, 22: 4, 23: 4, 24: 22, 25: 22, 26: 25, 27: 25, 28: 26, 29: 26, 30: 26, 31: 31, 32: 31, 33: 31, 34: 32, 35: 32, 36: 34, 37: 34, 38: 39, 39: 39, 40: -1, 41: -1, 42: -1, 43: 4, 44: 4, 45: 6, 46: 6, 47: 9, 48: 9, 49: 9, 50: 11, 51: 11, 52: 14, 53: 14, 54: 12, 55: 12, 56: 14, 57: 14, 58: 16, 59: 16, 60: 16, 61: 19, 62: 19, 63: 24, 64: 24, 65: 26, 66: 26, 67: 29, 68: 29, 69: 27, 70: 27, 71: 29, 72: 29, 73: 5, 74: 5, 75: 36, 76: 36, 77: 38, 78: 38, 79: 5, 80: 5, 81: -1, 82: -1, 83: 4, 84: 4, 85: 6, 86: 6, 87: 9, 88: 9, 89: 9, 90: 11, 91: 11, 92: 14, 93: 14, 94: 14, 95: 16, 96: 16, 97: 15, 98: 15, 99: 21, 100: 21, 101: 21, 102: 21, 103: 22, 104: 22, 105: 26, 106: 26, 107: 26, 108: 26, 109: 11, 110: 11, 111: 31, 112: 31, 113: 31, 114: 8, 115: 8, 116: 35, 117: 35, 118: 35, 119: 0, 120: 0, 121: 1, 122: 1, 123: 1, 124: 1, 125: 6, 126: 6, 127: 17, 128: 17, 129: 7, 130: 7, 131: 11, 132: 11, 133: 12, 134: 12, 135: 12, 136: 14, 137: 14, 138: 16, 139: 16, 140: 16, 141: 19, 142: 19, 143: 19, 144: 22, 145: 22, 146: 24, 147: 24, 148: 24, 149: 27, 150: 27, 151: 29, 152: 29, 153: 40, 154: 40, 155: 36, 156: 36, 157: 38, 158: 38, 159: 0, 160: 0, 161: -1, 162: -1}\n",
      "noop {1: 1, 2: 1, 3: 1, 4: 1, 5: 6, 6: 6, 7: 9, 8: 9, 9: 7, 10: 7, 11: 7, 12: 12, 13: 12, 14: 16, 15: 16, 16: 16, 17: 19, 18: 19, 19: 19, 20: 21, 21: 21, 22: 4, 23: 4, 24: 22, 25: 22, 26: 25, 27: 25, 28: 26, 29: 26, 30: 26, 31: 31, 32: 31, 33: 31, 34: 32, 35: 32, 36: 34, 37: 34, 38: 39, 39: 39, 40: -1, 41: -1, 42: -1, 43: 4, 44: 4, 45: 6, 46: 6, 47: 9, 48: 9, 49: 9, 50: 11, 51: 11, 52: 14, 53: 14, 54: 12, 55: 12, 56: 14, 57: 14, 58: 16, 59: 16, 60: 16, 61: 19, 62: 19, 63: 24, 64: 24, 65: 26, 66: 26, 67: 29, 68: 29, 69: 27, 70: 27, 71: 29, 72: 29, 73: 5, 74: 5, 75: 36, 76: 36, 77: 38, 78: 38, 79: 5, 80: 5, 81: -1, 82: -1, 83: 4, 84: 4, 85: 6, 86: 6, 87: 9, 88: 9, 89: 9, 90: 11, 91: 11, 92: 14, 93: 14, 94: 14, 95: 16, 96: 16, 97: 15, 98: 15, 99: 21, 100: 21, 101: 21, 102: 21, 103: 22, 104: 22, 105: 26, 106: 26, 107: 26, 108: 26, 109: 11, 110: 11, 111: 31, 112: 31, 113: 31, 114: 8, 115: 8, 116: 35, 117: 35, 118: 35, 119: 0, 120: 0, 121: 1, 122: 1, 123: 1, 124: 1, 125: 6, 126: 6, 127: 17, 128: 17, 129: 7, 130: 7, 131: 11, 132: 11, 133: 12, 134: 12, 135: 12, 136: 14, 137: 14, 138: 16, 139: 16, 140: 16, 141: 19, 142: 19, 143: 19, 144: 22, 145: 22, 146: 24, 147: 24, 148: 24, 149: 27, 150: 27, 151: 29, 152: 29, 153: 40, 154: 40, 155: 36, 156: 36, 157: 38, 158: 38, 159: 0, 160: 0, 161: -1, 162: -1, 163: 1}\n",
      "addx 3 {1: 1, 2: 1, 3: 1, 4: 1, 5: 6, 6: 6, 7: 9, 8: 9, 9: 7, 10: 7, 11: 7, 12: 12, 13: 12, 14: 16, 15: 16, 16: 16, 17: 19, 18: 19, 19: 19, 20: 21, 21: 21, 22: 4, 23: 4, 24: 22, 25: 22, 26: 25, 27: 25, 28: 26, 29: 26, 30: 26, 31: 31, 32: 31, 33: 31, 34: 32, 35: 32, 36: 34, 37: 34, 38: 39, 39: 39, 40: -1, 41: -1, 42: -1, 43: 4, 44: 4, 45: 6, 46: 6, 47: 9, 48: 9, 49: 9, 50: 11, 51: 11, 52: 14, 53: 14, 54: 12, 55: 12, 56: 14, 57: 14, 58: 16, 59: 16, 60: 16, 61: 19, 62: 19, 63: 24, 64: 24, 65: 26, 66: 26, 67: 29, 68: 29, 69: 27, 70: 27, 71: 29, 72: 29, 73: 5, 74: 5, 75: 36, 76: 36, 77: 38, 78: 38, 79: 5, 80: 5, 81: -1, 82: -1, 83: 4, 84: 4, 85: 6, 86: 6, 87: 9, 88: 9, 89: 9, 90: 11, 91: 11, 92: 14, 93: 14, 94: 14, 95: 16, 96: 16, 97: 15, 98: 15, 99: 21, 100: 21, 101: 21, 102: 21, 103: 22, 104: 22, 105: 26, 106: 26, 107: 26, 108: 26, 109: 11, 110: 11, 111: 31, 112: 31, 113: 31, 114: 8, 115: 8, 116: 35, 117: 35, 118: 35, 119: 0, 120: 0, 121: 1, 122: 1, 123: 1, 124: 1, 125: 6, 126: 6, 127: 17, 128: 17, 129: 7, 130: 7, 131: 11, 132: 11, 133: 12, 134: 12, 135: 12, 136: 14, 137: 14, 138: 16, 139: 16, 140: 16, 141: 19, 142: 19, 143: 19, 144: 22, 145: 22, 146: 24, 147: 24, 148: 24, 149: 27, 150: 27, 151: 29, 152: 29, 153: 40, 154: 40, 155: 36, 156: 36, 157: 38, 158: 38, 159: 0, 160: 0, 161: -1, 162: -1, 163: 1, 164: 1, 165: 1}\n",
      "addx 5 {1: 1, 2: 1, 3: 1, 4: 1, 5: 6, 6: 6, 7: 9, 8: 9, 9: 7, 10: 7, 11: 7, 12: 12, 13: 12, 14: 16, 15: 16, 16: 16, 17: 19, 18: 19, 19: 19, 20: 21, 21: 21, 22: 4, 23: 4, 24: 22, 25: 22, 26: 25, 27: 25, 28: 26, 29: 26, 30: 26, 31: 31, 32: 31, 33: 31, 34: 32, 35: 32, 36: 34, 37: 34, 38: 39, 39: 39, 40: -1, 41: -1, 42: -1, 43: 4, 44: 4, 45: 6, 46: 6, 47: 9, 48: 9, 49: 9, 50: 11, 51: 11, 52: 14, 53: 14, 54: 12, 55: 12, 56: 14, 57: 14, 58: 16, 59: 16, 60: 16, 61: 19, 62: 19, 63: 24, 64: 24, 65: 26, 66: 26, 67: 29, 68: 29, 69: 27, 70: 27, 71: 29, 72: 29, 73: 5, 74: 5, 75: 36, 76: 36, 77: 38, 78: 38, 79: 5, 80: 5, 81: -1, 82: -1, 83: 4, 84: 4, 85: 6, 86: 6, 87: 9, 88: 9, 89: 9, 90: 11, 91: 11, 92: 14, 93: 14, 94: 14, 95: 16, 96: 16, 97: 15, 98: 15, 99: 21, 100: 21, 101: 21, 102: 21, 103: 22, 104: 22, 105: 26, 106: 26, 107: 26, 108: 26, 109: 11, 110: 11, 111: 31, 112: 31, 113: 31, 114: 8, 115: 8, 116: 35, 117: 35, 118: 35, 119: 0, 120: 0, 121: 1, 122: 1, 123: 1, 124: 1, 125: 6, 126: 6, 127: 17, 128: 17, 129: 7, 130: 7, 131: 11, 132: 11, 133: 12, 134: 12, 135: 12, 136: 14, 137: 14, 138: 16, 139: 16, 140: 16, 141: 19, 142: 19, 143: 19, 144: 22, 145: 22, 146: 24, 147: 24, 148: 24, 149: 27, 150: 27, 151: 29, 152: 29, 153: 40, 154: 40, 155: 36, 156: 36, 157: 38, 158: 38, 159: 0, 160: 0, 161: -1, 162: -1, 163: 1, 164: 1, 165: 1, 166: 4, 167: 4}\n",
      "addx 2 {1: 1, 2: 1, 3: 1, 4: 1, 5: 6, 6: 6, 7: 9, 8: 9, 9: 7, 10: 7, 11: 7, 12: 12, 13: 12, 14: 16, 15: 16, 16: 16, 17: 19, 18: 19, 19: 19, 20: 21, 21: 21, 22: 4, 23: 4, 24: 22, 25: 22, 26: 25, 27: 25, 28: 26, 29: 26, 30: 26, 31: 31, 32: 31, 33: 31, 34: 32, 35: 32, 36: 34, 37: 34, 38: 39, 39: 39, 40: -1, 41: -1, 42: -1, 43: 4, 44: 4, 45: 6, 46: 6, 47: 9, 48: 9, 49: 9, 50: 11, 51: 11, 52: 14, 53: 14, 54: 12, 55: 12, 56: 14, 57: 14, 58: 16, 59: 16, 60: 16, 61: 19, 62: 19, 63: 24, 64: 24, 65: 26, 66: 26, 67: 29, 68: 29, 69: 27, 70: 27, 71: 29, 72: 29, 73: 5, 74: 5, 75: 36, 76: 36, 77: 38, 78: 38, 79: 5, 80: 5, 81: -1, 82: -1, 83: 4, 84: 4, 85: 6, 86: 6, 87: 9, 88: 9, 89: 9, 90: 11, 91: 11, 92: 14, 93: 14, 94: 14, 95: 16, 96: 16, 97: 15, 98: 15, 99: 21, 100: 21, 101: 21, 102: 21, 103: 22, 104: 22, 105: 26, 106: 26, 107: 26, 108: 26, 109: 11, 110: 11, 111: 31, 112: 31, 113: 31, 114: 8, 115: 8, 116: 35, 117: 35, 118: 35, 119: 0, 120: 0, 121: 1, 122: 1, 123: 1, 124: 1, 125: 6, 126: 6, 127: 17, 128: 17, 129: 7, 130: 7, 131: 11, 132: 11, 133: 12, 134: 12, 135: 12, 136: 14, 137: 14, 138: 16, 139: 16, 140: 16, 141: 19, 142: 19, 143: 19, 144: 22, 145: 22, 146: 24, 147: 24, 148: 24, 149: 27, 150: 27, 151: 29, 152: 29, 153: 40, 154: 40, 155: 36, 156: 36, 157: 38, 158: 38, 159: 0, 160: 0, 161: -1, 162: -1, 163: 1, 164: 1, 165: 1, 166: 4, 167: 4, 168: 9, 169: 9}\n",
      "addx -7 {1: 1, 2: 1, 3: 1, 4: 1, 5: 6, 6: 6, 7: 9, 8: 9, 9: 7, 10: 7, 11: 7, 12: 12, 13: 12, 14: 16, 15: 16, 16: 16, 17: 19, 18: 19, 19: 19, 20: 21, 21: 21, 22: 4, 23: 4, 24: 22, 25: 22, 26: 25, 27: 25, 28: 26, 29: 26, 30: 26, 31: 31, 32: 31, 33: 31, 34: 32, 35: 32, 36: 34, 37: 34, 38: 39, 39: 39, 40: -1, 41: -1, 42: -1, 43: 4, 44: 4, 45: 6, 46: 6, 47: 9, 48: 9, 49: 9, 50: 11, 51: 11, 52: 14, 53: 14, 54: 12, 55: 12, 56: 14, 57: 14, 58: 16, 59: 16, 60: 16, 61: 19, 62: 19, 63: 24, 64: 24, 65: 26, 66: 26, 67: 29, 68: 29, 69: 27, 70: 27, 71: 29, 72: 29, 73: 5, 74: 5, 75: 36, 76: 36, 77: 38, 78: 38, 79: 5, 80: 5, 81: -1, 82: -1, 83: 4, 84: 4, 85: 6, 86: 6, 87: 9, 88: 9, 89: 9, 90: 11, 91: 11, 92: 14, 93: 14, 94: 14, 95: 16, 96: 16, 97: 15, 98: 15, 99: 21, 100: 21, 101: 21, 102: 21, 103: 22, 104: 22, 105: 26, 106: 26, 107: 26, 108: 26, 109: 11, 110: 11, 111: 31, 112: 31, 113: 31, 114: 8, 115: 8, 116: 35, 117: 35, 118: 35, 119: 0, 120: 0, 121: 1, 122: 1, 123: 1, 124: 1, 125: 6, 126: 6, 127: 17, 128: 17, 129: 7, 130: 7, 131: 11, 132: 11, 133: 12, 134: 12, 135: 12, 136: 14, 137: 14, 138: 16, 139: 16, 140: 16, 141: 19, 142: 19, 143: 19, 144: 22, 145: 22, 146: 24, 147: 24, 148: 24, 149: 27, 150: 27, 151: 29, 152: 29, 153: 40, 154: 40, 155: 36, 156: 36, 157: 38, 158: 38, 159: 0, 160: 0, 161: -1, 162: -1, 163: 1, 164: 1, 165: 1, 166: 4, 167: 4, 168: 9, 169: 9, 170: 11, 171: 11}\n",
      "addx 8 {1: 1, 2: 1, 3: 1, 4: 1, 5: 6, 6: 6, 7: 9, 8: 9, 9: 7, 10: 7, 11: 7, 12: 12, 13: 12, 14: 16, 15: 16, 16: 16, 17: 19, 18: 19, 19: 19, 20: 21, 21: 21, 22: 4, 23: 4, 24: 22, 25: 22, 26: 25, 27: 25, 28: 26, 29: 26, 30: 26, 31: 31, 32: 31, 33: 31, 34: 32, 35: 32, 36: 34, 37: 34, 38: 39, 39: 39, 40: -1, 41: -1, 42: -1, 43: 4, 44: 4, 45: 6, 46: 6, 47: 9, 48: 9, 49: 9, 50: 11, 51: 11, 52: 14, 53: 14, 54: 12, 55: 12, 56: 14, 57: 14, 58: 16, 59: 16, 60: 16, 61: 19, 62: 19, 63: 24, 64: 24, 65: 26, 66: 26, 67: 29, 68: 29, 69: 27, 70: 27, 71: 29, 72: 29, 73: 5, 74: 5, 75: 36, 76: 36, 77: 38, 78: 38, 79: 5, 80: 5, 81: -1, 82: -1, 83: 4, 84: 4, 85: 6, 86: 6, 87: 9, 88: 9, 89: 9, 90: 11, 91: 11, 92: 14, 93: 14, 94: 14, 95: 16, 96: 16, 97: 15, 98: 15, 99: 21, 100: 21, 101: 21, 102: 21, 103: 22, 104: 22, 105: 26, 106: 26, 107: 26, 108: 26, 109: 11, 110: 11, 111: 31, 112: 31, 113: 31, 114: 8, 115: 8, 116: 35, 117: 35, 118: 35, 119: 0, 120: 0, 121: 1, 122: 1, 123: 1, 124: 1, 125: 6, 126: 6, 127: 17, 128: 17, 129: 7, 130: 7, 131: 11, 132: 11, 133: 12, 134: 12, 135: 12, 136: 14, 137: 14, 138: 16, 139: 16, 140: 16, 141: 19, 142: 19, 143: 19, 144: 22, 145: 22, 146: 24, 147: 24, 148: 24, 149: 27, 150: 27, 151: 29, 152: 29, 153: 40, 154: 40, 155: 36, 156: 36, 157: 38, 158: 38, 159: 0, 160: 0, 161: -1, 162: -1, 163: 1, 164: 1, 165: 1, 166: 4, 167: 4, 168: 9, 169: 9, 170: 11, 171: 11, 172: 4, 173: 4}\n",
      "addx 2 {1: 1, 2: 1, 3: 1, 4: 1, 5: 6, 6: 6, 7: 9, 8: 9, 9: 7, 10: 7, 11: 7, 12: 12, 13: 12, 14: 16, 15: 16, 16: 16, 17: 19, 18: 19, 19: 19, 20: 21, 21: 21, 22: 4, 23: 4, 24: 22, 25: 22, 26: 25, 27: 25, 28: 26, 29: 26, 30: 26, 31: 31, 32: 31, 33: 31, 34: 32, 35: 32, 36: 34, 37: 34, 38: 39, 39: 39, 40: -1, 41: -1, 42: -1, 43: 4, 44: 4, 45: 6, 46: 6, 47: 9, 48: 9, 49: 9, 50: 11, 51: 11, 52: 14, 53: 14, 54: 12, 55: 12, 56: 14, 57: 14, 58: 16, 59: 16, 60: 16, 61: 19, 62: 19, 63: 24, 64: 24, 65: 26, 66: 26, 67: 29, 68: 29, 69: 27, 70: 27, 71: 29, 72: 29, 73: 5, 74: 5, 75: 36, 76: 36, 77: 38, 78: 38, 79: 5, 80: 5, 81: -1, 82: -1, 83: 4, 84: 4, 85: 6, 86: 6, 87: 9, 88: 9, 89: 9, 90: 11, 91: 11, 92: 14, 93: 14, 94: 14, 95: 16, 96: 16, 97: 15, 98: 15, 99: 21, 100: 21, 101: 21, 102: 21, 103: 22, 104: 22, 105: 26, 106: 26, 107: 26, 108: 26, 109: 11, 110: 11, 111: 31, 112: 31, 113: 31, 114: 8, 115: 8, 116: 35, 117: 35, 118: 35, 119: 0, 120: 0, 121: 1, 122: 1, 123: 1, 124: 1, 125: 6, 126: 6, 127: 17, 128: 17, 129: 7, 130: 7, 131: 11, 132: 11, 133: 12, 134: 12, 135: 12, 136: 14, 137: 14, 138: 16, 139: 16, 140: 16, 141: 19, 142: 19, 143: 19, 144: 22, 145: 22, 146: 24, 147: 24, 148: 24, 149: 27, 150: 27, 151: 29, 152: 29, 153: 40, 154: 40, 155: 36, 156: 36, 157: 38, 158: 38, 159: 0, 160: 0, 161: -1, 162: -1, 163: 1, 164: 1, 165: 1, 166: 4, 167: 4, 168: 9, 169: 9, 170: 11, 171: 11, 172: 4, 173: 4, 174: 12, 175: 12}\n",
      "addx 2 {1: 1, 2: 1, 3: 1, 4: 1, 5: 6, 6: 6, 7: 9, 8: 9, 9: 7, 10: 7, 11: 7, 12: 12, 13: 12, 14: 16, 15: 16, 16: 16, 17: 19, 18: 19, 19: 19, 20: 21, 21: 21, 22: 4, 23: 4, 24: 22, 25: 22, 26: 25, 27: 25, 28: 26, 29: 26, 30: 26, 31: 31, 32: 31, 33: 31, 34: 32, 35: 32, 36: 34, 37: 34, 38: 39, 39: 39, 40: -1, 41: -1, 42: -1, 43: 4, 44: 4, 45: 6, 46: 6, 47: 9, 48: 9, 49: 9, 50: 11, 51: 11, 52: 14, 53: 14, 54: 12, 55: 12, 56: 14, 57: 14, 58: 16, 59: 16, 60: 16, 61: 19, 62: 19, 63: 24, 64: 24, 65: 26, 66: 26, 67: 29, 68: 29, 69: 27, 70: 27, 71: 29, 72: 29, 73: 5, 74: 5, 75: 36, 76: 36, 77: 38, 78: 38, 79: 5, 80: 5, 81: -1, 82: -1, 83: 4, 84: 4, 85: 6, 86: 6, 87: 9, 88: 9, 89: 9, 90: 11, 91: 11, 92: 14, 93: 14, 94: 14, 95: 16, 96: 16, 97: 15, 98: 15, 99: 21, 100: 21, 101: 21, 102: 21, 103: 22, 104: 22, 105: 26, 106: 26, 107: 26, 108: 26, 109: 11, 110: 11, 111: 31, 112: 31, 113: 31, 114: 8, 115: 8, 116: 35, 117: 35, 118: 35, 119: 0, 120: 0, 121: 1, 122: 1, 123: 1, 124: 1, 125: 6, 126: 6, 127: 17, 128: 17, 129: 7, 130: 7, 131: 11, 132: 11, 133: 12, 134: 12, 135: 12, 136: 14, 137: 14, 138: 16, 139: 16, 140: 16, 141: 19, 142: 19, 143: 19, 144: 22, 145: 22, 146: 24, 147: 24, 148: 24, 149: 27, 150: 27, 151: 29, 152: 29, 153: 40, 154: 40, 155: 36, 156: 36, 157: 38, 158: 38, 159: 0, 160: 0, 161: -1, 162: -1, 163: 1, 164: 1, 165: 1, 166: 4, 167: 4, 168: 9, 169: 9, 170: 11, 171: 11, 172: 4, 173: 4, 174: 12, 175: 12, 176: 14, 177: 14}\n",
      "noop {1: 1, 2: 1, 3: 1, 4: 1, 5: 6, 6: 6, 7: 9, 8: 9, 9: 7, 10: 7, 11: 7, 12: 12, 13: 12, 14: 16, 15: 16, 16: 16, 17: 19, 18: 19, 19: 19, 20: 21, 21: 21, 22: 4, 23: 4, 24: 22, 25: 22, 26: 25, 27: 25, 28: 26, 29: 26, 30: 26, 31: 31, 32: 31, 33: 31, 34: 32, 35: 32, 36: 34, 37: 34, 38: 39, 39: 39, 40: -1, 41: -1, 42: -1, 43: 4, 44: 4, 45: 6, 46: 6, 47: 9, 48: 9, 49: 9, 50: 11, 51: 11, 52: 14, 53: 14, 54: 12, 55: 12, 56: 14, 57: 14, 58: 16, 59: 16, 60: 16, 61: 19, 62: 19, 63: 24, 64: 24, 65: 26, 66: 26, 67: 29, 68: 29, 69: 27, 70: 27, 71: 29, 72: 29, 73: 5, 74: 5, 75: 36, 76: 36, 77: 38, 78: 38, 79: 5, 80: 5, 81: -1, 82: -1, 83: 4, 84: 4, 85: 6, 86: 6, 87: 9, 88: 9, 89: 9, 90: 11, 91: 11, 92: 14, 93: 14, 94: 14, 95: 16, 96: 16, 97: 15, 98: 15, 99: 21, 100: 21, 101: 21, 102: 21, 103: 22, 104: 22, 105: 26, 106: 26, 107: 26, 108: 26, 109: 11, 110: 11, 111: 31, 112: 31, 113: 31, 114: 8, 115: 8, 116: 35, 117: 35, 118: 35, 119: 0, 120: 0, 121: 1, 122: 1, 123: 1, 124: 1, 125: 6, 126: 6, 127: 17, 128: 17, 129: 7, 130: 7, 131: 11, 132: 11, 133: 12, 134: 12, 135: 12, 136: 14, 137: 14, 138: 16, 139: 16, 140: 16, 141: 19, 142: 19, 143: 19, 144: 22, 145: 22, 146: 24, 147: 24, 148: 24, 149: 27, 150: 27, 151: 29, 152: 29, 153: 40, 154: 40, 155: 36, 156: 36, 157: 38, 158: 38, 159: 0, 160: 0, 161: -1, 162: -1, 163: 1, 164: 1, 165: 1, 166: 4, 167: 4, 168: 9, 169: 9, 170: 11, 171: 11, 172: 4, 173: 4, 174: 12, 175: 12, 176: 14, 177: 14, 178: 16}\n",
      "addx 3 {1: 1, 2: 1, 3: 1, 4: 1, 5: 6, 6: 6, 7: 9, 8: 9, 9: 7, 10: 7, 11: 7, 12: 12, 13: 12, 14: 16, 15: 16, 16: 16, 17: 19, 18: 19, 19: 19, 20: 21, 21: 21, 22: 4, 23: 4, 24: 22, 25: 22, 26: 25, 27: 25, 28: 26, 29: 26, 30: 26, 31: 31, 32: 31, 33: 31, 34: 32, 35: 32, 36: 34, 37: 34, 38: 39, 39: 39, 40: -1, 41: -1, 42: -1, 43: 4, 44: 4, 45: 6, 46: 6, 47: 9, 48: 9, 49: 9, 50: 11, 51: 11, 52: 14, 53: 14, 54: 12, 55: 12, 56: 14, 57: 14, 58: 16, 59: 16, 60: 16, 61: 19, 62: 19, 63: 24, 64: 24, 65: 26, 66: 26, 67: 29, 68: 29, 69: 27, 70: 27, 71: 29, 72: 29, 73: 5, 74: 5, 75: 36, 76: 36, 77: 38, 78: 38, 79: 5, 80: 5, 81: -1, 82: -1, 83: 4, 84: 4, 85: 6, 86: 6, 87: 9, 88: 9, 89: 9, 90: 11, 91: 11, 92: 14, 93: 14, 94: 14, 95: 16, 96: 16, 97: 15, 98: 15, 99: 21, 100: 21, 101: 21, 102: 21, 103: 22, 104: 22, 105: 26, 106: 26, 107: 26, 108: 26, 109: 11, 110: 11, 111: 31, 112: 31, 113: 31, 114: 8, 115: 8, 116: 35, 117: 35, 118: 35, 119: 0, 120: 0, 121: 1, 122: 1, 123: 1, 124: 1, 125: 6, 126: 6, 127: 17, 128: 17, 129: 7, 130: 7, 131: 11, 132: 11, 133: 12, 134: 12, 135: 12, 136: 14, 137: 14, 138: 16, 139: 16, 140: 16, 141: 19, 142: 19, 143: 19, 144: 22, 145: 22, 146: 24, 147: 24, 148: 24, 149: 27, 150: 27, 151: 29, 152: 29, 153: 40, 154: 40, 155: 36, 156: 36, 157: 38, 158: 38, 159: 0, 160: 0, 161: -1, 162: -1, 163: 1, 164: 1, 165: 1, 166: 4, 167: 4, 168: 9, 169: 9, 170: 11, 171: 11, 172: 4, 173: 4, 174: 12, 175: 12, 176: 14, 177: 14, 178: 16, 179: 16, 180: 16}\n",
      "addx 5 {1: 1, 2: 1, 3: 1, 4: 1, 5: 6, 6: 6, 7: 9, 8: 9, 9: 7, 10: 7, 11: 7, 12: 12, 13: 12, 14: 16, 15: 16, 16: 16, 17: 19, 18: 19, 19: 19, 20: 21, 21: 21, 22: 4, 23: 4, 24: 22, 25: 22, 26: 25, 27: 25, 28: 26, 29: 26, 30: 26, 31: 31, 32: 31, 33: 31, 34: 32, 35: 32, 36: 34, 37: 34, 38: 39, 39: 39, 40: -1, 41: -1, 42: -1, 43: 4, 44: 4, 45: 6, 46: 6, 47: 9, 48: 9, 49: 9, 50: 11, 51: 11, 52: 14, 53: 14, 54: 12, 55: 12, 56: 14, 57: 14, 58: 16, 59: 16, 60: 16, 61: 19, 62: 19, 63: 24, 64: 24, 65: 26, 66: 26, 67: 29, 68: 29, 69: 27, 70: 27, 71: 29, 72: 29, 73: 5, 74: 5, 75: 36, 76: 36, 77: 38, 78: 38, 79: 5, 80: 5, 81: -1, 82: -1, 83: 4, 84: 4, 85: 6, 86: 6, 87: 9, 88: 9, 89: 9, 90: 11, 91: 11, 92: 14, 93: 14, 94: 14, 95: 16, 96: 16, 97: 15, 98: 15, 99: 21, 100: 21, 101: 21, 102: 21, 103: 22, 104: 22, 105: 26, 106: 26, 107: 26, 108: 26, 109: 11, 110: 11, 111: 31, 112: 31, 113: 31, 114: 8, 115: 8, 116: 35, 117: 35, 118: 35, 119: 0, 120: 0, 121: 1, 122: 1, 123: 1, 124: 1, 125: 6, 126: 6, 127: 17, 128: 17, 129: 7, 130: 7, 131: 11, 132: 11, 133: 12, 134: 12, 135: 12, 136: 14, 137: 14, 138: 16, 139: 16, 140: 16, 141: 19, 142: 19, 143: 19, 144: 22, 145: 22, 146: 24, 147: 24, 148: 24, 149: 27, 150: 27, 151: 29, 152: 29, 153: 40, 154: 40, 155: 36, 156: 36, 157: 38, 158: 38, 159: 0, 160: 0, 161: -1, 162: -1, 163: 1, 164: 1, 165: 1, 166: 4, 167: 4, 168: 9, 169: 9, 170: 11, 171: 11, 172: 4, 173: 4, 174: 12, 175: 12, 176: 14, 177: 14, 178: 16, 179: 16, 180: 16, 181: 19, 182: 19}\n",
      "addx 2 {1: 1, 2: 1, 3: 1, 4: 1, 5: 6, 6: 6, 7: 9, 8: 9, 9: 7, 10: 7, 11: 7, 12: 12, 13: 12, 14: 16, 15: 16, 16: 16, 17: 19, 18: 19, 19: 19, 20: 21, 21: 21, 22: 4, 23: 4, 24: 22, 25: 22, 26: 25, 27: 25, 28: 26, 29: 26, 30: 26, 31: 31, 32: 31, 33: 31, 34: 32, 35: 32, 36: 34, 37: 34, 38: 39, 39: 39, 40: -1, 41: -1, 42: -1, 43: 4, 44: 4, 45: 6, 46: 6, 47: 9, 48: 9, 49: 9, 50: 11, 51: 11, 52: 14, 53: 14, 54: 12, 55: 12, 56: 14, 57: 14, 58: 16, 59: 16, 60: 16, 61: 19, 62: 19, 63: 24, 64: 24, 65: 26, 66: 26, 67: 29, 68: 29, 69: 27, 70: 27, 71: 29, 72: 29, 73: 5, 74: 5, 75: 36, 76: 36, 77: 38, 78: 38, 79: 5, 80: 5, 81: -1, 82: -1, 83: 4, 84: 4, 85: 6, 86: 6, 87: 9, 88: 9, 89: 9, 90: 11, 91: 11, 92: 14, 93: 14, 94: 14, 95: 16, 96: 16, 97: 15, 98: 15, 99: 21, 100: 21, 101: 21, 102: 21, 103: 22, 104: 22, 105: 26, 106: 26, 107: 26, 108: 26, 109: 11, 110: 11, 111: 31, 112: 31, 113: 31, 114: 8, 115: 8, 116: 35, 117: 35, 118: 35, 119: 0, 120: 0, 121: 1, 122: 1, 123: 1, 124: 1, 125: 6, 126: 6, 127: 17, 128: 17, 129: 7, 130: 7, 131: 11, 132: 11, 133: 12, 134: 12, 135: 12, 136: 14, 137: 14, 138: 16, 139: 16, 140: 16, 141: 19, 142: 19, 143: 19, 144: 22, 145: 22, 146: 24, 147: 24, 148: 24, 149: 27, 150: 27, 151: 29, 152: 29, 153: 40, 154: 40, 155: 36, 156: 36, 157: 38, 158: 38, 159: 0, 160: 0, 161: -1, 162: -1, 163: 1, 164: 1, 165: 1, 166: 4, 167: 4, 168: 9, 169: 9, 170: 11, 171: 11, 172: 4, 173: 4, 174: 12, 175: 12, 176: 14, 177: 14, 178: 16, 179: 16, 180: 16, 181: 19, 182: 19, 183: 24, 184: 24}\n",
      "addx -25 {1: 1, 2: 1, 3: 1, 4: 1, 5: 6, 6: 6, 7: 9, 8: 9, 9: 7, 10: 7, 11: 7, 12: 12, 13: 12, 14: 16, 15: 16, 16: 16, 17: 19, 18: 19, 19: 19, 20: 21, 21: 21, 22: 4, 23: 4, 24: 22, 25: 22, 26: 25, 27: 25, 28: 26, 29: 26, 30: 26, 31: 31, 32: 31, 33: 31, 34: 32, 35: 32, 36: 34, 37: 34, 38: 39, 39: 39, 40: -1, 41: -1, 42: -1, 43: 4, 44: 4, 45: 6, 46: 6, 47: 9, 48: 9, 49: 9, 50: 11, 51: 11, 52: 14, 53: 14, 54: 12, 55: 12, 56: 14, 57: 14, 58: 16, 59: 16, 60: 16, 61: 19, 62: 19, 63: 24, 64: 24, 65: 26, 66: 26, 67: 29, 68: 29, 69: 27, 70: 27, 71: 29, 72: 29, 73: 5, 74: 5, 75: 36, 76: 36, 77: 38, 78: 38, 79: 5, 80: 5, 81: -1, 82: -1, 83: 4, 84: 4, 85: 6, 86: 6, 87: 9, 88: 9, 89: 9, 90: 11, 91: 11, 92: 14, 93: 14, 94: 14, 95: 16, 96: 16, 97: 15, 98: 15, 99: 21, 100: 21, 101: 21, 102: 21, 103: 22, 104: 22, 105: 26, 106: 26, 107: 26, 108: 26, 109: 11, 110: 11, 111: 31, 112: 31, 113: 31, 114: 8, 115: 8, 116: 35, 117: 35, 118: 35, 119: 0, 120: 0, 121: 1, 122: 1, 123: 1, 124: 1, 125: 6, 126: 6, 127: 17, 128: 17, 129: 7, 130: 7, 131: 11, 132: 11, 133: 12, 134: 12, 135: 12, 136: 14, 137: 14, 138: 16, 139: 16, 140: 16, 141: 19, 142: 19, 143: 19, 144: 22, 145: 22, 146: 24, 147: 24, 148: 24, 149: 27, 150: 27, 151: 29, 152: 29, 153: 40, 154: 40, 155: 36, 156: 36, 157: 38, 158: 38, 159: 0, 160: 0, 161: -1, 162: -1, 163: 1, 164: 1, 165: 1, 166: 4, 167: 4, 168: 9, 169: 9, 170: 11, 171: 11, 172: 4, 173: 4, 174: 12, 175: 12, 176: 14, 177: 14, 178: 16, 179: 16, 180: 16, 181: 19, 182: 19, 183: 24, 184: 24, 185: 26, 186: 26}\n",
      "addx 26 {1: 1, 2: 1, 3: 1, 4: 1, 5: 6, 6: 6, 7: 9, 8: 9, 9: 7, 10: 7, 11: 7, 12: 12, 13: 12, 14: 16, 15: 16, 16: 16, 17: 19, 18: 19, 19: 19, 20: 21, 21: 21, 22: 4, 23: 4, 24: 22, 25: 22, 26: 25, 27: 25, 28: 26, 29: 26, 30: 26, 31: 31, 32: 31, 33: 31, 34: 32, 35: 32, 36: 34, 37: 34, 38: 39, 39: 39, 40: -1, 41: -1, 42: -1, 43: 4, 44: 4, 45: 6, 46: 6, 47: 9, 48: 9, 49: 9, 50: 11, 51: 11, 52: 14, 53: 14, 54: 12, 55: 12, 56: 14, 57: 14, 58: 16, 59: 16, 60: 16, 61: 19, 62: 19, 63: 24, 64: 24, 65: 26, 66: 26, 67: 29, 68: 29, 69: 27, 70: 27, 71: 29, 72: 29, 73: 5, 74: 5, 75: 36, 76: 36, 77: 38, 78: 38, 79: 5, 80: 5, 81: -1, 82: -1, 83: 4, 84: 4, 85: 6, 86: 6, 87: 9, 88: 9, 89: 9, 90: 11, 91: 11, 92: 14, 93: 14, 94: 14, 95: 16, 96: 16, 97: 15, 98: 15, 99: 21, 100: 21, 101: 21, 102: 21, 103: 22, 104: 22, 105: 26, 106: 26, 107: 26, 108: 26, 109: 11, 110: 11, 111: 31, 112: 31, 113: 31, 114: 8, 115: 8, 116: 35, 117: 35, 118: 35, 119: 0, 120: 0, 121: 1, 122: 1, 123: 1, 124: 1, 125: 6, 126: 6, 127: 17, 128: 17, 129: 7, 130: 7, 131: 11, 132: 11, 133: 12, 134: 12, 135: 12, 136: 14, 137: 14, 138: 16, 139: 16, 140: 16, 141: 19, 142: 19, 143: 19, 144: 22, 145: 22, 146: 24, 147: 24, 148: 24, 149: 27, 150: 27, 151: 29, 152: 29, 153: 40, 154: 40, 155: 36, 156: 36, 157: 38, 158: 38, 159: 0, 160: 0, 161: -1, 162: -1, 163: 1, 164: 1, 165: 1, 166: 4, 167: 4, 168: 9, 169: 9, 170: 11, 171: 11, 172: 4, 173: 4, 174: 12, 175: 12, 176: 14, 177: 14, 178: 16, 179: 16, 180: 16, 181: 19, 182: 19, 183: 24, 184: 24, 185: 26, 186: 26, 187: 1, 188: 1}\n",
      "addx 2 {1: 1, 2: 1, 3: 1, 4: 1, 5: 6, 6: 6, 7: 9, 8: 9, 9: 7, 10: 7, 11: 7, 12: 12, 13: 12, 14: 16, 15: 16, 16: 16, 17: 19, 18: 19, 19: 19, 20: 21, 21: 21, 22: 4, 23: 4, 24: 22, 25: 22, 26: 25, 27: 25, 28: 26, 29: 26, 30: 26, 31: 31, 32: 31, 33: 31, 34: 32, 35: 32, 36: 34, 37: 34, 38: 39, 39: 39, 40: -1, 41: -1, 42: -1, 43: 4, 44: 4, 45: 6, 46: 6, 47: 9, 48: 9, 49: 9, 50: 11, 51: 11, 52: 14, 53: 14, 54: 12, 55: 12, 56: 14, 57: 14, 58: 16, 59: 16, 60: 16, 61: 19, 62: 19, 63: 24, 64: 24, 65: 26, 66: 26, 67: 29, 68: 29, 69: 27, 70: 27, 71: 29, 72: 29, 73: 5, 74: 5, 75: 36, 76: 36, 77: 38, 78: 38, 79: 5, 80: 5, 81: -1, 82: -1, 83: 4, 84: 4, 85: 6, 86: 6, 87: 9, 88: 9, 89: 9, 90: 11, 91: 11, 92: 14, 93: 14, 94: 14, 95: 16, 96: 16, 97: 15, 98: 15, 99: 21, 100: 21, 101: 21, 102: 21, 103: 22, 104: 22, 105: 26, 106: 26, 107: 26, 108: 26, 109: 11, 110: 11, 111: 31, 112: 31, 113: 31, 114: 8, 115: 8, 116: 35, 117: 35, 118: 35, 119: 0, 120: 0, 121: 1, 122: 1, 123: 1, 124: 1, 125: 6, 126: 6, 127: 17, 128: 17, 129: 7, 130: 7, 131: 11, 132: 11, 133: 12, 134: 12, 135: 12, 136: 14, 137: 14, 138: 16, 139: 16, 140: 16, 141: 19, 142: 19, 143: 19, 144: 22, 145: 22, 146: 24, 147: 24, 148: 24, 149: 27, 150: 27, 151: 29, 152: 29, 153: 40, 154: 40, 155: 36, 156: 36, 157: 38, 158: 38, 159: 0, 160: 0, 161: -1, 162: -1, 163: 1, 164: 1, 165: 1, 166: 4, 167: 4, 168: 9, 169: 9, 170: 11, 171: 11, 172: 4, 173: 4, 174: 12, 175: 12, 176: 14, 177: 14, 178: 16, 179: 16, 180: 16, 181: 19, 182: 19, 183: 24, 184: 24, 185: 26, 186: 26, 187: 1, 188: 1, 189: 27, 190: 27}\n",
      "addx 8 {1: 1, 2: 1, 3: 1, 4: 1, 5: 6, 6: 6, 7: 9, 8: 9, 9: 7, 10: 7, 11: 7, 12: 12, 13: 12, 14: 16, 15: 16, 16: 16, 17: 19, 18: 19, 19: 19, 20: 21, 21: 21, 22: 4, 23: 4, 24: 22, 25: 22, 26: 25, 27: 25, 28: 26, 29: 26, 30: 26, 31: 31, 32: 31, 33: 31, 34: 32, 35: 32, 36: 34, 37: 34, 38: 39, 39: 39, 40: -1, 41: -1, 42: -1, 43: 4, 44: 4, 45: 6, 46: 6, 47: 9, 48: 9, 49: 9, 50: 11, 51: 11, 52: 14, 53: 14, 54: 12, 55: 12, 56: 14, 57: 14, 58: 16, 59: 16, 60: 16, 61: 19, 62: 19, 63: 24, 64: 24, 65: 26, 66: 26, 67: 29, 68: 29, 69: 27, 70: 27, 71: 29, 72: 29, 73: 5, 74: 5, 75: 36, 76: 36, 77: 38, 78: 38, 79: 5, 80: 5, 81: -1, 82: -1, 83: 4, 84: 4, 85: 6, 86: 6, 87: 9, 88: 9, 89: 9, 90: 11, 91: 11, 92: 14, 93: 14, 94: 14, 95: 16, 96: 16, 97: 15, 98: 15, 99: 21, 100: 21, 101: 21, 102: 21, 103: 22, 104: 22, 105: 26, 106: 26, 107: 26, 108: 26, 109: 11, 110: 11, 111: 31, 112: 31, 113: 31, 114: 8, 115: 8, 116: 35, 117: 35, 118: 35, 119: 0, 120: 0, 121: 1, 122: 1, 123: 1, 124: 1, 125: 6, 126: 6, 127: 17, 128: 17, 129: 7, 130: 7, 131: 11, 132: 11, 133: 12, 134: 12, 135: 12, 136: 14, 137: 14, 138: 16, 139: 16, 140: 16, 141: 19, 142: 19, 143: 19, 144: 22, 145: 22, 146: 24, 147: 24, 148: 24, 149: 27, 150: 27, 151: 29, 152: 29, 153: 40, 154: 40, 155: 36, 156: 36, 157: 38, 158: 38, 159: 0, 160: 0, 161: -1, 162: -1, 163: 1, 164: 1, 165: 1, 166: 4, 167: 4, 168: 9, 169: 9, 170: 11, 171: 11, 172: 4, 173: 4, 174: 12, 175: 12, 176: 14, 177: 14, 178: 16, 179: 16, 180: 16, 181: 19, 182: 19, 183: 24, 184: 24, 185: 26, 186: 26, 187: 1, 188: 1, 189: 27, 190: 27, 191: 29, 192: 29}\n",
      "addx -1 {1: 1, 2: 1, 3: 1, 4: 1, 5: 6, 6: 6, 7: 9, 8: 9, 9: 7, 10: 7, 11: 7, 12: 12, 13: 12, 14: 16, 15: 16, 16: 16, 17: 19, 18: 19, 19: 19, 20: 21, 21: 21, 22: 4, 23: 4, 24: 22, 25: 22, 26: 25, 27: 25, 28: 26, 29: 26, 30: 26, 31: 31, 32: 31, 33: 31, 34: 32, 35: 32, 36: 34, 37: 34, 38: 39, 39: 39, 40: -1, 41: -1, 42: -1, 43: 4, 44: 4, 45: 6, 46: 6, 47: 9, 48: 9, 49: 9, 50: 11, 51: 11, 52: 14, 53: 14, 54: 12, 55: 12, 56: 14, 57: 14, 58: 16, 59: 16, 60: 16, 61: 19, 62: 19, 63: 24, 64: 24, 65: 26, 66: 26, 67: 29, 68: 29, 69: 27, 70: 27, 71: 29, 72: 29, 73: 5, 74: 5, 75: 36, 76: 36, 77: 38, 78: 38, 79: 5, 80: 5, 81: -1, 82: -1, 83: 4, 84: 4, 85: 6, 86: 6, 87: 9, 88: 9, 89: 9, 90: 11, 91: 11, 92: 14, 93: 14, 94: 14, 95: 16, 96: 16, 97: 15, 98: 15, 99: 21, 100: 21, 101: 21, 102: 21, 103: 22, 104: 22, 105: 26, 106: 26, 107: 26, 108: 26, 109: 11, 110: 11, 111: 31, 112: 31, 113: 31, 114: 8, 115: 8, 116: 35, 117: 35, 118: 35, 119: 0, 120: 0, 121: 1, 122: 1, 123: 1, 124: 1, 125: 6, 126: 6, 127: 17, 128: 17, 129: 7, 130: 7, 131: 11, 132: 11, 133: 12, 134: 12, 135: 12, 136: 14, 137: 14, 138: 16, 139: 16, 140: 16, 141: 19, 142: 19, 143: 19, 144: 22, 145: 22, 146: 24, 147: 24, 148: 24, 149: 27, 150: 27, 151: 29, 152: 29, 153: 40, 154: 40, 155: 36, 156: 36, 157: 38, 158: 38, 159: 0, 160: 0, 161: -1, 162: -1, 163: 1, 164: 1, 165: 1, 166: 4, 167: 4, 168: 9, 169: 9, 170: 11, 171: 11, 172: 4, 173: 4, 174: 12, 175: 12, 176: 14, 177: 14, 178: 16, 179: 16, 180: 16, 181: 19, 182: 19, 183: 24, 184: 24, 185: 26, 186: 26, 187: 1, 188: 1, 189: 27, 190: 27, 191: 29, 192: 29, 193: 37, 194: 37}\n",
      "addx 2 {1: 1, 2: 1, 3: 1, 4: 1, 5: 6, 6: 6, 7: 9, 8: 9, 9: 7, 10: 7, 11: 7, 12: 12, 13: 12, 14: 16, 15: 16, 16: 16, 17: 19, 18: 19, 19: 19, 20: 21, 21: 21, 22: 4, 23: 4, 24: 22, 25: 22, 26: 25, 27: 25, 28: 26, 29: 26, 30: 26, 31: 31, 32: 31, 33: 31, 34: 32, 35: 32, 36: 34, 37: 34, 38: 39, 39: 39, 40: -1, 41: -1, 42: -1, 43: 4, 44: 4, 45: 6, 46: 6, 47: 9, 48: 9, 49: 9, 50: 11, 51: 11, 52: 14, 53: 14, 54: 12, 55: 12, 56: 14, 57: 14, 58: 16, 59: 16, 60: 16, 61: 19, 62: 19, 63: 24, 64: 24, 65: 26, 66: 26, 67: 29, 68: 29, 69: 27, 70: 27, 71: 29, 72: 29, 73: 5, 74: 5, 75: 36, 76: 36, 77: 38, 78: 38, 79: 5, 80: 5, 81: -1, 82: -1, 83: 4, 84: 4, 85: 6, 86: 6, 87: 9, 88: 9, 89: 9, 90: 11, 91: 11, 92: 14, 93: 14, 94: 14, 95: 16, 96: 16, 97: 15, 98: 15, 99: 21, 100: 21, 101: 21, 102: 21, 103: 22, 104: 22, 105: 26, 106: 26, 107: 26, 108: 26, 109: 11, 110: 11, 111: 31, 112: 31, 113: 31, 114: 8, 115: 8, 116: 35, 117: 35, 118: 35, 119: 0, 120: 0, 121: 1, 122: 1, 123: 1, 124: 1, 125: 6, 126: 6, 127: 17, 128: 17, 129: 7, 130: 7, 131: 11, 132: 11, 133: 12, 134: 12, 135: 12, 136: 14, 137: 14, 138: 16, 139: 16, 140: 16, 141: 19, 142: 19, 143: 19, 144: 22, 145: 22, 146: 24, 147: 24, 148: 24, 149: 27, 150: 27, 151: 29, 152: 29, 153: 40, 154: 40, 155: 36, 156: 36, 157: 38, 158: 38, 159: 0, 160: 0, 161: -1, 162: -1, 163: 1, 164: 1, 165: 1, 166: 4, 167: 4, 168: 9, 169: 9, 170: 11, 171: 11, 172: 4, 173: 4, 174: 12, 175: 12, 176: 14, 177: 14, 178: 16, 179: 16, 180: 16, 181: 19, 182: 19, 183: 24, 184: 24, 185: 26, 186: 26, 187: 1, 188: 1, 189: 27, 190: 27, 191: 29, 192: 29, 193: 37, 194: 37, 195: 36, 196: 36}\n",
      "addx -2 {1: 1, 2: 1, 3: 1, 4: 1, 5: 6, 6: 6, 7: 9, 8: 9, 9: 7, 10: 7, 11: 7, 12: 12, 13: 12, 14: 16, 15: 16, 16: 16, 17: 19, 18: 19, 19: 19, 20: 21, 21: 21, 22: 4, 23: 4, 24: 22, 25: 22, 26: 25, 27: 25, 28: 26, 29: 26, 30: 26, 31: 31, 32: 31, 33: 31, 34: 32, 35: 32, 36: 34, 37: 34, 38: 39, 39: 39, 40: -1, 41: -1, 42: -1, 43: 4, 44: 4, 45: 6, 46: 6, 47: 9, 48: 9, 49: 9, 50: 11, 51: 11, 52: 14, 53: 14, 54: 12, 55: 12, 56: 14, 57: 14, 58: 16, 59: 16, 60: 16, 61: 19, 62: 19, 63: 24, 64: 24, 65: 26, 66: 26, 67: 29, 68: 29, 69: 27, 70: 27, 71: 29, 72: 29, 73: 5, 74: 5, 75: 36, 76: 36, 77: 38, 78: 38, 79: 5, 80: 5, 81: -1, 82: -1, 83: 4, 84: 4, 85: 6, 86: 6, 87: 9, 88: 9, 89: 9, 90: 11, 91: 11, 92: 14, 93: 14, 94: 14, 95: 16, 96: 16, 97: 15, 98: 15, 99: 21, 100: 21, 101: 21, 102: 21, 103: 22, 104: 22, 105: 26, 106: 26, 107: 26, 108: 26, 109: 11, 110: 11, 111: 31, 112: 31, 113: 31, 114: 8, 115: 8, 116: 35, 117: 35, 118: 35, 119: 0, 120: 0, 121: 1, 122: 1, 123: 1, 124: 1, 125: 6, 126: 6, 127: 17, 128: 17, 129: 7, 130: 7, 131: 11, 132: 11, 133: 12, 134: 12, 135: 12, 136: 14, 137: 14, 138: 16, 139: 16, 140: 16, 141: 19, 142: 19, 143: 19, 144: 22, 145: 22, 146: 24, 147: 24, 148: 24, 149: 27, 150: 27, 151: 29, 152: 29, 153: 40, 154: 40, 155: 36, 156: 36, 157: 38, 158: 38, 159: 0, 160: 0, 161: -1, 162: -1, 163: 1, 164: 1, 165: 1, 166: 4, 167: 4, 168: 9, 169: 9, 170: 11, 171: 11, 172: 4, 173: 4, 174: 12, 175: 12, 176: 14, 177: 14, 178: 16, 179: 16, 180: 16, 181: 19, 182: 19, 183: 24, 184: 24, 185: 26, 186: 26, 187: 1, 188: 1, 189: 27, 190: 27, 191: 29, 192: 29, 193: 37, 194: 37, 195: 36, 196: 36, 197: 38, 198: 38}\n",
      "addx -37 {1: 1, 2: 1, 3: 1, 4: 1, 5: 6, 6: 6, 7: 9, 8: 9, 9: 7, 10: 7, 11: 7, 12: 12, 13: 12, 14: 16, 15: 16, 16: 16, 17: 19, 18: 19, 19: 19, 20: 21, 21: 21, 22: 4, 23: 4, 24: 22, 25: 22, 26: 25, 27: 25, 28: 26, 29: 26, 30: 26, 31: 31, 32: 31, 33: 31, 34: 32, 35: 32, 36: 34, 37: 34, 38: 39, 39: 39, 40: -1, 41: -1, 42: -1, 43: 4, 44: 4, 45: 6, 46: 6, 47: 9, 48: 9, 49: 9, 50: 11, 51: 11, 52: 14, 53: 14, 54: 12, 55: 12, 56: 14, 57: 14, 58: 16, 59: 16, 60: 16, 61: 19, 62: 19, 63: 24, 64: 24, 65: 26, 66: 26, 67: 29, 68: 29, 69: 27, 70: 27, 71: 29, 72: 29, 73: 5, 74: 5, 75: 36, 76: 36, 77: 38, 78: 38, 79: 5, 80: 5, 81: -1, 82: -1, 83: 4, 84: 4, 85: 6, 86: 6, 87: 9, 88: 9, 89: 9, 90: 11, 91: 11, 92: 14, 93: 14, 94: 14, 95: 16, 96: 16, 97: 15, 98: 15, 99: 21, 100: 21, 101: 21, 102: 21, 103: 22, 104: 22, 105: 26, 106: 26, 107: 26, 108: 26, 109: 11, 110: 11, 111: 31, 112: 31, 113: 31, 114: 8, 115: 8, 116: 35, 117: 35, 118: 35, 119: 0, 120: 0, 121: 1, 122: 1, 123: 1, 124: 1, 125: 6, 126: 6, 127: 17, 128: 17, 129: 7, 130: 7, 131: 11, 132: 11, 133: 12, 134: 12, 135: 12, 136: 14, 137: 14, 138: 16, 139: 16, 140: 16, 141: 19, 142: 19, 143: 19, 144: 22, 145: 22, 146: 24, 147: 24, 148: 24, 149: 27, 150: 27, 151: 29, 152: 29, 153: 40, 154: 40, 155: 36, 156: 36, 157: 38, 158: 38, 159: 0, 160: 0, 161: -1, 162: -1, 163: 1, 164: 1, 165: 1, 166: 4, 167: 4, 168: 9, 169: 9, 170: 11, 171: 11, 172: 4, 173: 4, 174: 12, 175: 12, 176: 14, 177: 14, 178: 16, 179: 16, 180: 16, 181: 19, 182: 19, 183: 24, 184: 24, 185: 26, 186: 26, 187: 1, 188: 1, 189: 27, 190: 27, 191: 29, 192: 29, 193: 37, 194: 37, 195: 36, 196: 36, 197: 38, 198: 38, 199: 36, 200: 36}\n",
      "addx 5 {1: 1, 2: 1, 3: 1, 4: 1, 5: 6, 6: 6, 7: 9, 8: 9, 9: 7, 10: 7, 11: 7, 12: 12, 13: 12, 14: 16, 15: 16, 16: 16, 17: 19, 18: 19, 19: 19, 20: 21, 21: 21, 22: 4, 23: 4, 24: 22, 25: 22, 26: 25, 27: 25, 28: 26, 29: 26, 30: 26, 31: 31, 32: 31, 33: 31, 34: 32, 35: 32, 36: 34, 37: 34, 38: 39, 39: 39, 40: -1, 41: -1, 42: -1, 43: 4, 44: 4, 45: 6, 46: 6, 47: 9, 48: 9, 49: 9, 50: 11, 51: 11, 52: 14, 53: 14, 54: 12, 55: 12, 56: 14, 57: 14, 58: 16, 59: 16, 60: 16, 61: 19, 62: 19, 63: 24, 64: 24, 65: 26, 66: 26, 67: 29, 68: 29, 69: 27, 70: 27, 71: 29, 72: 29, 73: 5, 74: 5, 75: 36, 76: 36, 77: 38, 78: 38, 79: 5, 80: 5, 81: -1, 82: -1, 83: 4, 84: 4, 85: 6, 86: 6, 87: 9, 88: 9, 89: 9, 90: 11, 91: 11, 92: 14, 93: 14, 94: 14, 95: 16, 96: 16, 97: 15, 98: 15, 99: 21, 100: 21, 101: 21, 102: 21, 103: 22, 104: 22, 105: 26, 106: 26, 107: 26, 108: 26, 109: 11, 110: 11, 111: 31, 112: 31, 113: 31, 114: 8, 115: 8, 116: 35, 117: 35, 118: 35, 119: 0, 120: 0, 121: 1, 122: 1, 123: 1, 124: 1, 125: 6, 126: 6, 127: 17, 128: 17, 129: 7, 130: 7, 131: 11, 132: 11, 133: 12, 134: 12, 135: 12, 136: 14, 137: 14, 138: 16, 139: 16, 140: 16, 141: 19, 142: 19, 143: 19, 144: 22, 145: 22, 146: 24, 147: 24, 148: 24, 149: 27, 150: 27, 151: 29, 152: 29, 153: 40, 154: 40, 155: 36, 156: 36, 157: 38, 158: 38, 159: 0, 160: 0, 161: -1, 162: -1, 163: 1, 164: 1, 165: 1, 166: 4, 167: 4, 168: 9, 169: 9, 170: 11, 171: 11, 172: 4, 173: 4, 174: 12, 175: 12, 176: 14, 177: 14, 178: 16, 179: 16, 180: 16, 181: 19, 182: 19, 183: 24, 184: 24, 185: 26, 186: 26, 187: 1, 188: 1, 189: 27, 190: 27, 191: 29, 192: 29, 193: 37, 194: 37, 195: 36, 196: 36, 197: 38, 198: 38, 199: 36, 200: 36, 201: -1, 202: -1}\n",
      "addx 3 {1: 1, 2: 1, 3: 1, 4: 1, 5: 6, 6: 6, 7: 9, 8: 9, 9: 7, 10: 7, 11: 7, 12: 12, 13: 12, 14: 16, 15: 16, 16: 16, 17: 19, 18: 19, 19: 19, 20: 21, 21: 21, 22: 4, 23: 4, 24: 22, 25: 22, 26: 25, 27: 25, 28: 26, 29: 26, 30: 26, 31: 31, 32: 31, 33: 31, 34: 32, 35: 32, 36: 34, 37: 34, 38: 39, 39: 39, 40: -1, 41: -1, 42: -1, 43: 4, 44: 4, 45: 6, 46: 6, 47: 9, 48: 9, 49: 9, 50: 11, 51: 11, 52: 14, 53: 14, 54: 12, 55: 12, 56: 14, 57: 14, 58: 16, 59: 16, 60: 16, 61: 19, 62: 19, 63: 24, 64: 24, 65: 26, 66: 26, 67: 29, 68: 29, 69: 27, 70: 27, 71: 29, 72: 29, 73: 5, 74: 5, 75: 36, 76: 36, 77: 38, 78: 38, 79: 5, 80: 5, 81: -1, 82: -1, 83: 4, 84: 4, 85: 6, 86: 6, 87: 9, 88: 9, 89: 9, 90: 11, 91: 11, 92: 14, 93: 14, 94: 14, 95: 16, 96: 16, 97: 15, 98: 15, 99: 21, 100: 21, 101: 21, 102: 21, 103: 22, 104: 22, 105: 26, 106: 26, 107: 26, 108: 26, 109: 11, 110: 11, 111: 31, 112: 31, 113: 31, 114: 8, 115: 8, 116: 35, 117: 35, 118: 35, 119: 0, 120: 0, 121: 1, 122: 1, 123: 1, 124: 1, 125: 6, 126: 6, 127: 17, 128: 17, 129: 7, 130: 7, 131: 11, 132: 11, 133: 12, 134: 12, 135: 12, 136: 14, 137: 14, 138: 16, 139: 16, 140: 16, 141: 19, 142: 19, 143: 19, 144: 22, 145: 22, 146: 24, 147: 24, 148: 24, 149: 27, 150: 27, 151: 29, 152: 29, 153: 40, 154: 40, 155: 36, 156: 36, 157: 38, 158: 38, 159: 0, 160: 0, 161: -1, 162: -1, 163: 1, 164: 1, 165: 1, 166: 4, 167: 4, 168: 9, 169: 9, 170: 11, 171: 11, 172: 4, 173: 4, 174: 12, 175: 12, 176: 14, 177: 14, 178: 16, 179: 16, 180: 16, 181: 19, 182: 19, 183: 24, 184: 24, 185: 26, 186: 26, 187: 1, 188: 1, 189: 27, 190: 27, 191: 29, 192: 29, 193: 37, 194: 37, 195: 36, 196: 36, 197: 38, 198: 38, 199: 36, 200: 36, 201: -1, 202: -1, 203: 4, 204: 4}\n",
      "addx -1 {1: 1, 2: 1, 3: 1, 4: 1, 5: 6, 6: 6, 7: 9, 8: 9, 9: 7, 10: 7, 11: 7, 12: 12, 13: 12, 14: 16, 15: 16, 16: 16, 17: 19, 18: 19, 19: 19, 20: 21, 21: 21, 22: 4, 23: 4, 24: 22, 25: 22, 26: 25, 27: 25, 28: 26, 29: 26, 30: 26, 31: 31, 32: 31, 33: 31, 34: 32, 35: 32, 36: 34, 37: 34, 38: 39, 39: 39, 40: -1, 41: -1, 42: -1, 43: 4, 44: 4, 45: 6, 46: 6, 47: 9, 48: 9, 49: 9, 50: 11, 51: 11, 52: 14, 53: 14, 54: 12, 55: 12, 56: 14, 57: 14, 58: 16, 59: 16, 60: 16, 61: 19, 62: 19, 63: 24, 64: 24, 65: 26, 66: 26, 67: 29, 68: 29, 69: 27, 70: 27, 71: 29, 72: 29, 73: 5, 74: 5, 75: 36, 76: 36, 77: 38, 78: 38, 79: 5, 80: 5, 81: -1, 82: -1, 83: 4, 84: 4, 85: 6, 86: 6, 87: 9, 88: 9, 89: 9, 90: 11, 91: 11, 92: 14, 93: 14, 94: 14, 95: 16, 96: 16, 97: 15, 98: 15, 99: 21, 100: 21, 101: 21, 102: 21, 103: 22, 104: 22, 105: 26, 106: 26, 107: 26, 108: 26, 109: 11, 110: 11, 111: 31, 112: 31, 113: 31, 114: 8, 115: 8, 116: 35, 117: 35, 118: 35, 119: 0, 120: 0, 121: 1, 122: 1, 123: 1, 124: 1, 125: 6, 126: 6, 127: 17, 128: 17, 129: 7, 130: 7, 131: 11, 132: 11, 133: 12, 134: 12, 135: 12, 136: 14, 137: 14, 138: 16, 139: 16, 140: 16, 141: 19, 142: 19, 143: 19, 144: 22, 145: 22, 146: 24, 147: 24, 148: 24, 149: 27, 150: 27, 151: 29, 152: 29, 153: 40, 154: 40, 155: 36, 156: 36, 157: 38, 158: 38, 159: 0, 160: 0, 161: -1, 162: -1, 163: 1, 164: 1, 165: 1, 166: 4, 167: 4, 168: 9, 169: 9, 170: 11, 171: 11, 172: 4, 173: 4, 174: 12, 175: 12, 176: 14, 177: 14, 178: 16, 179: 16, 180: 16, 181: 19, 182: 19, 183: 24, 184: 24, 185: 26, 186: 26, 187: 1, 188: 1, 189: 27, 190: 27, 191: 29, 192: 29, 193: 37, 194: 37, 195: 36, 196: 36, 197: 38, 198: 38, 199: 36, 200: 36, 201: -1, 202: -1, 203: 4, 204: 4, 205: 7, 206: 7}\n",
      "addx 5 {1: 1, 2: 1, 3: 1, 4: 1, 5: 6, 6: 6, 7: 9, 8: 9, 9: 7, 10: 7, 11: 7, 12: 12, 13: 12, 14: 16, 15: 16, 16: 16, 17: 19, 18: 19, 19: 19, 20: 21, 21: 21, 22: 4, 23: 4, 24: 22, 25: 22, 26: 25, 27: 25, 28: 26, 29: 26, 30: 26, 31: 31, 32: 31, 33: 31, 34: 32, 35: 32, 36: 34, 37: 34, 38: 39, 39: 39, 40: -1, 41: -1, 42: -1, 43: 4, 44: 4, 45: 6, 46: 6, 47: 9, 48: 9, 49: 9, 50: 11, 51: 11, 52: 14, 53: 14, 54: 12, 55: 12, 56: 14, 57: 14, 58: 16, 59: 16, 60: 16, 61: 19, 62: 19, 63: 24, 64: 24, 65: 26, 66: 26, 67: 29, 68: 29, 69: 27, 70: 27, 71: 29, 72: 29, 73: 5, 74: 5, 75: 36, 76: 36, 77: 38, 78: 38, 79: 5, 80: 5, 81: -1, 82: -1, 83: 4, 84: 4, 85: 6, 86: 6, 87: 9, 88: 9, 89: 9, 90: 11, 91: 11, 92: 14, 93: 14, 94: 14, 95: 16, 96: 16, 97: 15, 98: 15, 99: 21, 100: 21, 101: 21, 102: 21, 103: 22, 104: 22, 105: 26, 106: 26, 107: 26, 108: 26, 109: 11, 110: 11, 111: 31, 112: 31, 113: 31, 114: 8, 115: 8, 116: 35, 117: 35, 118: 35, 119: 0, 120: 0, 121: 1, 122: 1, 123: 1, 124: 1, 125: 6, 126: 6, 127: 17, 128: 17, 129: 7, 130: 7, 131: 11, 132: 11, 133: 12, 134: 12, 135: 12, 136: 14, 137: 14, 138: 16, 139: 16, 140: 16, 141: 19, 142: 19, 143: 19, 144: 22, 145: 22, 146: 24, 147: 24, 148: 24, 149: 27, 150: 27, 151: 29, 152: 29, 153: 40, 154: 40, 155: 36, 156: 36, 157: 38, 158: 38, 159: 0, 160: 0, 161: -1, 162: -1, 163: 1, 164: 1, 165: 1, 166: 4, 167: 4, 168: 9, 169: 9, 170: 11, 171: 11, 172: 4, 173: 4, 174: 12, 175: 12, 176: 14, 177: 14, 178: 16, 179: 16, 180: 16, 181: 19, 182: 19, 183: 24, 184: 24, 185: 26, 186: 26, 187: 1, 188: 1, 189: 27, 190: 27, 191: 29, 192: 29, 193: 37, 194: 37, 195: 36, 196: 36, 197: 38, 198: 38, 199: 36, 200: 36, 201: -1, 202: -1, 203: 4, 204: 4, 205: 7, 206: 7, 207: 6, 208: 6}\n",
      "noop {1: 1, 2: 1, 3: 1, 4: 1, 5: 6, 6: 6, 7: 9, 8: 9, 9: 7, 10: 7, 11: 7, 12: 12, 13: 12, 14: 16, 15: 16, 16: 16, 17: 19, 18: 19, 19: 19, 20: 21, 21: 21, 22: 4, 23: 4, 24: 22, 25: 22, 26: 25, 27: 25, 28: 26, 29: 26, 30: 26, 31: 31, 32: 31, 33: 31, 34: 32, 35: 32, 36: 34, 37: 34, 38: 39, 39: 39, 40: -1, 41: -1, 42: -1, 43: 4, 44: 4, 45: 6, 46: 6, 47: 9, 48: 9, 49: 9, 50: 11, 51: 11, 52: 14, 53: 14, 54: 12, 55: 12, 56: 14, 57: 14, 58: 16, 59: 16, 60: 16, 61: 19, 62: 19, 63: 24, 64: 24, 65: 26, 66: 26, 67: 29, 68: 29, 69: 27, 70: 27, 71: 29, 72: 29, 73: 5, 74: 5, 75: 36, 76: 36, 77: 38, 78: 38, 79: 5, 80: 5, 81: -1, 82: -1, 83: 4, 84: 4, 85: 6, 86: 6, 87: 9, 88: 9, 89: 9, 90: 11, 91: 11, 92: 14, 93: 14, 94: 14, 95: 16, 96: 16, 97: 15, 98: 15, 99: 21, 100: 21, 101: 21, 102: 21, 103: 22, 104: 22, 105: 26, 106: 26, 107: 26, 108: 26, 109: 11, 110: 11, 111: 31, 112: 31, 113: 31, 114: 8, 115: 8, 116: 35, 117: 35, 118: 35, 119: 0, 120: 0, 121: 1, 122: 1, 123: 1, 124: 1, 125: 6, 126: 6, 127: 17, 128: 17, 129: 7, 130: 7, 131: 11, 132: 11, 133: 12, 134: 12, 135: 12, 136: 14, 137: 14, 138: 16, 139: 16, 140: 16, 141: 19, 142: 19, 143: 19, 144: 22, 145: 22, 146: 24, 147: 24, 148: 24, 149: 27, 150: 27, 151: 29, 152: 29, 153: 40, 154: 40, 155: 36, 156: 36, 157: 38, 158: 38, 159: 0, 160: 0, 161: -1, 162: -1, 163: 1, 164: 1, 165: 1, 166: 4, 167: 4, 168: 9, 169: 9, 170: 11, 171: 11, 172: 4, 173: 4, 174: 12, 175: 12, 176: 14, 177: 14, 178: 16, 179: 16, 180: 16, 181: 19, 182: 19, 183: 24, 184: 24, 185: 26, 186: 26, 187: 1, 188: 1, 189: 27, 190: 27, 191: 29, 192: 29, 193: 37, 194: 37, 195: 36, 196: 36, 197: 38, 198: 38, 199: 36, 200: 36, 201: -1, 202: -1, 203: 4, 204: 4, 205: 7, 206: 7, 207: 6, 208: 6, 209: 11}\n",
      "addx 22 {1: 1, 2: 1, 3: 1, 4: 1, 5: 6, 6: 6, 7: 9, 8: 9, 9: 7, 10: 7, 11: 7, 12: 12, 13: 12, 14: 16, 15: 16, 16: 16, 17: 19, 18: 19, 19: 19, 20: 21, 21: 21, 22: 4, 23: 4, 24: 22, 25: 22, 26: 25, 27: 25, 28: 26, 29: 26, 30: 26, 31: 31, 32: 31, 33: 31, 34: 32, 35: 32, 36: 34, 37: 34, 38: 39, 39: 39, 40: -1, 41: -1, 42: -1, 43: 4, 44: 4, 45: 6, 46: 6, 47: 9, 48: 9, 49: 9, 50: 11, 51: 11, 52: 14, 53: 14, 54: 12, 55: 12, 56: 14, 57: 14, 58: 16, 59: 16, 60: 16, 61: 19, 62: 19, 63: 24, 64: 24, 65: 26, 66: 26, 67: 29, 68: 29, 69: 27, 70: 27, 71: 29, 72: 29, 73: 5, 74: 5, 75: 36, 76: 36, 77: 38, 78: 38, 79: 5, 80: 5, 81: -1, 82: -1, 83: 4, 84: 4, 85: 6, 86: 6, 87: 9, 88: 9, 89: 9, 90: 11, 91: 11, 92: 14, 93: 14, 94: 14, 95: 16, 96: 16, 97: 15, 98: 15, 99: 21, 100: 21, 101: 21, 102: 21, 103: 22, 104: 22, 105: 26, 106: 26, 107: 26, 108: 26, 109: 11, 110: 11, 111: 31, 112: 31, 113: 31, 114: 8, 115: 8, 116: 35, 117: 35, 118: 35, 119: 0, 120: 0, 121: 1, 122: 1, 123: 1, 124: 1, 125: 6, 126: 6, 127: 17, 128: 17, 129: 7, 130: 7, 131: 11, 132: 11, 133: 12, 134: 12, 135: 12, 136: 14, 137: 14, 138: 16, 139: 16, 140: 16, 141: 19, 142: 19, 143: 19, 144: 22, 145: 22, 146: 24, 147: 24, 148: 24, 149: 27, 150: 27, 151: 29, 152: 29, 153: 40, 154: 40, 155: 36, 156: 36, 157: 38, 158: 38, 159: 0, 160: 0, 161: -1, 162: -1, 163: 1, 164: 1, 165: 1, 166: 4, 167: 4, 168: 9, 169: 9, 170: 11, 171: 11, 172: 4, 173: 4, 174: 12, 175: 12, 176: 14, 177: 14, 178: 16, 179: 16, 180: 16, 181: 19, 182: 19, 183: 24, 184: 24, 185: 26, 186: 26, 187: 1, 188: 1, 189: 27, 190: 27, 191: 29, 192: 29, 193: 37, 194: 37, 195: 36, 196: 36, 197: 38, 198: 38, 199: 36, 200: 36, 201: -1, 202: -1, 203: 4, 204: 4, 205: 7, 206: 7, 207: 6, 208: 6, 209: 11, 210: 11, 211: 11}\n",
      "addx -21 {1: 1, 2: 1, 3: 1, 4: 1, 5: 6, 6: 6, 7: 9, 8: 9, 9: 7, 10: 7, 11: 7, 12: 12, 13: 12, 14: 16, 15: 16, 16: 16, 17: 19, 18: 19, 19: 19, 20: 21, 21: 21, 22: 4, 23: 4, 24: 22, 25: 22, 26: 25, 27: 25, 28: 26, 29: 26, 30: 26, 31: 31, 32: 31, 33: 31, 34: 32, 35: 32, 36: 34, 37: 34, 38: 39, 39: 39, 40: -1, 41: -1, 42: -1, 43: 4, 44: 4, 45: 6, 46: 6, 47: 9, 48: 9, 49: 9, 50: 11, 51: 11, 52: 14, 53: 14, 54: 12, 55: 12, 56: 14, 57: 14, 58: 16, 59: 16, 60: 16, 61: 19, 62: 19, 63: 24, 64: 24, 65: 26, 66: 26, 67: 29, 68: 29, 69: 27, 70: 27, 71: 29, 72: 29, 73: 5, 74: 5, 75: 36, 76: 36, 77: 38, 78: 38, 79: 5, 80: 5, 81: -1, 82: -1, 83: 4, 84: 4, 85: 6, 86: 6, 87: 9, 88: 9, 89: 9, 90: 11, 91: 11, 92: 14, 93: 14, 94: 14, 95: 16, 96: 16, 97: 15, 98: 15, 99: 21, 100: 21, 101: 21, 102: 21, 103: 22, 104: 22, 105: 26, 106: 26, 107: 26, 108: 26, 109: 11, 110: 11, 111: 31, 112: 31, 113: 31, 114: 8, 115: 8, 116: 35, 117: 35, 118: 35, 119: 0, 120: 0, 121: 1, 122: 1, 123: 1, 124: 1, 125: 6, 126: 6, 127: 17, 128: 17, 129: 7, 130: 7, 131: 11, 132: 11, 133: 12, 134: 12, 135: 12, 136: 14, 137: 14, 138: 16, 139: 16, 140: 16, 141: 19, 142: 19, 143: 19, 144: 22, 145: 22, 146: 24, 147: 24, 148: 24, 149: 27, 150: 27, 151: 29, 152: 29, 153: 40, 154: 40, 155: 36, 156: 36, 157: 38, 158: 38, 159: 0, 160: 0, 161: -1, 162: -1, 163: 1, 164: 1, 165: 1, 166: 4, 167: 4, 168: 9, 169: 9, 170: 11, 171: 11, 172: 4, 173: 4, 174: 12, 175: 12, 176: 14, 177: 14, 178: 16, 179: 16, 180: 16, 181: 19, 182: 19, 183: 24, 184: 24, 185: 26, 186: 26, 187: 1, 188: 1, 189: 27, 190: 27, 191: 29, 192: 29, 193: 37, 194: 37, 195: 36, 196: 36, 197: 38, 198: 38, 199: 36, 200: 36, 201: -1, 202: -1, 203: 4, 204: 4, 205: 7, 206: 7, 207: 6, 208: 6, 209: 11, 210: 11, 211: 11, 212: 33, 213: 33}\n",
      "addx 2 {1: 1, 2: 1, 3: 1, 4: 1, 5: 6, 6: 6, 7: 9, 8: 9, 9: 7, 10: 7, 11: 7, 12: 12, 13: 12, 14: 16, 15: 16, 16: 16, 17: 19, 18: 19, 19: 19, 20: 21, 21: 21, 22: 4, 23: 4, 24: 22, 25: 22, 26: 25, 27: 25, 28: 26, 29: 26, 30: 26, 31: 31, 32: 31, 33: 31, 34: 32, 35: 32, 36: 34, 37: 34, 38: 39, 39: 39, 40: -1, 41: -1, 42: -1, 43: 4, 44: 4, 45: 6, 46: 6, 47: 9, 48: 9, 49: 9, 50: 11, 51: 11, 52: 14, 53: 14, 54: 12, 55: 12, 56: 14, 57: 14, 58: 16, 59: 16, 60: 16, 61: 19, 62: 19, 63: 24, 64: 24, 65: 26, 66: 26, 67: 29, 68: 29, 69: 27, 70: 27, 71: 29, 72: 29, 73: 5, 74: 5, 75: 36, 76: 36, 77: 38, 78: 38, 79: 5, 80: 5, 81: -1, 82: -1, 83: 4, 84: 4, 85: 6, 86: 6, 87: 9, 88: 9, 89: 9, 90: 11, 91: 11, 92: 14, 93: 14, 94: 14, 95: 16, 96: 16, 97: 15, 98: 15, 99: 21, 100: 21, 101: 21, 102: 21, 103: 22, 104: 22, 105: 26, 106: 26, 107: 26, 108: 26, 109: 11, 110: 11, 111: 31, 112: 31, 113: 31, 114: 8, 115: 8, 116: 35, 117: 35, 118: 35, 119: 0, 120: 0, 121: 1, 122: 1, 123: 1, 124: 1, 125: 6, 126: 6, 127: 17, 128: 17, 129: 7, 130: 7, 131: 11, 132: 11, 133: 12, 134: 12, 135: 12, 136: 14, 137: 14, 138: 16, 139: 16, 140: 16, 141: 19, 142: 19, 143: 19, 144: 22, 145: 22, 146: 24, 147: 24, 148: 24, 149: 27, 150: 27, 151: 29, 152: 29, 153: 40, 154: 40, 155: 36, 156: 36, 157: 38, 158: 38, 159: 0, 160: 0, 161: -1, 162: -1, 163: 1, 164: 1, 165: 1, 166: 4, 167: 4, 168: 9, 169: 9, 170: 11, 171: 11, 172: 4, 173: 4, 174: 12, 175: 12, 176: 14, 177: 14, 178: 16, 179: 16, 180: 16, 181: 19, 182: 19, 183: 24, 184: 24, 185: 26, 186: 26, 187: 1, 188: 1, 189: 27, 190: 27, 191: 29, 192: 29, 193: 37, 194: 37, 195: 36, 196: 36, 197: 38, 198: 38, 199: 36, 200: 36, 201: -1, 202: -1, 203: 4, 204: 4, 205: 7, 206: 7, 207: 6, 208: 6, 209: 11, 210: 11, 211: 11, 212: 33, 213: 33, 214: 12, 215: 12}\n",
      "addx 5 {1: 1, 2: 1, 3: 1, 4: 1, 5: 6, 6: 6, 7: 9, 8: 9, 9: 7, 10: 7, 11: 7, 12: 12, 13: 12, 14: 16, 15: 16, 16: 16, 17: 19, 18: 19, 19: 19, 20: 21, 21: 21, 22: 4, 23: 4, 24: 22, 25: 22, 26: 25, 27: 25, 28: 26, 29: 26, 30: 26, 31: 31, 32: 31, 33: 31, 34: 32, 35: 32, 36: 34, 37: 34, 38: 39, 39: 39, 40: -1, 41: -1, 42: -1, 43: 4, 44: 4, 45: 6, 46: 6, 47: 9, 48: 9, 49: 9, 50: 11, 51: 11, 52: 14, 53: 14, 54: 12, 55: 12, 56: 14, 57: 14, 58: 16, 59: 16, 60: 16, 61: 19, 62: 19, 63: 24, 64: 24, 65: 26, 66: 26, 67: 29, 68: 29, 69: 27, 70: 27, 71: 29, 72: 29, 73: 5, 74: 5, 75: 36, 76: 36, 77: 38, 78: 38, 79: 5, 80: 5, 81: -1, 82: -1, 83: 4, 84: 4, 85: 6, 86: 6, 87: 9, 88: 9, 89: 9, 90: 11, 91: 11, 92: 14, 93: 14, 94: 14, 95: 16, 96: 16, 97: 15, 98: 15, 99: 21, 100: 21, 101: 21, 102: 21, 103: 22, 104: 22, 105: 26, 106: 26, 107: 26, 108: 26, 109: 11, 110: 11, 111: 31, 112: 31, 113: 31, 114: 8, 115: 8, 116: 35, 117: 35, 118: 35, 119: 0, 120: 0, 121: 1, 122: 1, 123: 1, 124: 1, 125: 6, 126: 6, 127: 17, 128: 17, 129: 7, 130: 7, 131: 11, 132: 11, 133: 12, 134: 12, 135: 12, 136: 14, 137: 14, 138: 16, 139: 16, 140: 16, 141: 19, 142: 19, 143: 19, 144: 22, 145: 22, 146: 24, 147: 24, 148: 24, 149: 27, 150: 27, 151: 29, 152: 29, 153: 40, 154: 40, 155: 36, 156: 36, 157: 38, 158: 38, 159: 0, 160: 0, 161: -1, 162: -1, 163: 1, 164: 1, 165: 1, 166: 4, 167: 4, 168: 9, 169: 9, 170: 11, 171: 11, 172: 4, 173: 4, 174: 12, 175: 12, 176: 14, 177: 14, 178: 16, 179: 16, 180: 16, 181: 19, 182: 19, 183: 24, 184: 24, 185: 26, 186: 26, 187: 1, 188: 1, 189: 27, 190: 27, 191: 29, 192: 29, 193: 37, 194: 37, 195: 36, 196: 36, 197: 38, 198: 38, 199: 36, 200: 36, 201: -1, 202: -1, 203: 4, 204: 4, 205: 7, 206: 7, 207: 6, 208: 6, 209: 11, 210: 11, 211: 11, 212: 33, 213: 33, 214: 12, 215: 12, 216: 14, 217: 14}\n",
      "addx 2 {1: 1, 2: 1, 3: 1, 4: 1, 5: 6, 6: 6, 7: 9, 8: 9, 9: 7, 10: 7, 11: 7, 12: 12, 13: 12, 14: 16, 15: 16, 16: 16, 17: 19, 18: 19, 19: 19, 20: 21, 21: 21, 22: 4, 23: 4, 24: 22, 25: 22, 26: 25, 27: 25, 28: 26, 29: 26, 30: 26, 31: 31, 32: 31, 33: 31, 34: 32, 35: 32, 36: 34, 37: 34, 38: 39, 39: 39, 40: -1, 41: -1, 42: -1, 43: 4, 44: 4, 45: 6, 46: 6, 47: 9, 48: 9, 49: 9, 50: 11, 51: 11, 52: 14, 53: 14, 54: 12, 55: 12, 56: 14, 57: 14, 58: 16, 59: 16, 60: 16, 61: 19, 62: 19, 63: 24, 64: 24, 65: 26, 66: 26, 67: 29, 68: 29, 69: 27, 70: 27, 71: 29, 72: 29, 73: 5, 74: 5, 75: 36, 76: 36, 77: 38, 78: 38, 79: 5, 80: 5, 81: -1, 82: -1, 83: 4, 84: 4, 85: 6, 86: 6, 87: 9, 88: 9, 89: 9, 90: 11, 91: 11, 92: 14, 93: 14, 94: 14, 95: 16, 96: 16, 97: 15, 98: 15, 99: 21, 100: 21, 101: 21, 102: 21, 103: 22, 104: 22, 105: 26, 106: 26, 107: 26, 108: 26, 109: 11, 110: 11, 111: 31, 112: 31, 113: 31, 114: 8, 115: 8, 116: 35, 117: 35, 118: 35, 119: 0, 120: 0, 121: 1, 122: 1, 123: 1, 124: 1, 125: 6, 126: 6, 127: 17, 128: 17, 129: 7, 130: 7, 131: 11, 132: 11, 133: 12, 134: 12, 135: 12, 136: 14, 137: 14, 138: 16, 139: 16, 140: 16, 141: 19, 142: 19, 143: 19, 144: 22, 145: 22, 146: 24, 147: 24, 148: 24, 149: 27, 150: 27, 151: 29, 152: 29, 153: 40, 154: 40, 155: 36, 156: 36, 157: 38, 158: 38, 159: 0, 160: 0, 161: -1, 162: -1, 163: 1, 164: 1, 165: 1, 166: 4, 167: 4, 168: 9, 169: 9, 170: 11, 171: 11, 172: 4, 173: 4, 174: 12, 175: 12, 176: 14, 177: 14, 178: 16, 179: 16, 180: 16, 181: 19, 182: 19, 183: 24, 184: 24, 185: 26, 186: 26, 187: 1, 188: 1, 189: 27, 190: 27, 191: 29, 192: 29, 193: 37, 194: 37, 195: 36, 196: 36, 197: 38, 198: 38, 199: 36, 200: 36, 201: -1, 202: -1, 203: 4, 204: 4, 205: 7, 206: 7, 207: 6, 208: 6, 209: 11, 210: 11, 211: 11, 212: 33, 213: 33, 214: 12, 215: 12, 216: 14, 217: 14, 218: 19, 219: 19}\n",
      "addx 13 {1: 1, 2: 1, 3: 1, 4: 1, 5: 6, 6: 6, 7: 9, 8: 9, 9: 7, 10: 7, 11: 7, 12: 12, 13: 12, 14: 16, 15: 16, 16: 16, 17: 19, 18: 19, 19: 19, 20: 21, 21: 21, 22: 4, 23: 4, 24: 22, 25: 22, 26: 25, 27: 25, 28: 26, 29: 26, 30: 26, 31: 31, 32: 31, 33: 31, 34: 32, 35: 32, 36: 34, 37: 34, 38: 39, 39: 39, 40: -1, 41: -1, 42: -1, 43: 4, 44: 4, 45: 6, 46: 6, 47: 9, 48: 9, 49: 9, 50: 11, 51: 11, 52: 14, 53: 14, 54: 12, 55: 12, 56: 14, 57: 14, 58: 16, 59: 16, 60: 16, 61: 19, 62: 19, 63: 24, 64: 24, 65: 26, 66: 26, 67: 29, 68: 29, 69: 27, 70: 27, 71: 29, 72: 29, 73: 5, 74: 5, 75: 36, 76: 36, 77: 38, 78: 38, 79: 5, 80: 5, 81: -1, 82: -1, 83: 4, 84: 4, 85: 6, 86: 6, 87: 9, 88: 9, 89: 9, 90: 11, 91: 11, 92: 14, 93: 14, 94: 14, 95: 16, 96: 16, 97: 15, 98: 15, 99: 21, 100: 21, 101: 21, 102: 21, 103: 22, 104: 22, 105: 26, 106: 26, 107: 26, 108: 26, 109: 11, 110: 11, 111: 31, 112: 31, 113: 31, 114: 8, 115: 8, 116: 35, 117: 35, 118: 35, 119: 0, 120: 0, 121: 1, 122: 1, 123: 1, 124: 1, 125: 6, 126: 6, 127: 17, 128: 17, 129: 7, 130: 7, 131: 11, 132: 11, 133: 12, 134: 12, 135: 12, 136: 14, 137: 14, 138: 16, 139: 16, 140: 16, 141: 19, 142: 19, 143: 19, 144: 22, 145: 22, 146: 24, 147: 24, 148: 24, 149: 27, 150: 27, 151: 29, 152: 29, 153: 40, 154: 40, 155: 36, 156: 36, 157: 38, 158: 38, 159: 0, 160: 0, 161: -1, 162: -1, 163: 1, 164: 1, 165: 1, 166: 4, 167: 4, 168: 9, 169: 9, 170: 11, 171: 11, 172: 4, 173: 4, 174: 12, 175: 12, 176: 14, 177: 14, 178: 16, 179: 16, 180: 16, 181: 19, 182: 19, 183: 24, 184: 24, 185: 26, 186: 26, 187: 1, 188: 1, 189: 27, 190: 27, 191: 29, 192: 29, 193: 37, 194: 37, 195: 36, 196: 36, 197: 38, 198: 38, 199: 36, 200: 36, 201: -1, 202: -1, 203: 4, 204: 4, 205: 7, 206: 7, 207: 6, 208: 6, 209: 11, 210: 11, 211: 11, 212: 33, 213: 33, 214: 12, 215: 12, 216: 14, 217: 14, 218: 19, 219: 19, 220: 21, 221: 21}\n",
      "addx -12 {1: 1, 2: 1, 3: 1, 4: 1, 5: 6, 6: 6, 7: 9, 8: 9, 9: 7, 10: 7, 11: 7, 12: 12, 13: 12, 14: 16, 15: 16, 16: 16, 17: 19, 18: 19, 19: 19, 20: 21, 21: 21, 22: 4, 23: 4, 24: 22, 25: 22, 26: 25, 27: 25, 28: 26, 29: 26, 30: 26, 31: 31, 32: 31, 33: 31, 34: 32, 35: 32, 36: 34, 37: 34, 38: 39, 39: 39, 40: -1, 41: -1, 42: -1, 43: 4, 44: 4, 45: 6, 46: 6, 47: 9, 48: 9, 49: 9, 50: 11, 51: 11, 52: 14, 53: 14, 54: 12, 55: 12, 56: 14, 57: 14, 58: 16, 59: 16, 60: 16, 61: 19, 62: 19, 63: 24, 64: 24, 65: 26, 66: 26, 67: 29, 68: 29, 69: 27, 70: 27, 71: 29, 72: 29, 73: 5, 74: 5, 75: 36, 76: 36, 77: 38, 78: 38, 79: 5, 80: 5, 81: -1, 82: -1, 83: 4, 84: 4, 85: 6, 86: 6, 87: 9, 88: 9, 89: 9, 90: 11, 91: 11, 92: 14, 93: 14, 94: 14, 95: 16, 96: 16, 97: 15, 98: 15, 99: 21, 100: 21, 101: 21, 102: 21, 103: 22, 104: 22, 105: 26, 106: 26, 107: 26, 108: 26, 109: 11, 110: 11, 111: 31, 112: 31, 113: 31, 114: 8, 115: 8, 116: 35, 117: 35, 118: 35, 119: 0, 120: 0, 121: 1, 122: 1, 123: 1, 124: 1, 125: 6, 126: 6, 127: 17, 128: 17, 129: 7, 130: 7, 131: 11, 132: 11, 133: 12, 134: 12, 135: 12, 136: 14, 137: 14, 138: 16, 139: 16, 140: 16, 141: 19, 142: 19, 143: 19, 144: 22, 145: 22, 146: 24, 147: 24, 148: 24, 149: 27, 150: 27, 151: 29, 152: 29, 153: 40, 154: 40, 155: 36, 156: 36, 157: 38, 158: 38, 159: 0, 160: 0, 161: -1, 162: -1, 163: 1, 164: 1, 165: 1, 166: 4, 167: 4, 168: 9, 169: 9, 170: 11, 171: 11, 172: 4, 173: 4, 174: 12, 175: 12, 176: 14, 177: 14, 178: 16, 179: 16, 180: 16, 181: 19, 182: 19, 183: 24, 184: 24, 185: 26, 186: 26, 187: 1, 188: 1, 189: 27, 190: 27, 191: 29, 192: 29, 193: 37, 194: 37, 195: 36, 196: 36, 197: 38, 198: 38, 199: 36, 200: 36, 201: -1, 202: -1, 203: 4, 204: 4, 205: 7, 206: 7, 207: 6, 208: 6, 209: 11, 210: 11, 211: 11, 212: 33, 213: 33, 214: 12, 215: 12, 216: 14, 217: 14, 218: 19, 219: 19, 220: 21, 221: 21, 222: 34, 223: 34}\n",
      "addx 4 {1: 1, 2: 1, 3: 1, 4: 1, 5: 6, 6: 6, 7: 9, 8: 9, 9: 7, 10: 7, 11: 7, 12: 12, 13: 12, 14: 16, 15: 16, 16: 16, 17: 19, 18: 19, 19: 19, 20: 21, 21: 21, 22: 4, 23: 4, 24: 22, 25: 22, 26: 25, 27: 25, 28: 26, 29: 26, 30: 26, 31: 31, 32: 31, 33: 31, 34: 32, 35: 32, 36: 34, 37: 34, 38: 39, 39: 39, 40: -1, 41: -1, 42: -1, 43: 4, 44: 4, 45: 6, 46: 6, 47: 9, 48: 9, 49: 9, 50: 11, 51: 11, 52: 14, 53: 14, 54: 12, 55: 12, 56: 14, 57: 14, 58: 16, 59: 16, 60: 16, 61: 19, 62: 19, 63: 24, 64: 24, 65: 26, 66: 26, 67: 29, 68: 29, 69: 27, 70: 27, 71: 29, 72: 29, 73: 5, 74: 5, 75: 36, 76: 36, 77: 38, 78: 38, 79: 5, 80: 5, 81: -1, 82: -1, 83: 4, 84: 4, 85: 6, 86: 6, 87: 9, 88: 9, 89: 9, 90: 11, 91: 11, 92: 14, 93: 14, 94: 14, 95: 16, 96: 16, 97: 15, 98: 15, 99: 21, 100: 21, 101: 21, 102: 21, 103: 22, 104: 22, 105: 26, 106: 26, 107: 26, 108: 26, 109: 11, 110: 11, 111: 31, 112: 31, 113: 31, 114: 8, 115: 8, 116: 35, 117: 35, 118: 35, 119: 0, 120: 0, 121: 1, 122: 1, 123: 1, 124: 1, 125: 6, 126: 6, 127: 17, 128: 17, 129: 7, 130: 7, 131: 11, 132: 11, 133: 12, 134: 12, 135: 12, 136: 14, 137: 14, 138: 16, 139: 16, 140: 16, 141: 19, 142: 19, 143: 19, 144: 22, 145: 22, 146: 24, 147: 24, 148: 24, 149: 27, 150: 27, 151: 29, 152: 29, 153: 40, 154: 40, 155: 36, 156: 36, 157: 38, 158: 38, 159: 0, 160: 0, 161: -1, 162: -1, 163: 1, 164: 1, 165: 1, 166: 4, 167: 4, 168: 9, 169: 9, 170: 11, 171: 11, 172: 4, 173: 4, 174: 12, 175: 12, 176: 14, 177: 14, 178: 16, 179: 16, 180: 16, 181: 19, 182: 19, 183: 24, 184: 24, 185: 26, 186: 26, 187: 1, 188: 1, 189: 27, 190: 27, 191: 29, 192: 29, 193: 37, 194: 37, 195: 36, 196: 36, 197: 38, 198: 38, 199: 36, 200: 36, 201: -1, 202: -1, 203: 4, 204: 4, 205: 7, 206: 7, 207: 6, 208: 6, 209: 11, 210: 11, 211: 11, 212: 33, 213: 33, 214: 12, 215: 12, 216: 14, 217: 14, 218: 19, 219: 19, 220: 21, 221: 21, 222: 34, 223: 34, 224: 22, 225: 22}\n",
      "noop {1: 1, 2: 1, 3: 1, 4: 1, 5: 6, 6: 6, 7: 9, 8: 9, 9: 7, 10: 7, 11: 7, 12: 12, 13: 12, 14: 16, 15: 16, 16: 16, 17: 19, 18: 19, 19: 19, 20: 21, 21: 21, 22: 4, 23: 4, 24: 22, 25: 22, 26: 25, 27: 25, 28: 26, 29: 26, 30: 26, 31: 31, 32: 31, 33: 31, 34: 32, 35: 32, 36: 34, 37: 34, 38: 39, 39: 39, 40: -1, 41: -1, 42: -1, 43: 4, 44: 4, 45: 6, 46: 6, 47: 9, 48: 9, 49: 9, 50: 11, 51: 11, 52: 14, 53: 14, 54: 12, 55: 12, 56: 14, 57: 14, 58: 16, 59: 16, 60: 16, 61: 19, 62: 19, 63: 24, 64: 24, 65: 26, 66: 26, 67: 29, 68: 29, 69: 27, 70: 27, 71: 29, 72: 29, 73: 5, 74: 5, 75: 36, 76: 36, 77: 38, 78: 38, 79: 5, 80: 5, 81: -1, 82: -1, 83: 4, 84: 4, 85: 6, 86: 6, 87: 9, 88: 9, 89: 9, 90: 11, 91: 11, 92: 14, 93: 14, 94: 14, 95: 16, 96: 16, 97: 15, 98: 15, 99: 21, 100: 21, 101: 21, 102: 21, 103: 22, 104: 22, 105: 26, 106: 26, 107: 26, 108: 26, 109: 11, 110: 11, 111: 31, 112: 31, 113: 31, 114: 8, 115: 8, 116: 35, 117: 35, 118: 35, 119: 0, 120: 0, 121: 1, 122: 1, 123: 1, 124: 1, 125: 6, 126: 6, 127: 17, 128: 17, 129: 7, 130: 7, 131: 11, 132: 11, 133: 12, 134: 12, 135: 12, 136: 14, 137: 14, 138: 16, 139: 16, 140: 16, 141: 19, 142: 19, 143: 19, 144: 22, 145: 22, 146: 24, 147: 24, 148: 24, 149: 27, 150: 27, 151: 29, 152: 29, 153: 40, 154: 40, 155: 36, 156: 36, 157: 38, 158: 38, 159: 0, 160: 0, 161: -1, 162: -1, 163: 1, 164: 1, 165: 1, 166: 4, 167: 4, 168: 9, 169: 9, 170: 11, 171: 11, 172: 4, 173: 4, 174: 12, 175: 12, 176: 14, 177: 14, 178: 16, 179: 16, 180: 16, 181: 19, 182: 19, 183: 24, 184: 24, 185: 26, 186: 26, 187: 1, 188: 1, 189: 27, 190: 27, 191: 29, 192: 29, 193: 37, 194: 37, 195: 36, 196: 36, 197: 38, 198: 38, 199: 36, 200: 36, 201: -1, 202: -1, 203: 4, 204: 4, 205: 7, 206: 7, 207: 6, 208: 6, 209: 11, 210: 11, 211: 11, 212: 33, 213: 33, 214: 12, 215: 12, 216: 14, 217: 14, 218: 19, 219: 19, 220: 21, 221: 21, 222: 34, 223: 34, 224: 22, 225: 22, 226: 26}\n",
      "noop {1: 1, 2: 1, 3: 1, 4: 1, 5: 6, 6: 6, 7: 9, 8: 9, 9: 7, 10: 7, 11: 7, 12: 12, 13: 12, 14: 16, 15: 16, 16: 16, 17: 19, 18: 19, 19: 19, 20: 21, 21: 21, 22: 4, 23: 4, 24: 22, 25: 22, 26: 25, 27: 25, 28: 26, 29: 26, 30: 26, 31: 31, 32: 31, 33: 31, 34: 32, 35: 32, 36: 34, 37: 34, 38: 39, 39: 39, 40: -1, 41: -1, 42: -1, 43: 4, 44: 4, 45: 6, 46: 6, 47: 9, 48: 9, 49: 9, 50: 11, 51: 11, 52: 14, 53: 14, 54: 12, 55: 12, 56: 14, 57: 14, 58: 16, 59: 16, 60: 16, 61: 19, 62: 19, 63: 24, 64: 24, 65: 26, 66: 26, 67: 29, 68: 29, 69: 27, 70: 27, 71: 29, 72: 29, 73: 5, 74: 5, 75: 36, 76: 36, 77: 38, 78: 38, 79: 5, 80: 5, 81: -1, 82: -1, 83: 4, 84: 4, 85: 6, 86: 6, 87: 9, 88: 9, 89: 9, 90: 11, 91: 11, 92: 14, 93: 14, 94: 14, 95: 16, 96: 16, 97: 15, 98: 15, 99: 21, 100: 21, 101: 21, 102: 21, 103: 22, 104: 22, 105: 26, 106: 26, 107: 26, 108: 26, 109: 11, 110: 11, 111: 31, 112: 31, 113: 31, 114: 8, 115: 8, 116: 35, 117: 35, 118: 35, 119: 0, 120: 0, 121: 1, 122: 1, 123: 1, 124: 1, 125: 6, 126: 6, 127: 17, 128: 17, 129: 7, 130: 7, 131: 11, 132: 11, 133: 12, 134: 12, 135: 12, 136: 14, 137: 14, 138: 16, 139: 16, 140: 16, 141: 19, 142: 19, 143: 19, 144: 22, 145: 22, 146: 24, 147: 24, 148: 24, 149: 27, 150: 27, 151: 29, 152: 29, 153: 40, 154: 40, 155: 36, 156: 36, 157: 38, 158: 38, 159: 0, 160: 0, 161: -1, 162: -1, 163: 1, 164: 1, 165: 1, 166: 4, 167: 4, 168: 9, 169: 9, 170: 11, 171: 11, 172: 4, 173: 4, 174: 12, 175: 12, 176: 14, 177: 14, 178: 16, 179: 16, 180: 16, 181: 19, 182: 19, 183: 24, 184: 24, 185: 26, 186: 26, 187: 1, 188: 1, 189: 27, 190: 27, 191: 29, 192: 29, 193: 37, 194: 37, 195: 36, 196: 36, 197: 38, 198: 38, 199: 36, 200: 36, 201: -1, 202: -1, 203: 4, 204: 4, 205: 7, 206: 7, 207: 6, 208: 6, 209: 11, 210: 11, 211: 11, 212: 33, 213: 33, 214: 12, 215: 12, 216: 14, 217: 14, 218: 19, 219: 19, 220: 21, 221: 21, 222: 34, 223: 34, 224: 22, 225: 22, 226: 26, 227: 26}\n",
      "addx 5 {1: 1, 2: 1, 3: 1, 4: 1, 5: 6, 6: 6, 7: 9, 8: 9, 9: 7, 10: 7, 11: 7, 12: 12, 13: 12, 14: 16, 15: 16, 16: 16, 17: 19, 18: 19, 19: 19, 20: 21, 21: 21, 22: 4, 23: 4, 24: 22, 25: 22, 26: 25, 27: 25, 28: 26, 29: 26, 30: 26, 31: 31, 32: 31, 33: 31, 34: 32, 35: 32, 36: 34, 37: 34, 38: 39, 39: 39, 40: -1, 41: -1, 42: -1, 43: 4, 44: 4, 45: 6, 46: 6, 47: 9, 48: 9, 49: 9, 50: 11, 51: 11, 52: 14, 53: 14, 54: 12, 55: 12, 56: 14, 57: 14, 58: 16, 59: 16, 60: 16, 61: 19, 62: 19, 63: 24, 64: 24, 65: 26, 66: 26, 67: 29, 68: 29, 69: 27, 70: 27, 71: 29, 72: 29, 73: 5, 74: 5, 75: 36, 76: 36, 77: 38, 78: 38, 79: 5, 80: 5, 81: -1, 82: -1, 83: 4, 84: 4, 85: 6, 86: 6, 87: 9, 88: 9, 89: 9, 90: 11, 91: 11, 92: 14, 93: 14, 94: 14, 95: 16, 96: 16, 97: 15, 98: 15, 99: 21, 100: 21, 101: 21, 102: 21, 103: 22, 104: 22, 105: 26, 106: 26, 107: 26, 108: 26, 109: 11, 110: 11, 111: 31, 112: 31, 113: 31, 114: 8, 115: 8, 116: 35, 117: 35, 118: 35, 119: 0, 120: 0, 121: 1, 122: 1, 123: 1, 124: 1, 125: 6, 126: 6, 127: 17, 128: 17, 129: 7, 130: 7, 131: 11, 132: 11, 133: 12, 134: 12, 135: 12, 136: 14, 137: 14, 138: 16, 139: 16, 140: 16, 141: 19, 142: 19, 143: 19, 144: 22, 145: 22, 146: 24, 147: 24, 148: 24, 149: 27, 150: 27, 151: 29, 152: 29, 153: 40, 154: 40, 155: 36, 156: 36, 157: 38, 158: 38, 159: 0, 160: 0, 161: -1, 162: -1, 163: 1, 164: 1, 165: 1, 166: 4, 167: 4, 168: 9, 169: 9, 170: 11, 171: 11, 172: 4, 173: 4, 174: 12, 175: 12, 176: 14, 177: 14, 178: 16, 179: 16, 180: 16, 181: 19, 182: 19, 183: 24, 184: 24, 185: 26, 186: 26, 187: 1, 188: 1, 189: 27, 190: 27, 191: 29, 192: 29, 193: 37, 194: 37, 195: 36, 196: 36, 197: 38, 198: 38, 199: 36, 200: 36, 201: -1, 202: -1, 203: 4, 204: 4, 205: 7, 206: 7, 207: 6, 208: 6, 209: 11, 210: 11, 211: 11, 212: 33, 213: 33, 214: 12, 215: 12, 216: 14, 217: 14, 218: 19, 219: 19, 220: 21, 221: 21, 222: 34, 223: 34, 224: 22, 225: 22, 226: 26, 227: 26, 228: 26, 229: 26}\n",
      "addx 1 {1: 1, 2: 1, 3: 1, 4: 1, 5: 6, 6: 6, 7: 9, 8: 9, 9: 7, 10: 7, 11: 7, 12: 12, 13: 12, 14: 16, 15: 16, 16: 16, 17: 19, 18: 19, 19: 19, 20: 21, 21: 21, 22: 4, 23: 4, 24: 22, 25: 22, 26: 25, 27: 25, 28: 26, 29: 26, 30: 26, 31: 31, 32: 31, 33: 31, 34: 32, 35: 32, 36: 34, 37: 34, 38: 39, 39: 39, 40: -1, 41: -1, 42: -1, 43: 4, 44: 4, 45: 6, 46: 6, 47: 9, 48: 9, 49: 9, 50: 11, 51: 11, 52: 14, 53: 14, 54: 12, 55: 12, 56: 14, 57: 14, 58: 16, 59: 16, 60: 16, 61: 19, 62: 19, 63: 24, 64: 24, 65: 26, 66: 26, 67: 29, 68: 29, 69: 27, 70: 27, 71: 29, 72: 29, 73: 5, 74: 5, 75: 36, 76: 36, 77: 38, 78: 38, 79: 5, 80: 5, 81: -1, 82: -1, 83: 4, 84: 4, 85: 6, 86: 6, 87: 9, 88: 9, 89: 9, 90: 11, 91: 11, 92: 14, 93: 14, 94: 14, 95: 16, 96: 16, 97: 15, 98: 15, 99: 21, 100: 21, 101: 21, 102: 21, 103: 22, 104: 22, 105: 26, 106: 26, 107: 26, 108: 26, 109: 11, 110: 11, 111: 31, 112: 31, 113: 31, 114: 8, 115: 8, 116: 35, 117: 35, 118: 35, 119: 0, 120: 0, 121: 1, 122: 1, 123: 1, 124: 1, 125: 6, 126: 6, 127: 17, 128: 17, 129: 7, 130: 7, 131: 11, 132: 11, 133: 12, 134: 12, 135: 12, 136: 14, 137: 14, 138: 16, 139: 16, 140: 16, 141: 19, 142: 19, 143: 19, 144: 22, 145: 22, 146: 24, 147: 24, 148: 24, 149: 27, 150: 27, 151: 29, 152: 29, 153: 40, 154: 40, 155: 36, 156: 36, 157: 38, 158: 38, 159: 0, 160: 0, 161: -1, 162: -1, 163: 1, 164: 1, 165: 1, 166: 4, 167: 4, 168: 9, 169: 9, 170: 11, 171: 11, 172: 4, 173: 4, 174: 12, 175: 12, 176: 14, 177: 14, 178: 16, 179: 16, 180: 16, 181: 19, 182: 19, 183: 24, 184: 24, 185: 26, 186: 26, 187: 1, 188: 1, 189: 27, 190: 27, 191: 29, 192: 29, 193: 37, 194: 37, 195: 36, 196: 36, 197: 38, 198: 38, 199: 36, 200: 36, 201: -1, 202: -1, 203: 4, 204: 4, 205: 7, 206: 7, 207: 6, 208: 6, 209: 11, 210: 11, 211: 11, 212: 33, 213: 33, 214: 12, 215: 12, 216: 14, 217: 14, 218: 19, 219: 19, 220: 21, 221: 21, 222: 34, 223: 34, 224: 22, 225: 22, 226: 26, 227: 26, 228: 26, 229: 26, 230: 31, 231: 31}\n",
      "noop {1: 1, 2: 1, 3: 1, 4: 1, 5: 6, 6: 6, 7: 9, 8: 9, 9: 7, 10: 7, 11: 7, 12: 12, 13: 12, 14: 16, 15: 16, 16: 16, 17: 19, 18: 19, 19: 19, 20: 21, 21: 21, 22: 4, 23: 4, 24: 22, 25: 22, 26: 25, 27: 25, 28: 26, 29: 26, 30: 26, 31: 31, 32: 31, 33: 31, 34: 32, 35: 32, 36: 34, 37: 34, 38: 39, 39: 39, 40: -1, 41: -1, 42: -1, 43: 4, 44: 4, 45: 6, 46: 6, 47: 9, 48: 9, 49: 9, 50: 11, 51: 11, 52: 14, 53: 14, 54: 12, 55: 12, 56: 14, 57: 14, 58: 16, 59: 16, 60: 16, 61: 19, 62: 19, 63: 24, 64: 24, 65: 26, 66: 26, 67: 29, 68: 29, 69: 27, 70: 27, 71: 29, 72: 29, 73: 5, 74: 5, 75: 36, 76: 36, 77: 38, 78: 38, 79: 5, 80: 5, 81: -1, 82: -1, 83: 4, 84: 4, 85: 6, 86: 6, 87: 9, 88: 9, 89: 9, 90: 11, 91: 11, 92: 14, 93: 14, 94: 14, 95: 16, 96: 16, 97: 15, 98: 15, 99: 21, 100: 21, 101: 21, 102: 21, 103: 22, 104: 22, 105: 26, 106: 26, 107: 26, 108: 26, 109: 11, 110: 11, 111: 31, 112: 31, 113: 31, 114: 8, 115: 8, 116: 35, 117: 35, 118: 35, 119: 0, 120: 0, 121: 1, 122: 1, 123: 1, 124: 1, 125: 6, 126: 6, 127: 17, 128: 17, 129: 7, 130: 7, 131: 11, 132: 11, 133: 12, 134: 12, 135: 12, 136: 14, 137: 14, 138: 16, 139: 16, 140: 16, 141: 19, 142: 19, 143: 19, 144: 22, 145: 22, 146: 24, 147: 24, 148: 24, 149: 27, 150: 27, 151: 29, 152: 29, 153: 40, 154: 40, 155: 36, 156: 36, 157: 38, 158: 38, 159: 0, 160: 0, 161: -1, 162: -1, 163: 1, 164: 1, 165: 1, 166: 4, 167: 4, 168: 9, 169: 9, 170: 11, 171: 11, 172: 4, 173: 4, 174: 12, 175: 12, 176: 14, 177: 14, 178: 16, 179: 16, 180: 16, 181: 19, 182: 19, 183: 24, 184: 24, 185: 26, 186: 26, 187: 1, 188: 1, 189: 27, 190: 27, 191: 29, 192: 29, 193: 37, 194: 37, 195: 36, 196: 36, 197: 38, 198: 38, 199: 36, 200: 36, 201: -1, 202: -1, 203: 4, 204: 4, 205: 7, 206: 7, 207: 6, 208: 6, 209: 11, 210: 11, 211: 11, 212: 33, 213: 33, 214: 12, 215: 12, 216: 14, 217: 14, 218: 19, 219: 19, 220: 21, 221: 21, 222: 34, 223: 34, 224: 22, 225: 22, 226: 26, 227: 26, 228: 26, 229: 26, 230: 31, 231: 31, 232: 32}\n",
      "noop {1: 1, 2: 1, 3: 1, 4: 1, 5: 6, 6: 6, 7: 9, 8: 9, 9: 7, 10: 7, 11: 7, 12: 12, 13: 12, 14: 16, 15: 16, 16: 16, 17: 19, 18: 19, 19: 19, 20: 21, 21: 21, 22: 4, 23: 4, 24: 22, 25: 22, 26: 25, 27: 25, 28: 26, 29: 26, 30: 26, 31: 31, 32: 31, 33: 31, 34: 32, 35: 32, 36: 34, 37: 34, 38: 39, 39: 39, 40: -1, 41: -1, 42: -1, 43: 4, 44: 4, 45: 6, 46: 6, 47: 9, 48: 9, 49: 9, 50: 11, 51: 11, 52: 14, 53: 14, 54: 12, 55: 12, 56: 14, 57: 14, 58: 16, 59: 16, 60: 16, 61: 19, 62: 19, 63: 24, 64: 24, 65: 26, 66: 26, 67: 29, 68: 29, 69: 27, 70: 27, 71: 29, 72: 29, 73: 5, 74: 5, 75: 36, 76: 36, 77: 38, 78: 38, 79: 5, 80: 5, 81: -1, 82: -1, 83: 4, 84: 4, 85: 6, 86: 6, 87: 9, 88: 9, 89: 9, 90: 11, 91: 11, 92: 14, 93: 14, 94: 14, 95: 16, 96: 16, 97: 15, 98: 15, 99: 21, 100: 21, 101: 21, 102: 21, 103: 22, 104: 22, 105: 26, 106: 26, 107: 26, 108: 26, 109: 11, 110: 11, 111: 31, 112: 31, 113: 31, 114: 8, 115: 8, 116: 35, 117: 35, 118: 35, 119: 0, 120: 0, 121: 1, 122: 1, 123: 1, 124: 1, 125: 6, 126: 6, 127: 17, 128: 17, 129: 7, 130: 7, 131: 11, 132: 11, 133: 12, 134: 12, 135: 12, 136: 14, 137: 14, 138: 16, 139: 16, 140: 16, 141: 19, 142: 19, 143: 19, 144: 22, 145: 22, 146: 24, 147: 24, 148: 24, 149: 27, 150: 27, 151: 29, 152: 29, 153: 40, 154: 40, 155: 36, 156: 36, 157: 38, 158: 38, 159: 0, 160: 0, 161: -1, 162: -1, 163: 1, 164: 1, 165: 1, 166: 4, 167: 4, 168: 9, 169: 9, 170: 11, 171: 11, 172: 4, 173: 4, 174: 12, 175: 12, 176: 14, 177: 14, 178: 16, 179: 16, 180: 16, 181: 19, 182: 19, 183: 24, 184: 24, 185: 26, 186: 26, 187: 1, 188: 1, 189: 27, 190: 27, 191: 29, 192: 29, 193: 37, 194: 37, 195: 36, 196: 36, 197: 38, 198: 38, 199: 36, 200: 36, 201: -1, 202: -1, 203: 4, 204: 4, 205: 7, 206: 7, 207: 6, 208: 6, 209: 11, 210: 11, 211: 11, 212: 33, 213: 33, 214: 12, 215: 12, 216: 14, 217: 14, 218: 19, 219: 19, 220: 21, 221: 21, 222: 34, 223: 34, 224: 22, 225: 22, 226: 26, 227: 26, 228: 26, 229: 26, 230: 31, 231: 31, 232: 32, 233: 32}\n",
      "addx 2 {1: 1, 2: 1, 3: 1, 4: 1, 5: 6, 6: 6, 7: 9, 8: 9, 9: 7, 10: 7, 11: 7, 12: 12, 13: 12, 14: 16, 15: 16, 16: 16, 17: 19, 18: 19, 19: 19, 20: 21, 21: 21, 22: 4, 23: 4, 24: 22, 25: 22, 26: 25, 27: 25, 28: 26, 29: 26, 30: 26, 31: 31, 32: 31, 33: 31, 34: 32, 35: 32, 36: 34, 37: 34, 38: 39, 39: 39, 40: -1, 41: -1, 42: -1, 43: 4, 44: 4, 45: 6, 46: 6, 47: 9, 48: 9, 49: 9, 50: 11, 51: 11, 52: 14, 53: 14, 54: 12, 55: 12, 56: 14, 57: 14, 58: 16, 59: 16, 60: 16, 61: 19, 62: 19, 63: 24, 64: 24, 65: 26, 66: 26, 67: 29, 68: 29, 69: 27, 70: 27, 71: 29, 72: 29, 73: 5, 74: 5, 75: 36, 76: 36, 77: 38, 78: 38, 79: 5, 80: 5, 81: -1, 82: -1, 83: 4, 84: 4, 85: 6, 86: 6, 87: 9, 88: 9, 89: 9, 90: 11, 91: 11, 92: 14, 93: 14, 94: 14, 95: 16, 96: 16, 97: 15, 98: 15, 99: 21, 100: 21, 101: 21, 102: 21, 103: 22, 104: 22, 105: 26, 106: 26, 107: 26, 108: 26, 109: 11, 110: 11, 111: 31, 112: 31, 113: 31, 114: 8, 115: 8, 116: 35, 117: 35, 118: 35, 119: 0, 120: 0, 121: 1, 122: 1, 123: 1, 124: 1, 125: 6, 126: 6, 127: 17, 128: 17, 129: 7, 130: 7, 131: 11, 132: 11, 133: 12, 134: 12, 135: 12, 136: 14, 137: 14, 138: 16, 139: 16, 140: 16, 141: 19, 142: 19, 143: 19, 144: 22, 145: 22, 146: 24, 147: 24, 148: 24, 149: 27, 150: 27, 151: 29, 152: 29, 153: 40, 154: 40, 155: 36, 156: 36, 157: 38, 158: 38, 159: 0, 160: 0, 161: -1, 162: -1, 163: 1, 164: 1, 165: 1, 166: 4, 167: 4, 168: 9, 169: 9, 170: 11, 171: 11, 172: 4, 173: 4, 174: 12, 175: 12, 176: 14, 177: 14, 178: 16, 179: 16, 180: 16, 181: 19, 182: 19, 183: 24, 184: 24, 185: 26, 186: 26, 187: 1, 188: 1, 189: 27, 190: 27, 191: 29, 192: 29, 193: 37, 194: 37, 195: 36, 196: 36, 197: 38, 198: 38, 199: 36, 200: 36, 201: -1, 202: -1, 203: 4, 204: 4, 205: 7, 206: 7, 207: 6, 208: 6, 209: 11, 210: 11, 211: 11, 212: 33, 213: 33, 214: 12, 215: 12, 216: 14, 217: 14, 218: 19, 219: 19, 220: 21, 221: 21, 222: 34, 223: 34, 224: 22, 225: 22, 226: 26, 227: 26, 228: 26, 229: 26, 230: 31, 231: 31, 232: 32, 233: 32, 234: 32, 235: 32}\n",
      "noop {1: 1, 2: 1, 3: 1, 4: 1, 5: 6, 6: 6, 7: 9, 8: 9, 9: 7, 10: 7, 11: 7, 12: 12, 13: 12, 14: 16, 15: 16, 16: 16, 17: 19, 18: 19, 19: 19, 20: 21, 21: 21, 22: 4, 23: 4, 24: 22, 25: 22, 26: 25, 27: 25, 28: 26, 29: 26, 30: 26, 31: 31, 32: 31, 33: 31, 34: 32, 35: 32, 36: 34, 37: 34, 38: 39, 39: 39, 40: -1, 41: -1, 42: -1, 43: 4, 44: 4, 45: 6, 46: 6, 47: 9, 48: 9, 49: 9, 50: 11, 51: 11, 52: 14, 53: 14, 54: 12, 55: 12, 56: 14, 57: 14, 58: 16, 59: 16, 60: 16, 61: 19, 62: 19, 63: 24, 64: 24, 65: 26, 66: 26, 67: 29, 68: 29, 69: 27, 70: 27, 71: 29, 72: 29, 73: 5, 74: 5, 75: 36, 76: 36, 77: 38, 78: 38, 79: 5, 80: 5, 81: -1, 82: -1, 83: 4, 84: 4, 85: 6, 86: 6, 87: 9, 88: 9, 89: 9, 90: 11, 91: 11, 92: 14, 93: 14, 94: 14, 95: 16, 96: 16, 97: 15, 98: 15, 99: 21, 100: 21, 101: 21, 102: 21, 103: 22, 104: 22, 105: 26, 106: 26, 107: 26, 108: 26, 109: 11, 110: 11, 111: 31, 112: 31, 113: 31, 114: 8, 115: 8, 116: 35, 117: 35, 118: 35, 119: 0, 120: 0, 121: 1, 122: 1, 123: 1, 124: 1, 125: 6, 126: 6, 127: 17, 128: 17, 129: 7, 130: 7, 131: 11, 132: 11, 133: 12, 134: 12, 135: 12, 136: 14, 137: 14, 138: 16, 139: 16, 140: 16, 141: 19, 142: 19, 143: 19, 144: 22, 145: 22, 146: 24, 147: 24, 148: 24, 149: 27, 150: 27, 151: 29, 152: 29, 153: 40, 154: 40, 155: 36, 156: 36, 157: 38, 158: 38, 159: 0, 160: 0, 161: -1, 162: -1, 163: 1, 164: 1, 165: 1, 166: 4, 167: 4, 168: 9, 169: 9, 170: 11, 171: 11, 172: 4, 173: 4, 174: 12, 175: 12, 176: 14, 177: 14, 178: 16, 179: 16, 180: 16, 181: 19, 182: 19, 183: 24, 184: 24, 185: 26, 186: 26, 187: 1, 188: 1, 189: 27, 190: 27, 191: 29, 192: 29, 193: 37, 194: 37, 195: 36, 196: 36, 197: 38, 198: 38, 199: 36, 200: 36, 201: -1, 202: -1, 203: 4, 204: 4, 205: 7, 206: 7, 207: 6, 208: 6, 209: 11, 210: 11, 211: 11, 212: 33, 213: 33, 214: 12, 215: 12, 216: 14, 217: 14, 218: 19, 219: 19, 220: 21, 221: 21, 222: 34, 223: 34, 224: 22, 225: 22, 226: 26, 227: 26, 228: 26, 229: 26, 230: 31, 231: 31, 232: 32, 233: 32, 234: 32, 235: 32, 236: 34}\n",
      "addx 3 {1: 1, 2: 1, 3: 1, 4: 1, 5: 6, 6: 6, 7: 9, 8: 9, 9: 7, 10: 7, 11: 7, 12: 12, 13: 12, 14: 16, 15: 16, 16: 16, 17: 19, 18: 19, 19: 19, 20: 21, 21: 21, 22: 4, 23: 4, 24: 22, 25: 22, 26: 25, 27: 25, 28: 26, 29: 26, 30: 26, 31: 31, 32: 31, 33: 31, 34: 32, 35: 32, 36: 34, 37: 34, 38: 39, 39: 39, 40: -1, 41: -1, 42: -1, 43: 4, 44: 4, 45: 6, 46: 6, 47: 9, 48: 9, 49: 9, 50: 11, 51: 11, 52: 14, 53: 14, 54: 12, 55: 12, 56: 14, 57: 14, 58: 16, 59: 16, 60: 16, 61: 19, 62: 19, 63: 24, 64: 24, 65: 26, 66: 26, 67: 29, 68: 29, 69: 27, 70: 27, 71: 29, 72: 29, 73: 5, 74: 5, 75: 36, 76: 36, 77: 38, 78: 38, 79: 5, 80: 5, 81: -1, 82: -1, 83: 4, 84: 4, 85: 6, 86: 6, 87: 9, 88: 9, 89: 9, 90: 11, 91: 11, 92: 14, 93: 14, 94: 14, 95: 16, 96: 16, 97: 15, 98: 15, 99: 21, 100: 21, 101: 21, 102: 21, 103: 22, 104: 22, 105: 26, 106: 26, 107: 26, 108: 26, 109: 11, 110: 11, 111: 31, 112: 31, 113: 31, 114: 8, 115: 8, 116: 35, 117: 35, 118: 35, 119: 0, 120: 0, 121: 1, 122: 1, 123: 1, 124: 1, 125: 6, 126: 6, 127: 17, 128: 17, 129: 7, 130: 7, 131: 11, 132: 11, 133: 12, 134: 12, 135: 12, 136: 14, 137: 14, 138: 16, 139: 16, 140: 16, 141: 19, 142: 19, 143: 19, 144: 22, 145: 22, 146: 24, 147: 24, 148: 24, 149: 27, 150: 27, 151: 29, 152: 29, 153: 40, 154: 40, 155: 36, 156: 36, 157: 38, 158: 38, 159: 0, 160: 0, 161: -1, 162: -1, 163: 1, 164: 1, 165: 1, 166: 4, 167: 4, 168: 9, 169: 9, 170: 11, 171: 11, 172: 4, 173: 4, 174: 12, 175: 12, 176: 14, 177: 14, 178: 16, 179: 16, 180: 16, 181: 19, 182: 19, 183: 24, 184: 24, 185: 26, 186: 26, 187: 1, 188: 1, 189: 27, 190: 27, 191: 29, 192: 29, 193: 37, 194: 37, 195: 36, 196: 36, 197: 38, 198: 38, 199: 36, 200: 36, 201: -1, 202: -1, 203: 4, 204: 4, 205: 7, 206: 7, 207: 6, 208: 6, 209: 11, 210: 11, 211: 11, 212: 33, 213: 33, 214: 12, 215: 12, 216: 14, 217: 14, 218: 19, 219: 19, 220: 21, 221: 21, 222: 34, 223: 34, 224: 22, 225: 22, 226: 26, 227: 26, 228: 26, 229: 26, 230: 31, 231: 31, 232: 32, 233: 32, 234: 32, 235: 32, 236: 34, 237: 34, 238: 34}\n",
      "noop {1: 1, 2: 1, 3: 1, 4: 1, 5: 6, 6: 6, 7: 9, 8: 9, 9: 7, 10: 7, 11: 7, 12: 12, 13: 12, 14: 16, 15: 16, 16: 16, 17: 19, 18: 19, 19: 19, 20: 21, 21: 21, 22: 4, 23: 4, 24: 22, 25: 22, 26: 25, 27: 25, 28: 26, 29: 26, 30: 26, 31: 31, 32: 31, 33: 31, 34: 32, 35: 32, 36: 34, 37: 34, 38: 39, 39: 39, 40: -1, 41: -1, 42: -1, 43: 4, 44: 4, 45: 6, 46: 6, 47: 9, 48: 9, 49: 9, 50: 11, 51: 11, 52: 14, 53: 14, 54: 12, 55: 12, 56: 14, 57: 14, 58: 16, 59: 16, 60: 16, 61: 19, 62: 19, 63: 24, 64: 24, 65: 26, 66: 26, 67: 29, 68: 29, 69: 27, 70: 27, 71: 29, 72: 29, 73: 5, 74: 5, 75: 36, 76: 36, 77: 38, 78: 38, 79: 5, 80: 5, 81: -1, 82: -1, 83: 4, 84: 4, 85: 6, 86: 6, 87: 9, 88: 9, 89: 9, 90: 11, 91: 11, 92: 14, 93: 14, 94: 14, 95: 16, 96: 16, 97: 15, 98: 15, 99: 21, 100: 21, 101: 21, 102: 21, 103: 22, 104: 22, 105: 26, 106: 26, 107: 26, 108: 26, 109: 11, 110: 11, 111: 31, 112: 31, 113: 31, 114: 8, 115: 8, 116: 35, 117: 35, 118: 35, 119: 0, 120: 0, 121: 1, 122: 1, 123: 1, 124: 1, 125: 6, 126: 6, 127: 17, 128: 17, 129: 7, 130: 7, 131: 11, 132: 11, 133: 12, 134: 12, 135: 12, 136: 14, 137: 14, 138: 16, 139: 16, 140: 16, 141: 19, 142: 19, 143: 19, 144: 22, 145: 22, 146: 24, 147: 24, 148: 24, 149: 27, 150: 27, 151: 29, 152: 29, 153: 40, 154: 40, 155: 36, 156: 36, 157: 38, 158: 38, 159: 0, 160: 0, 161: -1, 162: -1, 163: 1, 164: 1, 165: 1, 166: 4, 167: 4, 168: 9, 169: 9, 170: 11, 171: 11, 172: 4, 173: 4, 174: 12, 175: 12, 176: 14, 177: 14, 178: 16, 179: 16, 180: 16, 181: 19, 182: 19, 183: 24, 184: 24, 185: 26, 186: 26, 187: 1, 188: 1, 189: 27, 190: 27, 191: 29, 192: 29, 193: 37, 194: 37, 195: 36, 196: 36, 197: 38, 198: 38, 199: 36, 200: 36, 201: -1, 202: -1, 203: 4, 204: 4, 205: 7, 206: 7, 207: 6, 208: 6, 209: 11, 210: 11, 211: 11, 212: 33, 213: 33, 214: 12, 215: 12, 216: 14, 217: 14, 218: 19, 219: 19, 220: 21, 221: 21, 222: 34, 223: 34, 224: 22, 225: 22, 226: 26, 227: 26, 228: 26, 229: 26, 230: 31, 231: 31, 232: 32, 233: 32, 234: 32, 235: 32, 236: 34, 237: 34, 238: 34, 239: 37}\n",
      "noop {1: 1, 2: 1, 3: 1, 4: 1, 5: 6, 6: 6, 7: 9, 8: 9, 9: 7, 10: 7, 11: 7, 12: 12, 13: 12, 14: 16, 15: 16, 16: 16, 17: 19, 18: 19, 19: 19, 20: 21, 21: 21, 22: 4, 23: 4, 24: 22, 25: 22, 26: 25, 27: 25, 28: 26, 29: 26, 30: 26, 31: 31, 32: 31, 33: 31, 34: 32, 35: 32, 36: 34, 37: 34, 38: 39, 39: 39, 40: -1, 41: -1, 42: -1, 43: 4, 44: 4, 45: 6, 46: 6, 47: 9, 48: 9, 49: 9, 50: 11, 51: 11, 52: 14, 53: 14, 54: 12, 55: 12, 56: 14, 57: 14, 58: 16, 59: 16, 60: 16, 61: 19, 62: 19, 63: 24, 64: 24, 65: 26, 66: 26, 67: 29, 68: 29, 69: 27, 70: 27, 71: 29, 72: 29, 73: 5, 74: 5, 75: 36, 76: 36, 77: 38, 78: 38, 79: 5, 80: 5, 81: -1, 82: -1, 83: 4, 84: 4, 85: 6, 86: 6, 87: 9, 88: 9, 89: 9, 90: 11, 91: 11, 92: 14, 93: 14, 94: 14, 95: 16, 96: 16, 97: 15, 98: 15, 99: 21, 100: 21, 101: 21, 102: 21, 103: 22, 104: 22, 105: 26, 106: 26, 107: 26, 108: 26, 109: 11, 110: 11, 111: 31, 112: 31, 113: 31, 114: 8, 115: 8, 116: 35, 117: 35, 118: 35, 119: 0, 120: 0, 121: 1, 122: 1, 123: 1, 124: 1, 125: 6, 126: 6, 127: 17, 128: 17, 129: 7, 130: 7, 131: 11, 132: 11, 133: 12, 134: 12, 135: 12, 136: 14, 137: 14, 138: 16, 139: 16, 140: 16, 141: 19, 142: 19, 143: 19, 144: 22, 145: 22, 146: 24, 147: 24, 148: 24, 149: 27, 150: 27, 151: 29, 152: 29, 153: 40, 154: 40, 155: 36, 156: 36, 157: 38, 158: 38, 159: 0, 160: 0, 161: -1, 162: -1, 163: 1, 164: 1, 165: 1, 166: 4, 167: 4, 168: 9, 169: 9, 170: 11, 171: 11, 172: 4, 173: 4, 174: 12, 175: 12, 176: 14, 177: 14, 178: 16, 179: 16, 180: 16, 181: 19, 182: 19, 183: 24, 184: 24, 185: 26, 186: 26, 187: 1, 188: 1, 189: 27, 190: 27, 191: 29, 192: 29, 193: 37, 194: 37, 195: 36, 196: 36, 197: 38, 198: 38, 199: 36, 200: 36, 201: -1, 202: -1, 203: 4, 204: 4, 205: 7, 206: 7, 207: 6, 208: 6, 209: 11, 210: 11, 211: 11, 212: 33, 213: 33, 214: 12, 215: 12, 216: 14, 217: 14, 218: 19, 219: 19, 220: 21, 221: 21, 222: 34, 223: 34, 224: 22, 225: 22, 226: 26, 227: 26, 228: 26, 229: 26, 230: 31, 231: 31, 232: 32, 233: 32, 234: 32, 235: 32, 236: 34, 237: 34, 238: 34, 239: 37, 240: 37}\n"
     ]
    }
   ],
   "source": [
    "timeline = {}\n",
    "cycle = 0\n",
    "x = 1\n",
    "\n",
    "for ins in data:\n",
    "    args = ins.split()\n",
    "    \n",
    "    if args[0] == \"noop\":\n",
    "        cycle += 1\n",
    "        timeline[cycle] = x\n",
    "    elif args[0] == \"addx\":\n",
    "        value = args[1]\n",
    "        \n",
    "        cycle += 1\n",
    "        timeline[cycle] = x\n",
    "        cycle += 1\n",
    "        timeline[cycle] = x\n",
    "\n",
    "        x += int(value)\n",
    "\n",
    "    print(ins, timeline)\n",
    "            \n"
   ]
  },
  {
   "cell_type": "code",
   "execution_count": 19,
   "metadata": {},
   "outputs": [
    {
     "data": {
      "text/plain": [
       "13220"
      ]
     },
     "execution_count": 19,
     "metadata": {},
     "output_type": "execute_result"
    }
   ],
   "source": [
    "res = sum([i * timeline[i] for i in [20, 60, 100, 140, 180, 220]])\n",
    "res"
   ]
  },
  {
   "cell_type": "code",
   "execution_count": 20,
   "metadata": {},
   "outputs": [
    {
     "name": "stdout",
     "output_type": "stream",
     "text": [
      "That's the right answer!  You are one gold star closer to collecting enough star fruit. [Continue to Part Two]\n"
     ]
    }
   ],
   "source": [
    "puzzle.answer_a = res"
   ]
  },
  {
   "cell_type": "markdown",
   "metadata": {},
   "source": [
    "## Part 2"
   ]
  },
  {
   "cell_type": "code",
   "execution_count": 31,
   "metadata": {},
   "outputs": [
    {
     "name": "stdout",
     "output_type": "stream",
     "text": [
      "###..#..#..##..#..#.#..#.###..####.#..##\n",
      "#..#.#..#.#..#.#.#..#..#.#..#.#....#.#..\n",
      "#..#.#..#.#..#.##...####.###..###..##..#\n",
      "###..#..#.####.#.#..#..#.#..#.#....#.#.#\n",
      "#.#..#..#.#..#.#.#..#..#.#..#.#....#.#..\n",
      "#..#..##..#..#.#..#.#..#.###..####.#..#.\n"
     ]
    }
   ],
   "source": [
    "for c, x in timeline.items():\n",
    "    if c%40 in [x, x + 1, x + 2]:\n",
    "        print(\"#\", end=\"\")\n",
    "    else:\n",
    "        print(\".\", end=\"\")\n",
    "\n",
    "    if not c%40:\n",
    "        print()"
   ]
  },
  {
   "cell_type": "code",
   "execution_count": 32,
   "metadata": {},
   "outputs": [
    {
     "name": "stdout",
     "output_type": "stream",
     "text": [
      "That's the right answer!  You are one gold star closer to collecting enough star fruit.You have completed Day 10! You can [Shareon\n",
      "  Twitter\n",
      "Mastodon] this victory or [Return to Your Advent Calendar].\n"
     ]
    }
   ],
   "source": [
    "puzzle.answer_b = \"RUAKHBEK\""
   ]
  },
  {
   "cell_type": "code",
   "execution_count": null,
   "metadata": {},
   "outputs": [],
   "source": []
  }
 ],
 "metadata": {
  "kernelspec": {
   "display_name": "Python 3 (ipykernel)",
   "language": "python",
   "name": "python3"
  },
  "language_info": {
   "codemirror_mode": {
    "name": "ipython",
    "version": 3
   },
   "file_extension": ".py",
   "mimetype": "text/x-python",
   "name": "python",
   "nbconvert_exporter": "python",
   "pygments_lexer": "ipython3",
   "version": "3.9.5"
  }
 },
 "nbformat": 4,
 "nbformat_minor": 2
}
