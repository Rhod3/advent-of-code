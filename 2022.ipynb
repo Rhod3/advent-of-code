{
 "cells": [
  {
   "cell_type": "markdown",
   "metadata": {},
   "source": [
    "# Advent of Code 2022"
   ]
  },
  {
   "cell_type": "code",
   "execution_count": null,
   "metadata": {
    "scrolled": true
   },
   "outputs": [],
   "source": [
    "! pip install -U advent-of-code-data networkx numpy"
   ]
  },
  {
   "cell_type": "code",
   "execution_count": null,
   "metadata": {},
   "outputs": [],
   "source": [
    "import os\n",
    "\n",
    "os.environ['AOC_SESSION'] = open('session.txt').read().strip()\n",
    "\n",
    "from aocd.models import Puzzle"
   ]
  },
  {
   "cell_type": "markdown",
   "metadata": {},
   "source": [
    "## Day X"
   ]
  },
  {
   "cell_type": "code",
   "execution_count": null,
   "metadata": {},
   "outputs": [],
   "source": [
    "puzzle = Puzzle(year=2022, day=X)\n",
    "puzzle.input_data"
   ]
  },
  {
   "cell_type": "markdown",
   "metadata": {},
   "source": [
    "## Part 1"
   ]
  },
  {
   "cell_type": "code",
   "execution_count": null,
   "metadata": {},
   "outputs": [],
   "source": [
    "pass"
   ]
  },
  {
   "cell_type": "code",
   "execution_count": null,
   "metadata": {},
   "outputs": [],
   "source": [
    "puzzle.answer_a = res"
   ]
  },
  {
   "cell_type": "markdown",
   "metadata": {},
   "source": [
    "## Part 2"
   ]
  },
  {
   "cell_type": "code",
   "execution_count": null,
   "metadata": {},
   "outputs": [],
   "source": [
    "pass"
   ]
  },
  {
   "cell_type": "code",
   "execution_count": null,
   "metadata": {},
   "outputs": [],
   "source": [
    "puzzle.answer_b = res"
   ]
  },
  {
   "attachments": {},
   "cell_type": "markdown",
   "metadata": {},
   "source": [
    "## Day 14"
   ]
  },
  {
   "cell_type": "code",
   "execution_count": null,
   "metadata": {},
   "outputs": [],
   "source": [
    "puzzle = Puzzle(year=2022, day=14)\n",
    "puzzle.input_data"
   ]
  },
  {
   "cell_type": "markdown",
   "metadata": {},
   "source": [
    "## Part 1"
   ]
  },
  {
   "cell_type": "code",
   "execution_count": null,
   "metadata": {},
   "outputs": [],
   "source": [
    "pass"
   ]
  },
  {
   "cell_type": "code",
   "execution_count": null,
   "metadata": {},
   "outputs": [],
   "source": [
    "puzzle.answer_a = res"
   ]
  },
  {
   "cell_type": "markdown",
   "metadata": {},
   "source": [
    "## Part 2"
   ]
  },
  {
   "cell_type": "code",
   "execution_count": null,
   "metadata": {},
   "outputs": [],
   "source": [
    "pass"
   ]
  },
  {
   "cell_type": "code",
   "execution_count": null,
   "metadata": {},
   "outputs": [],
   "source": [
    "puzzle.answer_b = res"
   ]
  },
  {
   "cell_type": "markdown",
   "metadata": {},
   "source": [
    "## Day 13"
   ]
  },
  {
   "cell_type": "code",
   "execution_count": null,
   "metadata": {},
   "outputs": [],
   "source": [
    "puzzle = Puzzle(year=2022, day=13)"
   ]
  },
  {
   "cell_type": "markdown",
   "metadata": {},
   "source": [
    "## Part 1"
   ]
  },
  {
   "cell_type": "code",
   "execution_count": null,
   "metadata": {},
   "outputs": [],
   "source": [
    "data = puzzle.example_data.split(\"\\n\\n\")\n",
    "pairs = [d.split(\"\\n\") for d in data]\n",
    "pairs"
   ]
  },
  {
   "cell_type": "code",
   "execution_count": null,
   "metadata": {},
   "outputs": [],
   "source": [
    "test_data = [\n",
    "    [\n",
    "        \"[1,1,3,1,1]\",\n",
    "        \"[1,1,5,1,1]\"\n",
    "    ],\n",
    "    [\n",
    "        \"[[1],[2,3,4]]\",\n",
    "        \"[[1],4]\"\n",
    "    ],\n",
    "    [\n",
    "        \"[9]\",\n",
    "        \"[[8,7,6]]\"\n",
    "    ],\n",
    "    [\n",
    "        \"[[4,4],4,4]\",\n",
    "        \"[[4,4],4,4,4]\"\n",
    "    ],\n",
    "    [\n",
    "        \"[7,7,7,7]\",\n",
    "        \"[7,7,7]\"\n",
    "    ],\n",
    "    [\n",
    "        \"[]\",\n",
    "        \"[3]\"\n",
    "    ],\n",
    "    [\n",
    "        \"[[[]]]\",\n",
    "        \"[[]]\"\n",
    "    ],\n",
    "    [\n",
    "        \"[1,[2,[3,[4,[5,6,7]]]],8,9]\",\n",
    "        \"[1,[2,[3,[4,[5,6,0]]]],8,9]\",\n",
    "    ]\n",
    "]"
   ]
  },
  {
   "cell_type": "code",
   "execution_count": null,
   "metadata": {},
   "outputs": [],
   "source": [
    "def compare(a, b):\n",
    "    type_a = type(a)\n",
    "    type_b = type(b)\n",
    "\n",
    "    if type_a == type_b == int:\n",
    "        if a != b:\n",
    "            return a < b\n",
    "\n",
    "    elif type_a == type_b == list:\n",
    "        for c, d in zip(a, b):\n",
    "            res = compare(c, d)\n",
    "            if res is not None:\n",
    "                return res\n",
    "\n",
    "        if len(a) != len(b):\n",
    "            return len(a) < len(b)\n",
    "\n",
    "    elif type_a == int and type_b == list:\n",
    "        return compare([a], b)\n",
    "\n",
    "    elif type_a == list and type_b == int:\n",
    "        return compare(a, [b])\n",
    "\n",
    "    return None \n"
   ]
  },
  {
   "cell_type": "code",
   "execution_count": null,
   "metadata": {},
   "outputs": [],
   "source": [
    "res = 0\n",
    "for i, pair in enumerate(pairs):\n",
    "    a, b = pair\n",
    "    if compare(eval(a), eval(b)):\n",
    "        res += i + 1\n",
    "res\n",
    "\n",
    "\n",
    "# res = sum([compare(eval(a), eval(b)) for a, b in pairs])\n",
    "# res"
   ]
  },
  {
   "cell_type": "code",
   "execution_count": null,
   "metadata": {},
   "outputs": [],
   "source": [
    "puzzle.answer_a = res"
   ]
  },
  {
   "cell_type": "markdown",
   "metadata": {},
   "source": [
    "## Part 2"
   ]
  },
  {
   "cell_type": "code",
   "execution_count": null,
   "metadata": {},
   "outputs": [],
   "source": [
    "data = puzzle.input_data\n",
    "data = data.replace(\"\\n\\n\", \"\\n\")\n",
    "data = [eval(s) for s in data.split(\"\\n\")]\n",
    "data.append([[2]])\n",
    "data.append([[6]])\n",
    "data"
   ]
  },
  {
   "cell_type": "code",
   "execution_count": null,
   "metadata": {},
   "outputs": [],
   "source": [
    "test_data = [\n",
    "    [1,1,3,1,1],\n",
    "    [1,1,5,1,1],\n",
    "    [[1],[2,3,4]],\n",
    "    [[1],4],\n",
    "    [9],\n",
    "    [[8,7,6]],\n",
    "    [[4,4],4,4],\n",
    "    [[4,4],4,4,4],\n",
    "    [7,7,7,7],\n",
    "    [7,7,7],\n",
    "    [],\n",
    "    [3],\n",
    "    [[[]]],\n",
    "    [[]],\n",
    "    [1,[2,[3,[4,[5,6,7]]]],8,9],\n",
    "    [1,[2,[3,[4,[5,6,0]]]],8,9],\n",
    "    [[2]],\n",
    "    [[6]]\n",
    "]"
   ]
  },
  {
   "cell_type": "code",
   "execution_count": null,
   "metadata": {},
   "outputs": [],
   "source": [
    "def cmp(a, b):\n",
    "    if compare(a, b) is False:\n",
    "        return 1\n",
    "    elif compare(a, b) is True:\n",
    "        return -1\n",
    "    else:\n",
    "        return 0\n",
    "\n",
    "from functools import cmp_to_key\n",
    "\n",
    "data_sorted = sorted(data, key=cmp_to_key(cmp))\n",
    "data_sorted"
   ]
  },
  {
   "cell_type": "code",
   "execution_count": null,
   "metadata": {},
   "outputs": [],
   "source": [
    "res = (data_sorted.index([[2]]) + 1) * (data_sorted.index([[6]]) + 1)\n",
    "res"
   ]
  },
  {
   "cell_type": "code",
   "execution_count": null,
   "metadata": {},
   "outputs": [],
   "source": [
    "puzzle.answer_b = res"
   ]
  },
  {
   "attachments": {},
   "cell_type": "markdown",
   "metadata": {},
   "source": [
    "## Day 12"
   ]
  },
  {
   "cell_type": "code",
   "execution_count": null,
   "metadata": {},
   "outputs": [],
   "source": [
    "puzzle = Puzzle(year=2022, day=12)\n",
    "data = puzzle.input_data.split(\"\\n\")"
   ]
  },
  {
   "cell_type": "markdown",
   "metadata": {},
   "source": [
    "## Part 1"
   ]
  },
  {
   "cell_type": "code",
   "execution_count": null,
   "metadata": {},
   "outputs": [],
   "source": [
    "import networkx as nx\n",
    "import numpy as np\n",
    "\n",
    "G = nx.DiGraph()\n",
    "\n",
    "hmap = np.array(list(map(list, data)))\n",
    "print(hmap.shape)\n",
    "\n",
    "[[start_x], [start_y]] = np.where(hmap==\"S\")\n",
    "[[end_x], [end_y]] = np.where(hmap==\"E\")\n",
    "print(start_x, start_y)\n",
    "print(end_x, end_y)\n",
    "\n",
    "hmap[start_x, start_y] = \"a\"\n",
    "hmap[end_x, end_y] = \"z\"\n",
    "\n",
    "for x in range(0, hmap.shape[0]):\n",
    "    for y in range(0, hmap.shape[1]):\n",
    "        # print(hmap[x, y], end=\"\")\n",
    "\n",
    "        for dir_x, dir_y in [(-1, 0), (1, 0), (0, -1), (0, 1)]:\n",
    "            adj_x, adj_y = x + dir_x, y + dir_y\n",
    "\n",
    "            if (0 <= adj_x < hmap.shape[0]) and (0 <= adj_y < hmap.shape[1]):\n",
    "                # if abs(ord(hmap[x, y]) - ord(hmap[adj_x, adj_y])) <= 1:\n",
    "                if ord(hmap[adj_x, adj_y]) <= ord(hmap[x, y]) + 1:\n",
    "                    # print(x, y, adj_x, adj_y, hmap[x, y], hmap[adj_x, adj_y])\n",
    "                    G.add_edge((x, y), (adj_x, adj_y))\n",
    "    # print()\n",
    "\n",
    "sp = nx.shortest_path(G, (start_x, start_y), (end_x, end_y))\n",
    "res = len(sp) - 1\n",
    "print(len(G.edges))\n",
    "print(res)"
   ]
  },
  {
   "cell_type": "code",
   "execution_count": null,
   "metadata": {},
   "outputs": [],
   "source": [
    "puzzle.answer_a = res"
   ]
  },
  {
   "cell_type": "markdown",
   "metadata": {},
   "source": [
    "## Part 2"
   ]
  },
  {
   "cell_type": "code",
   "execution_count": null,
   "metadata": {},
   "outputs": [],
   "source": [
    "len_min = hmap.shape[0] * hmap.shape[1]\n",
    "\n",
    "for x in range(0, hmap.shape[0]):\n",
    "    for y in range(0, hmap.shape[1]):\n",
    "        if hmap[x, y] == \"a\":\n",
    "            try:\n",
    "                new_len = len(nx.shortest_path(G, (x, y), (end_x, end_y))) - 1\n",
    "            except:\n",
    "                pass\n",
    "\n",
    "            if new_len < len_min:\n",
    "                len_min = new_len\n",
    "\n",
    "res = len_min"
   ]
  },
  {
   "cell_type": "code",
   "execution_count": null,
   "metadata": {},
   "outputs": [],
   "source": [
    "puzzle.answer_b = res"
   ]
  },
  {
   "cell_type": "markdown",
   "metadata": {},
   "source": [
    "## Day 1"
   ]
  },
  {
   "cell_type": "code",
   "execution_count": null,
   "metadata": {},
   "outputs": [],
   "source": [
    "puzzle = Puzzle(year=2022, day=1)\n",
    "puzzle.input_data"
   ]
  },
  {
   "cell_type": "markdown",
   "metadata": {},
   "source": [
    "## Part 1"
   ]
  },
  {
   "cell_type": "code",
   "execution_count": null,
   "metadata": {},
   "outputs": [],
   "source": [
    "data = puzzle.input_data.split(\"\\n\\n\")\n",
    "\n",
    "elfes_total = [sum(map(int, calories.split(\"\\n\"))) for calories in elfes]\n",
    "\n",
    "res = max(elfes_total)\n",
    "res"
   ]
  },
  {
   "cell_type": "code",
   "execution_count": null,
   "metadata": {},
   "outputs": [],
   "source": [
    "puzzle.answer_a = res"
   ]
  },
  {
   "cell_type": "markdown",
   "metadata": {},
   "source": [
    "## Part 2"
   ]
  },
  {
   "cell_type": "code",
   "execution_count": null,
   "metadata": {},
   "outputs": [],
   "source": [
    "res = sum(sorted(elfes_total)[-3:])\n",
    "res"
   ]
  },
  {
   "cell_type": "code",
   "execution_count": null,
   "metadata": {},
   "outputs": [],
   "source": [
    "puzzle.answer_b = res"
   ]
  },
  {
   "cell_type": "markdown",
   "metadata": {},
   "source": [
    "## Day 2"
   ]
  },
  {
   "cell_type": "code",
   "execution_count": null,
   "metadata": {},
   "outputs": [],
   "source": [
    "puzzle = Puzzle(year=2022, day=2)\n",
    "puzzle.input_data"
   ]
  },
  {
   "cell_type": "markdown",
   "metadata": {},
   "source": [
    "## Part 1"
   ]
  },
  {
   "cell_type": "code",
   "execution_count": null,
   "metadata": {},
   "outputs": [],
   "source": [
    "draw_moves = [(\"A\", \"X\"), (\"B\", \"Y\"), (\"C\", \"Z\")]\n",
    "winning_moves = [(\"A\", \"Y\"), (\"B\", \"Z\"), (\"C\", \"X\")]\n",
    "\n",
    "def round_solver(opponent_move, my_move):\n",
    "    score = 0\n",
    "    if (opponent_move, my_move) in draw_moves:\n",
    "        score = 3\n",
    "    elif (opponent_move, my_move) in winning_moves:\n",
    "        score = 6\n",
    "\n",
    "    return ord(my_move) - 87 + score\n"
   ]
  },
  {
   "cell_type": "code",
   "execution_count": null,
   "metadata": {},
   "outputs": [],
   "source": [
    "rounds = puzzle.input_data.split(\"\\n\")\n",
    "\n",
    "for r in rounds:\n",
    "    print(r, round_solver(*r.split()))\n",
    "\n",
    "res = sum([round_solver(*r.split()) for r in rounds])\n",
    "res"
   ]
  },
  {
   "cell_type": "code",
   "execution_count": null,
   "metadata": {},
   "outputs": [],
   "source": [
    "puzzle.answer_a = res"
   ]
  },
  {
   "cell_type": "markdown",
   "metadata": {},
   "source": [
    "## Part 2"
   ]
  },
  {
   "cell_type": "code",
   "execution_count": null,
   "metadata": {},
   "outputs": [],
   "source": [
    "to_do = {\n",
    "    \"X\": {\"A\": \"Z\", \"B\": \"X\", \"C\": \"Y\"},\n",
    "    \"Y\": {\"A\": \"X\", \"B\": \"Y\", \"C\": \"Z\"},\n",
    "    \"Z\": {\"A\": \"Y\", \"B\": \"Z\", \"C\": \"X\"},\n",
    "}\n",
    "\n",
    "def round_solver_b(opponent_move, result):\n",
    "    my_move = to_do[result][opponent_move]\n",
    "\n",
    "    score = 0\n",
    "    if (opponent_move, my_move) in draw_moves:\n",
    "        score = 3\n",
    "    elif (opponent_move, my_move) in winning_moves:\n",
    "        score = 6\n",
    "\n",
    "    return ord(my_move) - 87 + score\n"
   ]
  },
  {
   "cell_type": "code",
   "execution_count": null,
   "metadata": {},
   "outputs": [],
   "source": [
    "rounds = puzzle.input_data.split(\"\\n\")\n",
    "\n",
    "res = sum([round_solver_b(*r.split()) for r in rounds])\n",
    "res"
   ]
  },
  {
   "cell_type": "code",
   "execution_count": null,
   "metadata": {},
   "outputs": [],
   "source": [
    "puzzle.answer_b = res"
   ]
  },
  {
   "cell_type": "markdown",
   "metadata": {},
   "source": [
    "## Day 3"
   ]
  },
  {
   "cell_type": "code",
   "execution_count": null,
   "metadata": {},
   "outputs": [],
   "source": [
    "puzzle = Puzzle(year=2022, day=3)\n",
    "puzzle.input_data"
   ]
  },
  {
   "cell_type": "markdown",
   "metadata": {},
   "source": [
    "## Part 1"
   ]
  },
  {
   "cell_type": "code",
   "execution_count": null,
   "metadata": {},
   "outputs": [],
   "source": [
    "lowercase_diff = ord(\"a\") -1\n",
    "uppercase_diff = ord(\"A\") - 27\n",
    "\n",
    "priority_mapping = {chr(prio + lowercase_diff): prio for prio in range(1, 27)}\n",
    "priority_mapping.update({chr(prio + uppercase_diff): prio for prio in range(27, 53)})"
   ]
  },
  {
   "cell_type": "code",
   "execution_count": null,
   "metadata": {},
   "outputs": [],
   "source": [
    "sacks = puzzle.input_data.split(\"\\n\")\n",
    "\n",
    "compartimented_sacks = [(sack[:len(sack)//2], sack[len(sack)//2:]) for sack in sacks]\n",
    "\n",
    "errors = [(set(sack[0]) & set(sack[1])).pop() for sack in compartimented_sacks]\n",
    "\n",
    "res = sum([priority_mapping.get(error) for error in errors])"
   ]
  },
  {
   "cell_type": "code",
   "execution_count": null,
   "metadata": {},
   "outputs": [],
   "source": [
    "puzzle.answer_a = res"
   ]
  },
  {
   "cell_type": "markdown",
   "metadata": {},
   "source": [
    "## Part 2"
   ]
  },
  {
   "cell_type": "code",
   "execution_count": null,
   "metadata": {},
   "outputs": [],
   "source": [
    "from functools import reduce\n",
    "\n",
    "to_compare = []\n",
    "badges = []\n",
    "for i, sack in enumerate(sacks):\n",
    "    to_compare.append(sack)\n",
    "    \n",
    "    if i % 3 == 2:\n",
    "        badges.append(reduce(lambda x, y: set(x) & set(y), to_compare))\n",
    "        to_compare = []\n",
    "\n",
    "res = sum([priority_mapping.get(badge.pop()) for badge in badges])\n",
    "res"
   ]
  },
  {
   "cell_type": "code",
   "execution_count": null,
   "metadata": {},
   "outputs": [],
   "source": [
    "puzzle.answer_b = res"
   ]
  },
  {
   "cell_type": "markdown",
   "metadata": {},
   "source": [
    "## Day 4"
   ]
  },
  {
   "cell_type": "code",
   "execution_count": null,
   "metadata": {},
   "outputs": [],
   "source": [
    "puzzle = Puzzle(year=2022, day=4)\n",
    "puzzle.input_data"
   ]
  },
  {
   "cell_type": "markdown",
   "metadata": {},
   "source": [
    "## Part 1"
   ]
  },
  {
   "cell_type": "code",
   "execution_count": null,
   "metadata": {},
   "outputs": [],
   "source": [
    "# rows = puzzle.input_data.split(\"\\n\")\n",
    "\n",
    "# pairs = [(row.split(\",\")) for row in rows]\n",
    "\n",
    "# ranges = [(pair[0].split(\"-\") + pair[1].split(\"-\")) for pair in pairs]\n",
    "# ranges = [[int(num) for num in range] for range in ranges]\n",
    "# ranges"
   ]
  },
  {
   "cell_type": "code",
   "execution_count": null,
   "metadata": {},
   "outputs": [],
   "source": [
    "# res = sum(map(lambda x: (x[0] <= x[2] and x[3] <= x[1]) or (x[0] >= x[2] and x[3] >= x[1]), ranges))\n",
    "# res"
   ]
  },
  {
   "cell_type": "code",
   "execution_count": null,
   "metadata": {},
   "outputs": [],
   "source": [
    "rows = puzzle.input_data.split(\"\\n\")\n",
    "\n",
    "pairs = [(row.split(\",\")) for row in rows]\n",
    "\n",
    "ranges = [(pair[0].split(\"-\") + pair[1].split(\"-\")) for pair in pairs]\n",
    "ranges_as_sets = [[set([*range(int(row[0]), int(row[1])+1)]), set([*range(int(row[2]), int(row[3])+1)])] for row in ranges]"
   ]
  },
  {
   "cell_type": "code",
   "execution_count": null,
   "metadata": {},
   "outputs": [],
   "source": [
    "res = sum(map(lambda x: (x[0] <= x[1] or x[0] >= x[1]), ranges_as_sets))\n",
    "res"
   ]
  },
  {
   "cell_type": "code",
   "execution_count": null,
   "metadata": {},
   "outputs": [],
   "source": [
    "puzzle.answer_a = res"
   ]
  },
  {
   "cell_type": "markdown",
   "metadata": {},
   "source": [
    "## Part 2"
   ]
  },
  {
   "cell_type": "code",
   "execution_count": null,
   "metadata": {},
   "outputs": [],
   "source": [
    "res = sum(map(lambda x: not x[0].isdisjoint(x[1]), ranges_as_sets))\n",
    "res"
   ]
  },
  {
   "cell_type": "code",
   "execution_count": null,
   "metadata": {},
   "outputs": [],
   "source": [
    "puzzle.answer_b = res"
   ]
  },
  {
   "cell_type": "markdown",
   "metadata": {},
   "source": [
    "## Day 5"
   ]
  },
  {
   "cell_type": "code",
   "execution_count": null,
   "metadata": {},
   "outputs": [],
   "source": [
    "puzzle = Puzzle(year=2022, day=5)\n",
    "puzzle.input_data"
   ]
  },
  {
   "cell_type": "markdown",
   "metadata": {},
   "source": [
    "## Part 1"
   ]
  },
  {
   "cell_type": "code",
   "execution_count": null,
   "metadata": {
    "scrolled": true
   },
   "outputs": [],
   "source": [
    "stacks, moves = puzzle.input_data.split(\"\\n\\n\")\n",
    "\n",
    "stacks = stacks.split(\"\\n\")\n",
    "moves = moves.split(\"\\n\")\n",
    "\n",
    "moves"
   ]
  },
  {
   "cell_type": "code",
   "execution_count": null,
   "metadata": {},
   "outputs": [],
   "source": [
    "from collections import deque\n",
    "\n",
    "stack_sets = defaultdict(deque)\n",
    "\n",
    "for l in stacks:\n",
    "    for i in range(0, len(stacks[0]), 4):\n",
    "        crate = l[i+1:i+2]\n",
    "        if crate.isalpha():\n",
    "            stack_sets[int((i/4) + 1)].appendleft(crate)\n",
    "\n",
    "stack_sets"
   ]
  },
  {
   "cell_type": "code",
   "execution_count": null,
   "metadata": {},
   "outputs": [],
   "source": [
    "for m in moves:\n",
    "    _, num, __, stack_from, ___, stack_to = m.split()\n",
    "    \n",
    "    for i in range(int(num)):\n",
    "        stack_sets[int(stack_to)].append(stack_sets[int(stack_from)].pop())"
   ]
  },
  {
   "cell_type": "code",
   "execution_count": null,
   "metadata": {},
   "outputs": [],
   "source": [
    "stack_sets = dict(sorted(stack_sets.items()))\n",
    "stack_sets"
   ]
  },
  {
   "cell_type": "code",
   "execution_count": null,
   "metadata": {},
   "outputs": [],
   "source": [
    "res = \"\"\n",
    "\n",
    "for stack in stack_sets.values():\n",
    "    res += stack[len(stack)-1]\n",
    "\n",
    "res"
   ]
  },
  {
   "cell_type": "code",
   "execution_count": null,
   "metadata": {},
   "outputs": [],
   "source": [
    "puzzle.answer_a = res"
   ]
  },
  {
   "cell_type": "markdown",
   "metadata": {},
   "source": [
    "## Part 2"
   ]
  },
  {
   "cell_type": "code",
   "execution_count": null,
   "metadata": {},
   "outputs": [],
   "source": [
    "for m in moves:\n",
    "    _, num, __, stack_from, ___, stack_to = m.split()\n",
    "    tmp = deque()\n",
    "    for i in range(int(num)):\n",
    "        tmp.appendleft(stack_sets[int(stack_from)].pop())\n",
    "    for i in range(int(num)):\n",
    "        stack_sets[int(stack_to)].append(tmp.popleft())"
   ]
  },
  {
   "cell_type": "code",
   "execution_count": null,
   "metadata": {},
   "outputs": [],
   "source": [
    "stack_sets = dict(sorted(stack_sets.items()))\n",
    "stack_sets"
   ]
  },
  {
   "cell_type": "code",
   "execution_count": null,
   "metadata": {},
   "outputs": [],
   "source": [
    "res = \"\"\n",
    "\n",
    "for stack in stack_sets.values():\n",
    "    res += stack[len(stack)-1]\n",
    "\n",
    "res"
   ]
  },
  {
   "cell_type": "code",
   "execution_count": null,
   "metadata": {},
   "outputs": [],
   "source": [
    "puzzle.answer_b = res"
   ]
  },
  {
   "cell_type": "markdown",
   "metadata": {},
   "source": [
    "## Day 6"
   ]
  },
  {
   "cell_type": "code",
   "execution_count": null,
   "metadata": {},
   "outputs": [],
   "source": [
    "puzzle = Puzzle(year=2022, day=6)\n",
    "puzzle.input_data"
   ]
  },
  {
   "cell_type": "markdown",
   "metadata": {},
   "source": [
    "## Part 1"
   ]
  },
  {
   "cell_type": "code",
   "execution_count": null,
   "metadata": {},
   "outputs": [],
   "source": [
    "data = puzzle.input_data\n",
    "res = None\n",
    "for i in range(4, len(data)):\n",
    "    if len(set(data[i-4:i])) == 4:\n",
    "        print(set(data[i-4:i]))\n",
    "        res = i\n",
    "        break\n",
    "\n",
    "res"
   ]
  },
  {
   "cell_type": "code",
   "execution_count": null,
   "metadata": {},
   "outputs": [],
   "source": [
    "puzzle.answer_a = res"
   ]
  },
  {
   "cell_type": "markdown",
   "metadata": {},
   "source": [
    "## Part 2"
   ]
  },
  {
   "cell_type": "code",
   "execution_count": null,
   "metadata": {},
   "outputs": [],
   "source": [
    "data = puzzle.input_data\n",
    "res = None\n",
    "for i in range(14, len(data)):\n",
    "    if len(set(data[i-14:i])) == 14:\n",
    "        res = i\n",
    "        break\n",
    "\n",
    "res"
   ]
  },
  {
   "cell_type": "code",
   "execution_count": null,
   "metadata": {},
   "outputs": [],
   "source": [
    "puzzle.answer_b = res"
   ]
  },
  {
   "cell_type": "markdown",
   "metadata": {},
   "source": [
    "## Day 7"
   ]
  },
  {
   "cell_type": "code",
   "execution_count": null,
   "metadata": {},
   "outputs": [],
   "source": [
    "puzzle = Puzzle(year=2022, day=7)\n",
    "puzzle.input_data"
   ]
  },
  {
   "cell_type": "markdown",
   "metadata": {},
   "source": [
    "## Part 1"
   ]
  },
  {
   "cell_type": "code",
   "execution_count": null,
   "metadata": {},
   "outputs": [],
   "source": [
    "cmds = puzzle.input_data.split(\"\\n\")\n",
    "cmds"
   ]
  },
  {
   "cell_type": "code",
   "execution_count": null,
   "metadata": {},
   "outputs": [],
   "source": [
    "from collections import defaultdict\n",
    "\n",
    "tree = defaultdict(list)\n",
    "current_dir = []\n",
    "\n",
    "for cmd in cmds:\n",
    "    if cmd.startswith(\"$ cd\"):\n",
    "        cmd_arg = cmd[5:]\n",
    "        if cmd_arg == \"..\":\n",
    "            current_dir.pop()\n",
    "        elif cmd_arg == \"/\":\n",
    "            current_dir = [\"/\"]\n",
    "        else:\n",
    "            current_dir.append(cmd_arg)\n",
    "        #print(cmd_arg)\n",
    "        #print(current_dir)\n",
    "    elif cmd == \"$ ls\": continue\n",
    "    else:\n",
    "        a, b = cmd.split()\n",
    "        if a == \"dir\": continue\n",
    "        else:\n",
    "            a = int(a)\n",
    "            tree[tuple(current_dir)].append((a, b))\n",
    "\n",
    "tree"
   ]
  },
  {
   "cell_type": "code",
   "execution_count": null,
   "metadata": {},
   "outputs": [],
   "source": [
    "dir_sizes = defaultdict(int)\n",
    "\n",
    "for path, files in tree.items():\n",
    "    sz = sum([file[0] for file in files])\n",
    "\n",
    "    dir_acc = []\n",
    "    for d in path:\n",
    "        dir_acc.append(d)\n",
    "        dir_sizes[tuple(dir_acc)] += sz\n",
    "\n",
    "res = sum(filter(lambda x: x <= 100000, dir_sizes.values()))\n",
    "res"
   ]
  },
  {
   "cell_type": "code",
   "execution_count": null,
   "metadata": {},
   "outputs": [],
   "source": [
    "puzzle.answer_a = res"
   ]
  },
  {
   "cell_type": "markdown",
   "metadata": {},
   "source": [
    "## Part 2"
   ]
  },
  {
   "cell_type": "code",
   "execution_count": null,
   "metadata": {},
   "outputs": [],
   "source": [
    "total_size = sum([sum([file[0] for file in files]) for files in tree.values()])\n",
    "freespace_needed = total_size - 40000000\n",
    "\n",
    "res = total_size + freespace_needed\n",
    "for d in dir_sizes.values():\n",
    "    if d >= freespace_needed:\n",
    "        res = min(res, d)\n",
    "\n",
    "res"
   ]
  },
  {
   "cell_type": "code",
   "execution_count": null,
   "metadata": {},
   "outputs": [],
   "source": [
    "puzzle.answer_b = res"
   ]
  },
  {
   "cell_type": "markdown",
   "metadata": {},
   "source": [
    "## Day 8"
   ]
  },
  {
   "cell_type": "code",
   "execution_count": null,
   "metadata": {},
   "outputs": [],
   "source": [
    "puzzle = Puzzle(year=2022, day=8)\n",
    "puzzle.input_data.split(\"\\n\")"
   ]
  },
  {
   "cell_type": "markdown",
   "metadata": {},
   "source": [
    "## Part 1"
   ]
  },
  {
   "cell_type": "code",
   "execution_count": null,
   "metadata": {},
   "outputs": [],
   "source": [
    "lines = puzzle.input_data.split(\"\\n\")\n",
    "\n",
    "grid = [[int(num) for num in line] for line in lines]\n",
    "grid[6][0]\n",
    "\n",
    "nb_visible = len(grid)*2 + (len(grid[0])-2)*2\n",
    "\n",
    "for i in range(1, len(grid)):\n",
    "    for j in range(1, len(grid[i])):\n",
    "        value = grid[i][j]\n",
    "        print(value)"
   ]
  },
  {
   "cell_type": "code",
   "execution_count": null,
   "metadata": {},
   "outputs": [],
   "source": [
    "puzzle.answer_a = res"
   ]
  },
  {
   "cell_type": "markdown",
   "metadata": {},
   "source": [
    "## Part 2"
   ]
  },
  {
   "cell_type": "code",
   "execution_count": null,
   "metadata": {},
   "outputs": [],
   "source": [
    "pass"
   ]
  },
  {
   "cell_type": "code",
   "execution_count": null,
   "metadata": {},
   "outputs": [],
   "source": [
    "puzzle.answer_b = res"
   ]
  },
  {
   "cell_type": "markdown",
   "metadata": {},
   "source": [
    "## Day 9"
   ]
  },
  {
   "cell_type": "code",
   "execution_count": null,
   "metadata": {},
   "outputs": [],
   "source": [
    "puzzle = Puzzle(year=2022, day=9)\n",
    "puzzle.input_data"
   ]
  },
  {
   "cell_type": "markdown",
   "metadata": {},
   "source": [
    "## Part 1"
   ]
  },
  {
   "cell_type": "code",
   "execution_count": null,
   "metadata": {},
   "outputs": [],
   "source": [
    "moves = puzzle.input_data.split(\"\\n\")\n",
    "moves"
   ]
  },
  {
   "cell_type": "code",
   "execution_count": null,
   "metadata": {},
   "outputs": [],
   "source": [
    "directions = {\n",
    "    \"U\": (0, 1),\n",
    "    \"D\": (0, -1),\n",
    "    \"L\": (-1, 0),\n",
    "    \"R\": (1, 0)\n",
    "}\n",
    "\n",
    "\n",
    "class Point:\n",
    "    def __init__(self):\n",
    "        self.history = set()\n",
    "        self.x = 0\n",
    "        self.y = 0\n",
    "  \n",
    "    def __str__(self):\n",
    "        return f\"({self.x}, {self.y})\"\n",
    "\n",
    "    def move(self, x, y):\n",
    "        self.x += x\n",
    "        self.y += y\n",
    "        self.history.add((self.x, self.y))\n",
    "\n",
    "    def distance_and_direction(self, point):\n",
    "        dy = point.y - self.y\n",
    "        dx = point.x - self.x\n",
    "        \n",
    "        distance = max(abs(dx), abs(dy))\n",
    "        direction = (int(dx/abs(dx)) if abs(dx) else 0, int(dy/abs(dy)) if abs(dy) else 0)\n",
    "\n",
    "        return distance, direction"
   ]
  },
  {
   "cell_type": "code",
   "execution_count": null,
   "metadata": {},
   "outputs": [],
   "source": [
    "class Rope():\n",
    "    def __init__(self, length, moves):\n",
    "        self.knots = [Point() for _ in range(length)]\n",
    "        self.moves = moves\n",
    "\n",
    "    @property\n",
    "    def head(self):\n",
    "        return self.knots[0]\n",
    "    \n",
    "    @property\n",
    "    def tail(self):\n",
    "        return self.knots[-1]\n",
    "    \n",
    "    def display(self):\n",
    "        tmp = dict()\n",
    "        for i, k in enumerate(self.knots):\n",
    "            if (k.x, k.y) not in tmp:\n",
    "                tmp[(k.x, k.y)] = i\n",
    "\n",
    "        for i in range(27):\n",
    "            for j in range(27):\n",
    "                if (j, i) in tmp:\n",
    "                    print(tmp[(j, i)], end=\"\")\n",
    "                else:\n",
    "                    print(\".\", end=\"\")\n",
    "            print()\n",
    "        print(\"-------\")\n",
    "\n",
    "    def play(self):    \n",
    "        for m in self.moves:\n",
    "            for k in self.knots:\n",
    "                print(k, end=\" \")\n",
    "            print(m)\n",
    "\n",
    "            d, num = m.split()\n",
    "\n",
    "            for _ in range(int(num)):\n",
    "                self.head.move(*(directions[d]))\n",
    "                #self.display()\n",
    "\n",
    "                for i, k in list(enumerate(self.knots))[1:]:\n",
    "                    prev_k = self.knots[i-1]\n",
    "                    \n",
    "                    distance, direction = k.distance_and_direction(prev_k)\n",
    "\n",
    "                    if distance > 1:\n",
    "                        k.move(*direction)\n",
    "                        #self.display()"
   ]
  },
  {
   "cell_type": "code",
   "execution_count": null,
   "metadata": {},
   "outputs": [],
   "source": [
    "r = Rope(2, moves)\n",
    "r.play()\n",
    "res = len(r.tail.history)\n",
    "res"
   ]
  },
  {
   "cell_type": "code",
   "execution_count": null,
   "metadata": {},
   "outputs": [],
   "source": [
    "puzzle.answer_a = res"
   ]
  },
  {
   "cell_type": "markdown",
   "metadata": {},
   "source": [
    "## Part 2"
   ]
  },
  {
   "cell_type": "code",
   "execution_count": null,
   "metadata": {},
   "outputs": [],
   "source": [
    "test_data = [\n",
    "    \"R 4\",\n",
    "    \"U 4\",\n",
    "    \"L 3\",\n",
    "    \"D 1\",\n",
    "    \"R 4\",\n",
    "    \"D 1\",\n",
    "    \"L 5\",\n",
    "    \"R 2\"\n",
    "]\n",
    "test_data = [\n",
    "    \"R 5\",\n",
    "    \"U 8\",\n",
    "    \"L 8\",\n",
    "    \"D 3\",\n",
    "    \"R 17\",\n",
    "    \"D 10\",\n",
    "    \"L 25\",\n",
    "    \"U 20\"\n",
    "]\n",
    "r = Rope(10, moves)\n",
    "r.play()\n",
    "res = len(r.tail.history)\n",
    "res += 1"
   ]
  },
  {
   "cell_type": "code",
   "execution_count": null,
   "metadata": {},
   "outputs": [],
   "source": [
    "puzzle.answer_b = res"
   ]
  },
  {
   "cell_type": "markdown",
   "metadata": {},
   "source": [
    "## Day 10"
   ]
  },
  {
   "cell_type": "code",
   "execution_count": null,
   "metadata": {},
   "outputs": [],
   "source": [
    "puzzle = Puzzle(year=2022, day=10)\n",
    "data = puzzle.input_data.split(\"\\n\")\n",
    "data"
   ]
  },
  {
   "cell_type": "markdown",
   "metadata": {},
   "source": [
    "## Part 1"
   ]
  },
  {
   "cell_type": "code",
   "execution_count": null,
   "metadata": {},
   "outputs": [],
   "source": [
    "timeline = {}\n",
    "cycle = 0\n",
    "x = 1\n",
    "\n",
    "for ins in data:\n",
    "    args = ins.split()\n",
    "    \n",
    "    if args[0] == \"noop\":\n",
    "        cycle += 1\n",
    "        timeline[cycle] = x\n",
    "    elif args[0] == \"addx\":\n",
    "        value = args[1]\n",
    "        \n",
    "        cycle += 1\n",
    "        timeline[cycle] = x\n",
    "        cycle += 1\n",
    "        timeline[cycle] = x\n",
    "\n",
    "        x += int(value)\n",
    "\n",
    "    print(ins, timeline)\n",
    "            \n"
   ]
  },
  {
   "cell_type": "code",
   "execution_count": null,
   "metadata": {},
   "outputs": [],
   "source": [
    "res = sum([i * timeline[i] for i in [20, 60, 100, 140, 180, 220]])\n",
    "res"
   ]
  },
  {
   "cell_type": "code",
   "execution_count": null,
   "metadata": {},
   "outputs": [],
   "source": [
    "puzzle.answer_a = res"
   ]
  },
  {
   "cell_type": "markdown",
   "metadata": {},
   "source": [
    "## Part 2"
   ]
  },
  {
   "cell_type": "code",
   "execution_count": null,
   "metadata": {},
   "outputs": [],
   "source": [
    "for c, x in timeline.items():\n",
    "    if c%40 in [x, x + 1, x + 2]:\n",
    "        print(\"#\", end=\"\")\n",
    "    else:\n",
    "        print(\".\", end=\"\")\n",
    "\n",
    "    if not c%40:\n",
    "        print()"
   ]
  },
  {
   "cell_type": "code",
   "execution_count": null,
   "metadata": {},
   "outputs": [],
   "source": [
    "puzzle.answer_b = \"RUAKHBEK\""
   ]
  },
  {
   "cell_type": "markdown",
   "metadata": {},
   "source": [
    "## Day 11"
   ]
  },
  {
   "cell_type": "code",
   "execution_count": null,
   "metadata": {},
   "outputs": [],
   "source": [
    "from functools import reduce\n",
    "\n",
    "puzzle = Puzzle(year=2022, day=11)\n",
    "data = puzzle.input_data.split(\"\\n\\n\")\n",
    "data"
   ]
  },
  {
   "cell_type": "markdown",
   "metadata": {},
   "source": [
    "## Part 1"
   ]
  },
  {
   "cell_type": "code",
   "execution_count": null,
   "metadata": {},
   "outputs": [],
   "source": [
    "class Monkey():\n",
    "    def __init__(self, text):\n",
    "        text = text.split(\"\\n\")\n",
    "        \n",
    "        self.inspected = 0\n",
    "\n",
    "        self.items = [int(num) for num in text[1].split(\":\")[-1].split(\",\")]\n",
    "        self.op = text[2].split(\"=\")[-1].strip()\n",
    "        self.div_test = int(text[3].split()[-1])\n",
    "        self.target_true = int(text[4].split()[-1])\n",
    "        self.target_false = int(text[5].split()[-1])\n",
    "    \n",
    "    def play_turn(self, product, monkeys, p1=True):\n",
    "        for old in self.items:\n",
    "            self.inspected += 1\n",
    "\n",
    "            item = eval(self.op)\n",
    "            \n",
    "            if p1:\n",
    "                item = item // 3\n",
    "            else:\n",
    "                item = item % product\n",
    "\n",
    "            if item % self.div_test == 0:\n",
    "                monkeys[self.target_true].receive_item(item)\n",
    "            else:\n",
    "                monkeys[self.target_false].receive_item(item)\n",
    "\n",
    "        self.items = []\n",
    "    \n",
    "    def receive_item(self, item):\n",
    "        self.items.append(item)"
   ]
  },
  {
   "cell_type": "code",
   "execution_count": null,
   "metadata": {},
   "outputs": [],
   "source": [
    "monkeys = [Monkey(m) for m in data]\n",
    "\n",
    "product = reduce(lambda a, b: a * b, [m.div_test for m in monkeys])\n",
    "product"
   ]
  },
  {
   "cell_type": "code",
   "execution_count": null,
   "metadata": {},
   "outputs": [],
   "source": [
    "for i in range(20):\n",
    "    for m in monkeys:\n",
    "        m.play_turn(product, monkeys)\n",
    "\n",
    "inspected = sorted([m.inspected for m in monkeys])\n",
    "inspected[-2:]"
   ]
  },
  {
   "cell_type": "code",
   "execution_count": null,
   "metadata": {},
   "outputs": [],
   "source": [
    "res = inspected[-2:][0] * inspected[-2:][1]\n",
    "res"
   ]
  },
  {
   "cell_type": "code",
   "execution_count": null,
   "metadata": {},
   "outputs": [],
   "source": [
    "puzzle.answer_a = res"
   ]
  },
  {
   "cell_type": "markdown",
   "metadata": {},
   "source": [
    "## Part 2"
   ]
  },
  {
   "cell_type": "code",
   "execution_count": null,
   "metadata": {},
   "outputs": [],
   "source": [
    "for i in range(10000):\n",
    "    for m in monkeys:\n",
    "        m.play_turn(mod, monkeys, p1=False)\n",
    "\n",
    "inspected = sorted([m.inspected for m in monkeys])\n",
    "inspected[-2:]"
   ]
  },
  {
   "cell_type": "code",
   "execution_count": null,
   "metadata": {},
   "outputs": [],
   "source": [
    "res = inspected[-2:][0] * inspected[-2:][1]\n",
    "res"
   ]
  },
  {
   "cell_type": "code",
   "execution_count": null,
   "metadata": {},
   "outputs": [],
   "source": [
    "puzzle.answer_b = res"
   ]
  },
  {
   "cell_type": "code",
   "execution_count": null,
   "metadata": {},
   "outputs": [],
   "source": []
  }
 ],
 "metadata": {
  "kernelspec": {
   "display_name": "env",
   "language": "python",
   "name": "python3"
  },
  "language_info": {
   "codemirror_mode": {
    "name": "ipython",
    "version": 3
   },
   "file_extension": ".py",
   "mimetype": "text/x-python",
   "name": "python",
   "nbconvert_exporter": "python",
   "pygments_lexer": "ipython3",
   "version": "3.9.5"
  },
  "vscode": {
   "interpreter": {
    "hash": "74a0dffb66970284b566019f07a86ea3c4c4900070849e8a5662507f4f110893"
   }
  }
 },
 "nbformat": 4,
 "nbformat_minor": 2
}
