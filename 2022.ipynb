{
 "cells": [
  {
   "cell_type": "markdown",
   "metadata": {},
   "source": [
    "# Advent of Code 2022"
   ]
  },
  {
   "cell_type": "code",
   "execution_count": null,
   "metadata": {
    "scrolled": true
   },
   "outputs": [],
   "source": [
    "! pip install -U advent-of-code-data"
   ]
  },
  {
   "cell_type": "code",
   "execution_count": null,
   "metadata": {},
   "outputs": [],
   "source": [
    "import os\n",
    "\n",
    "os.environ['AOC_SESSION'] = open('session.txt').read().strip()"
   ]
  },
  {
   "cell_type": "code",
   "execution_count": null,
   "metadata": {},
   "outputs": [],
   "source": [
    "from aocd.models import Puzzle"
   ]
  },
  {
   "cell_type": "markdown",
   "metadata": {},
   "source": [
    "## Day X"
   ]
  },
  {
   "cell_type": "code",
   "execution_count": null,
   "metadata": {},
   "outputs": [],
   "source": [
    "puzzle = Puzzle(year=2022, day=X)\n",
    "puzzle.input_data"
   ]
  },
  {
   "cell_type": "markdown",
   "metadata": {},
   "source": [
    "## Part 1"
   ]
  },
  {
   "cell_type": "code",
   "execution_count": null,
   "metadata": {},
   "outputs": [],
   "source": [
    "pass"
   ]
  },
  {
   "cell_type": "code",
   "execution_count": null,
   "metadata": {},
   "outputs": [],
   "source": [
    "puzzle.answer_a = res"
   ]
  },
  {
   "cell_type": "markdown",
   "metadata": {},
   "source": [
    "## Part 2"
   ]
  },
  {
   "cell_type": "code",
   "execution_count": null,
   "metadata": {},
   "outputs": [],
   "source": [
    "pass"
   ]
  },
  {
   "cell_type": "code",
   "execution_count": null,
   "metadata": {},
   "outputs": [],
   "source": [
    "puzzle.answer_b = res"
   ]
  },
  {
   "cell_type": "markdown",
   "metadata": {},
   "source": [
    "## Day 1"
   ]
  },
  {
   "cell_type": "code",
   "execution_count": null,
   "metadata": {},
   "outputs": [],
   "source": [
    "puzzle = Puzzle(year=2022, day=1)\n",
    "puzzle.input_data"
   ]
  },
  {
   "cell_type": "markdown",
   "metadata": {},
   "source": [
    "## Part 1"
   ]
  },
  {
   "cell_type": "code",
   "execution_count": null,
   "metadata": {},
   "outputs": [],
   "source": [
    "data = puzzle.input_data.split(\"\\n\\n\")\n",
    "\n",
    "elfes_total = [sum(map(int, calories.split(\"\\n\"))) for calories in elfes]\n",
    "\n",
    "res = max(elfes_total)\n",
    "res"
   ]
  },
  {
   "cell_type": "code",
   "execution_count": null,
   "metadata": {},
   "outputs": [],
   "source": [
    "puzzle.answer_a = res"
   ]
  },
  {
   "cell_type": "markdown",
   "metadata": {},
   "source": [
    "## Part 2"
   ]
  },
  {
   "cell_type": "code",
   "execution_count": null,
   "metadata": {},
   "outputs": [],
   "source": [
    "res = sum(sorted(elfes_total)[-3:])\n",
    "res"
   ]
  },
  {
   "cell_type": "code",
   "execution_count": null,
   "metadata": {},
   "outputs": [],
   "source": [
    "puzzle.answer_b = res"
   ]
  },
  {
   "cell_type": "markdown",
   "metadata": {},
   "source": [
    "## Day 2"
   ]
  },
  {
   "cell_type": "code",
   "execution_count": null,
   "metadata": {},
   "outputs": [],
   "source": [
    "puzzle = Puzzle(year=2022, day=2)\n",
    "puzzle.input_data"
   ]
  },
  {
   "cell_type": "markdown",
   "metadata": {},
   "source": [
    "## Part 1"
   ]
  },
  {
   "cell_type": "code",
   "execution_count": null,
   "metadata": {},
   "outputs": [],
   "source": [
    "draw_moves = [(\"A\", \"X\"), (\"B\", \"Y\"), (\"C\", \"Z\")]\n",
    "winning_moves = [(\"A\", \"Y\"), (\"B\", \"Z\"), (\"C\", \"X\")]\n",
    "\n",
    "def round_solver(opponent_move, my_move):\n",
    "    score = 0\n",
    "    if (opponent_move, my_move) in draw_moves:\n",
    "        score = 3\n",
    "    elif (opponent_move, my_move) in winning_moves:\n",
    "        score = 6\n",
    "\n",
    "    return ord(my_move) - 87 + score\n"
   ]
  },
  {
   "cell_type": "code",
   "execution_count": null,
   "metadata": {},
   "outputs": [],
   "source": [
    "rounds = puzzle.input_data.split(\"\\n\")\n",
    "\n",
    "for r in rounds:\n",
    "    print(r, round_solver(*r.split()))\n",
    "\n",
    "res = sum([round_solver(*r.split()) for r in rounds])\n",
    "res"
   ]
  },
  {
   "cell_type": "code",
   "execution_count": null,
   "metadata": {},
   "outputs": [],
   "source": [
    "puzzle.answer_a = res"
   ]
  },
  {
   "cell_type": "markdown",
   "metadata": {},
   "source": [
    "## Part 2"
   ]
  },
  {
   "cell_type": "code",
   "execution_count": null,
   "metadata": {},
   "outputs": [],
   "source": [
    "to_do = {\n",
    "    \"X\": {\"A\": \"Z\", \"B\": \"X\", \"C\": \"Y\"},\n",
    "    \"Y\": {\"A\": \"X\", \"B\": \"Y\", \"C\": \"Z\"},\n",
    "    \"Z\": {\"A\": \"Y\", \"B\": \"Z\", \"C\": \"X\"},\n",
    "}\n",
    "\n",
    "def round_solver_b(opponent_move, result):\n",
    "    my_move = to_do[result][opponent_move]\n",
    "\n",
    "    score = 0\n",
    "    if (opponent_move, my_move) in draw_moves:\n",
    "        score = 3\n",
    "    elif (opponent_move, my_move) in winning_moves:\n",
    "        score = 6\n",
    "\n",
    "    return ord(my_move) - 87 + score\n"
   ]
  },
  {
   "cell_type": "code",
   "execution_count": null,
   "metadata": {},
   "outputs": [],
   "source": [
    "rounds = puzzle.input_data.split(\"\\n\")\n",
    "\n",
    "res = sum([round_solver_b(*r.split()) for r in rounds])\n",
    "res"
   ]
  },
  {
   "cell_type": "code",
   "execution_count": null,
   "metadata": {},
   "outputs": [],
   "source": [
    "puzzle.answer_b = res"
   ]
  },
  {
   "cell_type": "markdown",
   "metadata": {},
   "source": [
    "## Day 3"
   ]
  },
  {
   "cell_type": "code",
   "execution_count": null,
   "metadata": {},
   "outputs": [],
   "source": [
    "puzzle = Puzzle(year=2022, day=3)\n",
    "puzzle.input_data"
   ]
  },
  {
   "cell_type": "markdown",
   "metadata": {},
   "source": [
    "## Part 1"
   ]
  },
  {
   "cell_type": "code",
   "execution_count": null,
   "metadata": {},
   "outputs": [],
   "source": [
    "lowercase_diff = ord(\"a\") -1\n",
    "uppercase_diff = ord(\"A\") - 27\n",
    "\n",
    "priority_mapping = {chr(prio + lowercase_diff): prio for prio in range(1, 27)}\n",
    "priority_mapping.update({chr(prio + uppercase_diff): prio for prio in range(27, 53)})"
   ]
  },
  {
   "cell_type": "code",
   "execution_count": null,
   "metadata": {},
   "outputs": [],
   "source": [
    "sacks = puzzle.input_data.split(\"\\n\")\n",
    "\n",
    "compartimented_sacks = [(sack[:len(sack)//2], sack[len(sack)//2:]) for sack in sacks]\n",
    "\n",
    "errors = [(set(sack[0]) & set(sack[1])).pop() for sack in compartimented_sacks]\n",
    "\n",
    "res = sum([priority_mapping.get(error) for error in errors])"
   ]
  },
  {
   "cell_type": "code",
   "execution_count": null,
   "metadata": {},
   "outputs": [],
   "source": [
    "puzzle.answer_a = res"
   ]
  },
  {
   "cell_type": "markdown",
   "metadata": {},
   "source": [
    "## Part 2"
   ]
  },
  {
   "cell_type": "code",
   "execution_count": null,
   "metadata": {},
   "outputs": [],
   "source": [
    "from functools import reduce\n",
    "\n",
    "to_compare = []\n",
    "badges = []\n",
    "for i, sack in enumerate(sacks):\n",
    "    to_compare.append(sack)\n",
    "    \n",
    "    if i % 3 == 2:\n",
    "        badges.append(reduce(lambda x, y: set(x) & set(y), to_compare))\n",
    "        to_compare = []\n",
    "\n",
    "res = sum([priority_mapping.get(badge.pop()) for badge in badges])\n",
    "res"
   ]
  },
  {
   "cell_type": "code",
   "execution_count": null,
   "metadata": {},
   "outputs": [],
   "source": [
    "puzzle.answer_b = res"
   ]
  },
  {
   "cell_type": "markdown",
   "metadata": {},
   "source": [
    "## Day 4"
   ]
  },
  {
   "cell_type": "code",
   "execution_count": null,
   "metadata": {},
   "outputs": [],
   "source": [
    "puzzle = Puzzle(year=2022, day=4)\n",
    "puzzle.input_data"
   ]
  },
  {
   "cell_type": "markdown",
   "metadata": {},
   "source": [
    "## Part 1"
   ]
  },
  {
   "cell_type": "code",
   "execution_count": null,
   "metadata": {},
   "outputs": [],
   "source": [
    "# rows = puzzle.input_data.split(\"\\n\")\n",
    "\n",
    "# pairs = [(row.split(\",\")) for row in rows]\n",
    "\n",
    "# ranges = [(pair[0].split(\"-\") + pair[1].split(\"-\")) for pair in pairs]\n",
    "# ranges = [[int(num) for num in range] for range in ranges]\n",
    "# ranges"
   ]
  },
  {
   "cell_type": "code",
   "execution_count": null,
   "metadata": {},
   "outputs": [],
   "source": [
    "# res = sum(map(lambda x: (x[0] <= x[2] and x[3] <= x[1]) or (x[0] >= x[2] and x[3] >= x[1]), ranges))\n",
    "# res"
   ]
  },
  {
   "cell_type": "code",
   "execution_count": null,
   "metadata": {},
   "outputs": [],
   "source": [
    "rows = puzzle.input_data.split(\"\\n\")\n",
    "\n",
    "pairs = [(row.split(\",\")) for row in rows]\n",
    "\n",
    "ranges = [(pair[0].split(\"-\") + pair[1].split(\"-\")) for pair in pairs]\n",
    "ranges_as_sets = [[set([*range(int(row[0]), int(row[1])+1)]), set([*range(int(row[2]), int(row[3])+1)])] for row in ranges]"
   ]
  },
  {
   "cell_type": "code",
   "execution_count": null,
   "metadata": {},
   "outputs": [],
   "source": [
    "res = sum(map(lambda x: (x[0] <= x[1] or x[0] >= x[1]), ranges_as_sets))\n",
    "res"
   ]
  },
  {
   "cell_type": "code",
   "execution_count": null,
   "metadata": {},
   "outputs": [],
   "source": [
    "puzzle.answer_a = res"
   ]
  },
  {
   "cell_type": "markdown",
   "metadata": {},
   "source": [
    "## Part 2"
   ]
  },
  {
   "cell_type": "code",
   "execution_count": null,
   "metadata": {},
   "outputs": [],
   "source": [
    "res = sum(map(lambda x: not x[0].isdisjoint(x[1]), ranges_as_sets))\n",
    "res"
   ]
  },
  {
   "cell_type": "code",
   "execution_count": null,
   "metadata": {},
   "outputs": [],
   "source": [
    "puzzle.answer_b = res"
   ]
  },
  {
   "cell_type": "markdown",
   "metadata": {},
   "source": [
    "## Day 5"
   ]
  },
  {
   "cell_type": "code",
   "execution_count": null,
   "metadata": {},
   "outputs": [],
   "source": [
    "puzzle = Puzzle(year=2022, day=5)\n",
    "puzzle.input_data"
   ]
  },
  {
   "cell_type": "markdown",
   "metadata": {},
   "source": [
    "## Part 1"
   ]
  },
  {
   "cell_type": "code",
   "execution_count": null,
   "metadata": {
    "scrolled": true
   },
   "outputs": [],
   "source": [
    "stacks, moves = puzzle.input_data.split(\"\\n\\n\")\n",
    "\n",
    "stacks = stacks.split(\"\\n\")\n",
    "moves = moves.split(\"\\n\")\n",
    "\n",
    "moves"
   ]
  },
  {
   "cell_type": "code",
   "execution_count": null,
   "metadata": {},
   "outputs": [],
   "source": [
    "from collections import deque\n",
    "\n",
    "stack_sets = defaultdict(deque)\n",
    "\n",
    "for l in stacks:\n",
    "    for i in range(0, len(stacks[0]), 4):\n",
    "        crate = l[i+1:i+2]\n",
    "        if crate.isalpha():\n",
    "            stack_sets[int((i/4) + 1)].appendleft(crate)\n",
    "\n",
    "stack_sets"
   ]
  },
  {
   "cell_type": "code",
   "execution_count": null,
   "metadata": {},
   "outputs": [],
   "source": [
    "for m in moves:\n",
    "    _, num, __, stack_from, ___, stack_to = m.split()\n",
    "    \n",
    "    for i in range(int(num)):\n",
    "        stack_sets[int(stack_to)].append(stack_sets[int(stack_from)].pop())"
   ]
  },
  {
   "cell_type": "code",
   "execution_count": null,
   "metadata": {},
   "outputs": [],
   "source": [
    "stack_sets = dict(sorted(stack_sets.items()))\n",
    "stack_sets"
   ]
  },
  {
   "cell_type": "code",
   "execution_count": null,
   "metadata": {},
   "outputs": [],
   "source": [
    "res = \"\"\n",
    "\n",
    "for stack in stack_sets.values():\n",
    "    res += stack[len(stack)-1]\n",
    "\n",
    "res"
   ]
  },
  {
   "cell_type": "code",
   "execution_count": null,
   "metadata": {},
   "outputs": [],
   "source": [
    "puzzle.answer_a = res"
   ]
  },
  {
   "cell_type": "markdown",
   "metadata": {},
   "source": [
    "## Part 2"
   ]
  },
  {
   "cell_type": "code",
   "execution_count": null,
   "metadata": {},
   "outputs": [],
   "source": [
    "for m in moves:\n",
    "    _, num, __, stack_from, ___, stack_to = m.split()\n",
    "    tmp = []\n",
    "    for i in range(int(num)):\n",
    "        .append(stack_sets[int(stack_from)].pop())\n",
    "    for i in range(int(num)):\n",
    "        stack_sets[int(stack_to)].append(stack_sets[int(stack_from)].pop())"
   ]
  },
  {
   "cell_type": "code",
   "execution_count": null,
   "metadata": {},
   "outputs": [],
   "source": [
    "stack_sets = dict(sorted(stack_sets.items()))\n",
    "stack_sets"
   ]
  },
  {
   "cell_type": "code",
   "execution_count": null,
   "metadata": {},
   "outputs": [],
   "source": [
    "res = \"\"\n",
    "\n",
    "for stack in stack_sets.values():\n",
    "    res += stack[len(stack)-1]\n",
    "\n",
    "res"
   ]
  },
  {
   "cell_type": "code",
   "execution_count": null,
   "metadata": {},
   "outputs": [],
   "source": [
    "puzzle.answer_b = res"
   ]
  },
  {
   "cell_type": "markdown",
   "metadata": {},
   "source": [
    "## Day 6"
   ]
  },
  {
   "cell_type": "code",
   "execution_count": null,
   "metadata": {},
   "outputs": [],
   "source": [
    "puzzle = Puzzle(year=2022, day=6)\n",
    "puzzle.input_data"
   ]
  },
  {
   "cell_type": "markdown",
   "metadata": {},
   "source": [
    "## Part 1"
   ]
  },
  {
   "cell_type": "code",
   "execution_count": null,
   "metadata": {},
   "outputs": [],
   "source": [
    "data = puzzle.input_data\n",
    "res = None\n",
    "for i in range(4, len(data)):\n",
    "    if len(set(data[i-4:i])) == 4:\n",
    "        print(set(data[i-4:i]))\n",
    "        res = i\n",
    "        break\n",
    "\n",
    "res"
   ]
  },
  {
   "cell_type": "code",
   "execution_count": null,
   "metadata": {},
   "outputs": [],
   "source": [
    "puzzle.answer_a = res"
   ]
  },
  {
   "cell_type": "markdown",
   "metadata": {},
   "source": [
    "## Part 2"
   ]
  },
  {
   "cell_type": "code",
   "execution_count": null,
   "metadata": {},
   "outputs": [],
   "source": [
    "data = puzzle.input_data\n",
    "res = None\n",
    "for i in range(14, len(data)):\n",
    "    if len(set(data[i-14:i])) == 14:\n",
    "        res = i\n",
    "        break\n",
    "\n",
    "res"
   ]
  },
  {
   "cell_type": "code",
   "execution_count": null,
   "metadata": {},
   "outputs": [],
   "source": [
    "puzzle.answer_b = res"
   ]
  },
  {
   "cell_type": "markdown",
   "metadata": {},
   "source": [
    "## Day 7"
   ]
  },
  {
   "cell_type": "code",
   "execution_count": null,
   "metadata": {},
   "outputs": [],
   "source": [
    "puzzle = Puzzle(year=2022, day=7)\n",
    "puzzle.input_data"
   ]
  },
  {
   "cell_type": "markdown",
   "metadata": {},
   "source": [
    "## Part 1"
   ]
  },
  {
   "cell_type": "code",
   "execution_count": null,
   "metadata": {},
   "outputs": [],
   "source": [
    "cmds = puzzle.input_data.split(\"\\n\")\n",
    "cmds"
   ]
  },
  {
   "cell_type": "code",
   "execution_count": null,
   "metadata": {},
   "outputs": [],
   "source": [
    "from collections import defaultdict\n",
    "\n",
    "tree = defaultdict(list)\n",
    "current_dir = []\n",
    "\n",
    "for cmd in cmds:\n",
    "    if cmd.startswith(\"$ cd\"):\n",
    "        cmd_arg = cmd[5:]\n",
    "        if cmd_arg == \"..\":\n",
    "            current_dir.pop()\n",
    "        elif cmd_arg == \"/\":\n",
    "            current_dir = [\"/\"]\n",
    "        else:\n",
    "            current_dir.append(cmd_arg)\n",
    "        #print(cmd_arg)\n",
    "        #print(current_dir)\n",
    "    elif cmd == \"$ ls\": continue\n",
    "    else:\n",
    "        a, b = cmd.split()\n",
    "        if a == \"dir\": continue\n",
    "        else:\n",
    "            a = int(a)\n",
    "            tree[tuple(current_dir)].append((a, b))\n",
    "\n",
    "tree"
   ]
  },
  {
   "cell_type": "code",
   "execution_count": null,
   "metadata": {},
   "outputs": [],
   "source": [
    "dir_sizes = defaultdict(int)\n",
    "\n",
    "for path, files in tree.items():\n",
    "    sz = sum([file[0] for file in files])\n",
    "\n",
    "    dir_acc = []\n",
    "    for d in path:\n",
    "        dir_acc.append(d)\n",
    "        dir_sizes[tuple(dir_acc)] += sz\n",
    "\n",
    "res = sum(filter(lambda x: x <= 100000, dir_sizes.values()))\n",
    "res"
   ]
  },
  {
   "cell_type": "code",
   "execution_count": null,
   "metadata": {},
   "outputs": [],
   "source": [
    "puzzle.answer_a = res"
   ]
  },
  {
   "cell_type": "markdown",
   "metadata": {},
   "source": [
    "## Part 2"
   ]
  },
  {
   "cell_type": "code",
   "execution_count": null,
   "metadata": {},
   "outputs": [],
   "source": [
    "total_size = sum([sum([file[0] for file in files]) for files in tree.values()])\n",
    "freespace_needed = total_size - 40000000\n",
    "\n",
    "res = total_size + freespace_needed\n",
    "for d in dir_sizes.values():\n",
    "    if d >= freespace_needed:\n",
    "        res = min(res, d)\n",
    "\n",
    "res"
   ]
  },
  {
   "cell_type": "code",
   "execution_count": null,
   "metadata": {},
   "outputs": [],
   "source": [
    "puzzle.answer_b = res"
   ]
  },
  {
   "cell_type": "markdown",
   "metadata": {},
   "source": [
    "## Day 8"
   ]
  },
  {
   "cell_type": "code",
   "execution_count": null,
   "metadata": {},
   "outputs": [],
   "source": [
    "puzzle = Puzzle(year=2022, day=8)\n",
    "puzzle.input_data.split(\"\\n\")"
   ]
  },
  {
   "cell_type": "markdown",
   "metadata": {},
   "source": [
    "## Part 1"
   ]
  },
  {
   "cell_type": "code",
   "execution_count": null,
   "metadata": {},
   "outputs": [],
   "source": [
    "lines = puzzle.input_data.split(\"\\n\")\n",
    "\n",
    "grid = [[int(num) for num in line] for line in lines]\n",
    "grid[6][0]\n",
    "\n",
    "nb_visible = len(grid)*2 + (len(grid[0])-2)*2\n",
    "\n",
    "for i in range(1, len(grid)):\n",
    "    for j in range(1, len(grid[i])):\n",
    "        value = grid[i][j]\n",
    "        print(value)"
   ]
  },
  {
   "cell_type": "code",
   "execution_count": null,
   "metadata": {},
   "outputs": [],
   "source": [
    "puzzle.answer_a = res"
   ]
  },
  {
   "cell_type": "markdown",
   "metadata": {},
   "source": [
    "## Part 2"
   ]
  },
  {
   "cell_type": "code",
   "execution_count": null,
   "metadata": {},
   "outputs": [],
   "source": [
    "pass"
   ]
  },
  {
   "cell_type": "code",
   "execution_count": null,
   "metadata": {},
   "outputs": [],
   "source": [
    "puzzle.answer_b = res"
   ]
  }
 ],
 "metadata": {
  "kernelspec": {
   "display_name": "Python 3 (ipykernel)",
   "language": "python",
   "name": "python3"
  },
  "language_info": {
   "codemirror_mode": {
    "name": "ipython",
    "version": 3
   },
   "file_extension": ".py",
   "mimetype": "text/x-python",
   "name": "python",
   "nbconvert_exporter": "python",
   "pygments_lexer": "ipython3",
   "version": "3.9.5"
  }
 },
 "nbformat": 4,
 "nbformat_minor": 2
}
